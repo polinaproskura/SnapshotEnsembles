{
  "nbformat": 4,
  "nbformat_minor": 0,
  "metadata": {
    "colab": {
      "name": "train_likelyhood_small_lr_lenet.ipynb",
      "provenance": [],
      "collapsed_sections": []
    },
    "kernelspec": {
      "name": "python3",
      "display_name": "Python 3"
    },
    "accelerator": "GPU"
  },
  "cells": [
    {
      "cell_type": "code",
      "metadata": {
        "id": "ZZQLHcXpNsOQ"
      },
      "source": [
        "import numpy as np\r\n",
        "import torch\r\n",
        "import torchvision\r\n",
        "import matplotlib.pyplot as plt\r\n",
        "from time import time\r\n",
        "import time\r\n",
        "import copy\r\n",
        "from torchvision import datasets, transforms\r\n",
        "from torch import nn, optim\r\n",
        "import warnings\r\n",
        "warnings.filterwarnings(\"ignore\")\r\n",
        "import torchvision.models as models\r\n",
        "import torch, torch.nn as nn\r\n",
        "import math\r\n",
        "import torch.nn.functional as F\r\n",
        "from torch.autograd import Variable\r\n",
        "class Flatten(nn.Module):\r\n",
        "    def forward(self, input):\r\n",
        "        return input.view(input.size(0), -1)\r\n",
        "\r\n",
        "def transform(my_x, my_y):\r\n",
        "    tensor_x = torch.Tensor(my_x) # transform to torch tensor\r\n",
        "    tensor_y = torch.LongTensor(my_y)\r\n",
        "\r\n",
        "    my_dataset = data.TensorDataset(tensor_x,tensor_y) # create your datset\r\n",
        "    my_dataloader = data.DataLoader(my_dataset) # create your dataloader\r\n",
        "    return my_dataloader\r\n",
        "    \r\n",
        "def T_scaling(logits, temperature):\r\n",
        "  return torch.div(logits, temperature)\r\n",
        "\r\n",
        "def compute_loss(X_batch, y_batch):\r\n",
        "    X_batch = Variable(torch.FloatTensor(X_batch))\r\n",
        "    y_batch = Variable(torch.LongTensor(y_batch))\r\n",
        "    X_batch, y_batch = X_batch.cuda(), y_batch.cuda()\r\n",
        "    logits = resnet18(X_batch)\r\n",
        "    #temperature = nn.Parameter(torch.ones(1) * temp_constant)\r\n",
        "    #temperature = temperature.unsqueeze(1).expand(logits.size(0), logits.size(1)).cuda()\r\n",
        "    #return F.cross_entropy(T_scaling(logits, temperature), y_batch).mean()\r\n",
        "    return F.cross_entropy(logits, y_batch).mean()"
      ],
      "execution_count": 7,
      "outputs": []
    },
    {
      "cell_type": "code",
      "metadata": {
        "colab": {
          "base_uri": "https://localhost:8080/"
        },
        "id": "byqo-2IyN1bt",
        "outputId": "c187f97e-4c40-48d6-f56f-99f4b9440f4b"
      },
      "source": [
        "transform = transforms.ToTensor()\r\n",
        "batch_size=100\r\n",
        "\r\n",
        "transform_train = transforms.Compose([\r\n",
        "    transforms.RandomCrop(28, padding=4),\r\n",
        "    transforms.RandomHorizontalFlip(),\r\n",
        "    transforms.ToTensor(),\r\n",
        "    transforms.Normalize((0.4914, 0.4822, 0.4465), (0.2023, 0.1994, 0.2010)),\r\n",
        "])\r\n",
        "\r\n",
        "transform_test = transforms.Compose([\r\n",
        "    transforms.ToTensor(),\r\n",
        "    transforms.Normalize((0.4914, 0.4822, 0.4465), (0.2023, 0.1994, 0.2010)),\r\n",
        "])\r\n",
        "\r\n",
        "trainset = datasets.FashionMNIST('fashion-10', download=True, train=True, transform=transform)\r\n",
        "testset = datasets.FashionMNIST('fashion-10', download=True, train=False, transform=transform)\r\n",
        "print(trainset[0][0].shape)\r\n",
        "\r\n",
        "trainloader = torch.utils.data.DataLoader(trainset, batch_size=batch_size, shuffle=True)\r\n",
        "valset, testset = torch.utils.data.random_split(testset, [100, 9900])\r\n",
        "testloader = torch.utils.data.DataLoader(testset, batch_size=batch_size, shuffle=True)\r\n",
        "print(len(valset))\r\n",
        "valloader = torch.utils.data.DataLoader(valset, batch_size=batch_size, shuffle=True)"
      ],
      "execution_count": 9,
      "outputs": [
        {
          "output_type": "stream",
          "text": [
            "torch.Size([1, 28, 28])\n",
            "100\n"
          ],
          "name": "stdout"
        }
      ]
    },
    {
      "cell_type": "code",
      "metadata": {
        "id": "CDf8bJD0N59f"
      },
      "source": [
        "class BasicBlock(nn.Module):\r\n",
        "    expansion = 1\r\n",
        "\r\n",
        "    def __init__(self, in_planes, planes, stride=1):\r\n",
        "        super(BasicBlock, self).__init__()\r\n",
        "        self.conv1 = nn.Conv2d(in_planes, planes, kernel_size=3, stride=stride, padding=1, bias=False)\r\n",
        "        self.bn1 = nn.BatchNorm2d(planes)\r\n",
        "        self.conv2 = nn.Conv2d(planes, planes, kernel_size=3, stride=1, padding=1, bias=False)\r\n",
        "        self.bn2 = nn.BatchNorm2d(planes)\r\n",
        "\r\n",
        "        self.shortcut = nn.Sequential()\r\n",
        "        if stride != 1 or in_planes != self.expansion*planes:\r\n",
        "            self.shortcut = nn.Sequential(\r\n",
        "                nn.Conv2d(in_planes, self.expansion*planes, kernel_size=1, stride=stride, bias=False),\r\n",
        "                nn.BatchNorm2d(self.expansion*planes)\r\n",
        "            )\r\n",
        "\r\n",
        "    def forward(self, x):\r\n",
        "        out = F.relu(self.bn1(self.conv1(x)))\r\n",
        "        out = self.bn2(self.conv2(out))\r\n",
        "        out += self.shortcut(x)\r\n",
        "        out = F.relu(out)\r\n",
        "        return out\r\n",
        "\r\n",
        "\r\n",
        "class Bottleneck(nn.Module):\r\n",
        "    expansion = 4\r\n",
        "\r\n",
        "    def __init__(self, in_planes, planes, stride=1):\r\n",
        "        super(Bottleneck, self).__init__()\r\n",
        "        self.conv1 = nn.Conv2d(in_planes, planes, kernel_size=1, bias=False)\r\n",
        "        self.bn1 = nn.BatchNorm2d(planes)\r\n",
        "        self.conv2 = nn.Conv2d(planes, planes, kernel_size=3, stride=stride, padding=1, bias=False)\r\n",
        "        self.bn2 = nn.BatchNorm2d(planes)\r\n",
        "        self.conv3 = nn.Conv2d(planes, self.expansion*planes, kernel_size=1, bias=False)\r\n",
        "        self.bn3 = nn.BatchNorm2d(self.expansion*planes)\r\n",
        "\r\n",
        "        self.shortcut = nn.Sequential()\r\n",
        "        if stride != 1 or in_planes != self.expansion*planes:\r\n",
        "            self.shortcut = nn.Sequential(\r\n",
        "                nn.Conv2d(in_planes, self.expansion*planes, kernel_size=1, stride=stride, bias=False),\r\n",
        "                nn.BatchNorm2d(self.expansion*planes)\r\n",
        "            )\r\n",
        "\r\n",
        "    def forward(self, x):\r\n",
        "        out = F.relu(self.bn1(self.conv1(x)))\r\n",
        "        out = F.relu(self.bn2(self.conv2(out)))\r\n",
        "        out = self.bn3(self.conv3(out))\r\n",
        "        out += self.shortcut(x)\r\n",
        "        out = F.relu(out)\r\n",
        "        return out\r\n",
        "\r\n",
        "\r\n",
        "class ResNet(nn.Module):\r\n",
        "    def __init__(self, block, num_blocks, num_classes=10):\r\n",
        "        super(ResNet, self).__init__()\r\n",
        "        self.in_planes = 64\r\n",
        "\r\n",
        "        self.conv1 = nn.Conv2d(1, 64, kernel_size=3, stride=1, padding=1, bias=False)\r\n",
        "        self.bn1 = nn.BatchNorm2d(64)\r\n",
        "        self.layer1 = self._make_layer(block, 64, num_blocks[0], stride=1)\r\n",
        "        self.layer2 = self._make_layer(block, 128, num_blocks[1], stride=2)\r\n",
        "        self.layer3 = self._make_layer(block, 256, num_blocks[2], stride=2)\r\n",
        "        self.layer4 = self._make_layer(block, 512, num_blocks[3], stride=2)\r\n",
        "        self.linear = nn.Linear(512*block.expansion, num_classes)\r\n",
        "\r\n",
        "    def _make_layer(self, block, planes, num_blocks, stride):\r\n",
        "        strides = [stride] + [1]*(num_blocks-1)\r\n",
        "        layers = []\r\n",
        "        for stride in strides:\r\n",
        "            layers.append(block(self.in_planes, planes, stride))\r\n",
        "            self.in_planes = planes * block.expansion\r\n",
        "        return nn.Sequential(*layers)\r\n",
        "\r\n",
        "    def forward(self, x):\r\n",
        "        out = F.relu(self.bn1(self.conv1(x)))\r\n",
        "        out = self.layer1(out)\r\n",
        "        out = self.layer2(out)\r\n",
        "        out = self.layer3(out)\r\n",
        "        out = self.layer4(out)\r\n",
        "        out = F.avg_pool2d(out, 4)\r\n",
        "        out = out.view(out.size(0), -1)\r\n",
        "        out = self.linear(out)\r\n",
        "        return out\r\n",
        "\r\n",
        "\r\n",
        "def ResNet18():\r\n",
        "    return ResNet(BasicBlock, [2,2,2,2])"
      ],
      "execution_count": 10,
      "outputs": []
    },
    {
      "cell_type": "code",
      "metadata": {
        "id": "-O4VvDgNOF6M"
      },
      "source": [
        "def cyclical_lr(stepsize, min_lr=3e-4, max_lr=3e-3):\r\n",
        "\r\n",
        "    # Scaler: we can adapt this if we do not want the triangular CLR\r\n",
        "    scaler = lambda x: 1. #* math.exp(-x * 0.1)\r\n",
        "\r\n",
        "    # Lambda function to calculate the LR\r\n",
        "    lr_lambda = lambda it: min_lr + (max_lr - min_lr) * relative(it, stepsize)\r\n",
        "\r\n",
        "    # Additional function to see where on the cycle we are\r\n",
        "    def relative(it, stepsize):\r\n",
        "        cycle = math.floor(1 + it / (2 * stepsize))\r\n",
        "        x = abs(it / stepsize - 2 * cycle + 1)\r\n",
        "        return max(0, (1 - x)) * scaler(cycle)\r\n",
        "    return lr_lambda"
      ],
      "execution_count": 11,
      "outputs": []
    },
    {
      "cell_type": "code",
      "metadata": {
        "id": "G1QhhC4zjv-h"
      },
      "source": [
        "class LeNet5(nn.Module):\r\n",
        "\r\n",
        "    def __init__(self, n_classes):\r\n",
        "        super(LeNet5, self).__init__()\r\n",
        "        \r\n",
        "        self.feature_extractor = nn.Sequential(            \r\n",
        "            nn.Conv2d(in_channels=1, out_channels=6, kernel_size=5, stride=1),\r\n",
        "            nn.Tanh(),\r\n",
        "            nn.AvgPool2d(kernel_size=2),\r\n",
        "            nn.Conv2d(in_channels=6, out_channels=16, kernel_size=5, stride=1),\r\n",
        "            nn.Tanh(),\r\n",
        "            nn.AvgPool2d(kernel_size=2),\r\n",
        "            nn.Conv2d(in_channels=16, out_channels=120, kernel_size=5, stride=1, padding=1),\r\n",
        "            nn.Tanh()\r\n",
        "        )\r\n",
        "\r\n",
        "        self.classifier = nn.Sequential(\r\n",
        "            nn.Linear(in_features=480, out_features=84),\r\n",
        "            nn.Tanh(),\r\n",
        "            nn.Linear(in_features=84, out_features=n_classes),\r\n",
        "        )\r\n",
        "\r\n",
        "\r\n",
        "    def forward(self, x):\r\n",
        "        x = self.feature_extractor(x)\r\n",
        "        x = torch.flatten(x, 1)\r\n",
        "        logits = self.classifier(x)\r\n",
        "        return logits#, probs"
      ],
      "execution_count": 12,
      "outputs": []
    },
    {
      "cell_type": "code",
      "metadata": {
        "colab": {
          "base_uri": "https://localhost:8080/"
        },
        "id": "XsGGxZuaQLcx",
        "outputId": "d288c6c3-7e1c-4129-9d3a-ba9ee3982ba4"
      },
      "source": [
        "import time\r\n",
        "import copy\r\n",
        "\r\n",
        "temps = [0.1, 2., 3.]\r\n",
        "torch.cuda.empty_cache()\r\n",
        "#resnet18 = ResNet(BasicBlock, [2,2,2,2]) #models.resnet18(num_classes=10, pretrained=False)\r\n",
        "resnet18 = LeNet5(10)\r\n",
        "cnt = 0\r\n",
        "for el in resnet18.parameters():\r\n",
        "  cnt += 1\r\n",
        "print(cnt)\r\n",
        "resnet18 = resnet18.cuda()\r\n",
        "\r\n",
        "num_epochs = 21\r\n",
        "start_lr = 0.01\r\n",
        "end_lr = 0.1\r\n",
        "factor = 10\r\n",
        "#temperature = nn.Parameter(torch.ones(1).cuda())\r\n",
        "#opt = torch.optim.LBFGS(list(resnet18.parameters()) + [temperature], lr=end_lr, max_iter=10000, line_search_fn='strong_wolfe')\r\n",
        "opt = torch.optim.Adam(resnet18.parameters(), lr=end_lr)\r\n",
        "\r\n",
        "\r\n",
        "step_size = 1*len(trainset) / batch_size\r\n",
        "print(step_size)\r\n",
        "clr = cyclical_lr(step_size, min_lr=start_lr, max_lr=end_lr)\r\n",
        "scheduler = torch.optim.lr_scheduler.LambdaLR(opt, [clr])\r\n",
        "\r\n",
        "models_list = []\r\n",
        "weight_list = []\r\n",
        "loss_list = []\r\n",
        "\r\n",
        "train_loss = []\r\n",
        "val_accuracy = []\r\n",
        "losses = []\r\n",
        "accs = []\r\n",
        "\r\n",
        "lr_find_loss = []\r\n",
        "learning_rates = []\r\n",
        "\r\n",
        "it = 0\r\n",
        "\r\n",
        "smoothing = 0.5\r\n",
        "small_flag = False\r\n",
        "lrs = []\r\n",
        "\r\n",
        "for epoch in range(num_epochs):\r\n",
        "    start_time = time.time()\r\n",
        "    resnet18.train(True)\r\n",
        "    for (X_batch, y_batch) in trainloader:\r\n",
        "        loss = compute_loss(X_batch, y_batch)\r\n",
        "        loss.backward()\r\n",
        "        opt.step()\r\n",
        "        num_loss = loss.data.cpu().numpy()\r\n",
        "        train_loss.append(num_loss)\r\n",
        "        \r\n",
        "        scheduler.step()\r\n",
        "        opt.zero_grad()\r\n",
        "\r\n",
        "        lr_step = opt.state_dict()[\"param_groups\"][0][\"lr\"]\r\n",
        "        learning_rates.append(lr_step)\r\n",
        "        #print(lr_step)\r\n",
        "        if lr_step <= 0.00103:\r\n",
        "            #print('add minimun')\r\n",
        "            models_list.append(copy.deepcopy(resnet18))\r\n",
        "            weight_list.append(10.)\r\n",
        "            val_loss = 0.\r\n",
        "            for (X_batch, y_batch) in valloader:\r\n",
        "                val_loss += compute_loss(X_batch, y_batch)\r\n",
        "            val_loss = val_loss.detach().cpu().numpy() * batch_size/ len(testloader.dataset)\r\n",
        "            print('min', val_loss)\r\n",
        "            loss_list.append(val_loss)\r\n",
        "            #loss_list.append(num_loss)\r\n",
        "        elif lr_step <= 0.00502 and lr_step > 0.00499:\r\n",
        "            #print('add not minimum')\r\n",
        "            models_list.append(copy.deepcopy(resnet18))\r\n",
        "            weight_list.append(1.)\r\n",
        "            val_loss = 0.\r\n",
        "            for (X_batch, y_batch) in valloader:\r\n",
        "                val_loss += compute_loss(X_batch, y_batch)\r\n",
        "            val_loss = val_loss.detach().cpu().numpy() * batch_size/ len(testloader.dataset)\r\n",
        "            print('not', val_loss)\r\n",
        "            loss_list.append(val_loss)\r\n",
        "            #loss_list.append(num_loss)\r\n",
        "        if len(models_list) > 25:\r\n",
        "          models_list = models_list[-25:]\r\n",
        "        it += 1\r\n",
        "              \r\n",
        "\r\n",
        "        resnet18.train(False)\r\n",
        "        for (X_batch, y_batch) in testloader:\r\n",
        "            y_batch = y_batch.cuda()\r\n",
        "            logits = resnet18(Variable(torch.FloatTensor(X_batch)).cuda())\r\n",
        "            y_pred = logits.max(1)[1].data\r\n",
        "            val_accuracy.append(np.mean((y_batch.cpu() == y_pred.cpu()).numpy() ))\r\n",
        "        \r\n",
        "        accs.append(np.mean(val_accuracy[-len(testset) // batch_size :]))\r\n",
        "        cur_loss = np.mean(train_loss[-len(trainset) // batch_size :])\r\n",
        "\r\n",
        "\r\n",
        "        \r\n",
        "    if epoch % 5 == 0:\r\n",
        "        print(\"Epoch {} of {} took {:.3f}s\".format(\r\n",
        "            epoch + 1, num_epochs, time.time() - start_time))\r\n",
        "        print(\"  training loss (in-iteration): \\t{:.6f}\".format(\r\n",
        "            np.mean(train_loss[-len(trainset) // batch_size :])))\r\n",
        "        print(\"  validation accuracy: \\t\\t\\t{:.2f} %\".format(\r\n",
        "            np.mean(val_accuracy[-len(testset) // batch_size :]) * 100))\r\n",
        "    losses.append(np.array(train_loss).mean())"
      ],
      "execution_count": null,
      "outputs": [
        {
          "output_type": "stream",
          "text": [
            "10\n",
            "600.0\n",
            "min 0.02310214379821161\n",
            "not 0.0040593358001323665\n",
            "not 0.004439117631526908\n",
            "Epoch 1 of 21 took 814.431s\n",
            "  training loss (in-iteration): \t0.662939\n",
            "  validation accuracy: \t\t\t79.98 %\n"
          ],
          "name": "stdout"
        }
      ]
    },
    {
      "cell_type": "code",
      "metadata": {
        "id": "0xlyEaPOHFZU"
      },
      "source": [
        "torch.save(resnet18.state_dict(), 'lenet_small_lr.pt')\r\n",
        "from google.colab import files\r\n",
        "files.download('lenet_small_lr.pt') "
      ],
      "execution_count": null,
      "outputs": []
    },
    {
      "cell_type": "code",
      "metadata": {
        "id": "HvGf4rv1dfgO"
      },
      "source": [
        "original_loss_list = loss_list\r\n",
        "original_loss_list"
      ],
      "execution_count": null,
      "outputs": []
    },
    {
      "cell_type": "code",
      "metadata": {
        "id": "vfx4CfmsInp0"
      },
      "source": [
        "plt.plot(np.array(list(range(len(losses)))), losses)\r\n",
        "#plt.plot(list(range(len(learning_rates))), (np.array(learning_rates) * 10))\r\n",
        "plt.show()"
      ],
      "execution_count": null,
      "outputs": []
    },
    {
      "cell_type": "code",
      "metadata": {
        "id": "fnTUV9WXJB5w"
      },
      "source": [
        "plt.plot(list(range(len(learning_rates))), (np.array(learning_rates) * 100))\r\n",
        "plt.show()"
      ],
      "execution_count": null,
      "outputs": []
    },
    {
      "cell_type": "code",
      "metadata": {
        "id": "caxupqSTJFqH"
      },
      "source": [
        "plt.plot(np.array(list(range(len(accs)))) * 640, accs)\r\n",
        "#plt.plot(list(range(len(learning_rates))), (np.array(learning_rates) * 10))\r\n",
        "plt.show()"
      ],
      "execution_count": null,
      "outputs": []
    },
    {
      "cell_type": "code",
      "metadata": {
        "id": "s-lVmnZahoaG"
      },
      "source": [
        "def weigheted_most_common(predictions, weights):\r\n",
        "    new_predictions = {}\r\n",
        "    for i in range(len(predictions)):\r\n",
        "        if predictions[i] in new_predictions:\r\n",
        "            new_predictions[predictions[i]] = new_predictions[predictions[i]] + weights[i]\r\n",
        "        else:\r\n",
        "            new_predictions[predictions[i]] = weights[i]\r\n",
        "    top = list(sorted(new_predictions.items(), key=lambda item: item[1], reverse=True))\r\n",
        "    return top[0][0]\r\n",
        "from collections import Counter\r\n",
        "import numpy as np\r\n",
        "def ensemble_predictions(members, loader, weights):\r\n",
        "    accs = []\r\n",
        "    for (X_batch, y_batch) in loader:\r\n",
        "        yhats = []\r\n",
        "        for model in members:\r\n",
        "            y_batch = y_batch.cuda()\r\n",
        "            logits = model(Variable(torch.FloatTensor(X_batch)).cuda())\r\n",
        "            y_pred = logits.max(1)[1].data\r\n",
        "            #print(y_pred.cpu().numpy())\r\n",
        "            yhats.append(y_pred.cpu().numpy())\r\n",
        "        yhats = np.array(yhats)\r\n",
        "        maxs = []\r\n",
        "        for i in range(yhats.shape[1]):\r\n",
        "            cur_max = weigheted_most_common(yhats[:, i], weights)\r\n",
        "            maxs.append(cur_max)\r\n",
        "            #weighted_yhats = np.bincount(yhats[:, i], weights)\r\n",
        "            #most_freq = np.argmax(weighted_yhats)\r\n",
        "            #maxs.append(yhats[:, i][most_freq])\r\n",
        "            #amounts = Counter(yhats[:, i])\r\n",
        "            #most_freq = amounts.most_common(1)\r\n",
        "            #maxs.append(most_freq[0][0])\r\n",
        "        # sum across ensemble members\r\n",
        "        maxs = np.array(maxs)\r\n",
        "        # argmax across classes\r\n",
        "        accs.append(np.mean((y_batch.cpu().numpy() == maxs)))\r\n",
        "    accs = np.array(accs)\r\n",
        "    return accs, np.mean(accs)"
      ],
      "execution_count": null,
      "outputs": []
    },
    {
      "cell_type": "code",
      "metadata": {
        "id": "x_aqe-zceLgr"
      },
      "source": [
        "temps = [0.1, 0.3, 0.5, 0.8, 1.1, 1.5,]\r\n",
        "#original_loss_list = loss_list\r\n",
        "ens_accs = []\r\n",
        "print(len(models_list))\r\n",
        "for t in temps:\r\n",
        "    temp_constant = t\r\n",
        "    loss_list = np.array(original_loss_list[-len(models_list):])\r\n",
        "    #weight_list = weight_list[-len(models_list):]\r\n",
        "    #print(loss_list)\r\n",
        "    for i in range(loss_list.shape[0]):\r\n",
        "        loss_list[i] = np.exp(loss_list[i] / temp_constant)\r\n",
        "\r\n",
        "    weights = loss_list#np.array(1. / loss_list, dtype=np.float64) #weight according likelyhood \r\n",
        "    print(weights)\r\n",
        "    accs, mean_accs = ensemble_predictions(models_list, testloader, weights)\r\n",
        "    ens_accs.append(mean_accs)\r\n",
        "    print(t, 'Ensemble accuracy = ', round(mean_accs, 3) * 100, '%')"
      ],
      "execution_count": null,
      "outputs": []
    },
    {
      "cell_type": "code",
      "metadata": {
        "id": "rcRLu1-meFYj"
      },
      "source": [
        "plt.plot(temps, ens_accs)\r\n",
        "plt.xlabel('temperature')\r\n",
        "plt.ylabel('accuracy')\r\n",
        "plt.show()"
      ],
      "execution_count": null,
      "outputs": []
    },
    {
      "cell_type": "code",
      "metadata": {
        "id": "hq9HBoRxKnu4"
      },
      "source": [
        "for model in models_list:\r\n",
        "  accuracy = []\r\n",
        "  for (X_batch, y_batch) in testloader:\r\n",
        "          y_batch = y_batch.cuda()\r\n",
        "          logits = model(Variable(torch.FloatTensor(X_batch)).cuda())\r\n",
        "          y_pred = logits.max(1)[1].data\r\n",
        "          accuracy.append(np.mean((y_batch.cpu() == y_pred.cpu()).numpy() ))\r\n",
        "  print(np.array(accuracy).mean() * 100, '%')"
      ],
      "execution_count": null,
      "outputs": []
    },
    {
      "cell_type": "code",
      "metadata": {
        "id": "aLkSQPbcKn5U"
      },
      "source": [
        ""
      ],
      "execution_count": null,
      "outputs": []
    },
    {
      "cell_type": "code",
      "metadata": {
        "colab": {
          "base_uri": "https://localhost:8080/",
          "height": 279
        },
        "id": "9D8YOykFrUvs",
        "outputId": "e4ce3512-a891-4e44-a6cf-c538861a938e"
      },
      "source": [
        "small_ens_accs = ens_accs\r\n",
        "plt.plot(temps, small_ens_accs)\r\n",
        "plt.xlabel('temperature')\r\n",
        "plt.ylabel('accuracy')\r\n",
        "plt.show()"
      ],
      "execution_count": null,
      "outputs": [
        {
          "output_type": "display_data",
          "data": {
            "image/png": "[encoded data removed]",
            "text/plain": [
              "<Figure size 432x288 with 1 Axes>"
            ]
          },
          "metadata": {
            "tags": [],
            "needs_background": "light"
          }
        }
      ]
    },
    {
      "cell_type": "code",
      "metadata": {
        "id": "M8vJCbdmw1-6"
      },
      "source": [
        ""
      ],
      "execution_count": null,
      "outputs": []
    },
    {
      "cell_type": "code",
      "metadata": {
        "colab": {
          "base_uri": "https://localhost:8080/"
        },
        "id": "mJkbQyAghwLh",
        "outputId": "609303b0-a977-4452-e2ac-fde6c9cd1638"
      },
      "source": [
        "weights = np.array(1. / loss_list, dtype=np.float64) #weight according likelyhood \r\n",
        "accs, mean_accs = ensemble_predictions(models_list, testloader, weights)\r\n",
        "print(round(mean_accs, 3) * 100, '%')"
      ],
      "execution_count": null,
      "outputs": [
        {
          "output_type": "stream",
          "text": [
            "93.8 %\n"
          ],
          "name": "stdout"
        }
      ]
    },
    {
      "cell_type": "code",
      "metadata": {
        "colab": {
          "base_uri": "https://localhost:8080/",
          "height": 422
        },
        "id": "0okfu1tPaeIE",
        "outputId": "3e753ac0-0954-4469-8383-859bc06f96ee"
      },
      "source": [
        "import time\r\n",
        "import copy\r\n",
        "\r\n",
        "temps = [6., 10.]\r\n",
        "#ens_accs = []\r\n",
        "\r\n",
        "for t in temps:\r\n",
        "    torch.cuda.empty_cache()\r\n",
        "    print('Experiment for t = {}'.format(t))\r\n",
        "    temp_constant = t\r\n",
        "    resnet18 = ResNet(BasicBlock, [2,2,2,2]) #models.resnet18(num_classes=10, pretrained=False)\r\n",
        "    resnet18 = resnet18.cuda()\r\n",
        "\r\n",
        "    num_epochs = 21\r\n",
        "    start_lr = 0.01\r\n",
        "    end_lr = 0.1\r\n",
        "    factor = 10\r\n",
        "    temperature = nn.Parameter(torch.ones(1).cuda())\r\n",
        "    #opt = torch.optim.LBFGS(list(resnet18.parameters()) + [temperature], lr=end_lr, max_iter=10000, line_search_fn='strong_wolfe')\r\n",
        "    opt = torch.optim.Adam(resnet18.parameters(), lr=end_lr)\r\n",
        "\r\n",
        "\r\n",
        "    step_size = 1*len(trainset) / batch_size\r\n",
        "    print(step_size)\r\n",
        "    clr = cyclical_lr(step_size, min_lr=start_lr, max_lr=end_lr)\r\n",
        "    scheduler = torch.optim.lr_scheduler.LambdaLR(opt, [clr])\r\n",
        "\r\n",
        "    models_list = []\r\n",
        "    weight_list = []\r\n",
        "    loss_list = []\r\n",
        "\r\n",
        "    train_loss = []\r\n",
        "    val_accuracy = []\r\n",
        "    losses = []\r\n",
        "    accs = []\r\n",
        "\r\n",
        "    lr_find_loss = []\r\n",
        "    learning_rates = []\r\n",
        "\r\n",
        "    it = 0\r\n",
        "\r\n",
        "    smoothing = 0.5\r\n",
        "    small_flag = False\r\n",
        "    lrs = []\r\n",
        "\r\n",
        "    for epoch in range(num_epochs):\r\n",
        "        start_time = time.time()\r\n",
        "        resnet18.train(True)\r\n",
        "        for (X_batch, y_batch) in trainloader:\r\n",
        "            loss = compute_loss(X_batch, y_batch)\r\n",
        "            loss.backward()\r\n",
        "            opt.step()\r\n",
        "            #print(loss.data.cpu().numpy())\r\n",
        "            train_loss.append(loss.data.cpu().numpy())\r\n",
        "            \r\n",
        "            scheduler.step()\r\n",
        "            opt.zero_grad()\r\n",
        "\r\n",
        "            lr_step = opt.state_dict()[\"param_groups\"][0][\"lr\"]\r\n",
        "            learning_rates.append(lr_step)\r\n",
        "            #lr_find_loss.append(loss)\r\n",
        "            if lr_step <= 0.00103:\r\n",
        "                #print('add minimun')\r\n",
        "                models_list.append(copy.deepcopy(resnet18))\r\n",
        "                weight_list.append(10.)\r\n",
        "                loss_list.append(loss)\r\n",
        "            elif lr_step <= 0.00502 and lr_step > 0.00499:\r\n",
        "                #print('add not minimum')\r\n",
        "                models_list.append(copy.deepcopy(resnet18))\r\n",
        "                weight_list.append(1.)\r\n",
        "                loss_list.append(loss)\r\n",
        "            if len(models_list) > 25:\r\n",
        "              models_list = models_list[-25:]\r\n",
        "            it += 1\r\n",
        "            \r\n",
        "\r\n",
        "        resnet18.train(False)\r\n",
        "        for (X_batch, y_batch) in testloader:\r\n",
        "            y_batch = y_batch.cuda()\r\n",
        "            logits = resnet18(Variable(torch.FloatTensor(X_batch)).cuda())\r\n",
        "            y_pred = logits.max(1)[1].data\r\n",
        "            val_accuracy.append(np.mean((y_batch.cpu() == y_pred.cpu()).numpy() ))\r\n",
        "        \r\n",
        "        accs.append(np.mean(val_accuracy[-len(testset) // batch_size :]))\r\n",
        "        cur_loss = np.mean(train_loss[-len(trainset) // batch_size :])\r\n",
        "\r\n",
        "\r\n",
        "        \r\n",
        "        if epoch % 10 == 0:\r\n",
        "            print(\"Epoch {} of {} took {:.3f}s\".format(\r\n",
        "                epoch + 1, num_epochs, time.time() - start_time))\r\n",
        "            print(\"  training loss (in-iteration): \\t{:.6f}\".format(\r\n",
        "                np.mean(train_loss[-len(trainset) // batch_size :])))\r\n",
        "            print(\"  validation accuracy: \\t\\t\\t{:.2f} %\".format(\r\n",
        "                np.mean(val_accuracy[-len(testset) // batch_size :]) * 100))\r\n",
        "        losses.append(np.array(train_loss).mean())\r\n",
        "    loss_list = np.array(loss_list[-len(models_list):])\r\n",
        "    #weight_list = weight_list[-len(models_list):]\r\n",
        "    for i in range(loss_list.shape[0]):\r\n",
        "        loss_list[i] = loss_list[i].detach().cpu().numpy()\r\n",
        "    weights = np.array(1. / loss_list, dtype=np.float64) #weight according likelyhood \r\n",
        "    accs, mean_accs = ensemble_predictions(models_list, testloader, weights)\r\n",
        "    ens_accs.append(mean_accs)\r\n",
        "    print('Ensemble accuracy = ', round(mean_accs, 3) * 100, '%')"
      ],
      "execution_count": null,
      "outputs": [
        {
          "output_type": "stream",
          "text": [
            "Experiment for t = 6.0\n"
          ],
          "name": "stdout"
        },
        {
          "output_type": "error",
          "ename": "RuntimeError",
          "evalue": "ignored",
          "traceback": [
            "\u001b[0;31m---------------------------------------------------------------------------\u001b[0m",
            "\u001b[0;31mRuntimeError\u001b[0m                              Traceback (most recent call last)",
            "\u001b[0;32m<ipython-input-7-b277b15de5b3>\u001b[0m in \u001b[0;36m<module>\u001b[0;34m()\u001b[0m\n\u001b[1;32m     10\u001b[0m     \u001b[0mtemp_constant\u001b[0m \u001b[0;34m=\u001b[0m \u001b[0mt\u001b[0m\u001b[0;34m\u001b[0m\u001b[0;34m\u001b[0m\u001b[0m\n\u001b[1;32m     11\u001b[0m     \u001b[0mresnet18\u001b[0m \u001b[0;34m=\u001b[0m \u001b[0mResNet\u001b[0m\u001b[0;34m(\u001b[0m\u001b[0mBasicBlock\u001b[0m\u001b[0;34m,\u001b[0m \u001b[0;34m[\u001b[0m\u001b[0;36m2\u001b[0m\u001b[0;34m,\u001b[0m\u001b[0;36m2\u001b[0m\u001b[0;34m,\u001b[0m\u001b[0;36m2\u001b[0m\u001b[0;34m,\u001b[0m\u001b[0;36m2\u001b[0m\u001b[0;34m]\u001b[0m\u001b[0;34m)\u001b[0m \u001b[0;31m#models.resnet18(num_classes=10, pretrained=False)\u001b[0m\u001b[0;34m\u001b[0m\u001b[0;34m\u001b[0m\u001b[0m\n\u001b[0;32m---> 12\u001b[0;31m     \u001b[0mresnet18\u001b[0m \u001b[0;34m=\u001b[0m \u001b[0mresnet18\u001b[0m\u001b[0;34m.\u001b[0m\u001b[0mcuda\u001b[0m\u001b[0;34m(\u001b[0m\u001b[0;34m)\u001b[0m\u001b[0;34m\u001b[0m\u001b[0;34m\u001b[0m\u001b[0m\n\u001b[0m\u001b[1;32m     13\u001b[0m \u001b[0;34m\u001b[0m\u001b[0m\n\u001b[1;32m     14\u001b[0m     \u001b[0mnum_epochs\u001b[0m \u001b[0;34m=\u001b[0m \u001b[0;36m21\u001b[0m\u001b[0;34m\u001b[0m\u001b[0;34m\u001b[0m\u001b[0m\n",
            "\u001b[0;32m/usr/local/lib/python3.6/dist-packages/torch/nn/modules/module.py\u001b[0m in \u001b[0;36mcuda\u001b[0;34m(self, device)\u001b[0m\n\u001b[1;32m    461\u001b[0m             \u001b[0mModule\u001b[0m\u001b[0;34m:\u001b[0m \u001b[0mself\u001b[0m\u001b[0;34m\u001b[0m\u001b[0;34m\u001b[0m\u001b[0m\n\u001b[1;32m    462\u001b[0m         \"\"\"\n\u001b[0;32m--> 463\u001b[0;31m         \u001b[0;32mreturn\u001b[0m \u001b[0mself\u001b[0m\u001b[0;34m.\u001b[0m\u001b[0m_apply\u001b[0m\u001b[0;34m(\u001b[0m\u001b[0;32mlambda\u001b[0m \u001b[0mt\u001b[0m\u001b[0;34m:\u001b[0m \u001b[0mt\u001b[0m\u001b[0;34m.\u001b[0m\u001b[0mcuda\u001b[0m\u001b[0;34m(\u001b[0m\u001b[0mdevice\u001b[0m\u001b[0;34m)\u001b[0m\u001b[0;34m)\u001b[0m\u001b[0;34m\u001b[0m\u001b[0;34m\u001b[0m\u001b[0m\n\u001b[0m\u001b[1;32m    464\u001b[0m \u001b[0;34m\u001b[0m\u001b[0m\n\u001b[1;32m    465\u001b[0m     \u001b[0;32mdef\u001b[0m \u001b[0mcpu\u001b[0m\u001b[0;34m(\u001b[0m\u001b[0mself\u001b[0m\u001b[0;34m:\u001b[0m \u001b[0mT\u001b[0m\u001b[0;34m)\u001b[0m \u001b[0;34m->\u001b[0m \u001b[0mT\u001b[0m\u001b[0;34m:\u001b[0m\u001b[0;34m\u001b[0m\u001b[0;34m\u001b[0m\u001b[0m\n",
            "\u001b[0;32m/usr/local/lib/python3.6/dist-packages/torch/nn/modules/module.py\u001b[0m in \u001b[0;36m_apply\u001b[0;34m(self, fn)\u001b[0m\n\u001b[1;32m    357\u001b[0m     \u001b[0;32mdef\u001b[0m \u001b[0m_apply\u001b[0m\u001b[0;34m(\u001b[0m\u001b[0mself\u001b[0m\u001b[0;34m,\u001b[0m \u001b[0mfn\u001b[0m\u001b[0;34m)\u001b[0m\u001b[0;34m:\u001b[0m\u001b[0;34m\u001b[0m\u001b[0;34m\u001b[0m\u001b[0m\n\u001b[1;32m    358\u001b[0m         \u001b[0;32mfor\u001b[0m \u001b[0mmodule\u001b[0m \u001b[0;32min\u001b[0m \u001b[0mself\u001b[0m\u001b[0;34m.\u001b[0m\u001b[0mchildren\u001b[0m\u001b[0;34m(\u001b[0m\u001b[0;34m)\u001b[0m\u001b[0;34m:\u001b[0m\u001b[0;34m\u001b[0m\u001b[0;34m\u001b[0m\u001b[0m\n\u001b[0;32m--> 359\u001b[0;31m             \u001b[0mmodule\u001b[0m\u001b[0;34m.\u001b[0m\u001b[0m_apply\u001b[0m\u001b[0;34m(\u001b[0m\u001b[0mfn\u001b[0m\u001b[0;34m)\u001b[0m\u001b[0;34m\u001b[0m\u001b[0;34m\u001b[0m\u001b[0m\n\u001b[0m\u001b[1;32m    360\u001b[0m \u001b[0;34m\u001b[0m\u001b[0m\n\u001b[1;32m    361\u001b[0m         \u001b[0;32mdef\u001b[0m \u001b[0mcompute_should_use_set_data\u001b[0m\u001b[0;34m(\u001b[0m\u001b[0mtensor\u001b[0m\u001b[0;34m,\u001b[0m \u001b[0mtensor_applied\u001b[0m\u001b[0;34m)\u001b[0m\u001b[0;34m:\u001b[0m\u001b[0;34m\u001b[0m\u001b[0;34m\u001b[0m\u001b[0m\n",
            "\u001b[0;32m/usr/local/lib/python3.6/dist-packages/torch/nn/modules/module.py\u001b[0m in \u001b[0;36m_apply\u001b[0;34m(self, fn)\u001b[0m\n\u001b[1;32m    357\u001b[0m     \u001b[0;32mdef\u001b[0m \u001b[0m_apply\u001b[0m\u001b[0;34m(\u001b[0m\u001b[0mself\u001b[0m\u001b[0;34m,\u001b[0m \u001b[0mfn\u001b[0m\u001b[0;34m)\u001b[0m\u001b[0;34m:\u001b[0m\u001b[0;34m\u001b[0m\u001b[0;34m\u001b[0m\u001b[0m\n\u001b[1;32m    358\u001b[0m         \u001b[0;32mfor\u001b[0m \u001b[0mmodule\u001b[0m \u001b[0;32min\u001b[0m \u001b[0mself\u001b[0m\u001b[0;34m.\u001b[0m\u001b[0mchildren\u001b[0m\u001b[0;34m(\u001b[0m\u001b[0;34m)\u001b[0m\u001b[0;34m:\u001b[0m\u001b[0;34m\u001b[0m\u001b[0;34m\u001b[0m\u001b[0m\n\u001b[0;32m--> 359\u001b[0;31m             \u001b[0mmodule\u001b[0m\u001b[0;34m.\u001b[0m\u001b[0m_apply\u001b[0m\u001b[0;34m(\u001b[0m\u001b[0mfn\u001b[0m\u001b[0;34m)\u001b[0m\u001b[0;34m\u001b[0m\u001b[0;34m\u001b[0m\u001b[0m\n\u001b[0m\u001b[1;32m    360\u001b[0m \u001b[0;34m\u001b[0m\u001b[0m\n\u001b[1;32m    361\u001b[0m         \u001b[0;32mdef\u001b[0m \u001b[0mcompute_should_use_set_data\u001b[0m\u001b[0;34m(\u001b[0m\u001b[0mtensor\u001b[0m\u001b[0;34m,\u001b[0m \u001b[0mtensor_applied\u001b[0m\u001b[0;34m)\u001b[0m\u001b[0;34m:\u001b[0m\u001b[0;34m\u001b[0m\u001b[0;34m\u001b[0m\u001b[0m\n",
            "\u001b[0;32m/usr/local/lib/python3.6/dist-packages/torch/nn/modules/module.py\u001b[0m in \u001b[0;36m_apply\u001b[0;34m(self, fn)\u001b[0m\n\u001b[1;32m    357\u001b[0m     \u001b[0;32mdef\u001b[0m \u001b[0m_apply\u001b[0m\u001b[0;34m(\u001b[0m\u001b[0mself\u001b[0m\u001b[0;34m,\u001b[0m \u001b[0mfn\u001b[0m\u001b[0;34m)\u001b[0m\u001b[0;34m:\u001b[0m\u001b[0;34m\u001b[0m\u001b[0;34m\u001b[0m\u001b[0m\n\u001b[1;32m    358\u001b[0m         \u001b[0;32mfor\u001b[0m \u001b[0mmodule\u001b[0m \u001b[0;32min\u001b[0m \u001b[0mself\u001b[0m\u001b[0;34m.\u001b[0m\u001b[0mchildren\u001b[0m\u001b[0;34m(\u001b[0m\u001b[0;34m)\u001b[0m\u001b[0;34m:\u001b[0m\u001b[0;34m\u001b[0m\u001b[0;34m\u001b[0m\u001b[0m\n\u001b[0;32m--> 359\u001b[0;31m             \u001b[0mmodule\u001b[0m\u001b[0;34m.\u001b[0m\u001b[0m_apply\u001b[0m\u001b[0;34m(\u001b[0m\u001b[0mfn\u001b[0m\u001b[0;34m)\u001b[0m\u001b[0;34m\u001b[0m\u001b[0;34m\u001b[0m\u001b[0m\n\u001b[0m\u001b[1;32m    360\u001b[0m \u001b[0;34m\u001b[0m\u001b[0m\n\u001b[1;32m    361\u001b[0m         \u001b[0;32mdef\u001b[0m \u001b[0mcompute_should_use_set_data\u001b[0m\u001b[0;34m(\u001b[0m\u001b[0mtensor\u001b[0m\u001b[0;34m,\u001b[0m \u001b[0mtensor_applied\u001b[0m\u001b[0;34m)\u001b[0m\u001b[0;34m:\u001b[0m\u001b[0;34m\u001b[0m\u001b[0;34m\u001b[0m\u001b[0m\n",
            "\u001b[0;32m/usr/local/lib/python3.6/dist-packages/torch/nn/modules/module.py\u001b[0m in \u001b[0;36m_apply\u001b[0;34m(self, fn)\u001b[0m\n\u001b[1;32m    379\u001b[0m                 \u001b[0;31m# `with torch.no_grad():`\u001b[0m\u001b[0;34m\u001b[0m\u001b[0;34m\u001b[0m\u001b[0;34m\u001b[0m\u001b[0m\n\u001b[1;32m    380\u001b[0m                 \u001b[0;32mwith\u001b[0m \u001b[0mtorch\u001b[0m\u001b[0;34m.\u001b[0m\u001b[0mno_grad\u001b[0m\u001b[0;34m(\u001b[0m\u001b[0;34m)\u001b[0m\u001b[0;34m:\u001b[0m\u001b[0;34m\u001b[0m\u001b[0;34m\u001b[0m\u001b[0m\n\u001b[0;32m--> 381\u001b[0;31m                     \u001b[0mparam_applied\u001b[0m \u001b[0;34m=\u001b[0m \u001b[0mfn\u001b[0m\u001b[0;34m(\u001b[0m\u001b[0mparam\u001b[0m\u001b[0;34m)\u001b[0m\u001b[0;34m\u001b[0m\u001b[0;34m\u001b[0m\u001b[0m\n\u001b[0m\u001b[1;32m    382\u001b[0m                 \u001b[0mshould_use_set_data\u001b[0m \u001b[0;34m=\u001b[0m \u001b[0mcompute_should_use_set_data\u001b[0m\u001b[0;34m(\u001b[0m\u001b[0mparam\u001b[0m\u001b[0;34m,\u001b[0m \u001b[0mparam_applied\u001b[0m\u001b[0;34m)\u001b[0m\u001b[0;34m\u001b[0m\u001b[0;34m\u001b[0m\u001b[0m\n\u001b[1;32m    383\u001b[0m                 \u001b[0;32mif\u001b[0m \u001b[0mshould_use_set_data\u001b[0m\u001b[0;34m:\u001b[0m\u001b[0;34m\u001b[0m\u001b[0;34m\u001b[0m\u001b[0m\n",
            "\u001b[0;32m/usr/local/lib/python3.6/dist-packages/torch/nn/modules/module.py\u001b[0m in \u001b[0;36m<lambda>\u001b[0;34m(t)\u001b[0m\n\u001b[1;32m    461\u001b[0m             \u001b[0mModule\u001b[0m\u001b[0;34m:\u001b[0m \u001b[0mself\u001b[0m\u001b[0;34m\u001b[0m\u001b[0;34m\u001b[0m\u001b[0m\n\u001b[1;32m    462\u001b[0m         \"\"\"\n\u001b[0;32m--> 463\u001b[0;31m         \u001b[0;32mreturn\u001b[0m \u001b[0mself\u001b[0m\u001b[0;34m.\u001b[0m\u001b[0m_apply\u001b[0m\u001b[0;34m(\u001b[0m\u001b[0;32mlambda\u001b[0m \u001b[0mt\u001b[0m\u001b[0;34m:\u001b[0m \u001b[0mt\u001b[0m\u001b[0;34m.\u001b[0m\u001b[0mcuda\u001b[0m\u001b[0;34m(\u001b[0m\u001b[0mdevice\u001b[0m\u001b[0;34m)\u001b[0m\u001b[0;34m)\u001b[0m\u001b[0;34m\u001b[0m\u001b[0;34m\u001b[0m\u001b[0m\n\u001b[0m\u001b[1;32m    464\u001b[0m \u001b[0;34m\u001b[0m\u001b[0m\n\u001b[1;32m    465\u001b[0m     \u001b[0;32mdef\u001b[0m \u001b[0mcpu\u001b[0m\u001b[0;34m(\u001b[0m\u001b[0mself\u001b[0m\u001b[0;34m:\u001b[0m \u001b[0mT\u001b[0m\u001b[0;34m)\u001b[0m \u001b[0;34m->\u001b[0m \u001b[0mT\u001b[0m\u001b[0;34m:\u001b[0m\u001b[0;34m\u001b[0m\u001b[0;34m\u001b[0m\u001b[0m\n",
            "\u001b[0;31mRuntimeError\u001b[0m: CUDA out of memory. Tried to allocate 20.00 MiB (GPU 0; 11.17 GiB total capacity; 10.75 GiB already allocated; 4.81 MiB free; 10.78 GiB reserved in total by PyTorch)"
          ]
        }
      ]
    },
    {
      "cell_type": "code",
      "metadata": {
        "colab": {
          "base_uri": "https://localhost:8080/",
          "height": 279
        },
        "id": "IvgScgdAaeKy",
        "outputId": "2a5ebc04-4e77-4dae-efd6-6ac65ac75afa"
      },
      "source": [
        "plt.plot([0.1, 1., 1.5, 2., 3., 5., 6., 10.], ens_accs)\r\n",
        "plt.xlabel('temperature')\r\n",
        "plt.ylabel('accuracy')\r\n",
        "plt.show()"
      ],
      "execution_count": null,
      "outputs": [
        {
          "output_type": "display_data",
          "data": {
            "image/png": "[encoded data removed]",
            "text/plain": [
              "<Figure size 432x288 with 1 Axes>"
            ]
          },
          "metadata": {
            "tags": [],
            "needs_background": "light"
          }
        }
      ]
    },
    {
      "cell_type": "code",
      "metadata": {
        "id": "Rya8Coc_aeN4"
      },
      "source": [
        ""
      ],
      "execution_count": null,
      "outputs": []
    },
    {
      "cell_type": "code",
      "metadata": {
        "id": "geGL1zE7aeQS"
      },
      "source": [
        ""
      ],
      "execution_count": null,
      "outputs": []
    },
    {
      "cell_type": "code",
      "metadata": {
        "id": "reCnums3ES0O"
      },
      "source": [
        ""
      ],
      "execution_count": null,
      "outputs": []
    }
  ]
}