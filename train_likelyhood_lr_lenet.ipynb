{
  "nbformat": 4,
  "nbformat_minor": 0,
  "metadata": {
    "colab": {
      "name": "train_likelyhood_lr_lenet.ipynb",
      "provenance": [],
      "collapsed_sections": []
    },
    "kernelspec": {
      "name": "python3",
      "display_name": "Python 3"
    },
    "accelerator": "GPU",
    "widgets": {
      "application/vnd.jupyter.widget-state+json": {
        "c6f1d4bb97c44e328c0481038e24fec3": {
          "model_module": "@jupyter-widgets/controls",
          "model_name": "HBoxModel",
          "state": {
            "_view_name": "HBoxView",
            "_dom_classes": [],
            "_model_name": "HBoxModel",
            "_view_module": "@jupyter-widgets/controls",
            "_model_module_version": "1.5.0",
            "_view_count": null,
            "_view_module_version": "1.5.0",
            "box_style": "",
            "layout": "IPY_MODEL_97e76994ec874d17b2d9d0803bd56c63",
            "_model_module": "@jupyter-widgets/controls",
            "children": [
              "IPY_MODEL_7e8f05ce2aa941ca9976d7406184cee4",
              "IPY_MODEL_5ffa193bf0d24397b1b67adc9d621697"
            ]
          }
        },
        "97e76994ec874d17b2d9d0803bd56c63": {
          "model_module": "@jupyter-widgets/base",
          "model_name": "LayoutModel",
          "state": {
            "_view_name": "LayoutView",
            "grid_template_rows": null,
            "right": null,
            "justify_content": null,
            "_view_module": "@jupyter-widgets/base",
            "overflow": null,
            "_model_module_version": "1.2.0",
            "_view_count": null,
            "flex_flow": null,
            "width": null,
            "min_width": null,
            "border": null,
            "align_items": null,
            "bottom": null,
            "_model_module": "@jupyter-widgets/base",
            "top": null,
            "grid_column": null,
            "overflow_y": null,
            "overflow_x": null,
            "grid_auto_flow": null,
            "grid_area": null,
            "grid_template_columns": null,
            "flex": null,
            "_model_name": "LayoutModel",
            "justify_items": null,
            "grid_row": null,
            "max_height": null,
            "align_content": null,
            "visibility": null,
            "align_self": null,
            "height": null,
            "min_height": null,
            "padding": null,
            "grid_auto_rows": null,
            "grid_gap": null,
            "max_width": null,
            "order": null,
            "_view_module_version": "1.2.0",
            "grid_template_areas": null,
            "object_position": null,
            "object_fit": null,
            "grid_auto_columns": null,
            "margin": null,
            "display": null,
            "left": null
          }
        },
        "7e8f05ce2aa941ca9976d7406184cee4": {
          "model_module": "@jupyter-widgets/controls",
          "model_name": "FloatProgressModel",
          "state": {
            "_view_name": "ProgressView",
            "style": "IPY_MODEL_bc5de9ed8f3b4dae8bc36a85b3813e68",
            "_dom_classes": [],
            "description": "",
            "_model_name": "FloatProgressModel",
            "bar_style": "info",
            "max": 1,
            "_view_module": "@jupyter-widgets/controls",
            "_model_module_version": "1.5.0",
            "value": 1,
            "_view_count": null,
            "_view_module_version": "1.5.0",
            "orientation": "horizontal",
            "min": 0,
            "description_tooltip": null,
            "_model_module": "@jupyter-widgets/controls",
            "layout": "IPY_MODEL_9af6e12b6c594f7a9032dd730fe8b6f6"
          }
        },
        "5ffa193bf0d24397b1b67adc9d621697": {
          "model_module": "@jupyter-widgets/controls",
          "model_name": "HTMLModel",
          "state": {
            "_view_name": "HTMLView",
            "style": "IPY_MODEL_1f249906efb64ca48f13080b7458dec6",
            "_dom_classes": [],
            "description": "",
            "_model_name": "HTMLModel",
            "placeholder": "​",
            "_view_module": "@jupyter-widgets/controls",
            "_model_module_version": "1.5.0",
            "value": " 26427392/? [00:20&lt;00:00, 4643874.61it/s]",
            "_view_count": null,
            "_view_module_version": "1.5.0",
            "description_tooltip": null,
            "_model_module": "@jupyter-widgets/controls",
            "layout": "IPY_MODEL_709d40d2441346aa9d74ba9e9c5cd769"
          }
        },
        "bc5de9ed8f3b4dae8bc36a85b3813e68": {
          "model_module": "@jupyter-widgets/controls",
          "model_name": "ProgressStyleModel",
          "state": {
            "_view_name": "StyleView",
            "_model_name": "ProgressStyleModel",
            "description_width": "initial",
            "_view_module": "@jupyter-widgets/base",
            "_model_module_version": "1.5.0",
            "_view_count": null,
            "_view_module_version": "1.2.0",
            "bar_color": null,
            "_model_module": "@jupyter-widgets/controls"
          }
        },
        "9af6e12b6c594f7a9032dd730fe8b6f6": {
          "model_module": "@jupyter-widgets/base",
          "model_name": "LayoutModel",
          "state": {
            "_view_name": "LayoutView",
            "grid_template_rows": null,
            "right": null,
            "justify_content": null,
            "_view_module": "@jupyter-widgets/base",
            "overflow": null,
            "_model_module_version": "1.2.0",
            "_view_count": null,
            "flex_flow": null,
            "width": null,
            "min_width": null,
            "border": null,
            "align_items": null,
            "bottom": null,
            "_model_module": "@jupyter-widgets/base",
            "top": null,
            "grid_column": null,
            "overflow_y": null,
            "overflow_x": null,
            "grid_auto_flow": null,
            "grid_area": null,
            "grid_template_columns": null,
            "flex": null,
            "_model_name": "LayoutModel",
            "justify_items": null,
            "grid_row": null,
            "max_height": null,
            "align_content": null,
            "visibility": null,
            "align_self": null,
            "height": null,
            "min_height": null,
            "padding": null,
            "grid_auto_rows": null,
            "grid_gap": null,
            "max_width": null,
            "order": null,
            "_view_module_version": "1.2.0",
            "grid_template_areas": null,
            "object_position": null,
            "object_fit": null,
            "grid_auto_columns": null,
            "margin": null,
            "display": null,
            "left": null
          }
        },
        "1f249906efb64ca48f13080b7458dec6": {
          "model_module": "@jupyter-widgets/controls",
          "model_name": "DescriptionStyleModel",
          "state": {
            "_view_name": "StyleView",
            "_model_name": "DescriptionStyleModel",
            "description_width": "",
            "_view_module": "@jupyter-widgets/base",
            "_model_module_version": "1.5.0",
            "_view_count": null,
            "_view_module_version": "1.2.0",
            "_model_module": "@jupyter-widgets/controls"
          }
        },
        "709d40d2441346aa9d74ba9e9c5cd769": {
          "model_module": "@jupyter-widgets/base",
          "model_name": "LayoutModel",
          "state": {
            "_view_name": "LayoutView",
            "grid_template_rows": null,
            "right": null,
            "justify_content": null,
            "_view_module": "@jupyter-widgets/base",
            "overflow": null,
            "_model_module_version": "1.2.0",
            "_view_count": null,
            "flex_flow": null,
            "width": null,
            "min_width": null,
            "border": null,
            "align_items": null,
            "bottom": null,
            "_model_module": "@jupyter-widgets/base",
            "top": null,
            "grid_column": null,
            "overflow_y": null,
            "overflow_x": null,
            "grid_auto_flow": null,
            "grid_area": null,
            "grid_template_columns": null,
            "flex": null,
            "_model_name": "LayoutModel",
            "justify_items": null,
            "grid_row": null,
            "max_height": null,
            "align_content": null,
            "visibility": null,
            "align_self": null,
            "height": null,
            "min_height": null,
            "padding": null,
            "grid_auto_rows": null,
            "grid_gap": null,
            "max_width": null,
            "order": null,
            "_view_module_version": "1.2.0",
            "grid_template_areas": null,
            "object_position": null,
            "object_fit": null,
            "grid_auto_columns": null,
            "margin": null,
            "display": null,
            "left": null
          }
        },
        "e6b32076924948b3b9b3484dd9e0efbe": {
          "model_module": "@jupyter-widgets/controls",
          "model_name": "HBoxModel",
          "state": {
            "_view_name": "HBoxView",
            "_dom_classes": [],
            "_model_name": "HBoxModel",
            "_view_module": "@jupyter-widgets/controls",
            "_model_module_version": "1.5.0",
            "_view_count": null,
            "_view_module_version": "1.5.0",
            "box_style": "",
            "layout": "IPY_MODEL_0a347b07f04b421c8925cce160fb34f7",
            "_model_module": "@jupyter-widgets/controls",
            "children": [
              "IPY_MODEL_6c1f2db6c21e4149b5b6381b95a4bb5b",
              "IPY_MODEL_666e3227bb7740b29c18f49a5f08979b"
            ]
          }
        },
        "0a347b07f04b421c8925cce160fb34f7": {
          "model_module": "@jupyter-widgets/base",
          "model_name": "LayoutModel",
          "state": {
            "_view_name": "LayoutView",
            "grid_template_rows": null,
            "right": null,
            "justify_content": null,
            "_view_module": "@jupyter-widgets/base",
            "overflow": null,
            "_model_module_version": "1.2.0",
            "_view_count": null,
            "flex_flow": null,
            "width": null,
            "min_width": null,
            "border": null,
            "align_items": null,
            "bottom": null,
            "_model_module": "@jupyter-widgets/base",
            "top": null,
            "grid_column": null,
            "overflow_y": null,
            "overflow_x": null,
            "grid_auto_flow": null,
            "grid_area": null,
            "grid_template_columns": null,
            "flex": null,
            "_model_name": "LayoutModel",
            "justify_items": null,
            "grid_row": null,
            "max_height": null,
            "align_content": null,
            "visibility": null,
            "align_self": null,
            "height": null,
            "min_height": null,
            "padding": null,
            "grid_auto_rows": null,
            "grid_gap": null,
            "max_width": null,
            "order": null,
            "_view_module_version": "1.2.0",
            "grid_template_areas": null,
            "object_position": null,
            "object_fit": null,
            "grid_auto_columns": null,
            "margin": null,
            "display": null,
            "left": null
          }
        },
        "6c1f2db6c21e4149b5b6381b95a4bb5b": {
          "model_module": "@jupyter-widgets/controls",
          "model_name": "FloatProgressModel",
          "state": {
            "_view_name": "ProgressView",
            "style": "IPY_MODEL_4a8ca8471a6c4ab88ed3f3f9d59cd1a5",
            "_dom_classes": [],
            "description": "  0%",
            "_model_name": "FloatProgressModel",
            "bar_style": "info",
            "max": 1,
            "_view_module": "@jupyter-widgets/controls",
            "_model_module_version": "1.5.0",
            "value": 0,
            "_view_count": null,
            "_view_module_version": "1.5.0",
            "orientation": "horizontal",
            "min": 0,
            "description_tooltip": null,
            "_model_module": "@jupyter-widgets/controls",
            "layout": "IPY_MODEL_56de1d513bbe40f8b10b743916476123"
          }
        },
        "666e3227bb7740b29c18f49a5f08979b": {
          "model_module": "@jupyter-widgets/controls",
          "model_name": "HTMLModel",
          "state": {
            "_view_name": "HTMLView",
            "style": "IPY_MODEL_0e85f18401f944058be2f6450d178d1a",
            "_dom_classes": [],
            "description": "",
            "_model_name": "HTMLModel",
            "placeholder": "​",
            "_view_module": "@jupyter-widgets/controls",
            "_model_module_version": "1.5.0",
            "value": " 0/29515 [00:00&lt;?, ?it/s]",
            "_view_count": null,
            "_view_module_version": "1.5.0",
            "description_tooltip": null,
            "_model_module": "@jupyter-widgets/controls",
            "layout": "IPY_MODEL_daf4873903444f7db3e090353eace3af"
          }
        },
        "4a8ca8471a6c4ab88ed3f3f9d59cd1a5": {
          "model_module": "@jupyter-widgets/controls",
          "model_name": "ProgressStyleModel",
          "state": {
            "_view_name": "StyleView",
            "_model_name": "ProgressStyleModel",
            "description_width": "initial",
            "_view_module": "@jupyter-widgets/base",
            "_model_module_version": "1.5.0",
            "_view_count": null,
            "_view_module_version": "1.2.0",
            "bar_color": null,
            "_model_module": "@jupyter-widgets/controls"
          }
        },
        "56de1d513bbe40f8b10b743916476123": {
          "model_module": "@jupyter-widgets/base",
          "model_name": "LayoutModel",
          "state": {
            "_view_name": "LayoutView",
            "grid_template_rows": null,
            "right": null,
            "justify_content": null,
            "_view_module": "@jupyter-widgets/base",
            "overflow": null,
            "_model_module_version": "1.2.0",
            "_view_count": null,
            "flex_flow": null,
            "width": null,
            "min_width": null,
            "border": null,
            "align_items": null,
            "bottom": null,
            "_model_module": "@jupyter-widgets/base",
            "top": null,
            "grid_column": null,
            "overflow_y": null,
            "overflow_x": null,
            "grid_auto_flow": null,
            "grid_area": null,
            "grid_template_columns": null,
            "flex": null,
            "_model_name": "LayoutModel",
            "justify_items": null,
            "grid_row": null,
            "max_height": null,
            "align_content": null,
            "visibility": null,
            "align_self": null,
            "height": null,
            "min_height": null,
            "padding": null,
            "grid_auto_rows": null,
            "grid_gap": null,
            "max_width": null,
            "order": null,
            "_view_module_version": "1.2.0",
            "grid_template_areas": null,
            "object_position": null,
            "object_fit": null,
            "grid_auto_columns": null,
            "margin": null,
            "display": null,
            "left": null
          }
        },
        "0e85f18401f944058be2f6450d178d1a": {
          "model_module": "@jupyter-widgets/controls",
          "model_name": "DescriptionStyleModel",
          "state": {
            "_view_name": "StyleView",
            "_model_name": "DescriptionStyleModel",
            "description_width": "",
            "_view_module": "@jupyter-widgets/base",
            "_model_module_version": "1.5.0",
            "_view_count": null,
            "_view_module_version": "1.2.0",
            "_model_module": "@jupyter-widgets/controls"
          }
        },
        "daf4873903444f7db3e090353eace3af": {
          "model_module": "@jupyter-widgets/base",
          "model_name": "LayoutModel",
          "state": {
            "_view_name": "LayoutView",
            "grid_template_rows": null,
            "right": null,
            "justify_content": null,
            "_view_module": "@jupyter-widgets/base",
            "overflow": null,
            "_model_module_version": "1.2.0",
            "_view_count": null,
            "flex_flow": null,
            "width": null,
            "min_width": null,
            "border": null,
            "align_items": null,
            "bottom": null,
            "_model_module": "@jupyter-widgets/base",
            "top": null,
            "grid_column": null,
            "overflow_y": null,
            "overflow_x": null,
            "grid_auto_flow": null,
            "grid_area": null,
            "grid_template_columns": null,
            "flex": null,
            "_model_name": "LayoutModel",
            "justify_items": null,
            "grid_row": null,
            "max_height": null,
            "align_content": null,
            "visibility": null,
            "align_self": null,
            "height": null,
            "min_height": null,
            "padding": null,
            "grid_auto_rows": null,
            "grid_gap": null,
            "max_width": null,
            "order": null,
            "_view_module_version": "1.2.0",
            "grid_template_areas": null,
            "object_position": null,
            "object_fit": null,
            "grid_auto_columns": null,
            "margin": null,
            "display": null,
            "left": null
          }
        },
        "cd199cad67504125826b25d7004db4f4": {
          "model_module": "@jupyter-widgets/controls",
          "model_name": "HBoxModel",
          "state": {
            "_view_name": "HBoxView",
            "_dom_classes": [],
            "_model_name": "HBoxModel",
            "_view_module": "@jupyter-widgets/controls",
            "_model_module_version": "1.5.0",
            "_view_count": null,
            "_view_module_version": "1.5.0",
            "box_style": "",
            "layout": "IPY_MODEL_a561f22a99fd4c80886a235e6a671753",
            "_model_module": "@jupyter-widgets/controls",
            "children": [
              "IPY_MODEL_c5edb1e30426499e9b372b091d1c1e77",
              "IPY_MODEL_c1b9cc2e1bab46bc95296419f83e82f3"
            ]
          }
        },
        "a561f22a99fd4c80886a235e6a671753": {
          "model_module": "@jupyter-widgets/base",
          "model_name": "LayoutModel",
          "state": {
            "_view_name": "LayoutView",
            "grid_template_rows": null,
            "right": null,
            "justify_content": null,
            "_view_module": "@jupyter-widgets/base",
            "overflow": null,
            "_model_module_version": "1.2.0",
            "_view_count": null,
            "flex_flow": null,
            "width": null,
            "min_width": null,
            "border": null,
            "align_items": null,
            "bottom": null,
            "_model_module": "@jupyter-widgets/base",
            "top": null,
            "grid_column": null,
            "overflow_y": null,
            "overflow_x": null,
            "grid_auto_flow": null,
            "grid_area": null,
            "grid_template_columns": null,
            "flex": null,
            "_model_name": "LayoutModel",
            "justify_items": null,
            "grid_row": null,
            "max_height": null,
            "align_content": null,
            "visibility": null,
            "align_self": null,
            "height": null,
            "min_height": null,
            "padding": null,
            "grid_auto_rows": null,
            "grid_gap": null,
            "max_width": null,
            "order": null,
            "_view_module_version": "1.2.0",
            "grid_template_areas": null,
            "object_position": null,
            "object_fit": null,
            "grid_auto_columns": null,
            "margin": null,
            "display": null,
            "left": null
          }
        },
        "c5edb1e30426499e9b372b091d1c1e77": {
          "model_module": "@jupyter-widgets/controls",
          "model_name": "FloatProgressModel",
          "state": {
            "_view_name": "ProgressView",
            "style": "IPY_MODEL_1048727746374eafa7b5dd3f66e8a82d",
            "_dom_classes": [],
            "description": "",
            "_model_name": "FloatProgressModel",
            "bar_style": "info",
            "max": 1,
            "_view_module": "@jupyter-widgets/controls",
            "_model_module_version": "1.5.0",
            "value": 1,
            "_view_count": null,
            "_view_module_version": "1.5.0",
            "orientation": "horizontal",
            "min": 0,
            "description_tooltip": null,
            "_model_module": "@jupyter-widgets/controls",
            "layout": "IPY_MODEL_b41090adcd624345994db3b11ec94ca6"
          }
        },
        "c1b9cc2e1bab46bc95296419f83e82f3": {
          "model_module": "@jupyter-widgets/controls",
          "model_name": "HTMLModel",
          "state": {
            "_view_name": "HTMLView",
            "style": "IPY_MODEL_e68b999c7ae94f0e9a87430e4c725382",
            "_dom_classes": [],
            "description": "",
            "_model_name": "HTMLModel",
            "placeholder": "​",
            "_view_module": "@jupyter-widgets/controls",
            "_model_module_version": "1.5.0",
            "value": " 4423680/? [00:17&lt;00:00, 944593.65it/s]",
            "_view_count": null,
            "_view_module_version": "1.5.0",
            "description_tooltip": null,
            "_model_module": "@jupyter-widgets/controls",
            "layout": "IPY_MODEL_a84b595bf06b45df99cd9d63fbe42760"
          }
        },
        "1048727746374eafa7b5dd3f66e8a82d": {
          "model_module": "@jupyter-widgets/controls",
          "model_name": "ProgressStyleModel",
          "state": {
            "_view_name": "StyleView",
            "_model_name": "ProgressStyleModel",
            "description_width": "initial",
            "_view_module": "@jupyter-widgets/base",
            "_model_module_version": "1.5.0",
            "_view_count": null,
            "_view_module_version": "1.2.0",
            "bar_color": null,
            "_model_module": "@jupyter-widgets/controls"
          }
        },
        "b41090adcd624345994db3b11ec94ca6": {
          "model_module": "@jupyter-widgets/base",
          "model_name": "LayoutModel",
          "state": {
            "_view_name": "LayoutView",
            "grid_template_rows": null,
            "right": null,
            "justify_content": null,
            "_view_module": "@jupyter-widgets/base",
            "overflow": null,
            "_model_module_version": "1.2.0",
            "_view_count": null,
            "flex_flow": null,
            "width": null,
            "min_width": null,
            "border": null,
            "align_items": null,
            "bottom": null,
            "_model_module": "@jupyter-widgets/base",
            "top": null,
            "grid_column": null,
            "overflow_y": null,
            "overflow_x": null,
            "grid_auto_flow": null,
            "grid_area": null,
            "grid_template_columns": null,
            "flex": null,
            "_model_name": "LayoutModel",
            "justify_items": null,
            "grid_row": null,
            "max_height": null,
            "align_content": null,
            "visibility": null,
            "align_self": null,
            "height": null,
            "min_height": null,
            "padding": null,
            "grid_auto_rows": null,
            "grid_gap": null,
            "max_width": null,
            "order": null,
            "_view_module_version": "1.2.0",
            "grid_template_areas": null,
            "object_position": null,
            "object_fit": null,
            "grid_auto_columns": null,
            "margin": null,
            "display": null,
            "left": null
          }
        },
        "e68b999c7ae94f0e9a87430e4c725382": {
          "model_module": "@jupyter-widgets/controls",
          "model_name": "DescriptionStyleModel",
          "state": {
            "_view_name": "StyleView",
            "_model_name": "DescriptionStyleModel",
            "description_width": "",
            "_view_module": "@jupyter-widgets/base",
            "_model_module_version": "1.5.0",
            "_view_count": null,
            "_view_module_version": "1.2.0",
            "_model_module": "@jupyter-widgets/controls"
          }
        },
        "a84b595bf06b45df99cd9d63fbe42760": {
          "model_module": "@jupyter-widgets/base",
          "model_name": "LayoutModel",
          "state": {
            "_view_name": "LayoutView",
            "grid_template_rows": null,
            "right": null,
            "justify_content": null,
            "_view_module": "@jupyter-widgets/base",
            "overflow": null,
            "_model_module_version": "1.2.0",
            "_view_count": null,
            "flex_flow": null,
            "width": null,
            "min_width": null,
            "border": null,
            "align_items": null,
            "bottom": null,
            "_model_module": "@jupyter-widgets/base",
            "top": null,
            "grid_column": null,
            "overflow_y": null,
            "overflow_x": null,
            "grid_auto_flow": null,
            "grid_area": null,
            "grid_template_columns": null,
            "flex": null,
            "_model_name": "LayoutModel",
            "justify_items": null,
            "grid_row": null,
            "max_height": null,
            "align_content": null,
            "visibility": null,
            "align_self": null,
            "height": null,
            "min_height": null,
            "padding": null,
            "grid_auto_rows": null,
            "grid_gap": null,
            "max_width": null,
            "order": null,
            "_view_module_version": "1.2.0",
            "grid_template_areas": null,
            "object_position": null,
            "object_fit": null,
            "grid_auto_columns": null,
            "margin": null,
            "display": null,
            "left": null
          }
        },
        "a00c8f885d5044aba50793f80cfce317": {
          "model_module": "@jupyter-widgets/controls",
          "model_name": "HBoxModel",
          "state": {
            "_view_name": "HBoxView",
            "_dom_classes": [],
            "_model_name": "HBoxModel",
            "_view_module": "@jupyter-widgets/controls",
            "_model_module_version": "1.5.0",
            "_view_count": null,
            "_view_module_version": "1.5.0",
            "box_style": "",
            "layout": "IPY_MODEL_86d881dd2682462987dab2b716fbf808",
            "_model_module": "@jupyter-widgets/controls",
            "children": [
              "IPY_MODEL_967b20d5bd6d4389ba5a739ae129d128",
              "IPY_MODEL_424271052194400ca2500521a89a8a38"
            ]
          }
        },
        "86d881dd2682462987dab2b716fbf808": {
          "model_module": "@jupyter-widgets/base",
          "model_name": "LayoutModel",
          "state": {
            "_view_name": "LayoutView",
            "grid_template_rows": null,
            "right": null,
            "justify_content": null,
            "_view_module": "@jupyter-widgets/base",
            "overflow": null,
            "_model_module_version": "1.2.0",
            "_view_count": null,
            "flex_flow": null,
            "width": null,
            "min_width": null,
            "border": null,
            "align_items": null,
            "bottom": null,
            "_model_module": "@jupyter-widgets/base",
            "top": null,
            "grid_column": null,
            "overflow_y": null,
            "overflow_x": null,
            "grid_auto_flow": null,
            "grid_area": null,
            "grid_template_columns": null,
            "flex": null,
            "_model_name": "LayoutModel",
            "justify_items": null,
            "grid_row": null,
            "max_height": null,
            "align_content": null,
            "visibility": null,
            "align_self": null,
            "height": null,
            "min_height": null,
            "padding": null,
            "grid_auto_rows": null,
            "grid_gap": null,
            "max_width": null,
            "order": null,
            "_view_module_version": "1.2.0",
            "grid_template_areas": null,
            "object_position": null,
            "object_fit": null,
            "grid_auto_columns": null,
            "margin": null,
            "display": null,
            "left": null
          }
        },
        "967b20d5bd6d4389ba5a739ae129d128": {
          "model_module": "@jupyter-widgets/controls",
          "model_name": "FloatProgressModel",
          "state": {
            "_view_name": "ProgressView",
            "style": "IPY_MODEL_4a45403f245743ee8f43f0b65b53bb28",
            "_dom_classes": [],
            "description": "  0%",
            "_model_name": "FloatProgressModel",
            "bar_style": "info",
            "max": 1,
            "_view_module": "@jupyter-widgets/controls",
            "_model_module_version": "1.5.0",
            "value": 0,
            "_view_count": null,
            "_view_module_version": "1.5.0",
            "orientation": "horizontal",
            "min": 0,
            "description_tooltip": null,
            "_model_module": "@jupyter-widgets/controls",
            "layout": "IPY_MODEL_d934816d46bf4b9fa69bff2fb76c70dd"
          }
        },
        "424271052194400ca2500521a89a8a38": {
          "model_module": "@jupyter-widgets/controls",
          "model_name": "HTMLModel",
          "state": {
            "_view_name": "HTMLView",
            "style": "IPY_MODEL_aea076ef9a2e40a290811f189aa21000",
            "_dom_classes": [],
            "description": "",
            "_model_name": "HTMLModel",
            "placeholder": "​",
            "_view_module": "@jupyter-widgets/controls",
            "_model_module_version": "1.5.0",
            "value": " 0/5148 [00:00&lt;?, ?it/s]",
            "_view_count": null,
            "_view_module_version": "1.5.0",
            "description_tooltip": null,
            "_model_module": "@jupyter-widgets/controls",
            "layout": "IPY_MODEL_78039e11a9944c10b79d27ca5f993a4e"
          }
        },
        "4a45403f245743ee8f43f0b65b53bb28": {
          "model_module": "@jupyter-widgets/controls",
          "model_name": "ProgressStyleModel",
          "state": {
            "_view_name": "StyleView",
            "_model_name": "ProgressStyleModel",
            "description_width": "initial",
            "_view_module": "@jupyter-widgets/base",
            "_model_module_version": "1.5.0",
            "_view_count": null,
            "_view_module_version": "1.2.0",
            "bar_color": null,
            "_model_module": "@jupyter-widgets/controls"
          }
        },
        "d934816d46bf4b9fa69bff2fb76c70dd": {
          "model_module": "@jupyter-widgets/base",
          "model_name": "LayoutModel",
          "state": {
            "_view_name": "LayoutView",
            "grid_template_rows": null,
            "right": null,
            "justify_content": null,
            "_view_module": "@jupyter-widgets/base",
            "overflow": null,
            "_model_module_version": "1.2.0",
            "_view_count": null,
            "flex_flow": null,
            "width": null,
            "min_width": null,
            "border": null,
            "align_items": null,
            "bottom": null,
            "_model_module": "@jupyter-widgets/base",
            "top": null,
            "grid_column": null,
            "overflow_y": null,
            "overflow_x": null,
            "grid_auto_flow": null,
            "grid_area": null,
            "grid_template_columns": null,
            "flex": null,
            "_model_name": "LayoutModel",
            "justify_items": null,
            "grid_row": null,
            "max_height": null,
            "align_content": null,
            "visibility": null,
            "align_self": null,
            "height": null,
            "min_height": null,
            "padding": null,
            "grid_auto_rows": null,
            "grid_gap": null,
            "max_width": null,
            "order": null,
            "_view_module_version": "1.2.0",
            "grid_template_areas": null,
            "object_position": null,
            "object_fit": null,
            "grid_auto_columns": null,
            "margin": null,
            "display": null,
            "left": null
          }
        },
        "aea076ef9a2e40a290811f189aa21000": {
          "model_module": "@jupyter-widgets/controls",
          "model_name": "DescriptionStyleModel",
          "state": {
            "_view_name": "StyleView",
            "_model_name": "DescriptionStyleModel",
            "description_width": "",
            "_view_module": "@jupyter-widgets/base",
            "_model_module_version": "1.5.0",
            "_view_count": null,
            "_view_module_version": "1.2.0",
            "_model_module": "@jupyter-widgets/controls"
          }
        },
        "78039e11a9944c10b79d27ca5f993a4e": {
          "model_module": "@jupyter-widgets/base",
          "model_name": "LayoutModel",
          "state": {
            "_view_name": "LayoutView",
            "grid_template_rows": null,
            "right": null,
            "justify_content": null,
            "_view_module": "@jupyter-widgets/base",
            "overflow": null,
            "_model_module_version": "1.2.0",
            "_view_count": null,
            "flex_flow": null,
            "width": null,
            "min_width": null,
            "border": null,
            "align_items": null,
            "bottom": null,
            "_model_module": "@jupyter-widgets/base",
            "top": null,
            "grid_column": null,
            "overflow_y": null,
            "overflow_x": null,
            "grid_auto_flow": null,
            "grid_area": null,
            "grid_template_columns": null,
            "flex": null,
            "_model_name": "LayoutModel",
            "justify_items": null,
            "grid_row": null,
            "max_height": null,
            "align_content": null,
            "visibility": null,
            "align_self": null,
            "height": null,
            "min_height": null,
            "padding": null,
            "grid_auto_rows": null,
            "grid_gap": null,
            "max_width": null,
            "order": null,
            "_view_module_version": "1.2.0",
            "grid_template_areas": null,
            "object_position": null,
            "object_fit": null,
            "grid_auto_columns": null,
            "margin": null,
            "display": null,
            "left": null
          }
        }
      }
    }
  },
  "cells": [
    {
      "cell_type": "code",
      "metadata": {
        "id": "ZZQLHcXpNsOQ"
      },
      "source": [
        "import numpy as np\r\n",
        "import torch\r\n",
        "import torchvision\r\n",
        "import matplotlib.pyplot as plt\r\n",
        "from time import time\r\n",
        "import time\r\n",
        "import copy\r\n",
        "from torchvision import datasets, transforms\r\n",
        "from torch import nn, optim\r\n",
        "import warnings\r\n",
        "warnings.filterwarnings(\"ignore\")\r\n",
        "import torchvision.models as models\r\n",
        "import torch, torch.nn as nn\r\n",
        "import math\r\n",
        "import torch.nn.functional as F\r\n",
        "from torch.autograd import Variable\r\n",
        "class Flatten(nn.Module):\r\n",
        "    def forward(self, input):\r\n",
        "        return input.view(input.size(0), -1)\r\n",
        "\r\n",
        "def transform(my_x, my_y):\r\n",
        "    tensor_x = torch.Tensor(my_x) # transform to torch tensor\r\n",
        "    tensor_y = torch.LongTensor(my_y)\r\n",
        "\r\n",
        "    my_dataset = data.TensorDataset(tensor_x,tensor_y) # create your datset\r\n",
        "    my_dataloader = data.DataLoader(my_dataset) # create your dataloader\r\n",
        "    return my_dataloader\r\n",
        "    \r\n",
        "def T_scaling(logits, temperature):\r\n",
        "  return torch.div(logits, temperature)\r\n",
        "\r\n",
        "def compute_loss(X_batch, y_batch):\r\n",
        "    X_batch = Variable(torch.FloatTensor(X_batch))\r\n",
        "    y_batch = Variable(torch.LongTensor(y_batch))\r\n",
        "    X_batch, y_batch = X_batch.cuda(), y_batch.cuda()\r\n",
        "    logits = resnet18(X_batch)\r\n",
        "    #temperature = nn.Parameter(torch.ones(1) * temp_constant)\r\n",
        "    #temperature = temperature.unsqueeze(1).expand(logits.size(0), logits.size(1)).cuda()\r\n",
        "    #return F.cross_entropy(T_scaling(logits, temperature), y_batch).mean()\r\n",
        "    return F.cross_entropy(logits, y_batch).mean()"
      ],
      "execution_count": 1,
      "outputs": []
    },
    {
      "cell_type": "code",
      "metadata": {
        "colab": {
          "base_uri": "https://localhost:8080/",
          "height": 341,
          "referenced_widgets": [
            "c6f1d4bb97c44e328c0481038e24fec3",
            "97e76994ec874d17b2d9d0803bd56c63",
            "7e8f05ce2aa941ca9976d7406184cee4",
            "5ffa193bf0d24397b1b67adc9d621697",
            "bc5de9ed8f3b4dae8bc36a85b3813e68",
            "9af6e12b6c594f7a9032dd730fe8b6f6",
            "1f249906efb64ca48f13080b7458dec6",
            "709d40d2441346aa9d74ba9e9c5cd769",
            "e6b32076924948b3b9b3484dd9e0efbe",
            "0a347b07f04b421c8925cce160fb34f7",
            "6c1f2db6c21e4149b5b6381b95a4bb5b",
            "666e3227bb7740b29c18f49a5f08979b",
            "4a8ca8471a6c4ab88ed3f3f9d59cd1a5",
            "56de1d513bbe40f8b10b743916476123",
            "0e85f18401f944058be2f6450d178d1a",
            "daf4873903444f7db3e090353eace3af",
            "cd199cad67504125826b25d7004db4f4",
            "a561f22a99fd4c80886a235e6a671753",
            "c5edb1e30426499e9b372b091d1c1e77",
            "c1b9cc2e1bab46bc95296419f83e82f3",
            "1048727746374eafa7b5dd3f66e8a82d",
            "b41090adcd624345994db3b11ec94ca6",
            "e68b999c7ae94f0e9a87430e4c725382",
            "a84b595bf06b45df99cd9d63fbe42760",
            "a00c8f885d5044aba50793f80cfce317",
            "86d881dd2682462987dab2b716fbf808",
            "967b20d5bd6d4389ba5a739ae129d128",
            "424271052194400ca2500521a89a8a38",
            "4a45403f245743ee8f43f0b65b53bb28",
            "d934816d46bf4b9fa69bff2fb76c70dd",
            "aea076ef9a2e40a290811f189aa21000",
            "78039e11a9944c10b79d27ca5f993a4e"
          ]
        },
        "id": "byqo-2IyN1bt",
        "outputId": "80f5e44d-2bc3-4655-d10c-07adbdfc60c3"
      },
      "source": [
        "transform = transforms.ToTensor()\r\n",
        "batch_size=100\r\n",
        "\r\n",
        "transform_train = transforms.Compose([\r\n",
        "    transforms.RandomCrop(28, padding=4),\r\n",
        "    transforms.RandomHorizontalFlip(),\r\n",
        "    transforms.ToTensor(),\r\n",
        "    transforms.Normalize((0.4914, 0.4822, 0.4465), (0.2023, 0.1994, 0.2010)),\r\n",
        "])\r\n",
        "\r\n",
        "transform_test = transforms.Compose([\r\n",
        "    transforms.ToTensor(),\r\n",
        "    transforms.Normalize((0.4914, 0.4822, 0.4465), (0.2023, 0.1994, 0.2010)),\r\n",
        "])\r\n",
        "\r\n",
        "trainset = datasets.FashionMNIST('fashion-10', download=True, train=True, transform=transform)\r\n",
        "testset = datasets.FashionMNIST('fashion-10', download=True, train=False, transform=transform)\r\n",
        "print(trainset[0][0].shape)\r\n",
        "\r\n",
        "trainloader = torch.utils.data.DataLoader(trainset, batch_size=batch_size, shuffle=True)\r\n",
        "testloader = torch.utils.data.DataLoader(testset, batch_size=batch_size, shuffle=True)"
      ],
      "execution_count": 2,
      "outputs": [
        {
          "output_type": "stream",
          "text": [
            "Downloading http://fashion-mnist.s3-website.eu-central-1.amazonaws.com/train-images-idx3-ubyte.gz to fashion-10/FashionMNIST/raw/train-images-idx3-ubyte.gz\n"
          ],
          "name": "stdout"
        },
        {
          "output_type": "display_data",
          "data": {
            "application/vnd.jupyter.widget-view+json": {
              "model_id": "c6f1d4bb97c44e328c0481038e24fec3",
              "version_minor": 0,
              "version_major": 2
            },
            "text/plain": [
              "HBox(children=(FloatProgress(value=1.0, bar_style='info', max=1.0), HTML(value='')))"
            ]
          },
          "metadata": {
            "tags": []
          }
        },
        {
          "output_type": "stream",
          "text": [
            "Extracting fashion-10/FashionMNIST/raw/train-images-idx3-ubyte.gz to fashion-10/FashionMNIST/raw\n",
            "Downloading http://fashion-mnist.s3-website.eu-central-1.amazonaws.com/train-labels-idx1-ubyte.gz to fashion-10/FashionMNIST/raw/train-labels-idx1-ubyte.gz\n"
          ],
          "name": "stdout"
        },
        {
          "output_type": "display_data",
          "data": {
            "application/vnd.jupyter.widget-view+json": {
              "model_id": "e6b32076924948b3b9b3484dd9e0efbe",
              "version_minor": 0,
              "version_major": 2
            },
            "text/plain": [
              "HBox(children=(FloatProgress(value=1.0, bar_style='info', max=1.0), HTML(value='')))"
            ]
          },
          "metadata": {
            "tags": []
          }
        },
        {
          "output_type": "stream",
          "text": [
            "Extracting fashion-10/FashionMNIST/raw/train-labels-idx1-ubyte.gz to fashion-10/FashionMNIST/raw\n",
            "Downloading http://fashion-mnist.s3-website.eu-central-1.amazonaws.com/t10k-images-idx3-ubyte.gz to fashion-10/FashionMNIST/raw/t10k-images-idx3-ubyte.gz\n"
          ],
          "name": "stdout"
        },
        {
          "output_type": "display_data",
          "data": {
            "application/vnd.jupyter.widget-view+json": {
              "model_id": "cd199cad67504125826b25d7004db4f4",
              "version_minor": 0,
              "version_major": 2
            },
            "text/plain": [
              "HBox(children=(FloatProgress(value=1.0, bar_style='info', max=1.0), HTML(value='')))"
            ]
          },
          "metadata": {
            "tags": []
          }
        },
        {
          "output_type": "stream",
          "text": [
            "Extracting fashion-10/FashionMNIST/raw/t10k-images-idx3-ubyte.gz to fashion-10/FashionMNIST/raw\n",
            "Downloading http://fashion-mnist.s3-website.eu-central-1.amazonaws.com/t10k-labels-idx1-ubyte.gz to fashion-10/FashionMNIST/raw/t10k-labels-idx1-ubyte.gz\n"
          ],
          "name": "stdout"
        },
        {
          "output_type": "display_data",
          "data": {
            "application/vnd.jupyter.widget-view+json": {
              "model_id": "a00c8f885d5044aba50793f80cfce317",
              "version_minor": 0,
              "version_major": 2
            },
            "text/plain": [
              "HBox(children=(FloatProgress(value=1.0, bar_style='info', max=1.0), HTML(value='')))"
            ]
          },
          "metadata": {
            "tags": []
          }
        },
        {
          "output_type": "stream",
          "text": [
            "Extracting fashion-10/FashionMNIST/raw/t10k-labels-idx1-ubyte.gz to fashion-10/FashionMNIST/raw\n",
            "Processing...\n",
            "Done!\n",
            "torch.Size([1, 28, 28])\n"
          ],
          "name": "stdout"
        }
      ]
    },
    {
      "cell_type": "code",
      "metadata": {
        "id": "CDf8bJD0N59f"
      },
      "source": [
        "class BasicBlock(nn.Module):\r\n",
        "    expansion = 1\r\n",
        "\r\n",
        "    def __init__(self, in_planes, planes, stride=1):\r\n",
        "        super(BasicBlock, self).__init__()\r\n",
        "        self.conv1 = nn.Conv2d(in_planes, planes, kernel_size=3, stride=stride, padding=1, bias=False)\r\n",
        "        self.bn1 = nn.BatchNorm2d(planes)\r\n",
        "        self.conv2 = nn.Conv2d(planes, planes, kernel_size=3, stride=1, padding=1, bias=False)\r\n",
        "        self.bn2 = nn.BatchNorm2d(planes)\r\n",
        "\r\n",
        "        self.shortcut = nn.Sequential()\r\n",
        "        if stride != 1 or in_planes != self.expansion*planes:\r\n",
        "            self.shortcut = nn.Sequential(\r\n",
        "                nn.Conv2d(in_planes, self.expansion*planes, kernel_size=1, stride=stride, bias=False),\r\n",
        "                nn.BatchNorm2d(self.expansion*planes)\r\n",
        "            )\r\n",
        "\r\n",
        "    def forward(self, x):\r\n",
        "        out = F.relu(self.bn1(self.conv1(x)))\r\n",
        "        out = self.bn2(self.conv2(out))\r\n",
        "        out += self.shortcut(x)\r\n",
        "        out = F.relu(out)\r\n",
        "        return out\r\n",
        "\r\n",
        "\r\n",
        "class Bottleneck(nn.Module):\r\n",
        "    expansion = 4\r\n",
        "\r\n",
        "    def __init__(self, in_planes, planes, stride=1):\r\n",
        "        super(Bottleneck, self).__init__()\r\n",
        "        self.conv1 = nn.Conv2d(in_planes, planes, kernel_size=1, bias=False)\r\n",
        "        self.bn1 = nn.BatchNorm2d(planes)\r\n",
        "        self.conv2 = nn.Conv2d(planes, planes, kernel_size=3, stride=stride, padding=1, bias=False)\r\n",
        "        self.bn2 = nn.BatchNorm2d(planes)\r\n",
        "        self.conv3 = nn.Conv2d(planes, self.expansion*planes, kernel_size=1, bias=False)\r\n",
        "        self.bn3 = nn.BatchNorm2d(self.expansion*planes)\r\n",
        "\r\n",
        "        self.shortcut = nn.Sequential()\r\n",
        "        if stride != 1 or in_planes != self.expansion*planes:\r\n",
        "            self.shortcut = nn.Sequential(\r\n",
        "                nn.Conv2d(in_planes, self.expansion*planes, kernel_size=1, stride=stride, bias=False),\r\n",
        "                nn.BatchNorm2d(self.expansion*planes)\r\n",
        "            )\r\n",
        "\r\n",
        "    def forward(self, x):\r\n",
        "        out = F.relu(self.bn1(self.conv1(x)))\r\n",
        "        out = F.relu(self.bn2(self.conv2(out)))\r\n",
        "        out = self.bn3(self.conv3(out))\r\n",
        "        out += self.shortcut(x)\r\n",
        "        out = F.relu(out)\r\n",
        "        return out\r\n",
        "\r\n",
        "\r\n",
        "class ResNet(nn.Module):\r\n",
        "    def __init__(self, block, num_blocks, num_classes=10):\r\n",
        "        super(ResNet, self).__init__()\r\n",
        "        self.in_planes = 64\r\n",
        "\r\n",
        "        self.conv1 = nn.Conv2d(1, 64, kernel_size=3, stride=1, padding=1, bias=False)\r\n",
        "        self.bn1 = nn.BatchNorm2d(64)\r\n",
        "        self.layer1 = self._make_layer(block, 64, num_blocks[0], stride=1)\r\n",
        "        self.layer2 = self._make_layer(block, 128, num_blocks[1], stride=2)\r\n",
        "        self.layer3 = self._make_layer(block, 256, num_blocks[2], stride=2)\r\n",
        "        self.layer4 = self._make_layer(block, 512, num_blocks[3], stride=2)\r\n",
        "        self.linear = nn.Linear(512*block.expansion, num_classes)\r\n",
        "\r\n",
        "    def _make_layer(self, block, planes, num_blocks, stride):\r\n",
        "        strides = [stride] + [1]*(num_blocks-1)\r\n",
        "        layers = []\r\n",
        "        for stride in strides:\r\n",
        "            layers.append(block(self.in_planes, planes, stride))\r\n",
        "            self.in_planes = planes * block.expansion\r\n",
        "        return nn.Sequential(*layers)\r\n",
        "\r\n",
        "    def forward(self, x):\r\n",
        "        out = F.relu(self.bn1(self.conv1(x)))\r\n",
        "        out = self.layer1(out)\r\n",
        "        out = self.layer2(out)\r\n",
        "        out = self.layer3(out)\r\n",
        "        out = self.layer4(out)\r\n",
        "        out = F.avg_pool2d(out, 4)\r\n",
        "        out = out.view(out.size(0), -1)\r\n",
        "        out = self.linear(out)\r\n",
        "        return out\r\n",
        "\r\n",
        "\r\n",
        "def ResNet18():\r\n",
        "    return ResNet(BasicBlock, [2,2,2,2])"
      ],
      "execution_count": 3,
      "outputs": []
    },
    {
      "cell_type": "code",
      "metadata": {
        "id": "-O4VvDgNOF6M"
      },
      "source": [
        "def cyclical_lr(stepsize, min_lr=3e-4, max_lr=3e-3):\r\n",
        "\r\n",
        "    # Scaler: we can adapt this if we do not want the triangular CLR\r\n",
        "    scaler = lambda x: 1. #* math.exp(-x * 0.1)\r\n",
        "\r\n",
        "    # Lambda function to calculate the LR\r\n",
        "    lr_lambda = lambda it: min_lr + (max_lr - min_lr) * relative(it, stepsize)\r\n",
        "\r\n",
        "    # Additional function to see where on the cycle we are\r\n",
        "    def relative(it, stepsize):\r\n",
        "        cycle = math.floor(1 + it / (2 * stepsize))\r\n",
        "        x = abs(it / stepsize - 2 * cycle + 1)\r\n",
        "        return max(0, (1 - x)) * scaler(cycle)\r\n",
        "    return lr_lambda"
      ],
      "execution_count": 4,
      "outputs": []
    },
    {
      "cell_type": "code",
      "metadata": {
        "id": "G1QhhC4zjv-h"
      },
      "source": [
        "class LeNet5(nn.Module):\r\n",
        "\r\n",
        "    def __init__(self, n_classes):\r\n",
        "        super(LeNet5, self).__init__()\r\n",
        "        \r\n",
        "        self.feature_extractor = nn.Sequential(            \r\n",
        "            nn.Conv2d(in_channels=1, out_channels=6, kernel_size=5, stride=1),\r\n",
        "            nn.Tanh(),\r\n",
        "            nn.AvgPool2d(kernel_size=2),\r\n",
        "            nn.Conv2d(in_channels=6, out_channels=16, kernel_size=5, stride=1),\r\n",
        "            nn.Tanh(),\r\n",
        "            nn.AvgPool2d(kernel_size=2),\r\n",
        "            nn.Conv2d(in_channels=16, out_channels=120, kernel_size=5, stride=1, padding=1),\r\n",
        "            nn.Tanh()\r\n",
        "        )\r\n",
        "\r\n",
        "        self.classifier = nn.Sequential(\r\n",
        "            nn.Linear(in_features=480, out_features=84),\r\n",
        "            nn.Tanh(),\r\n",
        "            nn.Linear(in_features=84, out_features=n_classes),\r\n",
        "        )\r\n",
        "\r\n",
        "\r\n",
        "    def forward(self, x):\r\n",
        "        x = self.feature_extractor(x)\r\n",
        "        x = torch.flatten(x, 1)\r\n",
        "        logits = self.classifier(x)\r\n",
        "        return logits#, probs"
      ],
      "execution_count": 5,
      "outputs": []
    },
    {
      "cell_type": "code",
      "metadata": {
        "colab": {
          "base_uri": "https://localhost:8080/"
        },
        "id": "XsGGxZuaQLcx",
        "outputId": "6b3cd941-59f1-4fa4-b9dc-5d75065d2127"
      },
      "source": [
        "import time\r\n",
        "import copy\r\n",
        "\r\n",
        "temps = [0.1, 2., 3.]\r\n",
        "torch.cuda.empty_cache()\r\n",
        "#resnet18 = ResNet(BasicBlock, [2,2,2,2]) #models.resnet18(num_classes=10, pretrained=False)\r\n",
        "resnet18 = LeNet5(10)\r\n",
        "cnt = 0\r\n",
        "for el in resnet18.parameters():\r\n",
        "  cnt += 1\r\n",
        "print(cnt)\r\n",
        "resnet18 = resnet18.cuda()\r\n",
        "\r\n",
        "num_epochs = 21\r\n",
        "start_lr = 0.01\r\n",
        "end_lr = 0.1\r\n",
        "factor = 10\r\n",
        "#temperature = nn.Parameter(torch.ones(1).cuda())\r\n",
        "#opt = torch.optim.LBFGS(list(resnet18.parameters()) + [temperature], lr=end_lr, max_iter=10000, line_search_fn='strong_wolfe')\r\n",
        "opt = torch.optim.Adam(resnet18.parameters(), lr=end_lr)\r\n",
        "\r\n",
        "\r\n",
        "step_size = 1*len(trainset) / batch_size\r\n",
        "print(step_size)\r\n",
        "clr = cyclical_lr(step_size, min_lr=start_lr, max_lr=end_lr)\r\n",
        "scheduler = torch.optim.lr_scheduler.LambdaLR(opt, [clr])\r\n",
        "\r\n",
        "models_list = []\r\n",
        "weight_list = []\r\n",
        "loss_list = []\r\n",
        "\r\n",
        "train_loss = []\r\n",
        "val_accuracy = []\r\n",
        "losses = []\r\n",
        "accs = []\r\n",
        "\r\n",
        "lr_find_loss = []\r\n",
        "learning_rates = []\r\n",
        "\r\n",
        "it = 0\r\n",
        "\r\n",
        "smoothing = 0.5\r\n",
        "small_flag = False\r\n",
        "lrs = []\r\n",
        "\r\n",
        "for epoch in range(num_epochs):\r\n",
        "    start_time = time.time()\r\n",
        "    resnet18.train(True)\r\n",
        "    for (X_batch, y_batch) in trainloader:\r\n",
        "        loss = compute_loss(X_batch, y_batch)\r\n",
        "        loss.backward()\r\n",
        "        opt.step()\r\n",
        "        num_loss = loss.data.cpu().numpy()\r\n",
        "        train_loss.append(num_loss)\r\n",
        "        \r\n",
        "        scheduler.step()\r\n",
        "        opt.zero_grad()\r\n",
        "\r\n",
        "        lr_step = opt.state_dict()[\"param_groups\"][0][\"lr\"]\r\n",
        "        learning_rates.append(lr_step)\r\n",
        "        #print(lr_step)\r\n",
        "        if lr_step <= 0.00103:\r\n",
        "            #print('add minimun')\r\n",
        "            models_list.append(copy.deepcopy(resnet18))\r\n",
        "            weight_list.append(10.)\r\n",
        "            #val_loss = 0.\r\n",
        "            #for (X_batch, y_batch) in testloader:\r\n",
        "            #    val_loss += compute_loss(X_batch, y_batch)\r\n",
        "            #val_loss = val_loss.detach().cpu().numpy() * batch_size/ len(testloader.dataset)\r\n",
        "            #print('min', val_loss)\r\n",
        "            #loss_list.append(val_loss)\r\n",
        "            loss_list.append(num_loss)\r\n",
        "        elif lr_step <= 0.00502 and lr_step > 0.00499:\r\n",
        "            #print('add not minimum')\r\n",
        "            models_list.append(copy.deepcopy(resnet18))\r\n",
        "            weight_list.append(1.)\r\n",
        "            #val_loss = 0.\r\n",
        "            #for (X_batch, y_batch) in testloader:\r\n",
        "            #    val_loss += compute_loss(X_batch, y_batch)\r\n",
        "            #val_loss = val_loss.detach().cpu().numpy() * batch_size/ len(testloader.dataset)\r\n",
        "            #print('not', val_loss)\r\n",
        "            #loss_list.append(val_loss)\r\n",
        "            loss_list.append(num_loss)\r\n",
        "        if len(models_list) > 25:\r\n",
        "          models_list = models_list[-25:]\r\n",
        "        it += 1\r\n",
        "              \r\n",
        "\r\n",
        "        resnet18.train(False)\r\n",
        "        for (X_batch, y_batch) in testloader:\r\n",
        "            y_batch = y_batch.cuda()\r\n",
        "            logits = resnet18(Variable(torch.FloatTensor(X_batch)).cuda())\r\n",
        "            y_pred = logits.max(1)[1].data\r\n",
        "            val_accuracy.append(np.mean((y_batch.cpu() == y_pred.cpu()).numpy() ))\r\n",
        "        \r\n",
        "        accs.append(np.mean(val_accuracy[-len(testset) // batch_size :]))\r\n",
        "        cur_loss = np.mean(train_loss[-len(trainset) // batch_size :])\r\n",
        "\r\n",
        "\r\n",
        "        \r\n",
        "    if epoch % 5 == 0:\r\n",
        "        print(\"Epoch {} of {} took {:.3f}s\".format(\r\n",
        "            epoch + 1, num_epochs, time.time() - start_time))\r\n",
        "        print(\"  training loss (in-iteration): \\t{:.6f}\".format(\r\n",
        "            np.mean(train_loss[-len(trainset) // batch_size :])))\r\n",
        "        print(\"  validation accuracy: \\t\\t\\t{:.2f} %\".format(\r\n",
        "            np.mean(val_accuracy[-len(testset) // batch_size :]) * 100))\r\n",
        "    losses.append(np.array(train_loss).mean())"
      ],
      "execution_count": 6,
      "outputs": [
        {
          "output_type": "stream",
          "text": [
            "10\n",
            "600.0\n",
            "Epoch 1 of 21 took 438.777s\n",
            "  training loss (in-iteration): \t0.668104\n",
            "  validation accuracy: \t\t\t77.99 %\n",
            "Epoch 6 of 21 took 433.422s\n",
            "  training loss (in-iteration): \t0.437851\n",
            "  validation accuracy: \t\t\t85.11 %\n",
            "Epoch 11 of 21 took 456.744s\n",
            "  training loss (in-iteration): \t0.395283\n",
            "  validation accuracy: \t\t\t82.46 %\n",
            "Epoch 16 of 21 took 441.462s\n",
            "  training loss (in-iteration): \t0.409794\n",
            "  validation accuracy: \t\t\t85.24 %\n",
            "Epoch 21 of 21 took 436.912s\n",
            "  training loss (in-iteration): \t0.386784\n",
            "  validation accuracy: \t\t\t81.61 %\n"
          ],
          "name": "stdout"
        }
      ]
    },
    {
      "cell_type": "code",
      "metadata": {
        "colab": {
          "base_uri": "https://localhost:8080/",
          "height": 17
        },
        "id": "0xlyEaPOHFZU",
        "outputId": "dd229c40-3159-41d6-f6e6-4465b3a9c10e"
      },
      "source": [
        "torch.save(resnet18.state_dict(), 'lenet_big_lr.pt')\r\n",
        "from google.colab import files\r\n",
        "files.download('lenet_big_lr.pt') "
      ],
      "execution_count": 7,
      "outputs": [
        {
          "output_type": "display_data",
          "data": {
            "application/javascript": [
              "\n",
              "    async function download(id, filename, size) {\n",
              "      if (!google.colab.kernel.accessAllowed) {\n",
              "        return;\n",
              "      }\n",
              "      const div = document.createElement('div');\n",
              "      const label = document.createElement('label');\n",
              "      label.textContent = `Downloading \"${filename}\": `;\n",
              "      div.appendChild(label);\n",
              "      const progress = document.createElement('progress');\n",
              "      progress.max = size;\n",
              "      div.appendChild(progress);\n",
              "      document.body.appendChild(div);\n",
              "\n",
              "      const buffers = [];\n",
              "      let downloaded = 0;\n",
              "\n",
              "      const channel = await google.colab.kernel.comms.open(id);\n",
              "      // Send a message to notify the kernel that we're ready.\n",
              "      channel.send({})\n",
              "\n",
              "      for await (const message of channel.messages) {\n",
              "        // Send a message to notify the kernel that we're ready.\n",
              "        channel.send({})\n",
              "        if (message.buffers) {\n",
              "          for (const buffer of message.buffers) {\n",
              "            buffers.push(buffer);\n",
              "            downloaded += buffer.byteLength;\n",
              "            progress.value = downloaded;\n",
              "          }\n",
              "        }\n",
              "      }\n",
              "      const blob = new Blob(buffers, {type: 'application/binary'});\n",
              "      const a = document.createElement('a');\n",
              "      a.href = window.URL.createObjectURL(blob);\n",
              "      a.download = filename;\n",
              "      div.appendChild(a);\n",
              "      a.click();\n",
              "      div.remove();\n",
              "    }\n",
              "  "
            ],
            "text/plain": [
              "<IPython.core.display.Javascript object>"
            ]
          },
          "metadata": {
            "tags": []
          }
        },
        {
          "output_type": "display_data",
          "data": {
            "application/javascript": [
              "download(\"download_cc80dc5b-f685-4411-9cc6-705bdc1573e6\", \"lenet_big_lr.pt\", 371657)"
            ],
            "text/plain": [
              "<IPython.core.display.Javascript object>"
            ]
          },
          "metadata": {
            "tags": []
          }
        }
      ]
    },
    {
      "cell_type": "code",
      "metadata": {
        "colab": {
          "base_uri": "https://localhost:8080/"
        },
        "id": "HvGf4rv1dfgO",
        "outputId": "0545a795-26ac-4eff-beb9-b6405a0d363f"
      },
      "source": [
        "original_loss_list = loss_list\r\n",
        "original_loss_list"
      ],
      "execution_count": 8,
      "outputs": [
        {
          "output_type": "execute_result",
          "data": {
            "text/plain": [
              "[array(2.3120134, dtype=float32),\n",
              " array(0.51430273, dtype=float32),\n",
              " array(0.42425945, dtype=float32),\n",
              " array(0.43325338, dtype=float32),\n",
              " array(0.42850947, dtype=float32),\n",
              " array(0.39117768, dtype=float32),\n",
              " array(0.3618521, dtype=float32),\n",
              " array(0.4577246, dtype=float32),\n",
              " array(0.43423927, dtype=float32),\n",
              " array(0.73467636, dtype=float32),\n",
              " array(0.23085862, dtype=float32),\n",
              " array(0.41291267, dtype=float32),\n",
              " array(0.48915988, dtype=float32),\n",
              " array(0.3649412, dtype=float32),\n",
              " array(0.39491677, dtype=float32),\n",
              " array(0.5571935, dtype=float32),\n",
              " array(0.38089612, dtype=float32),\n",
              " array(0.33748025, dtype=float32),\n",
              " array(0.34904918, dtype=float32),\n",
              " array(0.3902484, dtype=float32),\n",
              " array(0.4294573, dtype=float32),\n",
              " array(0.35914227, dtype=float32),\n",
              " array(0.5199879, dtype=float32),\n",
              " array(0.47909874, dtype=float32),\n",
              " array(0.38603854, dtype=float32),\n",
              " array(0.36644632, dtype=float32),\n",
              " array(0.42099574, dtype=float32),\n",
              " array(0.67682844, dtype=float32),\n",
              " array(0.42453864, dtype=float32),\n",
              " array(0.46926796, dtype=float32),\n",
              " array(0.5631388, dtype=float32),\n",
              " array(0.43813288, dtype=float32),\n",
              " array(0.2869838, dtype=float32),\n",
              " array(0.41286835, dtype=float32),\n",
              " array(0.2711838, dtype=float32),\n",
              " array(0.4301836, dtype=float32),\n",
              " array(0.36420745, dtype=float32),\n",
              " array(0.3417744, dtype=float32),\n",
              " array(0.47458816, dtype=float32),\n",
              " array(0.44495627, dtype=float32),\n",
              " array(0.4117451, dtype=float32),\n",
              " array(0.33885252, dtype=float32),\n",
              " array(0.4181328, dtype=float32),\n",
              " array(0.29823044, dtype=float32),\n",
              " array(0.4417697, dtype=float32),\n",
              " array(0.39714512, dtype=float32),\n",
              " array(0.36799794, dtype=float32),\n",
              " array(0.41165936, dtype=float32),\n",
              " array(0.47360814, dtype=float32),\n",
              " array(0.3194846, dtype=float32),\n",
              " array(0.46793783, dtype=float32),\n",
              " array(0.34508678, dtype=float32),\n",
              " array(0.37771454, dtype=float32),\n",
              " array(0.5073116, dtype=float32),\n",
              " array(0.43348077, dtype=float32),\n",
              " array(0.4056782, dtype=float32),\n",
              " array(0.45742947, dtype=float32),\n",
              " array(0.30484593, dtype=float32),\n",
              " array(0.47229233, dtype=float32),\n",
              " array(0.3506004, dtype=float32),\n",
              " array(0.3486532, dtype=float32),\n",
              " array(0.3628631, dtype=float32),\n",
              " array(0.5042545, dtype=float32),\n",
              " array(0.38623008, dtype=float32),\n",
              " array(0.3513739, dtype=float32),\n",
              " array(0.41265568, dtype=float32),\n",
              " array(0.29086676, dtype=float32),\n",
              " array(0.3967562, dtype=float32),\n",
              " array(0.5017536, dtype=float32),\n",
              " array(0.36801532, dtype=float32),\n",
              " array(0.38654193, dtype=float32),\n",
              " array(0.3357408, dtype=float32),\n",
              " array(0.38136604, dtype=float32),\n",
              " array(0.36252603, dtype=float32),\n",
              " array(0.29885608, dtype=float32),\n",
              " array(0.5548133, dtype=float32),\n",
              " array(0.36125356, dtype=float32),\n",
              " array(0.36449203, dtype=float32),\n",
              " array(0.37606877, dtype=float32),\n",
              " array(0.40046874, dtype=float32),\n",
              " array(0.29809198, dtype=float32)]"
            ]
          },
          "metadata": {
            "tags": []
          },
          "execution_count": 8
        }
      ]
    },
    {
      "cell_type": "code",
      "metadata": {
        "colab": {
          "base_uri": "https://localhost:8080/",
          "height": 265
        },
        "id": "vfx4CfmsInp0",
        "outputId": "33219780-d002-45db-ba3a-30d44aede2e7"
      },
      "source": [
        "plt.plot(np.array(list(range(len(losses)))), losses)\r\n",
        "#plt.plot(list(range(len(learning_rates))), (np.array(learning_rates) * 10))\r\n",
        "plt.show()"
      ],
      "execution_count": 9,
      "outputs": [
        {
          "output_type": "display_data",
          "data": {
            "image/png": "[encoded data removed]",
            "text/plain": [
              "<Figure size 432x288 with 1 Axes>"
            ]
          },
          "metadata": {
            "tags": [],
            "needs_background": "light"
          }
        }
      ]
    },
    {
      "cell_type": "code",
      "metadata": {
        "colab": {
          "base_uri": "https://localhost:8080/",
          "height": 265
        },
        "id": "fnTUV9WXJB5w",
        "outputId": "82990fc3-2465-4c78-942a-8e5897ca4a98"
      },
      "source": [
        "plt.plot(list(range(len(learning_rates))), (np.array(learning_rates) * 100))\r\n",
        "plt.show()"
      ],
      "execution_count": 10,
      "outputs": [
        {
          "output_type": "display_data",
          "data": {
            "image/png": "[encoded data removed]",
            "text/plain": [
              "<Figure size 432x288 with 1 Axes>"
            ]
          },
          "metadata": {
            "tags": [],
            "needs_background": "light"
          }
        }
      ]
    },
    {
      "cell_type": "code",
      "metadata": {
        "colab": {
          "base_uri": "https://localhost:8080/",
          "height": 278
        },
        "id": "caxupqSTJFqH",
        "outputId": "76c88b89-aa31-42e3-e9e1-15c6dfd3302b"
      },
      "source": [
        "plt.plot(np.array(list(range(len(accs)))) * 640, accs)\r\n",
        "#plt.plot(list(range(len(learning_rates))), (np.array(learning_rates) * 10))\r\n",
        "plt.show()"
      ],
      "execution_count": 11,
      "outputs": [
        {
          "output_type": "display_data",
          "data": {
            "image/png": "[encoded data removed]",
            "text/plain": [
              "<Figure size 432x288 with 1 Axes>"
            ]
          },
          "metadata": {
            "tags": [],
            "needs_background": "light"
          }
        }
      ]
    },
    {
      "cell_type": "code",
      "metadata": {
        "id": "s-lVmnZahoaG"
      },
      "source": [
        "def weigheted_most_common(predictions, weights):\r\n",
        "    new_predictions = {}\r\n",
        "    for i in range(len(predictions)):\r\n",
        "        if predictions[i] in new_predictions:\r\n",
        "            new_predictions[predictions[i]] = new_predictions[predictions[i]] + weights[i]\r\n",
        "        else:\r\n",
        "            new_predictions[predictions[i]] = weights[i]\r\n",
        "    top = list(sorted(new_predictions.items(), key=lambda item: item[1], reverse=True))\r\n",
        "    return top[0][0]\r\n",
        "from collections import Counter\r\n",
        "import numpy as np\r\n",
        "def ensemble_predictions(members, loader, weights):\r\n",
        "    accs = []\r\n",
        "    for (X_batch, y_batch) in loader:\r\n",
        "        yhats = []\r\n",
        "        for model in members:\r\n",
        "            y_batch = y_batch.cuda()\r\n",
        "            logits = model(Variable(torch.FloatTensor(X_batch)).cuda())\r\n",
        "            y_pred = logits.max(1)[1].data\r\n",
        "            #print(y_pred.cpu().numpy())\r\n",
        "            yhats.append(y_pred.cpu().numpy())\r\n",
        "        yhats = np.array(yhats)\r\n",
        "        maxs = []\r\n",
        "        for i in range(yhats.shape[1]):\r\n",
        "            cur_max = weigheted_most_common(yhats[:, i], weights)\r\n",
        "            maxs.append(cur_max)\r\n",
        "            #weighted_yhats = np.bincount(yhats[:, i], weights)\r\n",
        "            #most_freq = np.argmax(weighted_yhats)\r\n",
        "            #maxs.append(yhats[:, i][most_freq])\r\n",
        "            #amounts = Counter(yhats[:, i])\r\n",
        "            #most_freq = amounts.most_common(1)\r\n",
        "            #maxs.append(most_freq[0][0])\r\n",
        "        # sum across ensemble members\r\n",
        "        maxs = np.array(maxs)\r\n",
        "        # argmax across classes\r\n",
        "        accs.append(np.mean((y_batch.cpu().numpy() == maxs)))\r\n",
        "    accs = np.array(accs)\r\n",
        "    return accs, np.mean(accs)"
      ],
      "execution_count": 12,
      "outputs": []
    },
    {
      "cell_type": "code",
      "metadata": {
        "colab": {
          "base_uri": "https://localhost:8080/"
        },
        "id": "x_aqe-zceLgr",
        "outputId": "664d2be8-1080-4ff2-881e-b5098c86c4d0"
      },
      "source": [
        "temps = [0.1, 0.3, 0.5, 0.8, 1.1, 1.5,]\r\n",
        "#original_loss_list = loss_list\r\n",
        "ens_accs = []\r\n",
        "print(len(models_list))\r\n",
        "for t in temps:\r\n",
        "    temp_constant = t\r\n",
        "    loss_list = np.array(original_loss_list[-len(models_list):])\r\n",
        "    #weight_list = weight_list[-len(models_list):]\r\n",
        "    #print(loss_list)\r\n",
        "    for i in range(loss_list.shape[0]):\r\n",
        "        loss_list[i] = np.exp(loss_list[i] / temp_constant)\r\n",
        "\r\n",
        "    weights = loss_list#np.array(1. / loss_list, dtype=np.float64) #weight according likelyhood \r\n",
        "    print(weights)\r\n",
        "    accs, mean_accs = ensemble_predictions(models_list, testloader, weights)\r\n",
        "    ens_accs.append(mean_accs)\r\n",
        "    print(t, 'Ensemble accuracy = ', round(mean_accs, 3) * 100, '%')"
      ],
      "execution_count": 13,
      "outputs": [
        {
          "output_type": "stream",
          "text": [
            "25\n",
            "[ 96.959625  21.082836 112.496635  33.314873  32.672443  37.66122\n",
            " 154.86368   47.574684  33.57357   61.9642    18.332357  52.855515\n",
            " 151.03873   39.65247   47.72328   28.714666  45.316013  37.534492\n",
            "  19.857084 256.7578    37.059902  38.27972   42.977974  54.85467\n",
            "  19.705933]\n",
            "0.1 Ensemble accuracy =  86.3 %\n",
            "[4.5940633 2.762547  4.827399  3.2177038 3.1968863 3.3519547 5.37011\n",
            " 3.6234753 3.226011  3.9571297 2.636773  3.7528691 5.325529  3.4100184\n",
            " 3.627244  3.0622075 3.5652    3.3481905 2.7079365 6.3558636 3.3340192\n",
            " 3.3702044 3.5027997 3.7996    2.7010481]\n",
            "0.3 Ensemble accuracy =  86.4 %\n",
            "[2.496423  1.8398644 2.571745  2.0161722 2.0083358 2.066231  2.7415104\n",
            " 2.1650863 2.0192938 2.2825913 1.7891372 2.2111492 2.7278323 2.0876324\n",
            " 2.166437  1.9571348 2.1441262 2.0648386 1.8179549 3.0332258 2.0595903\n",
            " 2.0729735 2.12153   2.2276282 1.8151788]\n",
            "0.5 Ensemble accuracy =  86.3 %\n",
            "[1.7714294 1.4638317 1.8046478 1.5499932 1.5462251 1.573935  1.878208\n",
            " 1.6205857 1.5514926 1.6750108 1.4384749 1.6420497 1.8723457 1.5841043\n",
            " 1.6212175 1.5214685 1.6107624 1.573272  1.4529124 2.000739  1.5707716\n",
            " 1.5771431 1.6001318 1.6496875 1.4515253]\n",
            "0.8 Ensemble accuracy =  86.3 %\n",
            "[1.5156509 1.3193414 1.5362688 1.3753767 1.3729441 1.390795  1.5815624\n",
            " 1.4206554 1.3763442 1.4551973 1.3026809 1.4343151 1.5779707 1.3973246\n",
            " 1.4210582 1.356922  1.4143872 1.3903689 1.3121767 1.6559515 1.3887615\n",
            " 1.3928561 1.4075924 1.4391642 1.3112655]\n",
            "1.1 Ensemble accuracy =  86.3 %\n",
            "[1.3565612 1.225355  1.3700696 1.2633079 1.261669  1.273678  1.3995764\n",
            " 1.2936746 1.2639595 1.3166673 1.2139884 1.3027848 1.3972449 1.2780603\n",
            " 1.2939436 1.2508548 1.2894864 1.2733917 1.2204716 1.4475545 1.2723119\n",
            " 1.2750618 1.2849406 1.3060132 1.2198501]\n",
            "1.5 Ensemble accuracy =  86.3 %\n"
          ],
          "name": "stdout"
        }
      ]
    },
    {
      "cell_type": "code",
      "metadata": {
        "colab": {
          "base_uri": "https://localhost:8080/",
          "height": 279
        },
        "id": "rcRLu1-meFYj",
        "outputId": "548a2319-2510-48da-8f22-bd7e125d279e"
      },
      "source": [
        "plt.plot(temps, ens_accs)\r\n",
        "plt.xlabel('temperature')\r\n",
        "plt.ylabel('accuracy')\r\n",
        "plt.show()"
      ],
      "execution_count": 14,
      "outputs": [
        {
          "output_type": "display_data",
          "data": {
            "image/png": "[encoded data removed]",
            "text/plain": [
              "<Figure size 432x288 with 1 Axes>"
            ]
          },
          "metadata": {
            "tags": [],
            "needs_background": "light"
          }
        }
      ]
    },
    {
      "cell_type": "code",
      "metadata": {
        "colab": {
          "base_uri": "https://localhost:8080/"
        },
        "id": "hq9HBoRxKnu4",
        "outputId": "c7df5513-3937-41d3-c09a-19a4e18465fb"
      },
      "source": [
        "for model in models_list:\r\n",
        "  accuracy = []\r\n",
        "  for (X_batch, y_batch) in testloader:\r\n",
        "          y_batch = y_batch.cuda()\r\n",
        "          logits = model(Variable(torch.FloatTensor(X_batch)).cuda())\r\n",
        "          y_pred = logits.max(1)[1].data\r\n",
        "          accuracy.append(np.mean((y_batch.cpu() == y_pred.cpu()).numpy() ))\r\n",
        "  print(np.array(accuracy).mean() * 100, '%')"
      ],
      "execution_count": 15,
      "outputs": [
        {
          "output_type": "stream",
          "text": [
            "84.78999999999999 %\n",
            "84.75999999999998 %\n",
            "84.77999999999999 %\n",
            "84.88999999999999 %\n",
            "83.94999999999997 %\n",
            "83.96 %\n",
            "85.30999999999999 %\n",
            "85.24 %\n",
            "85.21999999999998 %\n",
            "84.89999999999998 %\n",
            "84.67999999999999 %\n",
            "83.46 %\n",
            "83.52000000000001 %\n",
            "85.05999999999997 %\n",
            "85.14 %\n",
            "85.09 %\n",
            "84.27000000000001 %\n",
            "84.48 %\n",
            "83.29 %\n",
            "83.59999999999998 %\n",
            "85.16000000000003 %\n",
            "85.16 %\n",
            "85.10000000000001 %\n",
            "84.83 %\n",
            "84.89999999999999 %\n"
          ],
          "name": "stdout"
        }
      ]
    },
    {
      "cell_type": "code",
      "metadata": {
        "id": "aLkSQPbcKn5U"
      },
      "source": [
        ""
      ],
      "execution_count": null,
      "outputs": []
    },
    {
      "cell_type": "code",
      "metadata": {
        "colab": {
          "base_uri": "https://localhost:8080/",
          "height": 279
        },
        "id": "9D8YOykFrUvs",
        "outputId": "e4ce3512-a891-4e44-a6cf-c538861a938e"
      },
      "source": [
        "small_ens_accs = ens_accs\r\n",
        "plt.plot(temps, small_ens_accs)\r\n",
        "plt.xlabel('temperature')\r\n",
        "plt.ylabel('accuracy')\r\n",
        "plt.show()"
      ],
      "execution_count": null,
      "outputs": [
        {
          "output_type": "display_data",
          "data": {
            "image/png": "[encoded data removed]",
            "text/plain": [
              "<Figure size 432x288 with 1 Axes>"
            ]
          },
          "metadata": {
            "tags": [],
            "needs_background": "light"
          }
        }
      ]
    },
    {
      "cell_type": "code",
      "metadata": {
        "id": "M8vJCbdmw1-6"
      },
      "source": [
        ""
      ],
      "execution_count": null,
      "outputs": []
    },
    {
      "cell_type": "code",
      "metadata": {
        "colab": {
          "base_uri": "https://localhost:8080/"
        },
        "id": "mJkbQyAghwLh",
        "outputId": "609303b0-a977-4452-e2ac-fde6c9cd1638"
      },
      "source": [
        "weights = np.array(1. / loss_list, dtype=np.float64) #weight according likelyhood \r\n",
        "accs, mean_accs = ensemble_predictions(models_list, testloader, weights)\r\n",
        "print(round(mean_accs, 3) * 100, '%')"
      ],
      "execution_count": null,
      "outputs": [
        {
          "output_type": "stream",
          "text": [
            "93.8 %\n"
          ],
          "name": "stdout"
        }
      ]
    },
    {
      "cell_type": "code",
      "metadata": {
        "colab": {
          "base_uri": "https://localhost:8080/",
          "height": 422
        },
        "id": "0okfu1tPaeIE",
        "outputId": "3e753ac0-0954-4469-8383-859bc06f96ee"
      },
      "source": [
        "import time\r\n",
        "import copy\r\n",
        "\r\n",
        "temps = [6., 10.]\r\n",
        "#ens_accs = []\r\n",
        "\r\n",
        "for t in temps:\r\n",
        "    torch.cuda.empty_cache()\r\n",
        "    print('Experiment for t = {}'.format(t))\r\n",
        "    temp_constant = t\r\n",
        "    resnet18 = ResNet(BasicBlock, [2,2,2,2]) #models.resnet18(num_classes=10, pretrained=False)\r\n",
        "    resnet18 = resnet18.cuda()\r\n",
        "\r\n",
        "    num_epochs = 21\r\n",
        "    start_lr = 0.01\r\n",
        "    end_lr = 0.1\r\n",
        "    factor = 10\r\n",
        "    temperature = nn.Parameter(torch.ones(1).cuda())\r\n",
        "    #opt = torch.optim.LBFGS(list(resnet18.parameters()) + [temperature], lr=end_lr, max_iter=10000, line_search_fn='strong_wolfe')\r\n",
        "    opt = torch.optim.Adam(resnet18.parameters(), lr=end_lr)\r\n",
        "\r\n",
        "\r\n",
        "    step_size = 1*len(trainset) / batch_size\r\n",
        "    print(step_size)\r\n",
        "    clr = cyclical_lr(step_size, min_lr=start_lr, max_lr=end_lr)\r\n",
        "    scheduler = torch.optim.lr_scheduler.LambdaLR(opt, [clr])\r\n",
        "\r\n",
        "    models_list = []\r\n",
        "    weight_list = []\r\n",
        "    loss_list = []\r\n",
        "\r\n",
        "    train_loss = []\r\n",
        "    val_accuracy = []\r\n",
        "    losses = []\r\n",
        "    accs = []\r\n",
        "\r\n",
        "    lr_find_loss = []\r\n",
        "    learning_rates = []\r\n",
        "\r\n",
        "    it = 0\r\n",
        "\r\n",
        "    smoothing = 0.5\r\n",
        "    small_flag = False\r\n",
        "    lrs = []\r\n",
        "\r\n",
        "    for epoch in range(num_epochs):\r\n",
        "        start_time = time.time()\r\n",
        "        resnet18.train(True)\r\n",
        "        for (X_batch, y_batch) in trainloader:\r\n",
        "            loss = compute_loss(X_batch, y_batch)\r\n",
        "            loss.backward()\r\n",
        "            opt.step()\r\n",
        "            #print(loss.data.cpu().numpy())\r\n",
        "            train_loss.append(loss.data.cpu().numpy())\r\n",
        "            \r\n",
        "            scheduler.step()\r\n",
        "            opt.zero_grad()\r\n",
        "\r\n",
        "            lr_step = opt.state_dict()[\"param_groups\"][0][\"lr\"]\r\n",
        "            learning_rates.append(lr_step)\r\n",
        "            #lr_find_loss.append(loss)\r\n",
        "            if lr_step <= 0.00103:\r\n",
        "                #print('add minimun')\r\n",
        "                models_list.append(copy.deepcopy(resnet18))\r\n",
        "                weight_list.append(10.)\r\n",
        "                loss_list.append(loss)\r\n",
        "            elif lr_step <= 0.00502 and lr_step > 0.00499:\r\n",
        "                #print('add not minimum')\r\n",
        "                models_list.append(copy.deepcopy(resnet18))\r\n",
        "                weight_list.append(1.)\r\n",
        "                loss_list.append(loss)\r\n",
        "            if len(models_list) > 25:\r\n",
        "              models_list = models_list[-25:]\r\n",
        "            it += 1\r\n",
        "            \r\n",
        "\r\n",
        "        resnet18.train(False)\r\n",
        "        for (X_batch, y_batch) in testloader:\r\n",
        "            y_batch = y_batch.cuda()\r\n",
        "            logits = resnet18(Variable(torch.FloatTensor(X_batch)).cuda())\r\n",
        "            y_pred = logits.max(1)[1].data\r\n",
        "            val_accuracy.append(np.mean((y_batch.cpu() == y_pred.cpu()).numpy() ))\r\n",
        "        \r\n",
        "        accs.append(np.mean(val_accuracy[-len(testset) // batch_size :]))\r\n",
        "        cur_loss = np.mean(train_loss[-len(trainset) // batch_size :])\r\n",
        "\r\n",
        "\r\n",
        "        \r\n",
        "        if epoch % 10 == 0:\r\n",
        "            print(\"Epoch {} of {} took {:.3f}s\".format(\r\n",
        "                epoch + 1, num_epochs, time.time() - start_time))\r\n",
        "            print(\"  training loss (in-iteration): \\t{:.6f}\".format(\r\n",
        "                np.mean(train_loss[-len(trainset) // batch_size :])))\r\n",
        "            print(\"  validation accuracy: \\t\\t\\t{:.2f} %\".format(\r\n",
        "                np.mean(val_accuracy[-len(testset) // batch_size :]) * 100))\r\n",
        "        losses.append(np.array(train_loss).mean())\r\n",
        "    loss_list = np.array(loss_list[-len(models_list):])\r\n",
        "    #weight_list = weight_list[-len(models_list):]\r\n",
        "    for i in range(loss_list.shape[0]):\r\n",
        "        loss_list[i] = loss_list[i].detach().cpu().numpy()\r\n",
        "    weights = np.array(1. / loss_list, dtype=np.float64) #weight according likelyhood \r\n",
        "    accs, mean_accs = ensemble_predictions(models_list, testloader, weights)\r\n",
        "    ens_accs.append(mean_accs)\r\n",
        "    print('Ensemble accuracy = ', round(mean_accs, 3) * 100, '%')"
      ],
      "execution_count": null,
      "outputs": [
        {
          "output_type": "stream",
          "text": [
            "Experiment for t = 6.0\n"
          ],
          "name": "stdout"
        },
        {
          "output_type": "error",
          "ename": "RuntimeError",
          "evalue": "ignored",
          "traceback": [
            "\u001b[0;31m---------------------------------------------------------------------------\u001b[0m",
            "\u001b[0;31mRuntimeError\u001b[0m                              Traceback (most recent call last)",
            "\u001b[0;32m<ipython-input-7-b277b15de5b3>\u001b[0m in \u001b[0;36m<module>\u001b[0;34m()\u001b[0m\n\u001b[1;32m     10\u001b[0m     \u001b[0mtemp_constant\u001b[0m \u001b[0;34m=\u001b[0m \u001b[0mt\u001b[0m\u001b[0;34m\u001b[0m\u001b[0;34m\u001b[0m\u001b[0m\n\u001b[1;32m     11\u001b[0m     \u001b[0mresnet18\u001b[0m \u001b[0;34m=\u001b[0m \u001b[0mResNet\u001b[0m\u001b[0;34m(\u001b[0m\u001b[0mBasicBlock\u001b[0m\u001b[0;34m,\u001b[0m \u001b[0;34m[\u001b[0m\u001b[0;36m2\u001b[0m\u001b[0;34m,\u001b[0m\u001b[0;36m2\u001b[0m\u001b[0;34m,\u001b[0m\u001b[0;36m2\u001b[0m\u001b[0;34m,\u001b[0m\u001b[0;36m2\u001b[0m\u001b[0;34m]\u001b[0m\u001b[0;34m)\u001b[0m \u001b[0;31m#models.resnet18(num_classes=10, pretrained=False)\u001b[0m\u001b[0;34m\u001b[0m\u001b[0;34m\u001b[0m\u001b[0m\n\u001b[0;32m---> 12\u001b[0;31m     \u001b[0mresnet18\u001b[0m \u001b[0;34m=\u001b[0m \u001b[0mresnet18\u001b[0m\u001b[0;34m.\u001b[0m\u001b[0mcuda\u001b[0m\u001b[0;34m(\u001b[0m\u001b[0;34m)\u001b[0m\u001b[0;34m\u001b[0m\u001b[0;34m\u001b[0m\u001b[0m\n\u001b[0m\u001b[1;32m     13\u001b[0m \u001b[0;34m\u001b[0m\u001b[0m\n\u001b[1;32m     14\u001b[0m     \u001b[0mnum_epochs\u001b[0m \u001b[0;34m=\u001b[0m \u001b[0;36m21\u001b[0m\u001b[0;34m\u001b[0m\u001b[0;34m\u001b[0m\u001b[0m\n",
            "\u001b[0;32m/usr/local/lib/python3.6/dist-packages/torch/nn/modules/module.py\u001b[0m in \u001b[0;36mcuda\u001b[0;34m(self, device)\u001b[0m\n\u001b[1;32m    461\u001b[0m             \u001b[0mModule\u001b[0m\u001b[0;34m:\u001b[0m \u001b[0mself\u001b[0m\u001b[0;34m\u001b[0m\u001b[0;34m\u001b[0m\u001b[0m\n\u001b[1;32m    462\u001b[0m         \"\"\"\n\u001b[0;32m--> 463\u001b[0;31m         \u001b[0;32mreturn\u001b[0m \u001b[0mself\u001b[0m\u001b[0;34m.\u001b[0m\u001b[0m_apply\u001b[0m\u001b[0;34m(\u001b[0m\u001b[0;32mlambda\u001b[0m \u001b[0mt\u001b[0m\u001b[0;34m:\u001b[0m \u001b[0mt\u001b[0m\u001b[0;34m.\u001b[0m\u001b[0mcuda\u001b[0m\u001b[0;34m(\u001b[0m\u001b[0mdevice\u001b[0m\u001b[0;34m)\u001b[0m\u001b[0;34m)\u001b[0m\u001b[0;34m\u001b[0m\u001b[0;34m\u001b[0m\u001b[0m\n\u001b[0m\u001b[1;32m    464\u001b[0m \u001b[0;34m\u001b[0m\u001b[0m\n\u001b[1;32m    465\u001b[0m     \u001b[0;32mdef\u001b[0m \u001b[0mcpu\u001b[0m\u001b[0;34m(\u001b[0m\u001b[0mself\u001b[0m\u001b[0;34m:\u001b[0m \u001b[0mT\u001b[0m\u001b[0;34m)\u001b[0m \u001b[0;34m->\u001b[0m \u001b[0mT\u001b[0m\u001b[0;34m:\u001b[0m\u001b[0;34m\u001b[0m\u001b[0;34m\u001b[0m\u001b[0m\n",
            "\u001b[0;32m/usr/local/lib/python3.6/dist-packages/torch/nn/modules/module.py\u001b[0m in \u001b[0;36m_apply\u001b[0;34m(self, fn)\u001b[0m\n\u001b[1;32m    357\u001b[0m     \u001b[0;32mdef\u001b[0m \u001b[0m_apply\u001b[0m\u001b[0;34m(\u001b[0m\u001b[0mself\u001b[0m\u001b[0;34m,\u001b[0m \u001b[0mfn\u001b[0m\u001b[0;34m)\u001b[0m\u001b[0;34m:\u001b[0m\u001b[0;34m\u001b[0m\u001b[0;34m\u001b[0m\u001b[0m\n\u001b[1;32m    358\u001b[0m         \u001b[0;32mfor\u001b[0m \u001b[0mmodule\u001b[0m \u001b[0;32min\u001b[0m \u001b[0mself\u001b[0m\u001b[0;34m.\u001b[0m\u001b[0mchildren\u001b[0m\u001b[0;34m(\u001b[0m\u001b[0;34m)\u001b[0m\u001b[0;34m:\u001b[0m\u001b[0;34m\u001b[0m\u001b[0;34m\u001b[0m\u001b[0m\n\u001b[0;32m--> 359\u001b[0;31m             \u001b[0mmodule\u001b[0m\u001b[0;34m.\u001b[0m\u001b[0m_apply\u001b[0m\u001b[0;34m(\u001b[0m\u001b[0mfn\u001b[0m\u001b[0;34m)\u001b[0m\u001b[0;34m\u001b[0m\u001b[0;34m\u001b[0m\u001b[0m\n\u001b[0m\u001b[1;32m    360\u001b[0m \u001b[0;34m\u001b[0m\u001b[0m\n\u001b[1;32m    361\u001b[0m         \u001b[0;32mdef\u001b[0m \u001b[0mcompute_should_use_set_data\u001b[0m\u001b[0;34m(\u001b[0m\u001b[0mtensor\u001b[0m\u001b[0;34m,\u001b[0m \u001b[0mtensor_applied\u001b[0m\u001b[0;34m)\u001b[0m\u001b[0;34m:\u001b[0m\u001b[0;34m\u001b[0m\u001b[0;34m\u001b[0m\u001b[0m\n",
            "\u001b[0;32m/usr/local/lib/python3.6/dist-packages/torch/nn/modules/module.py\u001b[0m in \u001b[0;36m_apply\u001b[0;34m(self, fn)\u001b[0m\n\u001b[1;32m    357\u001b[0m     \u001b[0;32mdef\u001b[0m \u001b[0m_apply\u001b[0m\u001b[0;34m(\u001b[0m\u001b[0mself\u001b[0m\u001b[0;34m,\u001b[0m \u001b[0mfn\u001b[0m\u001b[0;34m)\u001b[0m\u001b[0;34m:\u001b[0m\u001b[0;34m\u001b[0m\u001b[0;34m\u001b[0m\u001b[0m\n\u001b[1;32m    358\u001b[0m         \u001b[0;32mfor\u001b[0m \u001b[0mmodule\u001b[0m \u001b[0;32min\u001b[0m \u001b[0mself\u001b[0m\u001b[0;34m.\u001b[0m\u001b[0mchildren\u001b[0m\u001b[0;34m(\u001b[0m\u001b[0;34m)\u001b[0m\u001b[0;34m:\u001b[0m\u001b[0;34m\u001b[0m\u001b[0;34m\u001b[0m\u001b[0m\n\u001b[0;32m--> 359\u001b[0;31m             \u001b[0mmodule\u001b[0m\u001b[0;34m.\u001b[0m\u001b[0m_apply\u001b[0m\u001b[0;34m(\u001b[0m\u001b[0mfn\u001b[0m\u001b[0;34m)\u001b[0m\u001b[0;34m\u001b[0m\u001b[0;34m\u001b[0m\u001b[0m\n\u001b[0m\u001b[1;32m    360\u001b[0m \u001b[0;34m\u001b[0m\u001b[0m\n\u001b[1;32m    361\u001b[0m         \u001b[0;32mdef\u001b[0m \u001b[0mcompute_should_use_set_data\u001b[0m\u001b[0;34m(\u001b[0m\u001b[0mtensor\u001b[0m\u001b[0;34m,\u001b[0m \u001b[0mtensor_applied\u001b[0m\u001b[0;34m)\u001b[0m\u001b[0;34m:\u001b[0m\u001b[0;34m\u001b[0m\u001b[0;34m\u001b[0m\u001b[0m\n",
            "\u001b[0;32m/usr/local/lib/python3.6/dist-packages/torch/nn/modules/module.py\u001b[0m in \u001b[0;36m_apply\u001b[0;34m(self, fn)\u001b[0m\n\u001b[1;32m    357\u001b[0m     \u001b[0;32mdef\u001b[0m \u001b[0m_apply\u001b[0m\u001b[0;34m(\u001b[0m\u001b[0mself\u001b[0m\u001b[0;34m,\u001b[0m \u001b[0mfn\u001b[0m\u001b[0;34m)\u001b[0m\u001b[0;34m:\u001b[0m\u001b[0;34m\u001b[0m\u001b[0;34m\u001b[0m\u001b[0m\n\u001b[1;32m    358\u001b[0m         \u001b[0;32mfor\u001b[0m \u001b[0mmodule\u001b[0m \u001b[0;32min\u001b[0m \u001b[0mself\u001b[0m\u001b[0;34m.\u001b[0m\u001b[0mchildren\u001b[0m\u001b[0;34m(\u001b[0m\u001b[0;34m)\u001b[0m\u001b[0;34m:\u001b[0m\u001b[0;34m\u001b[0m\u001b[0;34m\u001b[0m\u001b[0m\n\u001b[0;32m--> 359\u001b[0;31m             \u001b[0mmodule\u001b[0m\u001b[0;34m.\u001b[0m\u001b[0m_apply\u001b[0m\u001b[0;34m(\u001b[0m\u001b[0mfn\u001b[0m\u001b[0;34m)\u001b[0m\u001b[0;34m\u001b[0m\u001b[0;34m\u001b[0m\u001b[0m\n\u001b[0m\u001b[1;32m    360\u001b[0m \u001b[0;34m\u001b[0m\u001b[0m\n\u001b[1;32m    361\u001b[0m         \u001b[0;32mdef\u001b[0m \u001b[0mcompute_should_use_set_data\u001b[0m\u001b[0;34m(\u001b[0m\u001b[0mtensor\u001b[0m\u001b[0;34m,\u001b[0m \u001b[0mtensor_applied\u001b[0m\u001b[0;34m)\u001b[0m\u001b[0;34m:\u001b[0m\u001b[0;34m\u001b[0m\u001b[0;34m\u001b[0m\u001b[0m\n",
            "\u001b[0;32m/usr/local/lib/python3.6/dist-packages/torch/nn/modules/module.py\u001b[0m in \u001b[0;36m_apply\u001b[0;34m(self, fn)\u001b[0m\n\u001b[1;32m    379\u001b[0m                 \u001b[0;31m# `with torch.no_grad():`\u001b[0m\u001b[0;34m\u001b[0m\u001b[0;34m\u001b[0m\u001b[0;34m\u001b[0m\u001b[0m\n\u001b[1;32m    380\u001b[0m                 \u001b[0;32mwith\u001b[0m \u001b[0mtorch\u001b[0m\u001b[0;34m.\u001b[0m\u001b[0mno_grad\u001b[0m\u001b[0;34m(\u001b[0m\u001b[0;34m)\u001b[0m\u001b[0;34m:\u001b[0m\u001b[0;34m\u001b[0m\u001b[0;34m\u001b[0m\u001b[0m\n\u001b[0;32m--> 381\u001b[0;31m                     \u001b[0mparam_applied\u001b[0m \u001b[0;34m=\u001b[0m \u001b[0mfn\u001b[0m\u001b[0;34m(\u001b[0m\u001b[0mparam\u001b[0m\u001b[0;34m)\u001b[0m\u001b[0;34m\u001b[0m\u001b[0;34m\u001b[0m\u001b[0m\n\u001b[0m\u001b[1;32m    382\u001b[0m                 \u001b[0mshould_use_set_data\u001b[0m \u001b[0;34m=\u001b[0m \u001b[0mcompute_should_use_set_data\u001b[0m\u001b[0;34m(\u001b[0m\u001b[0mparam\u001b[0m\u001b[0;34m,\u001b[0m \u001b[0mparam_applied\u001b[0m\u001b[0;34m)\u001b[0m\u001b[0;34m\u001b[0m\u001b[0;34m\u001b[0m\u001b[0m\n\u001b[1;32m    383\u001b[0m                 \u001b[0;32mif\u001b[0m \u001b[0mshould_use_set_data\u001b[0m\u001b[0;34m:\u001b[0m\u001b[0;34m\u001b[0m\u001b[0;34m\u001b[0m\u001b[0m\n",
            "\u001b[0;32m/usr/local/lib/python3.6/dist-packages/torch/nn/modules/module.py\u001b[0m in \u001b[0;36m<lambda>\u001b[0;34m(t)\u001b[0m\n\u001b[1;32m    461\u001b[0m             \u001b[0mModule\u001b[0m\u001b[0;34m:\u001b[0m \u001b[0mself\u001b[0m\u001b[0;34m\u001b[0m\u001b[0;34m\u001b[0m\u001b[0m\n\u001b[1;32m    462\u001b[0m         \"\"\"\n\u001b[0;32m--> 463\u001b[0;31m         \u001b[0;32mreturn\u001b[0m \u001b[0mself\u001b[0m\u001b[0;34m.\u001b[0m\u001b[0m_apply\u001b[0m\u001b[0;34m(\u001b[0m\u001b[0;32mlambda\u001b[0m \u001b[0mt\u001b[0m\u001b[0;34m:\u001b[0m \u001b[0mt\u001b[0m\u001b[0;34m.\u001b[0m\u001b[0mcuda\u001b[0m\u001b[0;34m(\u001b[0m\u001b[0mdevice\u001b[0m\u001b[0;34m)\u001b[0m\u001b[0;34m)\u001b[0m\u001b[0;34m\u001b[0m\u001b[0;34m\u001b[0m\u001b[0m\n\u001b[0m\u001b[1;32m    464\u001b[0m \u001b[0;34m\u001b[0m\u001b[0m\n\u001b[1;32m    465\u001b[0m     \u001b[0;32mdef\u001b[0m \u001b[0mcpu\u001b[0m\u001b[0;34m(\u001b[0m\u001b[0mself\u001b[0m\u001b[0;34m:\u001b[0m \u001b[0mT\u001b[0m\u001b[0;34m)\u001b[0m \u001b[0;34m->\u001b[0m \u001b[0mT\u001b[0m\u001b[0;34m:\u001b[0m\u001b[0;34m\u001b[0m\u001b[0;34m\u001b[0m\u001b[0m\n",
            "\u001b[0;31mRuntimeError\u001b[0m: CUDA out of memory. Tried to allocate 20.00 MiB (GPU 0; 11.17 GiB total capacity; 10.75 GiB already allocated; 4.81 MiB free; 10.78 GiB reserved in total by PyTorch)"
          ]
        }
      ]
    },
    {
      "cell_type": "code",
      "metadata": {
        "colab": {
          "base_uri": "https://localhost:8080/",
          "height": 279
        },
        "id": "IvgScgdAaeKy",
        "outputId": "2a5ebc04-4e77-4dae-efd6-6ac65ac75afa"
      },
      "source": [
        "plt.plot([0.1, 1., 1.5, 2., 3., 5., 6., 10.], ens_accs)\r\n",
        "plt.xlabel('temperature')\r\n",
        "plt.ylabel('accuracy')\r\n",
        "plt.show()"
      ],
      "execution_count": null,
      "outputs": [
        {
          "output_type": "display_data",
          "data": {
            "image/png": "[encoded data removed]",
            "text/plain": [
              "<Figure size 432x288 with 1 Axes>"
            ]
          },
          "metadata": {
            "tags": [],
            "needs_background": "light"
          }
        }
      ]
    },
    {
      "cell_type": "code",
      "metadata": {
        "id": "Rya8Coc_aeN4"
      },
      "source": [
        ""
      ],
      "execution_count": null,
      "outputs": []
    },
    {
      "cell_type": "code",
      "metadata": {
        "id": "geGL1zE7aeQS"
      },
      "source": [
        ""
      ],
      "execution_count": null,
      "outputs": []
    },
    {
      "cell_type": "code",
      "metadata": {
        "id": "reCnums3ES0O"
      },
      "source": [
        ""
      ],
      "execution_count": null,
      "outputs": []
    }
  ]
}