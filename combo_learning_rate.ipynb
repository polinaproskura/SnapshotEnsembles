{
 "cells": [
  {
   "cell_type": "code",
   "execution_count": 0,
   "metadata": {
    "colab": {},
    "colab_type": "code",
    "id": "H_1HWDRMSPaG"
   },
   "outputs": [],
   "source": [
    "import numpy as np\n",
    "import torch\n",
    "import torchvision\n",
    "import matplotlib.pyplot as plt\n",
    "from time import time\n",
    "import time\n",
    "from torchvision import datasets, transforms\n",
    "from torch import nn, optim\n",
    "import warnings\n",
    "warnings.filterwarnings(\"ignore\")\n",
    "import torchvision.models as models\n",
    "import torch, torch.nn as nn\n",
    "import math\n",
    "import torch.nn.functional as F\n",
    "from torch.autograd import Variable\n",
    "class Flatten(nn.Module):\n",
    "    def forward(self, input):\n",
    "        return input.view(input.size(0), -1)\n",
    "\n",
    "def transform(my_x, my_y):\n",
    "    tensor_x = torch.Tensor(my_x) # transform to torch tensor\n",
    "    tensor_y = torch.LongTensor(my_y)\n",
    "\n",
    "    my_dataset = data.TensorDataset(tensor_x,tensor_y) # create your datset\n",
    "    my_dataloader = data.DataLoader(my_dataset) # create your dataloader\n",
    "    return my_dataloader\n",
    "    \n",
    "def compute_loss(X_batch, y_batch):\n",
    "    X_batch = Variable(torch.FloatTensor(X_batch))\n",
    "    y_batch = Variable(torch.LongTensor(y_batch))\n",
    "    X_batch, y_batch = X_batch.cuda(), y_batch.cuda()\n",
    "    logits = resnet18(X_batch)\n",
    "    return F.cross_entropy(logits, y_batch).mean()"
   ]
  },
  {
   "cell_type": "code",
   "execution_count": 3,
   "metadata": {
    "colab": {
     "base_uri": "https://localhost:8080/",
     "height": 101,
     "referenced_widgets": [
      "362e5c40a0ba48f38687d4e4c9cb4124",
      "a3c2bdcbd83c474abb323ba1e5031258",
      "8858ee3cde1546569c0adad3ae42240e",
      "bb276a8b011a42ebb414a4f2f12b20c1",
      "6ed781702ae44fd5a43789ff10caf0b5",
      "9aa21044e0af485e8b31f3cb87fcb285",
      "7c130c818fbf48c4bfb8b98887890c6e",
      "a17c49e11a5f4823a70c7c0b2b47365a"
     ]
    },
    "colab_type": "code",
    "id": "qWxhrkQNSsOd",
    "outputId": "5b1a8151-f756-4edc-af10-8825ea63c97d"
   },
   "outputs": [
    {
     "name": "stdout",
     "output_type": "stream",
     "text": [
      "Downloading https://www.cs.toronto.edu/~kriz/cifar-10-python.tar.gz to cifar-10/cifar-10-python.tar.gz\n"
     ]
    },
    {
     "data": {
      "application/vnd.jupyter.widget-view+json": {
       "model_id": "362e5c40a0ba48f38687d4e4c9cb4124",
       "version_major": 2,
       "version_minor": 0
      },
      "text/plain": [
       "HBox(children=(IntProgress(value=1, bar_style='info', max=1), HTML(value='')))"
      ]
     },
     "metadata": {
      "tags": []
     },
     "output_type": "display_data"
    },
    {
     "name": "stdout",
     "output_type": "stream",
     "text": [
      "Extracting cifar-10/cifar-10-python.tar.gz to cifar-10\n",
      "Files already downloaded and verified\n"
     ]
    }
   ],
   "source": [
    "transform = transforms.ToTensor()\n",
    "batch_size=64\n",
    "\n",
    "trainset = datasets.CIFAR10('cifar-10', download=True, train=True, transform=transform)\n",
    "testset = datasets.CIFAR10('cifar-10', download=True, train=False, transform=transform)\n",
    "\n",
    "trainset, valset = torch.utils.data.random_split(trainset, [30000, 20000])\n",
    "trainloader = torch.utils.data.DataLoader(trainset, batch_size=64, shuffle=True)\n",
    "valloader = torch.utils.data.DataLoader(valset, batch_size=64, shuffle=True)\n",
    "testloader = torch.utils.data.DataLoader(testset, batch_size=64, shuffle=True)"
   ]
  },
  {
   "cell_type": "code",
   "execution_count": 14,
   "metadata": {
    "colab": {
     "base_uri": "https://localhost:8080/",
     "height": 589
    },
    "colab_type": "code",
    "id": "uRDdU-19S7eK",
    "outputId": "3abbfab6-2ac7-4a30-9f7e-d9fd999caf3a"
   },
   "outputs": [
    {
     "name": "stdout",
     "output_type": "stream",
     "text": [
      "Epoch 1 of 101 took 25.792s\n",
      "  training loss (in-iteration): \t1.511310\n",
      "  validation accuracy: \t\t\t45.79 %\n",
      "Epoch 11 of 101 took 25.637s\n",
      "  training loss (in-iteration): \t0.127060\n",
      "  validation accuracy: \t\t\t70.56 %\n",
      "Epoch 21 of 101 took 25.740s\n",
      "  training loss (in-iteration): \t0.034759\n",
      "  validation accuracy: \t\t\t73.29 %\n",
      "Epoch 31 of 101 took 25.668s\n",
      "  training loss (in-iteration): \t0.003217\n",
      "  validation accuracy: \t\t\t74.51 %\n",
      "Epoch 41 of 101 took 25.644s\n",
      "  training loss (in-iteration): \t0.001014\n",
      "  validation accuracy: \t\t\t74.81 %\n",
      "Epoch 51 of 101 took 25.656s\n",
      "  training loss (in-iteration): \t0.011122\n",
      "  validation accuracy: \t\t\t72.31 %\n",
      "Epoch 61 of 101 took 25.733s\n",
      "  training loss (in-iteration): \t0.008517\n",
      "  validation accuracy: \t\t\t74.30 %\n",
      "Epoch 71 of 101 took 25.863s\n",
      "  training loss (in-iteration): \t0.001165\n",
      "  validation accuracy: \t\t\t74.76 %\n",
      "Epoch 81 of 101 took 25.836s\n",
      "  training loss (in-iteration): \t0.000443\n",
      "  validation accuracy: \t\t\t75.13 %\n",
      "Epoch 91 of 101 took 25.744s\n",
      "  training loss (in-iteration): \t0.000331\n",
      "  validation accuracy: \t\t\t75.34 %\n",
      "Epoch 101 of 101 took 25.680s\n",
      "  training loss (in-iteration): \t0.002755\n",
      "  validation accuracy: \t\t\t74.65 %\n"
     ]
    }
   ],
   "source": [
    "import time\n",
    "def cyclical_lr(stepsize, min_lr=3e-4, max_lr=3e-3):\n",
    "\n",
    "    # Scaler: we can adapt this if we do not want the triangular CLR\n",
    "    scaler = lambda x: 1. * (10 - 0.7 * x)#* math.exp(-x)\n",
    "\n",
    "    # Lambda function to calculate the LR\n",
    "    lr_lambda = lambda it: min_lr + (max_lr - min_lr) * relative(it, stepsize)\n",
    "\n",
    "    # Additional function to see where on the cycle we are\n",
    "    def relative(it, stepsize):\n",
    "        cycle = math.floor(1 + it / (2 * stepsize))\n",
    "        x = abs(it / stepsize - 2 * cycle + 1)\n",
    "        return max(0, (1 - x)) * scaler(cycle)\n",
    "    return lr_lambda\n",
    "\n",
    "\n",
    "resnet18 = models.resnet18(num_classes=10, pretrained=False)\n",
    "resnet18 = resnet18.cuda()\n",
    "\n",
    "num_epochs = 101\n",
    "small_start_lr = 1e-4\n",
    "small_end_lr = 0.03\n",
    "start_lr = 0.001\n",
    "end_lr = 0.1\n",
    "factor = 10\n",
    "opt = torch.optim.Adam(resnet18.parameters(), lr=start_lr)\n",
    "\n",
    "#lr_lambda = lambda x: math.exp(x * math.log(end_lr / start_lr) / (num_epochs * len(trainset)/batch_size))\n",
    "#scheduler = torch.optim.lr_scheduler.LambdaLR(opt, lr_lambda)\n",
    "lr_lambda = lambda x: math.exp(x * math.log(0.1 * start_lr / end_lr) / (num_epochs * len(trainset)/batch_size))\n",
    "scheduler = torch.optim.lr_scheduler.LambdaLR(opt, lr_lambda)\n",
    "\n",
    "step_size = 4*len(trainset) / batch_size\n",
    "clr = cyclical_lr(step_size, min_lr=small_start_lr, max_lr=small_end_lr)\n",
    "small_scheduler = torch.optim.lr_scheduler.LambdaLR(opt, [clr])\n",
    "\n",
    "train_loss = []\n",
    "val_accuracy = []\n",
    "losses = []\n",
    "accs = []\n",
    "\n",
    "lr_find_loss = []\n",
    "lr_find_lr = []\n",
    "\n",
    "it = 0\n",
    "\n",
    "smoothing = 0.5\n",
    "small_flag = False\n",
    "\n",
    "for epoch in range(num_epochs):\n",
    "    start_time = time.time()\n",
    "    resnet18.train(True)\n",
    "    for (X_batch, y_batch) in trainloader:\n",
    "        loss = compute_loss(X_batch, y_batch)\n",
    "        loss.backward()\n",
    "        opt.step()\n",
    "        train_loss.append(loss.data.cpu().numpy())\n",
    "      \n",
    "\n",
    "        if small_flag == False:\n",
    "            scheduler.step()\n",
    "        else:\n",
    "            small_scheduler.step()\n",
    "        opt.zero_grad()\n",
    "\n",
    "        lr_step = opt.state_dict()[\"param_groups\"][0][\"lr\"]\n",
    "        lr_find_lr.append(lr_step)\n",
    "        lr_find_loss.append(loss)\n",
    "        \n",
    "        it += 1\n",
    "        if loss < 0.001:\n",
    "          small_flag = True\n",
    "\n",
    "    resnet18.train(False)\n",
    "    for (X_batch, y_batch) in valloader:\n",
    "        y_batch = y_batch.cuda()\n",
    "        logits = resnet18(Variable(torch.FloatTensor(X_batch)).cuda())\n",
    "        y_pred = logits.max(1)[1].data\n",
    "        val_accuracy.append(np.mean((y_batch.cpu() == y_pred.cpu()).numpy() ))\n",
    "    \n",
    "    accs.append(np.mean(val_accuracy[-len(valset) // batch_size :]))\n",
    "        \n",
    "    if epoch % 10 == 0:\n",
    "        print(\"Epoch {} of {} took {:.3f}s\".format(\n",
    "            epoch + 1, num_epochs, time.time() - start_time))\n",
    "        print(\"  training loss (in-iteration): \\t{:.6f}\".format(\n",
    "            np.mean(train_loss[-len(trainset) // batch_size :])))\n",
    "        print(\"  validation accuracy: \\t\\t\\t{:.2f} %\".format(\n",
    "            np.mean(val_accuracy[-len(valset) // batch_size :]) * 100))\n",
    "        losses.append(np.array(train_loss).mean())"
   ]
  },
  {
   "cell_type": "code",
   "execution_count": 15,
   "metadata": {
    "colab": {
     "base_uri": "https://localhost:8080/",
     "height": 265
    },
    "colab_type": "code",
    "id": "VM3BXJY1TCFa",
    "outputId": "804e479f-934d-4888-ecf6-b035309d5af3"
   },
   "outputs": [
    {
     "data": {
      "image/png": "[encoded data removed]",
      "text/plain": [
       "<Figure size 432x288 with 1 Axes>"
      ]
     },
     "metadata": {
      "needs_background": "light",
      "tags": []
     },
     "output_type": "display_data"
    }
   ],
   "source": [
    "plt.plot(list(range(len(lr_find_lr))), lr_find_lr)\n",
    "plt.show()"
   ]
  },
  {
   "cell_type": "code",
   "execution_count": 16,
   "metadata": {
    "colab": {
     "base_uri": "https://localhost:8080/",
     "height": 265
    },
    "colab_type": "code",
    "id": "O-RX8TmjTCN_",
    "outputId": "ce927ec5-a717-4a78-dfcc-9c1396356362"
   },
   "outputs": [
    {
     "data": {
      "image/png": "[encoded data removed]",
      "text/plain": [
       "<Figure size 432x288 with 1 Axes>"
      ]
     },
     "metadata": {
      "needs_background": "light",
      "tags": []
     },
     "output_type": "display_data"
    }
   ],
   "source": [
    "plt.plot(list(range(len(lr_find_lr))), lr_find_loss)\n",
    "plt.show()"
   ]
  },
  {
   "cell_type": "code",
   "execution_count": 17,
   "metadata": {
    "colab": {
     "base_uri": "https://localhost:8080/",
     "height": 265
    },
    "colab_type": "code",
    "id": "3LetTSp2qZnv",
    "outputId": "64f7e03f-3fff-4367-b3d9-ec77c998659d"
   },
   "outputs": [
    {
     "data": {
      "image/png": "[encoded data removed]",
      "text/plain": [
       "<Figure size 432x288 with 1 Axes>"
      ]
     },
     "metadata": {
      "needs_background": "light",
      "tags": []
     },
     "output_type": "display_data"
    }
   ],
   "source": [
    "plt.plot(list(range(len(accs))), accs)\n",
    "plt.show()"
   ]
  },
  {
   "cell_type": "code",
   "execution_count": 19,
   "metadata": {
    "colab": {
     "base_uri": "https://localhost:8080/",
     "height": 225
    },
    "colab_type": "code",
    "id": "Ggq9Lplv_4ro",
    "outputId": "5acf4550-84ec-4750-ef6d-88f9bba01138"
   },
   "outputs": [
    {
     "name": "stdout",
     "output_type": "stream",
     "text": [
      "Epoch 1 of 31 took 26.085s\n",
      "  training loss (in-iteration): \t1.506056\n",
      "  validation accuracy: \t\t\t48.71 %\n",
      "Epoch 11 of 31 took 25.958s\n",
      "  training loss (in-iteration): \t0.026530\n",
      "  validation accuracy: \t\t\t72.85 %\n",
      "Epoch 21 of 31 took 25.990s\n",
      "  training loss (in-iteration): \t0.003885\n",
      "  validation accuracy: \t\t\t72.63 %\n",
      "Epoch 31 of 31 took 25.953s\n",
      "  training loss (in-iteration): \t0.073865\n",
      "  validation accuracy: \t\t\t70.83 %\n"
     ]
    }
   ],
   "source": [
    "import time\n",
    "import copy\n",
    "def cyclical_lr(stepsize, min_lr=3e-4, max_lr=3e-3):\n",
    "\n",
    "    # Scaler: we can adapt this if we do not want the triangular CLR\n",
    "    scaler = lambda x: 1. * (10 - 0.7 * x)#* math.exp(-x)\n",
    "\n",
    "    # Lambda function to calculate the LR\n",
    "    lr_lambda = lambda it: min_lr + (max_lr - min_lr) * relative(it, stepsize)\n",
    "\n",
    "    # Additional function to see where on the cycle we are\n",
    "    def relative(it, stepsize):\n",
    "        cycle = math.floor(1 + it / (2 * stepsize))\n",
    "        x = abs(it / stepsize - 2 * cycle + 1)\n",
    "        return max(0, (1 - x)) * scaler(cycle)\n",
    "    return lr_lambda\n",
    "\n",
    "\n",
    "resnet18 = models.resnet18(num_classes=10, pretrained=False)\n",
    "resnet18 = resnet18.cuda()\n",
    "models_list = []\n",
    "prev_model = copy.deepcopy(resnet18)\n",
    "prev_loss = 1000.\n",
    "\n",
    "\n",
    "num_epochs = 31\n",
    "small_start_lr = 1e-4\n",
    "small_end_lr = 0.03\n",
    "start_lr = 0.001\n",
    "end_lr = 0.1\n",
    "factor = 10\n",
    "opt = torch.optim.Adam(resnet18.parameters(), lr=start_lr)\n",
    "\n",
    "#lr_lambda = lambda x: math.exp(x * math.log(end_lr / start_lr) / (num_epochs * len(trainset)/batch_size))\n",
    "#scheduler = torch.optim.lr_scheduler.LambdaLR(opt, lr_lambda)\n",
    "lr_lambda = lambda x: math.exp(x * math.log(0.1 * start_lr / end_lr) / (num_epochs * len(trainset)/batch_size))\n",
    "scheduler = torch.optim.lr_scheduler.LambdaLR(opt, lr_lambda)\n",
    "\n",
    "step_size = 4*len(trainset) / batch_size\n",
    "clr = cyclical_lr(step_size, min_lr=small_start_lr, max_lr=small_end_lr)\n",
    "small_scheduler = torch.optim.lr_scheduler.LambdaLR(opt, [clr])\n",
    "\n",
    "train_loss = []\n",
    "val_accuracy = []\n",
    "losses = []\n",
    "accs = []\n",
    "\n",
    "lr_find_loss = []\n",
    "lr_find_lr = []\n",
    "\n",
    "it = 0\n",
    "\n",
    "smoothing = 0.5\n",
    "small_flag = False\n",
    "\n",
    "for epoch in range(num_epochs):\n",
    "    start_time = time.time()\n",
    "    resnet18.train(True)\n",
    "    for (X_batch, y_batch) in trainloader:\n",
    "        loss = compute_loss(X_batch, y_batch)\n",
    "        loss.backward()\n",
    "        opt.step()\n",
    "        train_loss.append(loss.data.cpu().numpy())\n",
    "      \n",
    "\n",
    "        if small_flag == False:\n",
    "            scheduler.step()\n",
    "        else:\n",
    "            small_scheduler.step()\n",
    "        opt.zero_grad()\n",
    "\n",
    "        lr_step = opt.state_dict()[\"param_groups\"][0][\"lr\"]\n",
    "        lr_find_lr.append(lr_step)\n",
    "        lr_find_loss.append(loss)\n",
    "        \n",
    "        it += 1\n",
    "        if loss < 0.001:\n",
    "          small_flag = True\n",
    "\n",
    "    resnet18.train(False)\n",
    "    for (X_batch, y_batch) in valloader:\n",
    "        y_batch = y_batch.cuda()\n",
    "        logits = resnet18(Variable(torch.FloatTensor(X_batch)).cuda())\n",
    "        y_pred = logits.max(1)[1].data\n",
    "        val_accuracy.append(np.mean((y_batch.cpu() == y_pred.cpu()).numpy() ))\n",
    "    \n",
    "    accs.append(np.mean(val_accuracy[-len(valset) // batch_size :]))\n",
    "\n",
    "    cur_loss = np.mean(train_loss[-len(trainset) // batch_size :])\n",
    "    if cur_loss - prev_loss > 0.01:\n",
    "        models_list.append(prev_model)\n",
    "    prev_model = copy.deepcopy(resnet18)\n",
    "    prev_loss = cur_loss\n",
    "    if epoch % 10 == 0:\n",
    "        print(\"Epoch {} of {} took {:.3f}s\".format(\n",
    "            epoch + 1, num_epochs, time.time() - start_time))\n",
    "        print(\"  training loss (in-iteration): \\t{:.6f}\".format(\n",
    "            np.mean(train_loss[-len(trainset) // batch_size :])))\n",
    "        print(\"  validation accuracy: \\t\\t\\t{:.2f} %\".format(\n",
    "            np.mean(val_accuracy[-len(valset) // batch_size :]) * 100))\n",
    "    losses.append(np.array(train_loss).mean())\n",
    "      "
   ]
  },
  {
   "cell_type": "code",
   "execution_count": 20,
   "metadata": {
    "colab": {
     "base_uri": "https://localhost:8080/",
     "height": 265
    },
    "colab_type": "code",
    "id": "t9NKJci03Kql",
    "outputId": "c28a2b39-532a-4f50-aab3-2409ddc984f4"
   },
   "outputs": [
    {
     "data": {
      "image/png": "[encoded data removed]",
      "text/plain": [
       "<Figure size 432x288 with 1 Axes>"
      ]
     },
     "metadata": {
      "needs_background": "light",
      "tags": []
     },
     "output_type": "display_data"
    }
   ],
   "source": [
    "plt.plot(list(range(len(lr_find_lr))), lr_find_lr)\n",
    "plt.show()"
   ]
  },
  {
   "cell_type": "code",
   "execution_count": 21,
   "metadata": {
    "colab": {
     "base_uri": "https://localhost:8080/",
     "height": 265
    },
    "colab_type": "code",
    "id": "uWyUjYUG3K0I",
    "outputId": "3a0966ff-e49c-478b-a1c5-a90fb1acf233"
   },
   "outputs": [
    {
     "data": {
      "image/png": "[encoded data removed]",
      "text/plain": [
       "<Figure size 432x288 with 1 Axes>"
      ]
     },
     "metadata": {
      "needs_background": "light",
      "tags": []
     },
     "output_type": "display_data"
    }
   ],
   "source": [
    "plt.plot(list(range(len(losses))), losses)\n",
    "plt.show()"
   ]
  },
  {
   "cell_type": "code",
   "execution_count": 22,
   "metadata": {
    "colab": {
     "base_uri": "https://localhost:8080/",
     "height": 265
    },
    "colab_type": "code",
    "id": "hS3vbpCM3K_c",
    "outputId": "6bf20e1e-1bf2-475f-a67a-ef8c47f214cd"
   },
   "outputs": [
    {
     "data": {
      "image/png": "[encoded data removed]",
      "text/plain": [
       "<Figure size 432x288 with 1 Axes>"
      ]
     },
     "metadata": {
      "needs_background": "light",
      "tags": []
     },
     "output_type": "display_data"
    }
   ],
   "source": [
    "plt.plot(list(range(len(accs))), accs)\n",
    "plt.show()"
   ]
  },
  {
   "cell_type": "code",
   "execution_count": 24,
   "metadata": {
    "colab": {
     "base_uri": "https://localhost:8080/",
     "height": 35
    },
    "colab_type": "code",
    "id": "mJBoTdxn3taF",
    "outputId": "b1f2bd05-170c-4c1f-9d7a-c65fd0da6bbf"
   },
   "outputs": [
    {
     "data": {
      "text/plain": [
       "8"
      ]
     },
     "execution_count": 24,
     "metadata": {
      "tags": []
     },
     "output_type": "execute_result"
    }
   ],
   "source": [
    "len(models_list)"
   ]
  },
  {
   "cell_type": "code",
   "execution_count": 0,
   "metadata": {
    "colab": {},
    "colab_type": "code",
    "id": "6Md00n-x0F2p"
   },
   "outputs": [],
   "source": [
    "from collections import Counter\n",
    "def ensemble_predictions(members, loader):\n",
    "    accs = []\n",
    "    for (X_batch, y_batch) in loader:\n",
    "        yhats = []\n",
    "        for model in members:\n",
    "            y_batch = y_batch.cuda()\n",
    "            logits = model(Variable(torch.FloatTensor(X_batch)).cuda())\n",
    "            y_pred = logits.max(1)[1].data\n",
    "            yhats.append(y_pred.cpu().numpy())\n",
    "        yhats = np.array(yhats)\n",
    "        #print(yhats.shape)\n",
    "        maxs = []\n",
    "        for i in range(yhats.shape[1]):\n",
    "            amounts = Counter(yhats[:, i])\n",
    "            most_freq = amounts.most_common(1)\n",
    "            maxs.append(most_freq[0][0])\n",
    "        # sum across ensemble members\n",
    "        maxs = np.array(maxs)\n",
    "        #print(maxs.shape)\n",
    "        # argmax across classes\n",
    "        accs.append(np.mean((y_batch.cpu().numpy() == maxs)))\n",
    "    accs = np.array(accs)\n",
    "    return accs, np.mean(accs)"
   ]
  },
  {
   "cell_type": "code",
   "execution_count": 75,
   "metadata": {
    "colab": {
     "base_uri": "https://localhost:8080/",
     "height": 35
    },
    "colab_type": "code",
    "id": "eWHAK9jjCSqj",
    "outputId": "fad49d9f-1dea-4cc2-e087-4d9ed5de7171"
   },
   "outputs": [
    {
     "name": "stdout",
     "output_type": "stream",
     "text": [
      "74.0 %\n"
     ]
    }
   ],
   "source": [
    "accs, mean_accs = ensemble_predictions(models_list[3:], valloader)\n",
    "print(round(mean_accs, 3) * 100, '%')"
   ]
  },
  {
   "cell_type": "code",
   "execution_count": 0,
   "metadata": {
    "colab": {},
    "colab_type": "code",
    "id": "kdkJJBG6DbSA"
   },
   "outputs": [],
   "source": []
  }
 ],
 "metadata": {
  "accelerator": "GPU",
  "colab": {
   "collapsed_sections": [],
   "name": "combo_learning_rate.ipynb",
   "provenance": []
  },
  "kernelspec": {
   "display_name": "Python 3",
   "language": "python",
   "name": "python3"
  },
  "language_info": {
   "codemirror_mode": {
    "name": "ipython",
    "version": 3
   },
   "file_extension": ".py",
   "mimetype": "text/x-python",
   "name": "python",
   "nbconvert_exporter": "python",
   "pygments_lexer": "ipython3",
   "version": "3.7.3"
  },
  "widgets": {
   "application/vnd.jupyter.widget-state+json": {
    "362e5c40a0ba48f38687d4e4c9cb4124": {
     "model_module": "@jupyter-widgets/controls",
     "model_name": "HBoxModel",
     "state": {
      "_dom_classes": [],
      "_model_module": "@jupyter-widgets/controls",
      "_model_module_version": "1.5.0",
      "_model_name": "HBoxModel",
      "_view_count": null,
      "_view_module": "@jupyter-widgets/controls",
      "_view_module_version": "1.5.0",
      "_view_name": "HBoxView",
      "box_style": "",
      "children": [
       "IPY_MODEL_8858ee3cde1546569c0adad3ae42240e",
       "IPY_MODEL_bb276a8b011a42ebb414a4f2f12b20c1"
      ],
      "layout": "IPY_MODEL_a3c2bdcbd83c474abb323ba1e5031258"
     }
    },
    "6ed781702ae44fd5a43789ff10caf0b5": {
     "model_module": "@jupyter-widgets/controls",
     "model_name": "ProgressStyleModel",
     "state": {
      "_model_module": "@jupyter-widgets/controls",
      "_model_module_version": "1.5.0",
      "_model_name": "ProgressStyleModel",
      "_view_count": null,
      "_view_module": "@jupyter-widgets/base",
      "_view_module_version": "1.2.0",
      "_view_name": "StyleView",
      "bar_color": null,
      "description_width": "initial"
     }
    },
    "7c130c818fbf48c4bfb8b98887890c6e": {
     "model_module": "@jupyter-widgets/controls",
     "model_name": "DescriptionStyleModel",
     "state": {
      "_model_module": "@jupyter-widgets/controls",
      "_model_module_version": "1.5.0",
      "_model_name": "DescriptionStyleModel",
      "_view_count": null,
      "_view_module": "@jupyter-widgets/base",
      "_view_module_version": "1.2.0",
      "_view_name": "StyleView",
      "description_width": ""
     }
    },
    "8858ee3cde1546569c0adad3ae42240e": {
     "model_module": "@jupyter-widgets/controls",
     "model_name": "IntProgressModel",
     "state": {
      "_dom_classes": [],
      "_model_module": "@jupyter-widgets/controls",
      "_model_module_version": "1.5.0",
      "_model_name": "IntProgressModel",
      "_view_count": null,
      "_view_module": "@jupyter-widgets/controls",
      "_view_module_version": "1.5.0",
      "_view_name": "ProgressView",
      "bar_style": "info",
      "description": "",
      "description_tooltip": null,
      "layout": "IPY_MODEL_9aa21044e0af485e8b31f3cb87fcb285",
      "max": 1,
      "min": 0,
      "orientation": "horizontal",
      "style": "IPY_MODEL_6ed781702ae44fd5a43789ff10caf0b5",
      "value": 1
     }
    },
    "9aa21044e0af485e8b31f3cb87fcb285": {
     "model_module": "@jupyter-widgets/base",
     "model_name": "LayoutModel",
     "state": {
      "_model_module": "@jupyter-widgets/base",
      "_model_module_version": "1.2.0",
      "_model_name": "LayoutModel",
      "_view_count": null,
      "_view_module": "@jupyter-widgets/base",
      "_view_module_version": "1.2.0",
      "_view_name": "LayoutView",
      "align_content": null,
      "align_items": null,
      "align_self": null,
      "border": null,
      "bottom": null,
      "display": null,
      "flex": null,
      "flex_flow": null,
      "grid_area": null,
      "grid_auto_columns": null,
      "grid_auto_flow": null,
      "grid_auto_rows": null,
      "grid_column": null,
      "grid_gap": null,
      "grid_row": null,
      "grid_template_areas": null,
      "grid_template_columns": null,
      "grid_template_rows": null,
      "height": null,
      "justify_content": null,
      "justify_items": null,
      "left": null,
      "margin": null,
      "max_height": null,
      "max_width": null,
      "min_height": null,
      "min_width": null,
      "object_fit": null,
      "object_position": null,
      "order": null,
      "overflow": null,
      "overflow_x": null,
      "overflow_y": null,
      "padding": null,
      "right": null,
      "top": null,
      "visibility": null,
      "width": null
     }
    },
    "a17c49e11a5f4823a70c7c0b2b47365a": {
     "model_module": "@jupyter-widgets/base",
     "model_name": "LayoutModel",
     "state": {
      "_model_module": "@jupyter-widgets/base",
      "_model_module_version": "1.2.0",
      "_model_name": "LayoutModel",
      "_view_count": null,
      "_view_module": "@jupyter-widgets/base",
      "_view_module_version": "1.2.0",
      "_view_name": "LayoutView",
      "align_content": null,
      "align_items": null,
      "align_self": null,
      "border": null,
      "bottom": null,
      "display": null,
      "flex": null,
      "flex_flow": null,
      "grid_area": null,
      "grid_auto_columns": null,
      "grid_auto_flow": null,
      "grid_auto_rows": null,
      "grid_column": null,
      "grid_gap": null,
      "grid_row": null,
      "grid_template_areas": null,
      "grid_template_columns": null,
      "grid_template_rows": null,
      "height": null,
      "justify_content": null,
      "justify_items": null,
      "left": null,
      "margin": null,
      "max_height": null,
      "max_width": null,
      "min_height": null,
      "min_width": null,
      "object_fit": null,
      "object_position": null,
      "order": null,
      "overflow": null,
      "overflow_x": null,
      "overflow_y": null,
      "padding": null,
      "right": null,
      "top": null,
      "visibility": null,
      "width": null
     }
    },
    "a3c2bdcbd83c474abb323ba1e5031258": {
     "model_module": "@jupyter-widgets/base",
     "model_name": "LayoutModel",
     "state": {
      "_model_module": "@jupyter-widgets/base",
      "_model_module_version": "1.2.0",
      "_model_name": "LayoutModel",
      "_view_count": null,
      "_view_module": "@jupyter-widgets/base",
      "_view_module_version": "1.2.0",
      "_view_name": "LayoutView",
      "align_content": null,
      "align_items": null,
      "align_self": null,
      "border": null,
      "bottom": null,
      "display": null,
      "flex": null,
      "flex_flow": null,
      "grid_area": null,
      "grid_auto_columns": null,
      "grid_auto_flow": null,
      "grid_auto_rows": null,
      "grid_column": null,
      "grid_gap": null,
      "grid_row": null,
      "grid_template_areas": null,
      "grid_template_columns": null,
      "grid_template_rows": null,
      "height": null,
      "justify_content": null,
      "justify_items": null,
      "left": null,
      "margin": null,
      "max_height": null,
      "max_width": null,
      "min_height": null,
      "min_width": null,
      "object_fit": null,
      "object_position": null,
      "order": null,
      "overflow": null,
      "overflow_x": null,
      "overflow_y": null,
      "padding": null,
      "right": null,
      "top": null,
      "visibility": null,
      "width": null
     }
    },
    "bb276a8b011a42ebb414a4f2f12b20c1": {
     "model_module": "@jupyter-widgets/controls",
     "model_name": "HTMLModel",
     "state": {
      "_dom_classes": [],
      "_model_module": "@jupyter-widgets/controls",
      "_model_module_version": "1.5.0",
      "_model_name": "HTMLModel",
      "_view_count": null,
      "_view_module": "@jupyter-widgets/controls",
      "_view_module_version": "1.5.0",
      "_view_name": "HTMLView",
      "description": "",
      "description_tooltip": null,
      "layout": "IPY_MODEL_a17c49e11a5f4823a70c7c0b2b47365a",
      "placeholder": "​",
      "style": "IPY_MODEL_7c130c818fbf48c4bfb8b98887890c6e",
      "value": " 170500096/? [00:19&lt;00:00, 33741657.29it/s]"
     }
    }
   }
  }
 },
 "nbformat": 4,
 "nbformat_minor": 1
}
