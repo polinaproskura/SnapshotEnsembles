{
  "nbformat": 4,
  "nbformat_minor": 0,
  "metadata": {
    "accelerator": "GPU",
    "colab": {
      "name": "non_minimal_lr.ipynb",
      "provenance": [],
      "collapsed_sections": []
    },
    "kernelspec": {
      "display_name": "Python 3",
      "name": "python3"
    },
    "widgets": {
      "application/vnd.jupyter.widget-state+json": {
        "bce6c386fb5b41a69d3c81d900b569a9": {
          "model_module": "@jupyter-widgets/controls",
          "model_name": "HBoxModel",
          "state": {
            "_view_name": "HBoxView",
            "_dom_classes": [],
            "_model_name": "HBoxModel",
            "_view_module": "@jupyter-widgets/controls",
            "_model_module_version": "1.5.0",
            "_view_count": null,
            "_view_module_version": "1.5.0",
            "box_style": "",
            "layout": "IPY_MODEL_527d3bae671547ddb1274af6a4acd10a",
            "_model_module": "@jupyter-widgets/controls",
            "children": [
              "IPY_MODEL_3f4f3a6aa9494f358a45decaf2e4198f",
              "IPY_MODEL_a4437c6ad8ad48fb8d69bf082ee55292"
            ]
          }
        },
        "527d3bae671547ddb1274af6a4acd10a": {
          "model_module": "@jupyter-widgets/base",
          "model_name": "LayoutModel",
          "state": {
            "_view_name": "LayoutView",
            "grid_template_rows": null,
            "right": null,
            "justify_content": null,
            "_view_module": "@jupyter-widgets/base",
            "overflow": null,
            "_model_module_version": "1.2.0",
            "_view_count": null,
            "flex_flow": null,
            "width": null,
            "min_width": null,
            "border": null,
            "align_items": null,
            "bottom": null,
            "_model_module": "@jupyter-widgets/base",
            "top": null,
            "grid_column": null,
            "overflow_y": null,
            "overflow_x": null,
            "grid_auto_flow": null,
            "grid_area": null,
            "grid_template_columns": null,
            "flex": null,
            "_model_name": "LayoutModel",
            "justify_items": null,
            "grid_row": null,
            "max_height": null,
            "align_content": null,
            "visibility": null,
            "align_self": null,
            "height": null,
            "min_height": null,
            "padding": null,
            "grid_auto_rows": null,
            "grid_gap": null,
            "max_width": null,
            "order": null,
            "_view_module_version": "1.2.0",
            "grid_template_areas": null,
            "object_position": null,
            "object_fit": null,
            "grid_auto_columns": null,
            "margin": null,
            "display": null,
            "left": null
          }
        },
        "3f4f3a6aa9494f358a45decaf2e4198f": {
          "model_module": "@jupyter-widgets/controls",
          "model_name": "FloatProgressModel",
          "state": {
            "_view_name": "ProgressView",
            "style": "IPY_MODEL_b8fec6f273214072acfcc8d3113df4db",
            "_dom_classes": [],
            "description": "",
            "_model_name": "FloatProgressModel",
            "bar_style": "info",
            "max": 1,
            "_view_module": "@jupyter-widgets/controls",
            "_model_module_version": "1.5.0",
            "value": 1,
            "_view_count": null,
            "_view_module_version": "1.5.0",
            "orientation": "horizontal",
            "min": 0,
            "description_tooltip": null,
            "_model_module": "@jupyter-widgets/controls",
            "layout": "IPY_MODEL_97cdcc6fe3bd42e59293d8359d674cc4"
          }
        },
        "a4437c6ad8ad48fb8d69bf082ee55292": {
          "model_module": "@jupyter-widgets/controls",
          "model_name": "HTMLModel",
          "state": {
            "_view_name": "HTMLView",
            "style": "IPY_MODEL_22f47b0cd7794ad6b3a7037061f94fdc",
            "_dom_classes": [],
            "description": "",
            "_model_name": "HTMLModel",
            "placeholder": "​",
            "_view_module": "@jupyter-widgets/controls",
            "_model_module_version": "1.5.0",
            "value": " 26427392/? [00:20&lt;00:00, 7125299.59it/s]",
            "_view_count": null,
            "_view_module_version": "1.5.0",
            "description_tooltip": null,
            "_model_module": "@jupyter-widgets/controls",
            "layout": "IPY_MODEL_8ca30a536dcf4d32ac01bf922021185e"
          }
        },
        "b8fec6f273214072acfcc8d3113df4db": {
          "model_module": "@jupyter-widgets/controls",
          "model_name": "ProgressStyleModel",
          "state": {
            "_view_name": "StyleView",
            "_model_name": "ProgressStyleModel",
            "description_width": "initial",
            "_view_module": "@jupyter-widgets/base",
            "_model_module_version": "1.5.0",
            "_view_count": null,
            "_view_module_version": "1.2.0",
            "bar_color": null,
            "_model_module": "@jupyter-widgets/controls"
          }
        },
        "97cdcc6fe3bd42e59293d8359d674cc4": {
          "model_module": "@jupyter-widgets/base",
          "model_name": "LayoutModel",
          "state": {
            "_view_name": "LayoutView",
            "grid_template_rows": null,
            "right": null,
            "justify_content": null,
            "_view_module": "@jupyter-widgets/base",
            "overflow": null,
            "_model_module_version": "1.2.0",
            "_view_count": null,
            "flex_flow": null,
            "width": null,
            "min_width": null,
            "border": null,
            "align_items": null,
            "bottom": null,
            "_model_module": "@jupyter-widgets/base",
            "top": null,
            "grid_column": null,
            "overflow_y": null,
            "overflow_x": null,
            "grid_auto_flow": null,
            "grid_area": null,
            "grid_template_columns": null,
            "flex": null,
            "_model_name": "LayoutModel",
            "justify_items": null,
            "grid_row": null,
            "max_height": null,
            "align_content": null,
            "visibility": null,
            "align_self": null,
            "height": null,
            "min_height": null,
            "padding": null,
            "grid_auto_rows": null,
            "grid_gap": null,
            "max_width": null,
            "order": null,
            "_view_module_version": "1.2.0",
            "grid_template_areas": null,
            "object_position": null,
            "object_fit": null,
            "grid_auto_columns": null,
            "margin": null,
            "display": null,
            "left": null
          }
        },
        "22f47b0cd7794ad6b3a7037061f94fdc": {
          "model_module": "@jupyter-widgets/controls",
          "model_name": "DescriptionStyleModel",
          "state": {
            "_view_name": "StyleView",
            "_model_name": "DescriptionStyleModel",
            "description_width": "",
            "_view_module": "@jupyter-widgets/base",
            "_model_module_version": "1.5.0",
            "_view_count": null,
            "_view_module_version": "1.2.0",
            "_model_module": "@jupyter-widgets/controls"
          }
        },
        "8ca30a536dcf4d32ac01bf922021185e": {
          "model_module": "@jupyter-widgets/base",
          "model_name": "LayoutModel",
          "state": {
            "_view_name": "LayoutView",
            "grid_template_rows": null,
            "right": null,
            "justify_content": null,
            "_view_module": "@jupyter-widgets/base",
            "overflow": null,
            "_model_module_version": "1.2.0",
            "_view_count": null,
            "flex_flow": null,
            "width": null,
            "min_width": null,
            "border": null,
            "align_items": null,
            "bottom": null,
            "_model_module": "@jupyter-widgets/base",
            "top": null,
            "grid_column": null,
            "overflow_y": null,
            "overflow_x": null,
            "grid_auto_flow": null,
            "grid_area": null,
            "grid_template_columns": null,
            "flex": null,
            "_model_name": "LayoutModel",
            "justify_items": null,
            "grid_row": null,
            "max_height": null,
            "align_content": null,
            "visibility": null,
            "align_self": null,
            "height": null,
            "min_height": null,
            "padding": null,
            "grid_auto_rows": null,
            "grid_gap": null,
            "max_width": null,
            "order": null,
            "_view_module_version": "1.2.0",
            "grid_template_areas": null,
            "object_position": null,
            "object_fit": null,
            "grid_auto_columns": null,
            "margin": null,
            "display": null,
            "left": null
          }
        },
        "245df746e0834182b2979deedcb2f741": {
          "model_module": "@jupyter-widgets/controls",
          "model_name": "HBoxModel",
          "state": {
            "_view_name": "HBoxView",
            "_dom_classes": [],
            "_model_name": "HBoxModel",
            "_view_module": "@jupyter-widgets/controls",
            "_model_module_version": "1.5.0",
            "_view_count": null,
            "_view_module_version": "1.5.0",
            "box_style": "",
            "layout": "IPY_MODEL_e4f2cb2f323b4b418bcbbb8f4fdcf458",
            "_model_module": "@jupyter-widgets/controls",
            "children": [
              "IPY_MODEL_9dfa3a2417af4c99b318513aaac6d457",
              "IPY_MODEL_338d3eccc5cf48339c1c77409c11d7de"
            ]
          }
        },
        "e4f2cb2f323b4b418bcbbb8f4fdcf458": {
          "model_module": "@jupyter-widgets/base",
          "model_name": "LayoutModel",
          "state": {
            "_view_name": "LayoutView",
            "grid_template_rows": null,
            "right": null,
            "justify_content": null,
            "_view_module": "@jupyter-widgets/base",
            "overflow": null,
            "_model_module_version": "1.2.0",
            "_view_count": null,
            "flex_flow": null,
            "width": null,
            "min_width": null,
            "border": null,
            "align_items": null,
            "bottom": null,
            "_model_module": "@jupyter-widgets/base",
            "top": null,
            "grid_column": null,
            "overflow_y": null,
            "overflow_x": null,
            "grid_auto_flow": null,
            "grid_area": null,
            "grid_template_columns": null,
            "flex": null,
            "_model_name": "LayoutModel",
            "justify_items": null,
            "grid_row": null,
            "max_height": null,
            "align_content": null,
            "visibility": null,
            "align_self": null,
            "height": null,
            "min_height": null,
            "padding": null,
            "grid_auto_rows": null,
            "grid_gap": null,
            "max_width": null,
            "order": null,
            "_view_module_version": "1.2.0",
            "grid_template_areas": null,
            "object_position": null,
            "object_fit": null,
            "grid_auto_columns": null,
            "margin": null,
            "display": null,
            "left": null
          }
        },
        "9dfa3a2417af4c99b318513aaac6d457": {
          "model_module": "@jupyter-widgets/controls",
          "model_name": "FloatProgressModel",
          "state": {
            "_view_name": "ProgressView",
            "style": "IPY_MODEL_5af31763458240aab0b6842bcb4e2460",
            "_dom_classes": [],
            "description": "",
            "_model_name": "FloatProgressModel",
            "bar_style": "success",
            "max": 1,
            "_view_module": "@jupyter-widgets/controls",
            "_model_module_version": "1.5.0",
            "value": 1,
            "_view_count": null,
            "_view_module_version": "1.5.0",
            "orientation": "horizontal",
            "min": 0,
            "description_tooltip": null,
            "_model_module": "@jupyter-widgets/controls",
            "layout": "IPY_MODEL_dbcc56860c4241d6a186b17e7c9fec5e"
          }
        },
        "338d3eccc5cf48339c1c77409c11d7de": {
          "model_module": "@jupyter-widgets/controls",
          "model_name": "HTMLModel",
          "state": {
            "_view_name": "HTMLView",
            "style": "IPY_MODEL_2363ac26768f4a26864e2cfe229796b5",
            "_dom_classes": [],
            "description": "",
            "_model_name": "HTMLModel",
            "placeholder": "​",
            "_view_module": "@jupyter-widgets/controls",
            "_model_module_version": "1.5.0",
            "value": " 32768/? [00:02&lt;00:00, 15944.25it/s]",
            "_view_count": null,
            "_view_module_version": "1.5.0",
            "description_tooltip": null,
            "_model_module": "@jupyter-widgets/controls",
            "layout": "IPY_MODEL_bae5cbde06884847972845b6bef2ed02"
          }
        },
        "5af31763458240aab0b6842bcb4e2460": {
          "model_module": "@jupyter-widgets/controls",
          "model_name": "ProgressStyleModel",
          "state": {
            "_view_name": "StyleView",
            "_model_name": "ProgressStyleModel",
            "description_width": "initial",
            "_view_module": "@jupyter-widgets/base",
            "_model_module_version": "1.5.0",
            "_view_count": null,
            "_view_module_version": "1.2.0",
            "bar_color": null,
            "_model_module": "@jupyter-widgets/controls"
          }
        },
        "dbcc56860c4241d6a186b17e7c9fec5e": {
          "model_module": "@jupyter-widgets/base",
          "model_name": "LayoutModel",
          "state": {
            "_view_name": "LayoutView",
            "grid_template_rows": null,
            "right": null,
            "justify_content": null,
            "_view_module": "@jupyter-widgets/base",
            "overflow": null,
            "_model_module_version": "1.2.0",
            "_view_count": null,
            "flex_flow": null,
            "width": null,
            "min_width": null,
            "border": null,
            "align_items": null,
            "bottom": null,
            "_model_module": "@jupyter-widgets/base",
            "top": null,
            "grid_column": null,
            "overflow_y": null,
            "overflow_x": null,
            "grid_auto_flow": null,
            "grid_area": null,
            "grid_template_columns": null,
            "flex": null,
            "_model_name": "LayoutModel",
            "justify_items": null,
            "grid_row": null,
            "max_height": null,
            "align_content": null,
            "visibility": null,
            "align_self": null,
            "height": null,
            "min_height": null,
            "padding": null,
            "grid_auto_rows": null,
            "grid_gap": null,
            "max_width": null,
            "order": null,
            "_view_module_version": "1.2.0",
            "grid_template_areas": null,
            "object_position": null,
            "object_fit": null,
            "grid_auto_columns": null,
            "margin": null,
            "display": null,
            "left": null
          }
        },
        "2363ac26768f4a26864e2cfe229796b5": {
          "model_module": "@jupyter-widgets/controls",
          "model_name": "DescriptionStyleModel",
          "state": {
            "_view_name": "StyleView",
            "_model_name": "DescriptionStyleModel",
            "description_width": "",
            "_view_module": "@jupyter-widgets/base",
            "_model_module_version": "1.5.0",
            "_view_count": null,
            "_view_module_version": "1.2.0",
            "_model_module": "@jupyter-widgets/controls"
          }
        },
        "bae5cbde06884847972845b6bef2ed02": {
          "model_module": "@jupyter-widgets/base",
          "model_name": "LayoutModel",
          "state": {
            "_view_name": "LayoutView",
            "grid_template_rows": null,
            "right": null,
            "justify_content": null,
            "_view_module": "@jupyter-widgets/base",
            "overflow": null,
            "_model_module_version": "1.2.0",
            "_view_count": null,
            "flex_flow": null,
            "width": null,
            "min_width": null,
            "border": null,
            "align_items": null,
            "bottom": null,
            "_model_module": "@jupyter-widgets/base",
            "top": null,
            "grid_column": null,
            "overflow_y": null,
            "overflow_x": null,
            "grid_auto_flow": null,
            "grid_area": null,
            "grid_template_columns": null,
            "flex": null,
            "_model_name": "LayoutModel",
            "justify_items": null,
            "grid_row": null,
            "max_height": null,
            "align_content": null,
            "visibility": null,
            "align_self": null,
            "height": null,
            "min_height": null,
            "padding": null,
            "grid_auto_rows": null,
            "grid_gap": null,
            "max_width": null,
            "order": null,
            "_view_module_version": "1.2.0",
            "grid_template_areas": null,
            "object_position": null,
            "object_fit": null,
            "grid_auto_columns": null,
            "margin": null,
            "display": null,
            "left": null
          }
        },
        "bb1bd24ad00f46d4bbfabe8808b39386": {
          "model_module": "@jupyter-widgets/controls",
          "model_name": "HBoxModel",
          "state": {
            "_view_name": "HBoxView",
            "_dom_classes": [],
            "_model_name": "HBoxModel",
            "_view_module": "@jupyter-widgets/controls",
            "_model_module_version": "1.5.0",
            "_view_count": null,
            "_view_module_version": "1.5.0",
            "box_style": "",
            "layout": "IPY_MODEL_310d27241cc444cd88abb33ff528150f",
            "_model_module": "@jupyter-widgets/controls",
            "children": [
              "IPY_MODEL_88cbba4a5ab144ae9fba5ddecb2a5ca0",
              "IPY_MODEL_1ae6e72e86dc4c7fb019b9ebc0e51d92"
            ]
          }
        },
        "310d27241cc444cd88abb33ff528150f": {
          "model_module": "@jupyter-widgets/base",
          "model_name": "LayoutModel",
          "state": {
            "_view_name": "LayoutView",
            "grid_template_rows": null,
            "right": null,
            "justify_content": null,
            "_view_module": "@jupyter-widgets/base",
            "overflow": null,
            "_model_module_version": "1.2.0",
            "_view_count": null,
            "flex_flow": null,
            "width": null,
            "min_width": null,
            "border": null,
            "align_items": null,
            "bottom": null,
            "_model_module": "@jupyter-widgets/base",
            "top": null,
            "grid_column": null,
            "overflow_y": null,
            "overflow_x": null,
            "grid_auto_flow": null,
            "grid_area": null,
            "grid_template_columns": null,
            "flex": null,
            "_model_name": "LayoutModel",
            "justify_items": null,
            "grid_row": null,
            "max_height": null,
            "align_content": null,
            "visibility": null,
            "align_self": null,
            "height": null,
            "min_height": null,
            "padding": null,
            "grid_auto_rows": null,
            "grid_gap": null,
            "max_width": null,
            "order": null,
            "_view_module_version": "1.2.0",
            "grid_template_areas": null,
            "object_position": null,
            "object_fit": null,
            "grid_auto_columns": null,
            "margin": null,
            "display": null,
            "left": null
          }
        },
        "88cbba4a5ab144ae9fba5ddecb2a5ca0": {
          "model_module": "@jupyter-widgets/controls",
          "model_name": "FloatProgressModel",
          "state": {
            "_view_name": "ProgressView",
            "style": "IPY_MODEL_5bd357c817a64c83853c809d063a34aa",
            "_dom_classes": [],
            "description": "",
            "_model_name": "FloatProgressModel",
            "bar_style": "success",
            "max": 1,
            "_view_module": "@jupyter-widgets/controls",
            "_model_module_version": "1.5.0",
            "value": 1,
            "_view_count": null,
            "_view_module_version": "1.5.0",
            "orientation": "horizontal",
            "min": 0,
            "description_tooltip": null,
            "_model_module": "@jupyter-widgets/controls",
            "layout": "IPY_MODEL_cf2505732a1745b8a84d537e813f1ece"
          }
        },
        "1ae6e72e86dc4c7fb019b9ebc0e51d92": {
          "model_module": "@jupyter-widgets/controls",
          "model_name": "HTMLModel",
          "state": {
            "_view_name": "HTMLView",
            "style": "IPY_MODEL_fa4798415ea24ff2b44ba412ddce4b3c",
            "_dom_classes": [],
            "description": "",
            "_model_name": "HTMLModel",
            "placeholder": "​",
            "_view_module": "@jupyter-widgets/controls",
            "_model_module_version": "1.5.0",
            "value": " 4423680/? [00:01&lt;00:00, 2795120.93it/s]",
            "_view_count": null,
            "_view_module_version": "1.5.0",
            "description_tooltip": null,
            "_model_module": "@jupyter-widgets/controls",
            "layout": "IPY_MODEL_ed235034481045a2898a1ab1980b7887"
          }
        },
        "5bd357c817a64c83853c809d063a34aa": {
          "model_module": "@jupyter-widgets/controls",
          "model_name": "ProgressStyleModel",
          "state": {
            "_view_name": "StyleView",
            "_model_name": "ProgressStyleModel",
            "description_width": "initial",
            "_view_module": "@jupyter-widgets/base",
            "_model_module_version": "1.5.0",
            "_view_count": null,
            "_view_module_version": "1.2.0",
            "bar_color": null,
            "_model_module": "@jupyter-widgets/controls"
          }
        },
        "cf2505732a1745b8a84d537e813f1ece": {
          "model_module": "@jupyter-widgets/base",
          "model_name": "LayoutModel",
          "state": {
            "_view_name": "LayoutView",
            "grid_template_rows": null,
            "right": null,
            "justify_content": null,
            "_view_module": "@jupyter-widgets/base",
            "overflow": null,
            "_model_module_version": "1.2.0",
            "_view_count": null,
            "flex_flow": null,
            "width": null,
            "min_width": null,
            "border": null,
            "align_items": null,
            "bottom": null,
            "_model_module": "@jupyter-widgets/base",
            "top": null,
            "grid_column": null,
            "overflow_y": null,
            "overflow_x": null,
            "grid_auto_flow": null,
            "grid_area": null,
            "grid_template_columns": null,
            "flex": null,
            "_model_name": "LayoutModel",
            "justify_items": null,
            "grid_row": null,
            "max_height": null,
            "align_content": null,
            "visibility": null,
            "align_self": null,
            "height": null,
            "min_height": null,
            "padding": null,
            "grid_auto_rows": null,
            "grid_gap": null,
            "max_width": null,
            "order": null,
            "_view_module_version": "1.2.0",
            "grid_template_areas": null,
            "object_position": null,
            "object_fit": null,
            "grid_auto_columns": null,
            "margin": null,
            "display": null,
            "left": null
          }
        },
        "fa4798415ea24ff2b44ba412ddce4b3c": {
          "model_module": "@jupyter-widgets/controls",
          "model_name": "DescriptionStyleModel",
          "state": {
            "_view_name": "StyleView",
            "_model_name": "DescriptionStyleModel",
            "description_width": "",
            "_view_module": "@jupyter-widgets/base",
            "_model_module_version": "1.5.0",
            "_view_count": null,
            "_view_module_version": "1.2.0",
            "_model_module": "@jupyter-widgets/controls"
          }
        },
        "ed235034481045a2898a1ab1980b7887": {
          "model_module": "@jupyter-widgets/base",
          "model_name": "LayoutModel",
          "state": {
            "_view_name": "LayoutView",
            "grid_template_rows": null,
            "right": null,
            "justify_content": null,
            "_view_module": "@jupyter-widgets/base",
            "overflow": null,
            "_model_module_version": "1.2.0",
            "_view_count": null,
            "flex_flow": null,
            "width": null,
            "min_width": null,
            "border": null,
            "align_items": null,
            "bottom": null,
            "_model_module": "@jupyter-widgets/base",
            "top": null,
            "grid_column": null,
            "overflow_y": null,
            "overflow_x": null,
            "grid_auto_flow": null,
            "grid_area": null,
            "grid_template_columns": null,
            "flex": null,
            "_model_name": "LayoutModel",
            "justify_items": null,
            "grid_row": null,
            "max_height": null,
            "align_content": null,
            "visibility": null,
            "align_self": null,
            "height": null,
            "min_height": null,
            "padding": null,
            "grid_auto_rows": null,
            "grid_gap": null,
            "max_width": null,
            "order": null,
            "_view_module_version": "1.2.0",
            "grid_template_areas": null,
            "object_position": null,
            "object_fit": null,
            "grid_auto_columns": null,
            "margin": null,
            "display": null,
            "left": null
          }
        },
        "b88fabd0c04943f698050de894733616": {
          "model_module": "@jupyter-widgets/controls",
          "model_name": "HBoxModel",
          "state": {
            "_view_name": "HBoxView",
            "_dom_classes": [],
            "_model_name": "HBoxModel",
            "_view_module": "@jupyter-widgets/controls",
            "_model_module_version": "1.5.0",
            "_view_count": null,
            "_view_module_version": "1.5.0",
            "box_style": "",
            "layout": "IPY_MODEL_709872754ae24d88b3362ac52d2316f6",
            "_model_module": "@jupyter-widgets/controls",
            "children": [
              "IPY_MODEL_e0d0eab0499946899c5f7010cb2121db",
              "IPY_MODEL_e1afd8e6430f41569074d4aeae9c685b"
            ]
          }
        },
        "709872754ae24d88b3362ac52d2316f6": {
          "model_module": "@jupyter-widgets/base",
          "model_name": "LayoutModel",
          "state": {
            "_view_name": "LayoutView",
            "grid_template_rows": null,
            "right": null,
            "justify_content": null,
            "_view_module": "@jupyter-widgets/base",
            "overflow": null,
            "_model_module_version": "1.2.0",
            "_view_count": null,
            "flex_flow": null,
            "width": null,
            "min_width": null,
            "border": null,
            "align_items": null,
            "bottom": null,
            "_model_module": "@jupyter-widgets/base",
            "top": null,
            "grid_column": null,
            "overflow_y": null,
            "overflow_x": null,
            "grid_auto_flow": null,
            "grid_area": null,
            "grid_template_columns": null,
            "flex": null,
            "_model_name": "LayoutModel",
            "justify_items": null,
            "grid_row": null,
            "max_height": null,
            "align_content": null,
            "visibility": null,
            "align_self": null,
            "height": null,
            "min_height": null,
            "padding": null,
            "grid_auto_rows": null,
            "grid_gap": null,
            "max_width": null,
            "order": null,
            "_view_module_version": "1.2.0",
            "grid_template_areas": null,
            "object_position": null,
            "object_fit": null,
            "grid_auto_columns": null,
            "margin": null,
            "display": null,
            "left": null
          }
        },
        "e0d0eab0499946899c5f7010cb2121db": {
          "model_module": "@jupyter-widgets/controls",
          "model_name": "FloatProgressModel",
          "state": {
            "_view_name": "ProgressView",
            "style": "IPY_MODEL_89c8f7439abe4e3d89acb83996585f9f",
            "_dom_classes": [],
            "description": "  0%",
            "_model_name": "FloatProgressModel",
            "bar_style": "info",
            "max": 1,
            "_view_module": "@jupyter-widgets/controls",
            "_model_module_version": "1.5.0",
            "value": 0,
            "_view_count": null,
            "_view_module_version": "1.5.0",
            "orientation": "horizontal",
            "min": 0,
            "description_tooltip": null,
            "_model_module": "@jupyter-widgets/controls",
            "layout": "IPY_MODEL_3ea7e41722e24a75b13a10f28b980791"
          }
        },
        "e1afd8e6430f41569074d4aeae9c685b": {
          "model_module": "@jupyter-widgets/controls",
          "model_name": "HTMLModel",
          "state": {
            "_view_name": "HTMLView",
            "style": "IPY_MODEL_626a3742470449b38af93c1309662758",
            "_dom_classes": [],
            "description": "",
            "_model_name": "HTMLModel",
            "placeholder": "​",
            "_view_module": "@jupyter-widgets/controls",
            "_model_module_version": "1.5.0",
            "value": " 0/5148 [00:00&lt;?, ?it/s]",
            "_view_count": null,
            "_view_module_version": "1.5.0",
            "description_tooltip": null,
            "_model_module": "@jupyter-widgets/controls",
            "layout": "IPY_MODEL_f458177591c442c397d0745085daa48b"
          }
        },
        "89c8f7439abe4e3d89acb83996585f9f": {
          "model_module": "@jupyter-widgets/controls",
          "model_name": "ProgressStyleModel",
          "state": {
            "_view_name": "StyleView",
            "_model_name": "ProgressStyleModel",
            "description_width": "initial",
            "_view_module": "@jupyter-widgets/base",
            "_model_module_version": "1.5.0",
            "_view_count": null,
            "_view_module_version": "1.2.0",
            "bar_color": null,
            "_model_module": "@jupyter-widgets/controls"
          }
        },
        "3ea7e41722e24a75b13a10f28b980791": {
          "model_module": "@jupyter-widgets/base",
          "model_name": "LayoutModel",
          "state": {
            "_view_name": "LayoutView",
            "grid_template_rows": null,
            "right": null,
            "justify_content": null,
            "_view_module": "@jupyter-widgets/base",
            "overflow": null,
            "_model_module_version": "1.2.0",
            "_view_count": null,
            "flex_flow": null,
            "width": null,
            "min_width": null,
            "border": null,
            "align_items": null,
            "bottom": null,
            "_model_module": "@jupyter-widgets/base",
            "top": null,
            "grid_column": null,
            "overflow_y": null,
            "overflow_x": null,
            "grid_auto_flow": null,
            "grid_area": null,
            "grid_template_columns": null,
            "flex": null,
            "_model_name": "LayoutModel",
            "justify_items": null,
            "grid_row": null,
            "max_height": null,
            "align_content": null,
            "visibility": null,
            "align_self": null,
            "height": null,
            "min_height": null,
            "padding": null,
            "grid_auto_rows": null,
            "grid_gap": null,
            "max_width": null,
            "order": null,
            "_view_module_version": "1.2.0",
            "grid_template_areas": null,
            "object_position": null,
            "object_fit": null,
            "grid_auto_columns": null,
            "margin": null,
            "display": null,
            "left": null
          }
        },
        "626a3742470449b38af93c1309662758": {
          "model_module": "@jupyter-widgets/controls",
          "model_name": "DescriptionStyleModel",
          "state": {
            "_view_name": "StyleView",
            "_model_name": "DescriptionStyleModel",
            "description_width": "",
            "_view_module": "@jupyter-widgets/base",
            "_model_module_version": "1.5.0",
            "_view_count": null,
            "_view_module_version": "1.2.0",
            "_model_module": "@jupyter-widgets/controls"
          }
        },
        "f458177591c442c397d0745085daa48b": {
          "model_module": "@jupyter-widgets/base",
          "model_name": "LayoutModel",
          "state": {
            "_view_name": "LayoutView",
            "grid_template_rows": null,
            "right": null,
            "justify_content": null,
            "_view_module": "@jupyter-widgets/base",
            "overflow": null,
            "_model_module_version": "1.2.0",
            "_view_count": null,
            "flex_flow": null,
            "width": null,
            "min_width": null,
            "border": null,
            "align_items": null,
            "bottom": null,
            "_model_module": "@jupyter-widgets/base",
            "top": null,
            "grid_column": null,
            "overflow_y": null,
            "overflow_x": null,
            "grid_auto_flow": null,
            "grid_area": null,
            "grid_template_columns": null,
            "flex": null,
            "_model_name": "LayoutModel",
            "justify_items": null,
            "grid_row": null,
            "max_height": null,
            "align_content": null,
            "visibility": null,
            "align_self": null,
            "height": null,
            "min_height": null,
            "padding": null,
            "grid_auto_rows": null,
            "grid_gap": null,
            "max_width": null,
            "order": null,
            "_view_module_version": "1.2.0",
            "grid_template_areas": null,
            "object_position": null,
            "object_fit": null,
            "grid_auto_columns": null,
            "margin": null,
            "display": null,
            "left": null
          }
        }
      }
    }
  },
  "cells": [
    {
      "cell_type": "code",
      "metadata": {
        "id": "ZZQLHcXpNsOQ"
      },
      "source": [
        "import numpy as np\r\n",
        "import torch\r\n",
        "import torchvision\r\n",
        "import matplotlib.pyplot as plt\r\n",
        "from time import time\r\n",
        "import time\r\n",
        "import copy\r\n",
        "from torchvision import datasets, transforms\r\n",
        "from torch import nn, optim\r\n",
        "import warnings\r\n",
        "warnings.filterwarnings(\"ignore\")\r\n",
        "import torchvision.models as models\r\n",
        "import torch, torch.nn as nn\r\n",
        "import math\r\n",
        "import torch.nn.functional as F\r\n",
        "from torch.autograd import Variable\r\n",
        "class Flatten(nn.Module):\r\n",
        "    def forward(self, input):\r\n",
        "        return input.view(input.size(0), -1)\r\n",
        "\r\n",
        "def transform(my_x, my_y):\r\n",
        "    tensor_x = torch.Tensor(my_x) # transform to torch tensor\r\n",
        "    tensor_y = torch.LongTensor(my_y)\r\n",
        "\r\n",
        "    my_dataset = data.TensorDataset(tensor_x,tensor_y) # create your datset\r\n",
        "    my_dataloader = data.DataLoader(my_dataset) # create your dataloader\r\n",
        "    return my_dataloader\r\n",
        "    \r\n",
        "def compute_loss(X_batch, y_batch):\r\n",
        "    X_batch = Variable(torch.FloatTensor(X_batch))\r\n",
        "    y_batch = Variable(torch.LongTensor(y_batch))\r\n",
        "    X_batch, y_batch = X_batch.cuda(), y_batch.cuda()\r\n",
        "    logits = resnet18(X_batch)\r\n",
        "    return F.cross_entropy(logits, y_batch).mean()"
      ],
      "execution_count": 2,
      "outputs": []
    },
    {
      "cell_type": "code",
      "metadata": {
        "colab": {
          "base_uri": "https://localhost:8080/",
          "height": 376,
          "referenced_widgets": [
            "bce6c386fb5b41a69d3c81d900b569a9",
            "527d3bae671547ddb1274af6a4acd10a",
            "3f4f3a6aa9494f358a45decaf2e4198f",
            "a4437c6ad8ad48fb8d69bf082ee55292",
            "b8fec6f273214072acfcc8d3113df4db",
            "97cdcc6fe3bd42e59293d8359d674cc4",
            "22f47b0cd7794ad6b3a7037061f94fdc",
            "8ca30a536dcf4d32ac01bf922021185e",
            "245df746e0834182b2979deedcb2f741",
            "e4f2cb2f323b4b418bcbbb8f4fdcf458",
            "9dfa3a2417af4c99b318513aaac6d457",
            "338d3eccc5cf48339c1c77409c11d7de",
            "5af31763458240aab0b6842bcb4e2460",
            "dbcc56860c4241d6a186b17e7c9fec5e",
            "2363ac26768f4a26864e2cfe229796b5",
            "bae5cbde06884847972845b6bef2ed02",
            "bb1bd24ad00f46d4bbfabe8808b39386",
            "310d27241cc444cd88abb33ff528150f",
            "88cbba4a5ab144ae9fba5ddecb2a5ca0",
            "1ae6e72e86dc4c7fb019b9ebc0e51d92",
            "5bd357c817a64c83853c809d063a34aa",
            "cf2505732a1745b8a84d537e813f1ece",
            "fa4798415ea24ff2b44ba412ddce4b3c",
            "ed235034481045a2898a1ab1980b7887",
            "b88fabd0c04943f698050de894733616",
            "709872754ae24d88b3362ac52d2316f6",
            "e0d0eab0499946899c5f7010cb2121db",
            "e1afd8e6430f41569074d4aeae9c685b",
            "89c8f7439abe4e3d89acb83996585f9f",
            "3ea7e41722e24a75b13a10f28b980791",
            "626a3742470449b38af93c1309662758",
            "f458177591c442c397d0745085daa48b"
          ]
        },
        "id": "byqo-2IyN1bt",
        "outputId": "45b1701a-a500-41ce-b2ec-cd8fd0f03298"
      },
      "source": [
        "torch.backends.cudnn.deterministic = True\r\n",
        "torch.manual_seed(42)\r\n",
        "torch.cuda.manual_seed(42)\r\n",
        "np.random.seed(42)\r\n",
        "transform = transforms.ToTensor()\r\n",
        "batch_size=100\r\n",
        "\r\n",
        "transform_train = transforms.Compose([\r\n",
        "    transforms.RandomCrop(28, padding=4),\r\n",
        "    transforms.RandomHorizontalFlip(),\r\n",
        "    transforms.ToTensor(),\r\n",
        "    transforms.Normalize((0.4914, 0.4822, 0.4465), (0.2023, 0.1994, 0.2010)),\r\n",
        "])\r\n",
        "\r\n",
        "transform_test = transforms.Compose([\r\n",
        "    transforms.ToTensor(),\r\n",
        "    transforms.Normalize((0.4914, 0.4822, 0.4465), (0.2023, 0.1994, 0.2010)),\r\n",
        "])\r\n",
        "\r\n",
        "trainset = datasets.FashionMNIST('fashion-10', download=True, train=True, transform=transform)\r\n",
        "testset = datasets.FashionMNIST('fashion-10', download=True, train=False, transform=transform)\r\n",
        "print(trainset[0][0].shape)\r\n",
        "\r\n",
        "trainloader = torch.utils.data.DataLoader(trainset, batch_size=batch_size, shuffle=True)\r\n",
        "testloader = torch.utils.data.DataLoader(testset, batch_size=batch_size, shuffle=True)"
      ],
      "execution_count": 3,
      "outputs": [
        {
          "output_type": "stream",
          "text": [
            "Downloading http://fashion-mnist.s3-website.eu-central-1.amazonaws.com/train-images-idx3-ubyte.gz to fashion-10/FashionMNIST/raw/train-images-idx3-ubyte.gz\n"
          ],
          "name": "stdout"
        },
        {
          "output_type": "display_data",
          "data": {
            "application/vnd.jupyter.widget-view+json": {
              "model_id": "bce6c386fb5b41a69d3c81d900b569a9",
              "version_minor": 0,
              "version_major": 2
            },
            "text/plain": [
              "HBox(children=(FloatProgress(value=1.0, bar_style='info', max=1.0), HTML(value='')))"
            ]
          },
          "metadata": {
            "tags": []
          }
        },
        {
          "output_type": "stream",
          "text": [
            "Extracting fashion-10/FashionMNIST/raw/train-images-idx3-ubyte.gz to fashion-10/FashionMNIST/raw\n",
            "Downloading http://fashion-mnist.s3-website.eu-central-1.amazonaws.com/train-labels-idx1-ubyte.gz to fashion-10/FashionMNIST/raw/train-labels-idx1-ubyte.gz\n"
          ],
          "name": "stdout"
        },
        {
          "output_type": "display_data",
          "data": {
            "application/vnd.jupyter.widget-view+json": {
              "model_id": "245df746e0834182b2979deedcb2f741",
              "version_minor": 0,
              "version_major": 2
            },
            "text/plain": [
              "HBox(children=(FloatProgress(value=1.0, bar_style='info', max=1.0), HTML(value='')))"
            ]
          },
          "metadata": {
            "tags": []
          }
        },
        {
          "output_type": "stream",
          "text": [
            "Extracting fashion-10/FashionMNIST/raw/train-labels-idx1-ubyte.gz to fashion-10/FashionMNIST/raw\n",
            "Downloading http://fashion-mnist.s3-website.eu-central-1.amazonaws.com/t10k-images-idx3-ubyte.gz to fashion-10/FashionMNIST/raw/t10k-images-idx3-ubyte.gz\n"
          ],
          "name": "stdout"
        },
        {
          "output_type": "display_data",
          "data": {
            "application/vnd.jupyter.widget-view+json": {
              "model_id": "bb1bd24ad00f46d4bbfabe8808b39386",
              "version_minor": 0,
              "version_major": 2
            },
            "text/plain": [
              "HBox(children=(FloatProgress(value=1.0, bar_style='info', max=1.0), HTML(value='')))"
            ]
          },
          "metadata": {
            "tags": []
          }
        },
        {
          "output_type": "stream",
          "text": [
            "Extracting fashion-10/FashionMNIST/raw/t10k-images-idx3-ubyte.gz to fashion-10/FashionMNIST/raw\n",
            "Downloading http://fashion-mnist.s3-website.eu-central-1.amazonaws.com/t10k-labels-idx1-ubyte.gz to fashion-10/FashionMNIST/raw/t10k-labels-idx1-ubyte.gz\n",
            "\n",
            "\n"
          ],
          "name": "stdout"
        },
        {
          "output_type": "display_data",
          "data": {
            "application/vnd.jupyter.widget-view+json": {
              "model_id": "b88fabd0c04943f698050de894733616",
              "version_minor": 0,
              "version_major": 2
            },
            "text/plain": [
              "HBox(children=(FloatProgress(value=1.0, bar_style='info', max=1.0), HTML(value='')))"
            ]
          },
          "metadata": {
            "tags": []
          }
        },
        {
          "output_type": "stream",
          "text": [
            "Extracting fashion-10/FashionMNIST/raw/t10k-labels-idx1-ubyte.gz to fashion-10/FashionMNIST/raw\n",
            "Processing...\n",
            "Done!\n",
            "torch.Size([1, 28, 28])\n"
          ],
          "name": "stdout"
        }
      ]
    },
    {
      "cell_type": "code",
      "metadata": {
        "id": "s-lVmnZahoaG"
      },
      "source": [
        "def weigheted_most_common(predictions, weights):\r\n",
        "    new_predictions = {}\r\n",
        "    for i in range(len(predictions)):\r\n",
        "        if predictions[i] in new_predictions:\r\n",
        "            new_predictions[predictions[i]] = new_predictions[predictions[i]] + weights[i]\r\n",
        "        else:\r\n",
        "            new_predictions[predictions[i]] = weights[i]\r\n",
        "    top = list(sorted(new_predictions.items(), key=lambda item: item[1], reverse=True))\r\n",
        "    return top[0][0]\r\n",
        "from collections import Counter\r\n",
        "import numpy as np\r\n",
        "def ensemble_predictions(members, loader, weights):\r\n",
        "    accs = []\r\n",
        "    for (X_batch, y_batch) in loader:\r\n",
        "        yhats = []\r\n",
        "        for model in members:\r\n",
        "            y_batch = y_batch.cuda()\r\n",
        "            logits = model(Variable(torch.FloatTensor(X_batch)).cuda())\r\n",
        "            y_pred = logits.max(1)[1].data\r\n",
        "            #print(y_pred.cpu().numpy())\r\n",
        "            yhats.append(y_pred.cpu().numpy())\r\n",
        "        yhats = np.array(yhats)\r\n",
        "        maxs = []\r\n",
        "        for i in range(yhats.shape[1]):\r\n",
        "            cur_max = weigheted_most_common(yhats[:, i], weights)\r\n",
        "            maxs.append(cur_max)\r\n",
        "        # sum across ensemble members\r\n",
        "        maxs = np.array(maxs)\r\n",
        "        # argmax across classes\r\n",
        "        accs.append(np.mean((y_batch.cpu().numpy() == maxs)))\r\n",
        "    accs = np.array(accs)\r\n",
        "    return accs, np.mean(accs)"
      ],
      "execution_count": 4,
      "outputs": []
    },
    {
      "cell_type": "code",
      "metadata": {
        "id": "CDf8bJD0N59f"
      },
      "source": [
        "class BasicBlock(nn.Module):\r\n",
        "    expansion = 1\r\n",
        "\r\n",
        "    def __init__(self, in_planes, planes, stride=1):\r\n",
        "        super(BasicBlock, self).__init__()\r\n",
        "        self.conv1 = nn.Conv2d(in_planes, planes, kernel_size=3, stride=stride, padding=1, bias=False)\r\n",
        "        self.bn1 = nn.BatchNorm2d(planes)\r\n",
        "        self.conv2 = nn.Conv2d(planes, planes, kernel_size=3, stride=1, padding=1, bias=False)\r\n",
        "        self.bn2 = nn.BatchNorm2d(planes)\r\n",
        "\r\n",
        "        self.shortcut = nn.Sequential()\r\n",
        "        if stride != 1 or in_planes != self.expansion*planes:\r\n",
        "            self.shortcut = nn.Sequential(\r\n",
        "                nn.Conv2d(in_planes, self.expansion*planes, kernel_size=1, stride=stride, bias=False),\r\n",
        "                nn.BatchNorm2d(self.expansion*planes)\r\n",
        "            )\r\n",
        "\r\n",
        "    def forward(self, x):\r\n",
        "        out = F.relu(self.bn1(self.conv1(x)))\r\n",
        "        out = self.bn2(self.conv2(out))\r\n",
        "        out += self.shortcut(x)\r\n",
        "        out = F.relu(out)\r\n",
        "        return out\r\n",
        "\r\n",
        "\r\n",
        "class Bottleneck(nn.Module):\r\n",
        "    expansion = 4\r\n",
        "\r\n",
        "    def __init__(self, in_planes, planes, stride=1):\r\n",
        "        super(Bottleneck, self).__init__()\r\n",
        "        self.conv1 = nn.Conv2d(in_planes, planes, kernel_size=1, bias=False)\r\n",
        "        self.bn1 = nn.BatchNorm2d(planes)\r\n",
        "        self.conv2 = nn.Conv2d(planes, planes, kernel_size=3, stride=stride, padding=1, bias=False)\r\n",
        "        self.bn2 = nn.BatchNorm2d(planes)\r\n",
        "        self.conv3 = nn.Conv2d(planes, self.expansion*planes, kernel_size=1, bias=False)\r\n",
        "        self.bn3 = nn.BatchNorm2d(self.expansion*planes)\r\n",
        "\r\n",
        "        self.shortcut = nn.Sequential()\r\n",
        "        if stride != 1 or in_planes != self.expansion*planes:\r\n",
        "            self.shortcut = nn.Sequential(\r\n",
        "                nn.Conv2d(in_planes, self.expansion*planes, kernel_size=1, stride=stride, bias=False),\r\n",
        "                nn.BatchNorm2d(self.expansion*planes)\r\n",
        "            )\r\n",
        "\r\n",
        "    def forward(self, x):\r\n",
        "        out = F.relu(self.bn1(self.conv1(x)))\r\n",
        "        out = F.relu(self.bn2(self.conv2(out)))\r\n",
        "        out = self.bn3(self.conv3(out))\r\n",
        "        out += self.shortcut(x)\r\n",
        "        out = F.relu(out)\r\n",
        "        return out\r\n",
        "\r\n",
        "\r\n",
        "class ResNet(nn.Module):\r\n",
        "    def __init__(self, block, num_blocks, num_classes=10):\r\n",
        "        super(ResNet, self).__init__()\r\n",
        "        self.in_planes = 64\r\n",
        "\r\n",
        "        self.conv1 = nn.Conv2d(1, 64, kernel_size=3, stride=1, padding=1, bias=False)\r\n",
        "        self.bn1 = nn.BatchNorm2d(64)\r\n",
        "        self.layer1 = self._make_layer(block, 64, num_blocks[0], stride=1)\r\n",
        "        self.layer2 = self._make_layer(block, 128, num_blocks[1], stride=2)\r\n",
        "        self.layer3 = self._make_layer(block, 256, num_blocks[2], stride=2)\r\n",
        "        self.layer4 = self._make_layer(block, 512, num_blocks[3], stride=2)\r\n",
        "        self.linear = nn.Linear(512*block.expansion, num_classes)\r\n",
        "\r\n",
        "    def _make_layer(self, block, planes, num_blocks, stride):\r\n",
        "        strides = [stride] + [1]*(num_blocks-1)\r\n",
        "        layers = []\r\n",
        "        for stride in strides:\r\n",
        "            layers.append(block(self.in_planes, planes, stride))\r\n",
        "            self.in_planes = planes * block.expansion\r\n",
        "        return nn.Sequential(*layers)\r\n",
        "\r\n",
        "    def forward(self, x):\r\n",
        "        out = F.relu(self.bn1(self.conv1(x)))\r\n",
        "        out = self.layer1(out)\r\n",
        "        out = self.layer2(out)\r\n",
        "        out = self.layer3(out)\r\n",
        "        out = self.layer4(out)\r\n",
        "        out = F.avg_pool2d(out, 4)\r\n",
        "        out = out.view(out.size(0), -1)\r\n",
        "        out = self.linear(out)\r\n",
        "        return out\r\n",
        "\r\n",
        "\r\n",
        "def ResNet18():\r\n",
        "    return ResNet(BasicBlock, [2,2,2,2])"
      ],
      "execution_count": 5,
      "outputs": []
    },
    {
      "cell_type": "code",
      "metadata": {
        "id": "-O4VvDgNOF6M"
      },
      "source": [
        "def cyclical_lr(stepsize, min_lr=3e-4, max_lr=3e-3):\r\n",
        "\r\n",
        "    # Scaler: we can adapt this if we do not want the triangular CLR\r\n",
        "    scaler = lambda x: 1. #* math.exp(-x * 0.1)\r\n",
        "\r\n",
        "    # Lambda function to calculate the LR\r\n",
        "    lr_lambda = lambda it: min_lr + (max_lr - min_lr) * relative(it, stepsize)\r\n",
        "\r\n",
        "    # Additional function to see where on the cycle we are\r\n",
        "    def relative(it, stepsize):\r\n",
        "        cycle = math.floor(1 + it / (2 * stepsize))\r\n",
        "        x = abs(it / stepsize - 2 * cycle + 1)\r\n",
        "        return max(0, (1 - x)) * scaler(cycle)\r\n",
        "\r\n",
        "    return lr_lambda"
      ],
      "execution_count": 6,
      "outputs": []
    },
    {
      "cell_type": "code",
      "metadata": {
        "colab": {
          "base_uri": "https://localhost:8080/"
        },
        "id": "XsGGxZuaQLcx",
        "outputId": "3189fbb8-0a26-4a0d-a39c-c7987fee59e9"
      },
      "source": [
        "import time\r\n",
        "import copy\r\n",
        "\r\n",
        "resnet18 = ResNet(BasicBlock, [2,2,2,2]) #models.resnet18(num_classes=10, pretrained=False)\r\n",
        "cnt = 0\r\n",
        "for el in resnet18.parameters():\r\n",
        "    cnt += 1\r\n",
        "print(cnt)\r\n",
        "resnet18 = resnet18.cuda()\r\n",
        "\r\n",
        "num_epochs = 21\r\n",
        "start_lr = 0.1\r\n",
        "end_lr = 1\r\n",
        "factor = 10\r\n",
        "opt = torch.optim.Adam(resnet18.parameters(), lr=end_lr)\r\n",
        "\r\n",
        "\r\n",
        "step_size = 1*len(trainset) / batch_size\r\n",
        "print(step_size)\r\n",
        "clr = cyclical_lr(step_size, min_lr=start_lr, max_lr=end_lr)\r\n",
        "scheduler = torch.optim.lr_scheduler.LambdaLR(opt, [clr])\r\n",
        "\r\n",
        "models_list = []\r\n",
        "weight_list = []\r\n",
        "\r\n",
        "\r\n",
        "train_loss = []\r\n",
        "val_accuracy = []\r\n",
        "losses = []\r\n",
        "accs = []\r\n",
        "\r\n",
        "lr_find_loss = []\r\n",
        "learning_rates = []\r\n",
        "\r\n",
        "it = 0\r\n",
        "\r\n",
        "smoothing = 0.5\r\n",
        "small_flag = False\r\n",
        "lrs = []\r\n",
        "\r\n",
        "for epoch in range(num_epochs):\r\n",
        "    start_time = time.time()\r\n",
        "    resnet18.train(True)\r\n",
        "    for (X_batch, y_batch) in trainloader:\r\n",
        "        loss = compute_loss(X_batch, y_batch)\r\n",
        "        loss.backward()\r\n",
        "        opt.step()\r\n",
        "        train_loss.append(loss.data.cpu().numpy())\r\n",
        "      \r\n",
        "\r\n",
        "        scheduler.step()\r\n",
        "        opt.zero_grad()\r\n",
        "\r\n",
        "        lr_step = opt.state_dict()[\"param_groups\"][0][\"lr\"]\r\n",
        "        learning_rates.append(lr_step)\r\n",
        "        lr_find_loss.append(loss)\r\n",
        "        if lr_step <= 0.103:\r\n",
        "            print('add minimun')\r\n",
        "            models_list.append(copy.deepcopy(resnet18))\r\n",
        "            weight_list.append(10.)\r\n",
        "        elif lr_step <= 0.502 and lr_step > 0.499:\r\n",
        "            print('add not minimum')\r\n",
        "            models_list.append(copy.deepcopy(resnet18))\r\n",
        "            weight_list.append(1.)\r\n",
        "        if len(models_list) > 25:\r\n",
        "          models_list = models_list[-25:]\r\n",
        "        it += 1\r\n",
        "        \r\n",
        "\r\n",
        "    resnet18.train(False)\r\n",
        "    for (X_batch, y_batch) in testloader:\r\n",
        "        y_batch = y_batch.cuda()\r\n",
        "        logits = resnet18(Variable(torch.FloatTensor(X_batch)).cuda())\r\n",
        "        y_pred = logits.max(1)[1].data\r\n",
        "        val_accuracy.append(np.mean((y_batch.cpu() == y_pred.cpu()).numpy() ))\r\n",
        "    \r\n",
        "    accs.append(np.mean(val_accuracy[-len(testset) // batch_size :]))\r\n",
        "    cur_loss = np.mean(train_loss[-len(trainset) // batch_size :])\r\n",
        "\r\n",
        "\r\n",
        "    \r\n",
        "    if epoch % 10 == 0:\r\n",
        "        print(\"Epoch {} of {} took {:.3f}s\".format(\r\n",
        "            epoch + 1, num_epochs, time.time() - start_time))\r\n",
        "        print(\"  training loss (in-iteration): \\t{:.6f}\".format(\r\n",
        "            np.mean(train_loss[-len(trainset) // batch_size :])))\r\n",
        "        print(\"  validation accuracy: \\t\\t\\t{:.2f} %\".format(\r\n",
        "            np.mean(val_accuracy[-len(testset) // batch_size :]) * 100))\r\n",
        "    losses.append(np.array(train_loss).mean())"
      ],
      "execution_count": null,
      "outputs": [
        {
          "output_type": "stream",
          "text": [
            "62\n",
            "600.0\n",
            "add minimun\n",
            "add not minimum\n",
            "Epoch 1 of 21 took 64.084s\n",
            "  training loss (in-iteration): \t1.019888\n",
            "  validation accuracy: \t\t\t79.39 %\n",
            "add not minimum\n",
            "add minimun\n",
            "add minimun\n",
            "add minimun\n",
            "add not minimum\n",
            "add not minimum\n",
            "add minimun\n",
            "add minimun\n",
            "add minimun\n",
            "add minimun\n",
            "add not minimum\n",
            "add not minimum\n",
            "add not minimum\n",
            "add not minimum\n",
            "add minimun\n",
            "add minimun\n",
            "add minimun\n",
            "add minimun\n",
            "add minimun\n",
            "add not minimum\n",
            "add not minimum\n",
            "add not minimum\n",
            "add not minimum\n",
            "add minimun\n",
            "add minimun\n",
            "add minimun\n",
            "add minimun\n",
            "add not minimum\n",
            "add not minimum\n",
            "add minimun\n",
            "add minimun\n",
            "add minimun\n",
            "add not minimum\n",
            "Epoch 11 of 21 took 67.832s\n",
            "  training loss (in-iteration): \t0.471674\n",
            "  validation accuracy: \t\t\t69.44 %\n",
            "add not minimum\n",
            "add minimun\n",
            "add minimun\n",
            "add minimun\n",
            "add not minimum\n",
            "add not minimum\n",
            "add minimun\n",
            "add minimun\n",
            "add minimun\n",
            "add not minimum\n",
            "add not minimum\n",
            "add minimun\n",
            "add minimun\n",
            "add minimun\n",
            "add not minimum\n",
            "add not minimum\n",
            "add not minimum\n",
            "add not minimum\n",
            "add minimun\n",
            "add minimun\n",
            "add minimun\n",
            "add not minimum\n",
            "add not minimum\n",
            "add not minimum\n",
            "add not minimum\n",
            "add minimun\n",
            "add minimun\n",
            "add minimun\n",
            "add not minimum\n",
            "add not minimum\n",
            "Epoch 21 of 21 took 67.148s\n",
            "  training loss (in-iteration): \t0.341939\n",
            "  validation accuracy: \t\t\t72.18 %\n"
          ],
          "name": "stdout"
        }
      ]
    },
    {
      "cell_type": "code",
      "metadata": {
        "colab": {
          "base_uri": "https://localhost:8080/",
          "height": 265
        },
        "id": "GOWTWwYmcx-A",
        "outputId": "82083eff-5bd7-4450-dacd-d54cd5519c93"
      },
      "source": [
        "plt.plot(list(range(len(learning_rates))), (np.array(learning_rates) * 100))\r\n",
        "plt.show()"
      ],
      "execution_count": null,
      "outputs": [
        {
          "output_type": "display_data",
          "data": {
            "image/png": "[encoded data removed]",
            "text/plain": [
              "<Figure size 432x288 with 1 Axes>"
            ]
          },
          "metadata": {
            "tags": []
          }
        }
      ]
    },
    {
      "cell_type": "code",
      "metadata": {
        "colab": {
          "base_uri": "https://localhost:8080/",
          "height": 265
        },
        "id": "j82iBnNjhdhS",
        "outputId": "0db9f55c-299e-45a0-ab03-3057c91f778e"
      },
      "source": [
        "plt.plot(np.array(list(range(len(accs)))) * 640, accs)\r\n",
        "plt.plot(list(range(len(learning_rates))), (np.array(learning_rates) * 10))\r\n",
        "plt.show()"
      ],
      "execution_count": null,
      "outputs": [
        {
          "output_type": "display_data",
          "data": {
            "image/png": "[encoded data removed]",
            "text/plain": [
              "<Figure size 432x288 with 1 Axes>"
            ]
          },
          "metadata": {
            "tags": []
          }
        }
      ]
    },
    {
      "cell_type": "code",
      "metadata": {
        "id": "fxplh64MR1Ez"
      },
      "source": [
        "weight_list = weight_list[-25:]"
      ],
      "execution_count": null,
      "outputs": []
    },
    {
      "cell_type": "code",
      "metadata": {
        "id": "p3mA0u66rsga"
      },
      "source": [
        "old_models = models_list\r\n",
        "old_weights = weight_list"
      ],
      "execution_count": null,
      "outputs": []
    },
    {
      "cell_type": "code",
      "metadata": {
        "colab": {
          "base_uri": "https://localhost:8080/"
        },
        "id": "znuqF-qOUak4",
        "outputId": "490cb76b-2988-4ab8-f10e-e0b71651da74"
      },
      "source": [
        "# finding optimal good weight:\r\n",
        "bad_weight = np.logspace(-5, 0, num=11)\r\n",
        "def make_new_weights(weights, good, bad):\r\n",
        "    new_weights = []\r\n",
        "    for i in range(len(weights)):\r\n",
        "        if weights[i] > 2.:\r\n",
        "            new_weights.append(good)\r\n",
        "        else:\r\n",
        "            new_weights.append(bad)\r\n",
        "    new_weights = np.array(weights)\r\n",
        "    sums = new_weights.sum()\r\n",
        "    new_weights = new_weights/sums\r\n",
        "    return new_weights\r\n",
        "\r\n",
        "accs_list = []\r\n",
        "for w in bad_weight:\r\n",
        "    new_weights = make_new_weights(weight_list, 1-w, w)\r\n",
        "    mean = 0.\r\n",
        "    for i in range(3):\r\n",
        "        accs, mean_accs = ensemble_predictions(models_list, testloader, new_weights)\r\n",
        "        mean += mean_accs\r\n",
        "    mean /= 3.\r\n",
        "    accs_list.append(mean)\r\n",
        "    print(w, round(mean_accs, 3) * 100, '%')"
      ],
      "execution_count": null,
      "outputs": [
        {
          "output_type": "stream",
          "text": [
            "1e-05 89.2 %\n",
            "3.1622776601683795e-05 89.2 %\n",
            "0.0001 89.1 %\n",
            "0.00031622776601683794 89.2 %\n",
            "0.001 89.1 %\n",
            "0.0031622776601683794 89.1 %\n",
            "0.01 89.0 %\n",
            "0.03162277660168379 89.2 %\n",
            "0.1 89.4 %\n",
            "0.31622776601683794 89.0 %\n",
            "1.0 89.1 %\n"
          ],
          "name": "stdout"
        }
      ]
    },
    {
      "cell_type": "code",
      "metadata": {
        "colab": {
          "base_uri": "https://localhost:8080/",
          "height": 267
        },
        "id": "e0iqV5ZsO6VD",
        "outputId": "932cfd5e-c68d-482f-c565-31c77b274703"
      },
      "source": [
        "#big lr\r\n",
        "import matplotlib.pyplot as plt\r\n",
        "plt.plot(np.log(bad_weight), accs_list)\r\n",
        "plt.show()"
      ],
      "execution_count": null,
      "outputs": [
        {
          "output_type": "display_data",
          "data": {
            "image/png": "[encoded data removed]",
            "text/plain": [
              "<Figure size 432x288 with 1 Axes>"
            ]
          },
          "metadata": {
            "tags": []
          }
        }
      ]
    },
    {
      "cell_type": "code",
      "metadata": {
        "colab": {
          "base_uri": "https://localhost:8080/"
        },
        "id": "6Ij69Ba1sV4o",
        "outputId": "615c0f31-5b1c-4cbb-ef50-fba31c21c718"
      },
      "source": [
        "#big lr\r\n",
        "for model in models_list:\r\n",
        "  accuracy = []\r\n",
        "  for (X_batch, y_batch) in testloader:\r\n",
        "          y_batch = y_batch.cuda()\r\n",
        "          logits = model(Variable(torch.FloatTensor(X_batch)).cuda())\r\n",
        "          y_pred = logits.max(1)[1].data\r\n",
        "          accuracy.append(np.mean((y_batch.cpu() == y_pred.cpu()).numpy() ))\r\n",
        "  print(np.array(accuracy).mean() * 100, '%')"
      ],
      "execution_count": null,
      "outputs": [
        {
          "output_type": "stream",
          "text": [
            "75.17000000000002 %\n",
            "81.97 %\n",
            "81.95 %\n",
            "82.3 %\n",
            "80.39 %\n",
            "84.42 %\n",
            "88.58000000000001 %\n",
            "88.47000000000001 %\n",
            "88.45 %\n",
            "84.46 %\n",
            "84.83999999999999 %\n",
            "86.50999999999999 %\n",
            "87.2 %\n",
            "88.77000000000001 %\n",
            "88.73999999999998 %\n",
            "88.59 %\n",
            "87.54 %\n",
            "87.56000000000002 %\n",
            "89.07 %\n",
            "89.21 %\n",
            "89.91000000000001 %\n",
            "89.77 %\n",
            "89.75 %\n",
            "88.25 %\n",
            "88.54999999999998 %\n"
          ],
          "name": "stdout"
        }
      ]
    },
    {
      "cell_type": "code",
      "metadata": {
        "colab": {
          "base_uri": "https://localhost:8080/"
        },
        "id": "bwmHmthKtMui",
        "outputId": "0475189c-0d96-416e-891e-ca8078e45f2f"
      },
      "source": [
        "import time\r\n",
        "import copy\r\n",
        "\r\n",
        "resnet18 = ResNet(BasicBlock, [2,2,2,2]) #models.resnet18(num_classes=10, pretrained=False)\r\n",
        "cnt = 0\r\n",
        "for el in resnet18.parameters():\r\n",
        "    cnt += 1\r\n",
        "print(cnt)\r\n",
        "resnet18 = resnet18.cuda()\r\n",
        "\r\n",
        "num_epochs = 21\r\n",
        "start_lr = 0.01\r\n",
        "end_lr = 0.1\r\n",
        "factor = 10\r\n",
        "opt = torch.optim.Adam(resnet18.parameters(), lr=end_lr)\r\n",
        "\r\n",
        "\r\n",
        "step_size = 1*len(trainset) / batch_size\r\n",
        "print(step_size)\r\n",
        "clr = cyclical_lr(step_size, min_lr=start_lr, max_lr=end_lr)\r\n",
        "scheduler = torch.optim.lr_scheduler.LambdaLR(opt, [clr])\r\n",
        "\r\n",
        "models_list = []\r\n",
        "weight_list = []\r\n",
        "\r\n",
        "\r\n",
        "train_loss = []\r\n",
        "val_accuracy = []\r\n",
        "losses = []\r\n",
        "accs = []\r\n",
        "\r\n",
        "lr_find_loss = []\r\n",
        "learning_rates = []\r\n",
        "\r\n",
        "it = 0\r\n",
        "\r\n",
        "smoothing = 0.5\r\n",
        "small_flag = False\r\n",
        "lrs = []\r\n",
        "\r\n",
        "for epoch in range(num_epochs):\r\n",
        "    start_time = time.time()\r\n",
        "    resnet18.train(True)\r\n",
        "    for (X_batch, y_batch) in trainloader:\r\n",
        "        loss = compute_loss(X_batch, y_batch)\r\n",
        "        loss.backward()\r\n",
        "        opt.step()\r\n",
        "        train_loss.append(loss.data.cpu().numpy())\r\n",
        "      \r\n",
        "\r\n",
        "        scheduler.step()\r\n",
        "        opt.zero_grad()\r\n",
        "\r\n",
        "        lr_step = opt.state_dict()[\"param_groups\"][0][\"lr\"]\r\n",
        "        learning_rates.append(lr_step)\r\n",
        "        #print(lr_step)\r\n",
        "        lr_find_loss.append(loss)\r\n",
        "        if lr_step <= 0.00103:\r\n",
        "            print('add minimun')\r\n",
        "            models_list.append(copy.deepcopy(resnet18))\r\n",
        "            weight_list.append(10.)\r\n",
        "        elif lr_step <= 0.00502 and lr_step > 0.00499:\r\n",
        "            print('add not minimum')\r\n",
        "            models_list.append(copy.deepcopy(resnet18))\r\n",
        "            weight_list.append(1.)\r\n",
        "        if len(models_list) > 25:\r\n",
        "          models_list = models_list[-25:]\r\n",
        "        it += 1\r\n",
        "        \r\n",
        "\r\n",
        "    resnet18.train(False)\r\n",
        "    for (X_batch, y_batch) in testloader:\r\n",
        "        y_batch = y_batch.cuda()\r\n",
        "        logits = resnet18(Variable(torch.FloatTensor(X_batch)).cuda())\r\n",
        "        y_pred = logits.max(1)[1].data\r\n",
        "        val_accuracy.append(np.mean((y_batch.cpu() == y_pred.cpu()).numpy() ))\r\n",
        "    \r\n",
        "    accs.append(np.mean(val_accuracy[-len(testset) // batch_size :]))\r\n",
        "    cur_loss = np.mean(train_loss[-len(trainset) // batch_size :])\r\n",
        "\r\n",
        "\r\n",
        "    \r\n",
        "    if epoch % 10 == 0:\r\n",
        "        print(\"Epoch {} of {} took {:.3f}s\".format(\r\n",
        "            epoch + 1, num_epochs, time.time() - start_time))\r\n",
        "        print(\"  training loss (in-iteration): \\t{:.6f}\".format(\r\n",
        "            np.mean(train_loss[-len(trainset) // batch_size :])))\r\n",
        "        print(\"  validation accuracy: \\t\\t\\t{:.2f} %\".format(\r\n",
        "            np.mean(val_accuracy[-len(testset) // batch_size :]) * 100))\r\n",
        "    losses.append(np.array(train_loss).mean())"
      ],
      "execution_count": 7,
      "outputs": [
        {
          "output_type": "stream",
          "text": [
            "62\n",
            "600.0\n",
            "add minimun\n",
            "add not minimum\n",
            "add not minimum\n",
            "Epoch 1 of 21 took 45.601s\n",
            "  training loss (in-iteration): \t0.432628\n",
            "  validation accuracy: \t\t\t88.69 %\n",
            "add not minimum\n",
            "add not minimum\n",
            "add minimun\n",
            "add minimun\n",
            "add minimun\n",
            "add not minimum\n",
            "add not minimum\n",
            "add not minimum\n",
            "add not minimum\n",
            "add minimun\n",
            "add minimun\n",
            "add minimun\n",
            "add minimun\n",
            "add not minimum\n",
            "add not minimum\n",
            "add not minimum\n",
            "add not minimum\n",
            "add not minimum\n",
            "add not minimum\n",
            "add minimun\n",
            "add minimun\n",
            "add minimun\n",
            "add minimun\n",
            "add minimun\n",
            "add not minimum\n",
            "add not minimum\n",
            "add not minimum\n",
            "add not minimum\n",
            "add not minimum\n",
            "add not minimum\n",
            "add minimun\n",
            "add minimun\n",
            "add minimun\n",
            "add minimun\n",
            "add not minimum\n",
            "add not minimum\n",
            "add not minimum\n",
            "add not minimum\n",
            "add minimun\n",
            "add minimun\n",
            "add minimun\n",
            "add not minimum\n",
            "add not minimum\n",
            "Epoch 11 of 21 took 45.505s\n",
            "  training loss (in-iteration): \t0.061106\n",
            "  validation accuracy: \t\t\t91.51 %\n",
            "add not minimum\n",
            "add not minimum\n",
            "add minimun\n",
            "add minimun\n",
            "add minimun\n",
            "add not minimum\n",
            "add not minimum\n",
            "add not minimum\n",
            "add not minimum\n",
            "add minimun\n",
            "add minimun\n",
            "add minimun\n",
            "add not minimum\n",
            "add not minimum\n",
            "add not minimum\n",
            "add not minimum\n",
            "add minimun\n",
            "add minimun\n",
            "add minimun\n",
            "add not minimum\n",
            "add not minimum\n",
            "add not minimum\n",
            "add not minimum\n",
            "add minimun\n",
            "add minimun\n",
            "add minimun\n",
            "add not minimum\n",
            "add not minimum\n",
            "add not minimum\n",
            "add not minimum\n",
            "add minimun\n",
            "add minimun\n",
            "add minimun\n",
            "add not minimum\n",
            "add not minimum\n",
            "Epoch 21 of 21 took 45.513s\n",
            "  training loss (in-iteration): \t0.010106\n",
            "  validation accuracy: \t\t\t91.52 %\n"
          ],
          "name": "stdout"
        }
      ]
    },
    {
      "cell_type": "code",
      "metadata": {
        "colab": {
          "base_uri": "https://localhost:8080/"
        },
        "id": "CMWwTUOEtRpb",
        "outputId": "37063405-a683-4f9d-b8b9-38b0ce3932c2"
      },
      "source": [
        "# finding optimal good weight:\r\n",
        "bad_weight = np.logspace(-5, 0, num=11)\r\n",
        "def make_new_weights(weights, good, bad):\r\n",
        "    new_weights = []\r\n",
        "    for i in range(len(weights)):\r\n",
        "        if weights[i] > 2.:\r\n",
        "            new_weights.append(good)\r\n",
        "        else:\r\n",
        "            new_weights.append(bad)\r\n",
        "    new_weights = np.array(weights)\r\n",
        "    sums = new_weights.sum()\r\n",
        "    new_weights = new_weights/sums\r\n",
        "    return new_weights\r\n",
        "\r\n",
        "accs_list = []\r\n",
        "for w in bad_weight:\r\n",
        "    new_weights = make_new_weights(weight_list, 1-w, w)\r\n",
        "    mean = 0.\r\n",
        "    for i in range(3):\r\n",
        "        accs, mean_accs = ensemble_predictions(models_list, testloader, new_weights)\r\n",
        "        mean += mean_accs\r\n",
        "    mean /= 3.\r\n",
        "    accs_list.append(mean)\r\n",
        "    print(w, round(mean_accs, 3) * 100, '%')"
      ],
      "execution_count": 8,
      "outputs": [
        {
          "output_type": "stream",
          "text": [
            "1e-05 94.0 %\n",
            "3.1622776601683795e-05 94.0 %\n",
            "0.0001 94.19999999999999 %\n",
            "0.00031622776601683794 94.0 %\n",
            "0.001 94.0 %\n",
            "0.0031622776601683794 94.0 %\n",
            "0.01 94.19999999999999 %\n",
            "0.03162277660168379 93.89999999999999 %\n",
            "0.1 94.0 %\n",
            "0.31622776601683794 94.19999999999999 %\n",
            "1.0 94.0 %\n"
          ],
          "name": "stdout"
        }
      ]
    },
    {
      "cell_type": "code",
      "metadata": {
        "colab": {
          "base_uri": "https://localhost:8080/",
          "height": 265
        },
        "id": "IoWnfuw0nfYc",
        "outputId": "b3cd2b3d-6b55-4048-d739-9209d0851017"
      },
      "source": [
        "#small lr\r\n",
        "import matplotlib.pyplot as plt\r\n",
        "plt.plot(np.log(bad_weight), accs_list)\r\n",
        "plt.show()"
      ],
      "execution_count": 9,
      "outputs": [
        {
          "output_type": "display_data",
          "data": {
            "image/png": "[encoded data removed]",
            "text/plain": [
              "<Figure size 432x288 with 1 Axes>"
            ]
          },
          "metadata": {
            "tags": [],
            "needs_background": "light"
          }
        }
      ]
    },
    {
      "cell_type": "code",
      "metadata": {
        "id": "gCtF_sbouWDK",
        "colab": {
          "base_uri": "https://localhost:8080/"
        },
        "outputId": "b3b35e81-cbc1-484f-b47e-8650de4913dc"
      },
      "source": [
        "#small lr\r\n",
        "for model in models_list:\r\n",
        "  accuracy = []\r\n",
        "  for (X_batch, y_batch) in testloader:\r\n",
        "          y_batch = y_batch.cuda()\r\n",
        "          logits = model(Variable(torch.FloatTensor(X_batch)).cuda())\r\n",
        "          y_pred = logits.max(1)[1].data\r\n",
        "          accuracy.append(np.mean((y_batch.cpu() == y_pred.cpu()).numpy() ))\r\n",
        "  print(np.array(accuracy).mean() * 100, '%')"
      ],
      "execution_count": 10,
      "outputs": [
        {
          "output_type": "stream",
          "text": [
            "93.83999999999999 %\n",
            "93.77 %\n",
            "93.97999999999998 %\n",
            "94.02 %\n",
            "93.03999999999999 %\n",
            "93.01 %\n",
            "93.93 %\n",
            "93.90999999999998 %\n",
            "94.08999999999997 %\n",
            "93.91 %\n",
            "93.8 %\n",
            "93.03 %\n",
            "93.11 %\n",
            "93.67 %\n",
            "93.71999999999998 %\n",
            "93.74 %\n",
            "93.67000000000002 %\n",
            "93.55 %\n",
            "93.45 %\n",
            "93.33 %\n",
            "93.6 %\n",
            "93.52999999999999 %\n",
            "93.66 %\n",
            "93.80000000000001 %\n",
            "93.64999999999999 %\n"
          ],
          "name": "stdout"
        }
      ]
    },
    {
      "cell_type": "code",
      "metadata": {
        "id": "mKXvHALBuWM4"
      },
      "source": [
        ""
      ],
      "execution_count": null,
      "outputs": []
    },
    {
      "cell_type": "code",
      "metadata": {
        "colab": {
          "base_uri": "https://localhost:8080/",
          "height": 265
        },
        "id": "lcHK3RnqVESQ",
        "outputId": "953bd5b0-d688-4cc2-d05a-1802cf31225b"
      },
      "source": [
        "import matplotlib.pyplot as plt\r\n",
        "plt.plot(np.log(bad_weight), accs_list)\r\n",
        "plt.show()"
      ],
      "execution_count": null,
      "outputs": [
        {
          "output_type": "display_data",
          "data": {
            "image/png": "[encoded data removed]",
            "text/plain": [
              "<Figure size 432x288 with 1 Axes>"
            ]
          },
          "metadata": {
            "tags": []
          }
        }
      ]
    },
    {
      "cell_type": "code",
      "metadata": {
        "colab": {
          "base_uri": "https://localhost:8080/",
          "height": 594
        },
        "id": "RcLwF8C1Wbvj",
        "outputId": "c5b4e89a-8790-481d-e697-9ab27e612fba"
      },
      "source": [
        "#weight_list\r\n",
        "bad_weight = np.arange(0, 11) * 100\r\n",
        "good_weight = np.arange(1, 11) * 100\r\n",
        "print(bad_weight)\r\n",
        "def make_new_weights(weights, good, bad):\r\n",
        "    new_weights = []\r\n",
        "    for i in range(len(weights)):\r\n",
        "        if weights[i] > 2.:\r\n",
        "            new_weights.append(good)\r\n",
        "        else:\r\n",
        "            new_weights.append(bad)\r\n",
        "    new_weights = np.array(weights)\r\n",
        "    sums = new_weights.sum()\r\n",
        "    new_weights = new_weights/sums\r\n",
        "    return new_weights\r\n",
        "\r\n",
        "accs_map = np.zeros((len(good_weight), len(bad_weight)))\r\n",
        "for i in range(len(good_weight)):\r\n",
        "    for j in range(len(bad_weight)):\r\n",
        "        new_weights = make_new_weights(weight_list, good_weight[i], bad_weight[j])\r\n",
        "        accs, mean_accs = ensemble_predictions(models_list, testloader, new_weights)\r\n",
        "        accs_map[i, j] = mean_accs\r\n",
        "        print(i, j, round(mean_accs, 3) * 100, '%')"
      ],
      "execution_count": null,
      "outputs": [
        {
          "output_type": "stream",
          "text": [
            "[   0  100  200  300  400  500  600  700  800  900 1000]\n",
            "0 0 93.30000000000001 %\n",
            "0 1 93.10000000000001 %\n",
            "0 2 93.2 %\n",
            "0 3 93.2 %\n",
            "0 4 93.30000000000001 %\n",
            "0 5 93.30000000000001 %\n",
            "0 6 93.30000000000001 %\n",
            "0 7 93.30000000000001 %\n",
            "0 8 93.2 %\n",
            "0 9 93.2 %\n",
            "0 10 93.2 %\n",
            "1 0 93.2 %\n"
          ],
          "name": "stdout"
        },
        {
          "output_type": "error",
          "ename": "KeyboardInterrupt",
          "evalue": "ignored",
          "traceback": [
            "\u001b[0;31m---------------------------------------------------------------------------\u001b[0m",
            "\u001b[0;31mKeyboardInterrupt\u001b[0m                         Traceback (most recent call last)",
            "\u001b[0;32m<ipython-input-26-47247706a6b0>\u001b[0m in \u001b[0;36m<module>\u001b[0;34m()\u001b[0m\n\u001b[1;32m     19\u001b[0m     \u001b[0;32mfor\u001b[0m \u001b[0mj\u001b[0m \u001b[0;32min\u001b[0m \u001b[0mrange\u001b[0m\u001b[0;34m(\u001b[0m\u001b[0mlen\u001b[0m\u001b[0;34m(\u001b[0m\u001b[0mbad_weight\u001b[0m\u001b[0;34m)\u001b[0m\u001b[0;34m)\u001b[0m\u001b[0;34m:\u001b[0m\u001b[0;34m\u001b[0m\u001b[0;34m\u001b[0m\u001b[0m\n\u001b[1;32m     20\u001b[0m         \u001b[0mnew_weights\u001b[0m \u001b[0;34m=\u001b[0m \u001b[0mmake_new_weights\u001b[0m\u001b[0;34m(\u001b[0m\u001b[0mweight_list\u001b[0m\u001b[0;34m,\u001b[0m \u001b[0mgood_weight\u001b[0m\u001b[0;34m[\u001b[0m\u001b[0mi\u001b[0m\u001b[0;34m]\u001b[0m\u001b[0;34m,\u001b[0m \u001b[0mbad_weight\u001b[0m\u001b[0;34m[\u001b[0m\u001b[0mj\u001b[0m\u001b[0;34m]\u001b[0m\u001b[0;34m)\u001b[0m\u001b[0;34m\u001b[0m\u001b[0;34m\u001b[0m\u001b[0m\n\u001b[0;32m---> 21\u001b[0;31m         \u001b[0maccs\u001b[0m\u001b[0;34m,\u001b[0m \u001b[0mmean_accs\u001b[0m \u001b[0;34m=\u001b[0m \u001b[0mensemble_predictions\u001b[0m\u001b[0;34m(\u001b[0m\u001b[0mmodels_list\u001b[0m\u001b[0;34m,\u001b[0m \u001b[0mtestloader\u001b[0m\u001b[0;34m,\u001b[0m \u001b[0mnew_weights\u001b[0m\u001b[0;34m)\u001b[0m\u001b[0;34m\u001b[0m\u001b[0;34m\u001b[0m\u001b[0m\n\u001b[0m\u001b[1;32m     22\u001b[0m         \u001b[0maccs_map\u001b[0m\u001b[0;34m[\u001b[0m\u001b[0mi\u001b[0m\u001b[0;34m,\u001b[0m \u001b[0mj\u001b[0m\u001b[0;34m]\u001b[0m \u001b[0;34m=\u001b[0m \u001b[0mmean_accs\u001b[0m\u001b[0;34m\u001b[0m\u001b[0;34m\u001b[0m\u001b[0m\n\u001b[1;32m     23\u001b[0m         \u001b[0mprint\u001b[0m\u001b[0;34m(\u001b[0m\u001b[0mi\u001b[0m\u001b[0;34m,\u001b[0m \u001b[0mj\u001b[0m\u001b[0;34m,\u001b[0m \u001b[0mround\u001b[0m\u001b[0;34m(\u001b[0m\u001b[0mmean_accs\u001b[0m\u001b[0;34m,\u001b[0m \u001b[0;36m3\u001b[0m\u001b[0;34m)\u001b[0m \u001b[0;34m*\u001b[0m \u001b[0;36m100\u001b[0m\u001b[0;34m,\u001b[0m \u001b[0;34m'%'\u001b[0m\u001b[0;34m)\u001b[0m\u001b[0;34m\u001b[0m\u001b[0;34m\u001b[0m\u001b[0m\n",
            "\u001b[0;32m<ipython-input-16-463d1a385cd7>\u001b[0m in \u001b[0;36mensemble_predictions\u001b[0;34m(members, loader, weights)\u001b[0m\n\u001b[1;32m     15\u001b[0m             \u001b[0my_pred\u001b[0m \u001b[0;34m=\u001b[0m \u001b[0mlogits\u001b[0m\u001b[0;34m.\u001b[0m\u001b[0mmax\u001b[0m\u001b[0;34m(\u001b[0m\u001b[0;36m1\u001b[0m\u001b[0;34m)\u001b[0m\u001b[0;34m[\u001b[0m\u001b[0;36m1\u001b[0m\u001b[0;34m]\u001b[0m\u001b[0;34m.\u001b[0m\u001b[0mdata\u001b[0m\u001b[0;34m\u001b[0m\u001b[0;34m\u001b[0m\u001b[0m\n\u001b[1;32m     16\u001b[0m             \u001b[0;31m#print(y_pred.cpu().numpy())\u001b[0m\u001b[0;34m\u001b[0m\u001b[0;34m\u001b[0m\u001b[0;34m\u001b[0m\u001b[0m\n\u001b[0;32m---> 17\u001b[0;31m             \u001b[0myhats\u001b[0m\u001b[0;34m.\u001b[0m\u001b[0mappend\u001b[0m\u001b[0;34m(\u001b[0m\u001b[0my_pred\u001b[0m\u001b[0;34m.\u001b[0m\u001b[0mcpu\u001b[0m\u001b[0;34m(\u001b[0m\u001b[0;34m)\u001b[0m\u001b[0;34m.\u001b[0m\u001b[0mnumpy\u001b[0m\u001b[0;34m(\u001b[0m\u001b[0;34m)\u001b[0m\u001b[0;34m)\u001b[0m\u001b[0;34m\u001b[0m\u001b[0;34m\u001b[0m\u001b[0m\n\u001b[0m\u001b[1;32m     18\u001b[0m         \u001b[0myhats\u001b[0m \u001b[0;34m=\u001b[0m \u001b[0mnp\u001b[0m\u001b[0;34m.\u001b[0m\u001b[0marray\u001b[0m\u001b[0;34m(\u001b[0m\u001b[0myhats\u001b[0m\u001b[0;34m)\u001b[0m\u001b[0;34m\u001b[0m\u001b[0;34m\u001b[0m\u001b[0m\n\u001b[1;32m     19\u001b[0m         \u001b[0mmaxs\u001b[0m \u001b[0;34m=\u001b[0m \u001b[0;34m[\u001b[0m\u001b[0;34m]\u001b[0m\u001b[0;34m\u001b[0m\u001b[0;34m\u001b[0m\u001b[0m\n",
            "\u001b[0;31mKeyboardInterrupt\u001b[0m: "
          ]
        }
      ]
    },
    {
      "cell_type": "code",
      "metadata": {
        "colab": {
          "base_uri": "https://localhost:8080/",
          "height": 283
        },
        "id": "OTYg9HlGcw-J",
        "outputId": "797ce439-02ff-4136-f093-b7e0b7cfc238"
      },
      "source": [
        "from seaborn import heatmap\r\n",
        "heatmap(accs_map) #x -- good, y -- bad"
      ],
      "execution_count": null,
      "outputs": [
        {
          "output_type": "execute_result",
          "data": {
            "text/plain": [
              "<matplotlib.axes._subplots.AxesSubplot at 0x7f1e637ea748>"
            ]
          },
          "metadata": {
            "tags": []
          },
          "execution_count": 61
        },
        {
          "output_type": "display_data",
          "data": {
            "image/png": "[encoded data removed]",
            "text/plain": [
              "<Figure size 432x288 with 2 Axes>"
            ]
          },
          "metadata": {
            "tags": []
          }
        }
      ]
    },
    {
      "cell_type": "code",
      "metadata": {
        "colab": {
          "base_uri": "https://localhost:8080/"
        },
        "id": "i9fGTEu-wbNe",
        "outputId": "97acb217-3a92-4399-8b8f-4671b7d12ac5"
      },
      "source": [
        "bad_weight = np.logspace(0, 3, num=11)\r\n",
        "good_weight = np.logspace(0, 3, num=11)\r\n",
        "print(bad_weight)\r\n",
        "\r\n",
        "accs_map = np.zeros((len(good_weight), len(bad_weight)))\r\n",
        "for i in range(len(good_weight)):\r\n",
        "    for j in range(len(bad_weight)):\r\n",
        "        new_weights = make_new_weights(weight_list, good_weight[i], bad_weight[j])\r\n",
        "        accs, mean_accs = ensemble_predictions(models_list, testloader, new_weights)\r\n",
        "        accs_map[i, j] = mean_accs\r\n",
        "        print(i, j, round(mean_accs, 3) * 100, '%')"
      ],
      "execution_count": null,
      "outputs": [
        {
          "output_type": "stream",
          "text": [
            "[   1.            1.99526231    3.98107171    7.94328235   15.84893192\n",
            "   31.6227766    63.09573445  125.89254118  251.18864315  501.18723363\n",
            " 1000.        ]\n",
            "0 0 93.5 %\n",
            "0 1 93.4 %\n",
            "0 2 93.60000000000001 %\n",
            "0 3 93.60000000000001 %\n",
            "0 4 93.5 %\n",
            "0 5 93.7 %\n",
            "0 6 93.5 %\n",
            "0 7 93.7 %\n",
            "0 8 93.7 %\n",
            "0 9 93.60000000000001 %\n",
            "0 10 93.5 %\n",
            "1 0 93.60000000000001 %\n",
            "1 1 93.5 %\n",
            "1 2 93.60000000000001 %\n",
            "1 3 93.60000000000001 %\n",
            "1 4 93.60000000000001 %\n",
            "1 5 93.60000000000001 %\n",
            "1 6 93.7 %\n",
            "1 7 93.60000000000001 %\n",
            "1 8 93.60000000000001 %\n",
            "1 9 93.4 %\n",
            "1 10 93.5 %\n",
            "2 0 93.60000000000001 %\n",
            "2 1 93.60000000000001 %\n",
            "2 2 93.5 %\n",
            "2 3 93.5 %\n",
            "2 4 93.5 %\n",
            "2 5 93.60000000000001 %\n",
            "2 6 93.7 %\n",
            "2 7 93.5 %\n",
            "2 8 93.7 %\n",
            "2 9 93.5 %\n",
            "2 10 93.60000000000001 %\n",
            "3 0 93.60000000000001 %\n",
            "3 1 93.60000000000001 %\n",
            "3 2 93.60000000000001 %\n",
            "3 3 93.60000000000001 %\n",
            "3 4 93.60000000000001 %\n",
            "3 5 93.5 %\n",
            "3 6 93.60000000000001 %\n",
            "3 7 93.60000000000001 %\n",
            "3 8 93.5 %\n",
            "3 9 93.60000000000001 %\n",
            "3 10 93.60000000000001 %\n",
            "4 0 93.60000000000001 %\n",
            "4 1 93.5 %\n",
            "4 2 93.60000000000001 %\n",
            "4 3 93.5 %\n",
            "4 4 93.60000000000001 %\n",
            "4 5 93.60000000000001 %\n",
            "4 6 93.5 %\n",
            "4 7 93.60000000000001 %\n",
            "4 8 93.4 %\n",
            "4 9 93.60000000000001 %\n",
            "4 10 93.60000000000001 %\n",
            "5 0 93.60000000000001 %\n",
            "5 1 93.60000000000001 %\n",
            "5 2 93.60000000000001 %\n",
            "5 3 93.5 %\n",
            "5 4 93.60000000000001 %\n",
            "5 5 93.60000000000001 %\n",
            "5 6 93.5 %\n",
            "5 7 93.60000000000001 %\n",
            "5 8 93.5 %\n",
            "5 9 93.5 %\n",
            "5 10 93.60000000000001 %\n",
            "6 0 93.60000000000001 %\n",
            "6 1 93.5 %\n",
            "6 2 93.5 %\n",
            "6 3 93.60000000000001 %\n",
            "6 4 93.60000000000001 %\n",
            "6 5 93.5 %\n",
            "6 6 93.60000000000001 %\n",
            "6 7 93.5 %\n",
            "6 8 93.60000000000001 %\n",
            "6 9 93.60000000000001 %\n",
            "6 10 93.5 %\n",
            "7 0 93.60000000000001 %\n",
            "7 1 93.60000000000001 %\n",
            "7 2 93.4 %\n",
            "7 3 93.60000000000001 %\n",
            "7 4 93.60000000000001 %\n",
            "7 5 93.4 %\n",
            "7 6 93.60000000000001 %\n",
            "7 7 93.5 %\n",
            "7 8 93.5 %\n",
            "7 9 93.4 %\n",
            "7 10 93.5 %\n",
            "8 0 93.60000000000001 %\n",
            "8 1 93.5 %\n",
            "8 2 93.5 %\n",
            "8 3 93.4 %\n",
            "8 4 93.5 %\n",
            "8 5 93.60000000000001 %\n",
            "8 6 93.60000000000001 %\n",
            "8 7 93.5 %\n",
            "8 8 93.5 %\n",
            "8 9 93.60000000000001 %\n",
            "8 10 93.5 %\n",
            "9 0 93.5 %\n",
            "9 1 93.60000000000001 %\n",
            "9 2 93.5 %\n",
            "9 3 93.60000000000001 %\n",
            "9 4 93.5 %\n",
            "9 5 93.5 %\n",
            "9 6 93.60000000000001 %\n",
            "9 7 93.5 %\n",
            "9 8 93.60000000000001 %\n",
            "9 9 93.5 %\n",
            "9 10 93.5 %\n",
            "10 0 93.5 %\n",
            "10 1 93.60000000000001 %\n",
            "10 2 93.4 %\n",
            "10 3 93.60000000000001 %\n",
            "10 4 93.60000000000001 %\n",
            "10 5 93.4 %\n",
            "10 6 93.5 %\n",
            "10 7 93.5 %\n",
            "10 8 93.60000000000001 %\n",
            "10 9 93.7 %\n",
            "10 10 93.5 %\n"
          ],
          "name": "stdout"
        }
      ]
    },
    {
      "cell_type": "code",
      "metadata": {
        "colab": {
          "base_uri": "https://localhost:8080/",
          "height": 283
        },
        "id": "XfVGulKFyQyp",
        "outputId": "807c240b-faf8-41e6-aa01-c5ffd9961fd2"
      },
      "source": [
        "from seaborn import heatmap\r\n",
        "heatmap(accs_map) #log plot"
      ],
      "execution_count": null,
      "outputs": [
        {
          "output_type": "execute_result",
          "data": {
            "text/plain": [
              "<matplotlib.axes._subplots.AxesSubplot at 0x7f1e5af14cc0>"
            ]
          },
          "metadata": {
            "tags": []
          },
          "execution_count": 64
        },
        {
          "output_type": "display_data",
          "data": {
            "image/png": "[encoded data removed]",
            "text/plain": [
              "<Figure size 432x288 with 2 Axes>"
            ]
          },
          "metadata": {
            "tags": []
          }
        }
      ]
    },
    {
      "cell_type": "code",
      "metadata": {
        "id": "reCnums3ES0O"
      },
      "source": [
        ""
      ],
      "execution_count": null,
      "outputs": []
    }
  ]
}