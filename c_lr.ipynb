{
  "nbformat": 4,
  "nbformat_minor": 0,
  "metadata": {
    "kernelspec": {
      "name": "python3",
      "display_name": "Python 3"
    },
    "language_info": {
      "codemirror_mode": {
        "name": "ipython",
        "version": 3
      },
      "file_extension": ".py",
      "mimetype": "text/x-python",
      "name": "python",
      "nbconvert_exporter": "python",
      "pygments_lexer": "ipython3",
      "version": "3.7.3"
    },
    "colab": {
      "name": "cifar_10.ipynb",
      "provenance": [],
      "collapsed_sections": []
    },
    "accelerator": "GPU"
  },
  "cells": [
    {
      "cell_type": "code",
      "metadata": {
        "id": "ScXfNhW5j29q",
        "colab_type": "code",
        "colab": {}
      },
      "source": [
        "import numpy as np\n",
        "import torch\n",
        "import torchvision\n",
        "import matplotlib.pyplot as plt\n",
        "from time import time\n",
        "from torchvision import datasets, transforms\n",
        "from torch import nn, optim\n",
        "import warnings\n",
        "warnings.filterwarnings(\"ignore\")\n",
        "import torchvision.models as models"
      ],
      "execution_count": 0,
      "outputs": []
    },
    {
      "cell_type": "code",
      "metadata": {
        "id": "G10IRPC8j292",
        "colab_type": "code",
        "colab": {}
      },
      "source": [
        "import torch, torch.nn as nn\n",
        "import math\n",
        "import torch.nn.functional as F\n",
        "from torch.autograd import Variable\n",
        "class Flatten(nn.Module):\n",
        "    def forward(self, input):\n",
        "        return input.view(input.size(0), -1)"
      ],
      "execution_count": 0,
      "outputs": []
    },
    {
      "cell_type": "code",
      "metadata": {
        "id": "H3QZm4LbmubK",
        "colab_type": "code",
        "outputId": "3c207e5b-440b-4230-e29b-b4da35758adc",
        "colab": {
          "base_uri": "https://localhost:8080/",
          "height": 87
        }
      },
      "source": [
        "!nvcc --version"
      ],
      "execution_count": 3,
      "outputs": [
        {
          "output_type": "stream",
          "text": [
            "nvcc: NVIDIA (R) Cuda compiler driver\n",
            "Copyright (c) 2005-2018 NVIDIA Corporation\n",
            "Built on Sat_Aug_25_21:08:01_CDT_2018\n",
            "Cuda compilation tools, release 10.0, V10.0.130\n"
          ],
          "name": "stdout"
        }
      ]
    },
    {
      "cell_type": "code",
      "metadata": {
        "id": "8icQ74UAEyJF",
        "colab_type": "code",
        "colab": {}
      },
      "source": [
        "def transform(my_x, my_y):\n",
        "    tensor_x = torch.Tensor(my_x) # transform to torch tensor\n",
        "    tensor_y = torch.LongTensor(my_y)\n",
        "\n",
        "    my_dataset = data.TensorDataset(tensor_x,tensor_y) # create your datset\n",
        "    my_dataloader = data.DataLoader(my_dataset) # create your dataloader\n",
        "    return my_dataloader"
      ],
      "execution_count": 0,
      "outputs": []
    },
    {
      "cell_type": "code",
      "metadata": {
        "id": "XvvS4wP4j2-F",
        "colab_type": "code",
        "outputId": "adf0e3c5-75d1-4542-a07b-f91ff4db65f8",
        "colab": {
          "base_uri": "https://localhost:8080/",
          "height": 87
        }
      },
      "source": [
        "#resnet18 = models.resnet18(num_classes=10, pretrained=False)\n",
        "\n",
        "transform = transforms.ToTensor()\n",
        "batch_size=64\n",
        "\n",
        "trainset = datasets.CIFAR10('cifar-10', download=True, train=True, transform=transform)\n",
        "testset = datasets.CIFAR10('cifar-10', download=True, train=False, transform=transform)\n",
        "\n",
        "trainset, valset = torch.utils.data.random_split(trainset, [30000, 20000])\n",
        "trainloader = torch.utils.data.DataLoader(trainset, batch_size=64, shuffle=True)\n",
        "valloader = torch.utils.data.DataLoader(valset, batch_size=64, shuffle=True)\n",
        "testloader = torch.utils.data.DataLoader(testset, batch_size=64, shuffle=True)"
      ],
      "execution_count": 5,
      "outputs": [
        {
          "output_type": "stream",
          "text": [
            "  0%|          | 0/170498071 [00:00<?, ?it/s]"
          ],
          "name": "stderr"
        },
        {
          "output_type": "stream",
          "text": [
            "Downloading https://www.cs.toronto.edu/~kriz/cifar-10-python.tar.gz to cifar-10/cifar-10-python.tar.gz\n"
          ],
          "name": "stdout"
        },
        {
          "output_type": "stream",
          "text": [
            "170500096it [00:01, 85592710.33it/s]                               \n"
          ],
          "name": "stderr"
        },
        {
          "output_type": "stream",
          "text": [
            "Extracting cifar-10/cifar-10-python.tar.gz to cifar-10\n",
            "Files already downloaded and verified\n"
          ],
          "name": "stdout"
        }
      ]
    },
    {
      "cell_type": "code",
      "metadata": {
        "id": "snFGLg6Zj2-z",
        "colab_type": "code",
        "colab": {}
      },
      "source": [
        "def compute_loss(X_batch, y_batch):\n",
        "    X_batch = Variable(torch.FloatTensor(X_batch))\n",
        "    y_batch = Variable(torch.LongTensor(y_batch))\n",
        "    X_batch, y_batch = X_batch.cuda(), y_batch.cuda()\n",
        "    logits = resnet18(X_batch)\n",
        "    return F.cross_entropy(logits, y_batch).mean()"
      ],
      "execution_count": 0,
      "outputs": []
    },
    {
      "cell_type": "code",
      "metadata": {
        "id": "ond-ae7Uj2-7",
        "colab_type": "code",
        "outputId": "63d9793f-d9b7-4881-8d0c-e71eed84a8d9",
        "colab": {
          "base_uri": "https://localhost:8080/",
          "height": 1000
        }
      },
      "source": [
        "import time\n",
        "num_epochs = 20\n",
        "learning_rates = [0.001, 0.1, 0.7, 0.99]\n",
        "losses = []\n",
        "for lr in learning_rates:\n",
        "  resnet18 = models.resnet18(num_classes=10, pretrained=False)\n",
        "  resnet18 = resnet18.cuda()\n",
        "  opt = torch.optim.SGD(resnet18.parameters(), lr=lr)\n",
        "  train_loss = []\n",
        "  val_accuracy = []\n",
        "  \n",
        "  for epoch in range(num_epochs):\n",
        "      start_time = time.time()\n",
        "      k = 0\n",
        "      resnet18.train(True)\n",
        "      for (X_batch, y_batch) in trainloader:\n",
        "          loss = compute_loss(X_batch, y_batch)\n",
        "          loss.backward()\n",
        "          opt.step()\n",
        "          opt.zero_grad()\n",
        "          train_loss.append(loss.data.cpu().numpy())\n",
        "          if k % 20 == 0:\n",
        "            print(k, end=' ')\n",
        "          k += 1\n",
        "      #print('*')\n",
        "\n",
        "      resnet18.train(False)\n",
        "      #print('#')\n",
        "      for (X_batch, y_batch) in valloader:\n",
        "          #print('@', end='')\n",
        "          y_batch = y_batch.cuda()\n",
        "          logits = resnet18(Variable(torch.FloatTensor(X_batch)).cuda())\n",
        "          y_pred = logits.max(1)[1].data\n",
        "          val_accuracy.append(np.mean((y_batch.cpu() == y_pred.cpu()).numpy() ))\n",
        "\n",
        "      print(\"Epoch {} of {} took {:.3f}s\".format(\n",
        "          epoch + 1, num_epochs, time.time() - start_time))\n",
        "      print(\"  training loss (in-iteration): \\t{:.6f}\".format(\n",
        "          np.mean(train_loss[-len(trainset) // batch_size :])))\n",
        "      print(\"  validation accuracy: \\t\\t\\t{:.2f} %\".format(\n",
        "          np.mean(val_accuracy[-len(valset) // batch_size :]) * 100))\n",
        "      losses.append(np.array(train_loss).mean())"
      ],
      "execution_count": 7,
      "outputs": [
        {
          "output_type": "stream",
          "text": [
            "0 20 40 60 80 100 120 140 160 180 200 220 240 260 280 300 320 340 360 380 400 420 440 460 Epoch 1 of 20 took 17.822s\n",
            "  training loss (in-iteration): \t2.025274\n",
            "  validation accuracy: \t\t\t34.52 %\n",
            "0 20 40 60 80 100 120 140 160 180 200 220 240 260 280 300 320 340 360 380 400 420 440 460 Epoch 2 of 20 took 17.780s\n",
            "  training loss (in-iteration): \t1.697801\n",
            "  validation accuracy: \t\t\t40.73 %\n",
            "0 20 40 60 80 100 120 140 160 180 200 220 240 260 280 300 320 340 360 380 400 420 440 460 Epoch 3 of 20 took 17.932s\n",
            "  training loss (in-iteration): \t1.548142\n",
            "  validation accuracy: \t\t\t43.55 %\n",
            "0 20 40 60 80 100 120 140 160 180 200 220 240 260 280 300 320 340 360 380 400 420 440 460 Epoch 4 of 20 took 18.201s\n",
            "  training loss (in-iteration): \t1.436050\n",
            "  validation accuracy: \t\t\t45.59 %\n",
            "0 20 40 60 80 100 120 140 160 180 200 220 240 260 280 300 320 340 360 380 400 420 440 460 Epoch 5 of 20 took 18.246s\n",
            "  training loss (in-iteration): \t1.356274\n",
            "  validation accuracy: \t\t\t47.85 %\n",
            "0 20 40 60 80 100 120 140 160 180 200 220 240 260 280 300 320 340 360 380 400 420 440 460 Epoch 6 of 20 took 18.350s\n",
            "  training loss (in-iteration): \t1.276626\n",
            "  validation accuracy: \t\t\t47.90 %\n",
            "0 20 40 60 80 100 120 140 160 180 200 220 240 260 280 300 320 340 360 380 400 420 440 460 Epoch 7 of 20 took 18.586s\n",
            "  training loss (in-iteration): \t1.209132\n",
            "  validation accuracy: \t\t\t49.77 %\n",
            "0 20 40 60 80 100 120 140 160 180 200 220 240 260 280 300 320 340 360 380 400 420 440 460 Epoch 8 of 20 took 18.529s\n",
            "  training loss (in-iteration): \t1.142573\n",
            "  validation accuracy: \t\t\t50.38 %\n",
            "0 20 40 60 80 100 120 140 160 180 200 220 240 260 280 300 320 340 360 380 400 420 440 460 Epoch 9 of 20 took 18.489s\n",
            "  training loss (in-iteration): \t1.078613\n",
            "  validation accuracy: \t\t\t51.33 %\n",
            "0 20 40 60 80 100 120 140 160 180 200 220 240 260 280 300 320 340 360 380 400 420 440 460 Epoch 10 of 20 took 18.492s\n",
            "  training loss (in-iteration): \t1.022008\n",
            "  validation accuracy: \t\t\t51.73 %\n",
            "0 20 40 60 80 100 120 140 160 180 200 220 240 260 280 300 320 340 360 380 400 420 440 460 Epoch 11 of 20 took 18.440s\n",
            "  training loss (in-iteration): \t0.959414\n",
            "  validation accuracy: \t\t\t52.03 %\n",
            "0 20 40 60 80 100 120 140 160 180 200 220 240 260 280 300 320 340 360 380 400 420 440 460 Epoch 12 of 20 took 18.481s\n",
            "  training loss (in-iteration): \t0.894724\n",
            "  validation accuracy: \t\t\t52.22 %\n",
            "0 20 40 60 80 100 120 140 160 180 200 220 240 260 280 300 320 340 360 380 400 420 440 460 Epoch 13 of 20 took 18.564s\n",
            "  training loss (in-iteration): \t0.835304\n",
            "  validation accuracy: \t\t\t50.47 %\n",
            "0 20 40 60 80 100 120 140 160 180 200 220 240 260 280 300 320 340 360 380 400 420 440 460 Epoch 14 of 20 took 18.464s\n",
            "  training loss (in-iteration): \t0.771080\n",
            "  validation accuracy: \t\t\t50.52 %\n",
            "0 20 40 60 80 100 120 140 160 180 200 220 240 260 280 300 320 340 360 380 400 420 440 460 Epoch 15 of 20 took 18.411s\n",
            "  training loss (in-iteration): \t0.718011\n",
            "  validation accuracy: \t\t\t52.28 %\n",
            "0 20 40 60 80 100 120 140 160 180 200 220 240 260 280 300 320 340 360 380 400 420 440 460 Epoch 16 of 20 took 18.409s\n",
            "  training loss (in-iteration): \t0.659890\n",
            "  validation accuracy: \t\t\t52.38 %\n",
            "0 20 40 60 80 100 120 140 160 180 200 220 240 260 280 300 320 340 360 380 400 420 440 460 Epoch 17 of 20 took 18.511s\n",
            "  training loss (in-iteration): \t0.598877\n",
            "  validation accuracy: \t\t\t52.05 %\n",
            "0 20 40 60 80 100 120 140 160 180 200 220 240 260 280 300 320 340 360 380 400 420 440 460 Epoch 18 of 20 took 18.345s\n",
            "  training loss (in-iteration): \t0.544343\n",
            "  validation accuracy: \t\t\t52.56 %\n",
            "0 20 40 60 80 100 120 140 160 180 200 220 240 260 280 300 320 340 360 380 400 420 440 460 Epoch 19 of 20 took 18.415s\n",
            "  training loss (in-iteration): \t0.482842\n",
            "  validation accuracy: \t\t\t52.81 %\n",
            "0 20 40 60 80 100 120 140 160 180 200 220 240 260 280 300 320 340 360 380 400 420 440 460 Epoch 20 of 20 took 18.519s\n",
            "  training loss (in-iteration): \t0.436927\n",
            "  validation accuracy: \t\t\t52.35 %\n",
            "0 20 40 60 80 100 120 140 160 180 200 220 240 260 280 300 320 340 360 380 400 420 440 460 Epoch 1 of 20 took 18.560s\n",
            "  training loss (in-iteration): \t1.799097\n",
            "  validation accuracy: \t\t\t48.37 %\n",
            "0 20 40 60 80 100 120 140 160 180 200 220 240 260 280 300 320 340 360 380 400 420 440 460 Epoch 2 of 20 took 18.473s\n",
            "  training loss (in-iteration): \t1.283738\n",
            "  validation accuracy: \t\t\t51.53 %\n",
            "0 20 40 60 80 100 120 140 160 180 200 220 240 260 280 300 320 340 360 380 400 420 440 460 Epoch 3 of 20 took 18.380s\n",
            "  training loss (in-iteration): \t1.058475\n",
            "  validation accuracy: \t\t\t46.29 %\n",
            "0 20 40 60 80 100 120 140 160 180 200 220 240 260 280 300 320 340 360 380 400 420 440 460 Epoch 4 of 20 took 18.528s\n",
            "  training loss (in-iteration): \t0.882796\n",
            "  validation accuracy: \t\t\t57.12 %\n",
            "0 20 40 60 80 100 120 140 160 180 200 220 240 260 280 300 320 340 360 380 400 420 440 460 Epoch 5 of 20 took 18.444s\n",
            "  training loss (in-iteration): \t0.754667\n",
            "  validation accuracy: \t\t\t56.88 %\n",
            "0 20 40 60 80 100 120 140 160 180 200 220 240 260 280 300 320 340 360 380 400 420 440 460 Epoch 6 of 20 took 18.419s\n",
            "  training loss (in-iteration): \t0.641921\n",
            "  validation accuracy: \t\t\t65.18 %\n",
            "0 20 40 60 80 100 120 140 160 180 200 220 240 260 280 300 320 340 360 380 400 420 440 460 Epoch 7 of 20 took 18.436s\n",
            "  training loss (in-iteration): \t0.532945\n",
            "  validation accuracy: \t\t\t65.44 %\n",
            "0 20 40 60 80 100 120 140 160 180 200 220 240 260 280 300 320 340 360 380 400 420 440 460 Epoch 8 of 20 took 18.382s\n",
            "  training loss (in-iteration): \t0.446987\n",
            "  validation accuracy: \t\t\t63.09 %\n",
            "0 20 40 60 80 100 120 140 160 180 200 220 240 260 280 300 320 340 360 380 400 420 440 460 Epoch 9 of 20 took 18.435s\n",
            "  training loss (in-iteration): \t0.361857\n",
            "  validation accuracy: \t\t\t65.14 %\n",
            "0 20 40 60 80 100 120 140 160 180 200 220 240 260 280 300 320 340 360 380 400 420 440 460 Epoch 10 of 20 took 18.420s\n",
            "  training loss (in-iteration): \t0.303611\n",
            "  validation accuracy: \t\t\t66.35 %\n",
            "0 20 40 60 80 100 120 140 160 180 200 220 240 260 280 300 320 340 360 380 400 420 440 460 Epoch 11 of 20 took 18.433s\n",
            "  training loss (in-iteration): \t0.243602\n",
            "  validation accuracy: \t\t\t63.41 %\n",
            "0 20 40 60 80 100 120 140 160 180 200 220 240 260 280 300 320 340 360 380 400 420 440 460 Epoch 12 of 20 took 18.408s\n",
            "  training loss (in-iteration): \t0.208838\n",
            "  validation accuracy: \t\t\t67.19 %\n",
            "0 20 40 60 80 100 120 140 160 180 200 220 240 260 280 300 320 340 360 380 400 420 440 460 Epoch 13 of 20 took 18.442s\n",
            "  training loss (in-iteration): \t0.181317\n",
            "  validation accuracy: \t\t\t67.29 %\n",
            "0 20 40 60 80 100 120 140 160 180 200 220 240 260 280 300 320 340 360 380 400 420 440 460 Epoch 14 of 20 took 18.490s\n",
            "  training loss (in-iteration): \t0.139113\n",
            "  validation accuracy: \t\t\t64.84 %\n",
            "0 20 40 60 80 100 120 140 160 180 200 220 240 260 280 300 320 340 360 380 400 420 440 460 Epoch 15 of 20 took 18.416s\n",
            "  training loss (in-iteration): \t0.127628\n",
            "  validation accuracy: \t\t\t66.82 %\n",
            "0 20 40 60 80 100 120 140 160 180 200 220 240 260 280 300 320 340 360 380 400 420 440 460 Epoch 16 of 20 took 18.401s\n",
            "  training loss (in-iteration): \t0.108543\n",
            "  validation accuracy: \t\t\t64.72 %\n",
            "0 20 40 60 80 100 120 140 160 180 200 220 240 260 280 300 320 340 360 380 400 420 440 460 Epoch 17 of 20 took 18.406s\n",
            "  training loss (in-iteration): \t0.094265\n",
            "  validation accuracy: \t\t\t66.18 %\n",
            "0 20 40 60 80 100 120 140 160 180 200 220 240 260 280 300 320 340 360 380 400 420 440 460 Epoch 18 of 20 took 18.523s\n",
            "  training loss (in-iteration): \t0.078116\n",
            "  validation accuracy: \t\t\t68.63 %\n",
            "0 20 40 60 80 100 120 140 160 180 200 220 240 260 280 300 320 340 360 380 400 420 440 460 Epoch 19 of 20 took 18.519s\n",
            "  training loss (in-iteration): \t0.072732\n",
            "  validation accuracy: \t\t\t69.14 %\n",
            "0 20 40 60 80 100 120 140 160 180 200 220 240 260 280 300 320 340 360 380 400 420 440 460 Epoch 20 of 20 took 18.456s\n",
            "  training loss (in-iteration): \t0.064848\n",
            "  validation accuracy: \t\t\t67.91 %\n",
            "0 20 40 60 80 100 120 140 160 180 200 220 240 260 280 300 320 340 360 380 400 420 440 460 Epoch 1 of 20 took 18.385s\n",
            "  training loss (in-iteration): \t2.507145\n",
            "  validation accuracy: \t\t\t29.61 %\n",
            "0 20 40 60 80 100 120 140 160 180 200 220 240 260 280 300 320 340 360 380 400 420 440 460 Epoch 2 of 20 took 18.448s\n",
            "  training loss (in-iteration): \t1.609749\n",
            "  validation accuracy: \t\t\t45.45 %\n",
            "0 20 40 60 80 100 120 140 160 180 200 220 240 260 280 300 320 340 360 380 400 420 440 460 Epoch 3 of 20 took 18.445s\n",
            "  training loss (in-iteration): \t1.406555\n",
            "  validation accuracy: \t\t\t48.02 %\n",
            "0 20 40 60 80 100 120 140 160 180 200 220 240 260 280 300 320 340 360 380 400 420 440 460 Epoch 4 of 20 took 18.498s\n",
            "  training loss (in-iteration): \t1.249791\n",
            "  validation accuracy: \t\t\t46.90 %\n",
            "0 20 40 60 80 100 120 140 160 180 200 220 240 260 280 300 320 340 360 380 400 420 440 460 Epoch 5 of 20 took 18.405s\n",
            "  training loss (in-iteration): \t1.119461\n",
            "  validation accuracy: \t\t\t53.74 %\n",
            "0 20 40 60 80 100 120 140 160 180 200 220 240 260 280 300 320 340 360 380 400 420 440 460 Epoch 6 of 20 took 18.460s\n",
            "  training loss (in-iteration): \t1.008357\n",
            "  validation accuracy: \t\t\t53.79 %\n",
            "0 20 40 60 80 100 120 140 160 180 200 220 240 260 280 300 320 340 360 380 400 420 440 460 Epoch 7 of 20 took 18.488s\n",
            "  training loss (in-iteration): \t0.908460\n",
            "  validation accuracy: \t\t\t55.64 %\n",
            "0 20 40 60 80 100 120 140 160 180 200 220 240 260 280 300 320 340 360 380 400 420 440 460 Epoch 8 of 20 took 18.483s\n",
            "  training loss (in-iteration): \t0.811317\n",
            "  validation accuracy: \t\t\t63.02 %\n",
            "0 20 40 60 80 100 120 140 160 180 200 220 240 260 280 300 320 340 360 380 400 420 440 460 Epoch 9 of 20 took 18.387s\n",
            "  training loss (in-iteration): \t0.724374\n",
            "  validation accuracy: \t\t\t63.66 %\n",
            "0 20 40 60 80 100 120 140 160 180 200 220 240 260 280 300 320 340 360 380 400 420 440 460 Epoch 10 of 20 took 18.398s\n",
            "  training loss (in-iteration): \t0.634517\n",
            "  validation accuracy: \t\t\t58.90 %\n",
            "0 20 40 60 80 100 120 140 160 180 200 220 240 260 280 300 320 340 360 380 400 420 440 460 Epoch 11 of 20 took 18.432s\n",
            "  training loss (in-iteration): \t0.558657\n",
            "  validation accuracy: \t\t\t60.39 %\n",
            "0 20 40 60 80 100 120 140 160 180 200 220 240 260 280 300 320 340 360 380 400 420 440 460 Epoch 12 of 20 took 18.350s\n",
            "  training loss (in-iteration): \t0.477985\n",
            "  validation accuracy: \t\t\t63.42 %\n",
            "0 20 40 60 80 100 120 140 160 180 200 220 240 260 280 300 320 340 360 380 400 420 440 460 Epoch 13 of 20 took 18.445s\n",
            "  training loss (in-iteration): \t0.413883\n",
            "  validation accuracy: \t\t\t63.96 %\n",
            "0 20 40 60 80 100 120 140 160 180 200 220 240 260 280 300 320 340 360 380 400 420 440 460 Epoch 14 of 20 took 18.394s\n",
            "  training loss (in-iteration): \t0.351387\n",
            "  validation accuracy: \t\t\t66.51 %\n",
            "0 20 40 60 80 100 120 140 160 180 200 220 240 260 280 300 320 340 360 380 400 420 440 460 Epoch 15 of 20 took 18.482s\n",
            "  training loss (in-iteration): \t0.297302\n",
            "  validation accuracy: \t\t\t61.12 %\n",
            "0 20 40 60 80 100 120 140 160 180 200 220 240 260 280 300 320 340 360 380 400 420 440 460 Epoch 16 of 20 took 18.437s\n",
            "  training loss (in-iteration): \t0.258224\n",
            "  validation accuracy: \t\t\t67.25 %\n",
            "0 20 40 60 80 100 120 140 160 180 200 220 240 260 280 300 320 340 360 380 400 420 440 460 Epoch 17 of 20 took 18.394s\n",
            "  training loss (in-iteration): \t0.213692\n",
            "  validation accuracy: \t\t\t66.20 %\n",
            "0 20 40 60 80 100 120 140 160 180 200 220 240 260 280 300 320 340 360 380 400 420 440 460 Epoch 18 of 20 took 18.469s\n",
            "  training loss (in-iteration): \t0.184107\n",
            "  validation accuracy: \t\t\t65.90 %\n",
            "0 20 40 60 80 100 120 140 160 180 200 220 240 260 280 300 320 340 360 380 400 420 440 460 Epoch 19 of 20 took 18.493s\n",
            "  training loss (in-iteration): \t0.165184\n",
            "  validation accuracy: \t\t\t65.96 %\n",
            "0 20 40 60 80 100 120 140 160 180 200 220 240 260 280 300 320 340 360 380 400 420 440 460 Epoch 20 of 20 took 18.449s\n",
            "  training loss (in-iteration): \t0.137636\n",
            "  validation accuracy: \t\t\t67.04 %\n",
            "0 20 40 60 80 100 120 140 160 180 200 220 240 260 280 300 320 340 360 380 400 420 440 460 Epoch 1 of 20 took 18.368s\n",
            "  training loss (in-iteration): \t2.626254\n",
            "  validation accuracy: \t\t\t26.38 %\n",
            "0 20 40 60 80 100 120 140 160 180 200 220 240 260 280 300 320 340 360 380 400 420 440 460 Epoch 2 of 20 took 18.311s\n",
            "  training loss (in-iteration): \t1.753431\n",
            "  validation accuracy: \t\t\t27.30 %\n",
            "0 20 40 60 80 100 120 140 160 180 200 220 240 260 280 300 320 340 360 380 400 420 440 460 Epoch 3 of 20 took 18.351s\n",
            "  training loss (in-iteration): \t1.569047\n",
            "  validation accuracy: \t\t\t42.96 %\n",
            "0 20 40 60 80 100 120 140 160 180 200 220 240 260 280 300 320 340 360 380 400 420 440 460 Epoch 4 of 20 took 18.369s\n",
            "  training loss (in-iteration): \t1.441973\n",
            "  validation accuracy: \t\t\t49.01 %\n",
            "0 20 40 60 80 100 120 140 160 180 200 220 240 260 280 300 320 340 360 380 400 420 440 460 Epoch 5 of 20 took 18.357s\n",
            "  training loss (in-iteration): \t1.319339\n",
            "  validation accuracy: \t\t\t38.71 %\n",
            "0 20 40 60 80 100 120 140 160 180 200 220 240 260 280 300 320 340 360 380 400 420 440 460 Epoch 6 of 20 took 18.386s\n",
            "  training loss (in-iteration): \t1.213529\n",
            "  validation accuracy: \t\t\t54.73 %\n",
            "0 20 40 60 80 100 120 140 160 180 200 220 240 260 280 300 320 340 360 380 400 420 440 460 Epoch 7 of 20 took 18.320s\n",
            "  training loss (in-iteration): \t1.118655\n",
            "  validation accuracy: \t\t\t51.89 %\n",
            "0 20 40 60 80 100 120 140 160 180 200 220 240 260 280 300 320 340 360 380 400 420 440 460 Epoch 8 of 20 took 18.400s\n",
            "  training loss (in-iteration): \t1.018148\n",
            "  validation accuracy: \t\t\t52.27 %\n",
            "0 20 40 60 80 100 120 140 160 180 200 220 240 260 280 300 320 340 360 380 400 420 440 460 Epoch 9 of 20 took 18.474s\n",
            "  training loss (in-iteration): \t0.931343\n",
            "  validation accuracy: \t\t\t61.43 %\n",
            "0 20 40 60 80 100 120 140 160 180 200 220 240 260 280 300 320 340 360 380 400 420 440 460 Epoch 10 of 20 took 18.359s\n",
            "  training loss (in-iteration): \t0.842835\n",
            "  validation accuracy: \t\t\t55.25 %\n",
            "0 20 40 60 80 100 120 140 160 180 200 220 240 260 280 300 320 340 360 380 400 420 440 460 Epoch 11 of 20 took 18.370s\n",
            "  training loss (in-iteration): \t0.777876\n",
            "  validation accuracy: \t\t\t63.18 %\n",
            "0 20 40 60 80 100 120 140 160 180 200 220 240 260 280 300 320 340 360 380 400 420 440 460 Epoch 12 of 20 took 18.438s\n",
            "  training loss (in-iteration): \t0.704469\n",
            "  validation accuracy: \t\t\t63.82 %\n",
            "0 20 40 60 80 100 120 140 160 180 200 220 240 260 280 300 320 340 360 380 400 420 440 460 Epoch 13 of 20 took 18.464s\n",
            "  training loss (in-iteration): \t0.640444\n",
            "  validation accuracy: \t\t\t64.56 %\n",
            "0 20 40 60 80 100 120 140 160 180 200 220 240 260 280 300 320 340 360 380 400 420 440 460 Epoch 14 of 20 took 18.389s\n",
            "  training loss (in-iteration): \t0.559850\n",
            "  validation accuracy: \t\t\t64.37 %\n",
            "0 20 40 60 80 100 120 140 160 180 200 220 240 260 280 300 320 340 360 380 400 420 440 460 Epoch 15 of 20 took 18.382s\n",
            "  training loss (in-iteration): \t0.507489\n",
            "  validation accuracy: \t\t\t62.04 %\n",
            "0 20 40 60 80 100 120 140 160 180 200 220 240 260 280 300 320 340 360 380 400 420 440 460 Epoch 16 of 20 took 18.393s\n",
            "  training loss (in-iteration): \t0.444418\n",
            "  validation accuracy: \t\t\t62.25 %\n",
            "0 20 40 60 80 100 120 140 160 180 200 220 240 260 280 300 320 340 360 380 400 420 440 460 Epoch 17 of 20 took 18.409s\n",
            "  training loss (in-iteration): \t0.402515\n",
            "  validation accuracy: \t\t\t66.29 %\n",
            "0 20 40 60 80 100 120 140 160 180 200 220 240 260 280 300 320 340 360 380 400 420 440 460 Epoch 18 of 20 took 18.355s\n",
            "  training loss (in-iteration): \t0.345061\n",
            "  validation accuracy: \t\t\t67.66 %\n",
            "0 20 40 60 80 100 120 140 160 180 200 220 240 260 280 300 320 340 360 380 400 420 440 460 Epoch 19 of 20 took 18.423s\n",
            "  training loss (in-iteration): \t0.311839\n",
            "  validation accuracy: \t\t\t65.43 %\n",
            "0 20 40 60 80 100 120 140 160 180 200 220 240 260 280 300 320 340 360 380 400 420 440 460 Epoch 20 of 20 took 18.372s\n",
            "  training loss (in-iteration): \t0.263898\n",
            "  validation accuracy: \t\t\t65.90 %\n"
          ],
          "name": "stdout"
        }
      ]
    },
    {
      "cell_type": "code",
      "metadata": {
        "id": "TeN3Bg6Oj2_C",
        "colab_type": "code",
        "colab": {
          "base_uri": "https://localhost:8080/",
          "height": 265
        },
        "outputId": "084d3c2e-3ef8-4029-ae14-8cda8222118b"
      },
      "source": [
        "colors = ['red', 'orange', 'blue', 'pink']\n",
        "\n",
        "for i in range(len(losses) // num_epochs):\n",
        "  plt.plot(list(range(num_epochs)), losses[i * num_epochs: (i + 1) * num_epochs], \n",
        "              color=colors[i], label='lr=' + str(learning_rates[i]))\n",
        "plt.legend()\n",
        "plt.show()"
      ],
      "execution_count": 8,
      "outputs": [
        {
          "output_type": "display_data",
          "data": {
            "image/png": "[encoded data removed]",
            "text/plain": [
              "<Figure size 432x288 with 1 Axes>"
            ]
          },
          "metadata": {
            "tags": []
          }
        }
      ]
    },
    {
      "cell_type": "code",
      "metadata": {
        "id": "UWa0xueIj2_I",
        "colab_type": "code",
        "colab": {
          "base_uri": "https://localhost:8080/",
          "height": 1000
        },
        "outputId": "41293753-d2ee-4de1-b41f-0b21c2ed01e8"
      },
      "source": [
        "#clr\n",
        "resnet18 = models.resnet18(num_classes=10, pretrained=False)\n",
        "resnet18 = resnet18.cuda()\n",
        "\n",
        "num_epochs = 20\n",
        "start_lr = 1e-5\n",
        "end_lr = 0.1\n",
        "opt = torch.optim.Adam(resnet18.parameters(), lr=start_lr)\n",
        "\n",
        "lr_lambda = lambda x: math.exp(x * math.log(end_lr / start_lr) / (num_epochs * len(trainset)/batch_size))\n",
        "scheduler = torch.optim.lr_scheduler.LambdaLR(opt, lr_lambda)\n",
        "\n",
        "train_loss = []\n",
        "val_accuracy = []\n",
        "\n",
        "lr_find_loss = []\n",
        "lr_find_lr = []\n",
        "\n",
        "it = 0\n",
        "\n",
        "smoothing = 0.5\n",
        "\n",
        "for epoch in range(num_epochs):\n",
        "    start_time = time.time()\n",
        "    k = 0\n",
        "    resnet18.train(True)\n",
        "    for (X_batch, y_batch) in trainloader:\n",
        "        loss = compute_loss(X_batch, y_batch)\n",
        "        loss.backward()\n",
        "        opt.step()\n",
        "        opt.zero_grad()\n",
        "        train_loss.append(loss.data.cpu().numpy())\n",
        "        if k % 20 == 0:\n",
        "          print(k, end=' ')\n",
        "        k += 1\n",
        "\n",
        "        scheduler.step()\n",
        "        lr_step = opt.state_dict()[\"param_groups\"][0][\"lr\"]\n",
        "        lr_find_lr.append(lr_step)\n",
        "\n",
        "        if it == 0:\n",
        "          lr_find_loss.append(loss)\n",
        "        else:\n",
        "          loss = smoothing  * loss + (1 - smoothing) * lr_find_loss[-1]\n",
        "          lr_find_loss.append(loss)\n",
        "        it += 1\n",
        "\n",
        "    resnet18.train(False)\n",
        "    #print('#')\n",
        "    for (X_batch, y_batch) in valloader:\n",
        "        #print('@', end='')\n",
        "        y_batch = y_batch.cuda()\n",
        "        logits = resnet18(Variable(torch.FloatTensor(X_batch)).cuda())\n",
        "        y_pred = logits.max(1)[1].data\n",
        "        val_accuracy.append(np.mean((y_batch.cpu() == y_pred.cpu()).numpy() ))\n",
        "\n",
        "    print(\"Epoch {} of {} took {:.3f}s\".format(\n",
        "        epoch + 1, num_epochs, time.time() - start_time))\n",
        "    print(\"  training loss (in-iteration): \\t{:.6f}\".format(\n",
        "        np.mean(train_loss[-len(trainset) // batch_size :])))\n",
        "    print(\"  validation accuracy: \\t\\t\\t{:.2f} %\".format(\n",
        "        np.mean(val_accuracy[-len(valset) // batch_size :]) * 100))\n",
        "    losses.append(np.array(train_loss).mean())"
      ],
      "execution_count": 24,
      "outputs": [
        {
          "output_type": "stream",
          "text": [
            "0 20 40 60 80 100 120 140 160 180 200 220 240 260 280 300 320 340 360 380 400 420 440 460 Epoch 1 of 20 took 20.265s\n",
            "  training loss (in-iteration): \t2.047506\n",
            "  validation accuracy: \t\t\t36.07 %\n",
            "0 20 40 60 80 100 120 140 160 180 200 220 240 260 280 300 320 340 360 380 400 420 440 460 Epoch 2 of 20 took 20.423s\n",
            "  training loss (in-iteration): \t1.600241\n",
            "  validation accuracy: \t\t\t42.59 %\n",
            "0 20 40 60 80 100 120 140 160 180 200 220 240 260 280 300 320 340 360 380 400 420 440 460 Epoch 3 of 20 took 20.294s\n",
            "  training loss (in-iteration): \t1.362427\n",
            "  validation accuracy: \t\t\t46.63 %\n",
            "0 20 40 60 80 100 120 140 160 180 200 220 240 260 280 300 320 340 360 380 400 420 440 460 Epoch 4 of 20 took 20.053s\n",
            "  training loss (in-iteration): \t1.170942\n",
            "  validation accuracy: \t\t\t48.13 %\n",
            "0 20 40 60 80 100 120 140 160 180 200 220 240 260 280 300 320 340 360 380 400 420 440 460 Epoch 5 of 20 took 20.072s\n",
            "  training loss (in-iteration): \t1.028381\n",
            "  validation accuracy: \t\t\t49.13 %\n",
            "0 20 40 60 80 100 120 140 160 180 200 220 240 260 280 300 320 340 360 380 400 420 440 460 Epoch 6 of 20 took 20.178s\n",
            "  training loss (in-iteration): \t0.993495\n",
            "  validation accuracy: \t\t\t49.55 %\n",
            "0 20 40 60 80 100 120 140 160 180 200 220 240 260 280 300 320 340 360 380 400 420 440 460 Epoch 7 of 20 took 20.152s\n",
            "  training loss (in-iteration): \t0.995710\n",
            "  validation accuracy: \t\t\t51.78 %\n",
            "0 20 40 60 80 100 120 140 160 180 200 220 240 260 280 300 320 340 360 380 400 420 440 460 Epoch 8 of 20 took 20.625s\n",
            "  training loss (in-iteration): \t0.990709\n",
            "  validation accuracy: \t\t\t50.48 %\n",
            "0 20 40 60 80 100 120 140 160 180 200 220 240 260 280 300 320 340 360 380 400 420 440 460 Epoch 9 of 20 took 20.660s\n",
            "  training loss (in-iteration): \t0.973850\n",
            "  validation accuracy: \t\t\t49.11 %\n",
            "0 20 40 60 80 100 120 140 160 180 200 220 240 260 280 300 320 340 360 380 400 420 440 460 Epoch 10 of 20 took 20.462s\n",
            "  training loss (in-iteration): \t0.971863\n",
            "  validation accuracy: \t\t\t49.33 %\n",
            "0 20 40 60 80 100 120 140 160 180 200 220 240 260 280 300 320 340 360 380 400 420 440 460 Epoch 11 of 20 took 20.707s\n",
            "  training loss (in-iteration): \t0.959147\n",
            "  validation accuracy: \t\t\t40.73 %\n",
            "0 20 40 60 80 100 120 140 160 180 200 220 240 260 280 300 320 340 360 380 400 420 440 460 Epoch 12 of 20 took 20.302s\n",
            "  training loss (in-iteration): \t0.954700\n",
            "  validation accuracy: \t\t\t54.72 %\n",
            "0 20 40 60 80 100 120 140 160 180 200 220 240 260 280 300 320 340 360 380 400 420 440 460 Epoch 13 of 20 took 20.380s\n",
            "  training loss (in-iteration): \t0.944348\n",
            "  validation accuracy: \t\t\t59.62 %\n",
            "0 20 40 60 80 100 120 140 160 180 200 220 240 260 280 300 320 340 360 380 400 420 440 460 Epoch 14 of 20 took 21.412s\n",
            "  training loss (in-iteration): \t0.909845\n",
            "  validation accuracy: \t\t\t57.98 %\n",
            "0 20 40 60 80 100 120 140 160 180 200 220 240 260 280 300 320 340 360 380 400 420 440 460 Epoch 15 of 20 took 20.188s\n",
            "  training loss (in-iteration): \t0.896467\n",
            "  validation accuracy: \t\t\t62.99 %\n",
            "0 20 40 60 80 100 120 140 160 180 200 220 240 260 280 300 320 340 360 380 400 420 440 460 Epoch 16 of 20 took 20.183s\n",
            "  training loss (in-iteration): \t0.884447\n",
            "  validation accuracy: \t\t\t61.06 %\n",
            "0 20 40 60 80 100 120 140 160 180 200 220 240 260 280 300 320 340 360 380 400 420 440 460 Epoch 17 of 20 took 20.278s\n",
            "  training loss (in-iteration): \t0.896163\n",
            "  validation accuracy: \t\t\t58.58 %\n",
            "0 20 40 60 80 100 120 140 160 180 200 220 240 260 280 300 320 340 360 380 400 420 440 460 Epoch 18 of 20 took 20.304s\n",
            "  training loss (in-iteration): \t0.921133\n",
            "  validation accuracy: \t\t\t54.14 %\n",
            "0 20 40 60 80 100 120 140 160 180 200 220 240 260 280 300 320 340 360 380 400 420 440 460 Epoch 19 of 20 took 20.120s\n",
            "  training loss (in-iteration): \t0.947678\n",
            "  validation accuracy: \t\t\t53.88 %\n",
            "0 20 40 60 80 100 120 140 160 180 200 220 240 260 280 300 320 340 360 380 400 420 440 460 Epoch 20 of 20 took 20.359s\n",
            "  training loss (in-iteration): \t1.025506\n",
            "  validation accuracy: \t\t\t55.38 %\n"
          ],
          "name": "stdout"
        }
      ]
    },
    {
      "cell_type": "code",
      "metadata": {
        "id": "q6HQhOCfj2_N",
        "colab_type": "code",
        "colab": {
          "base_uri": "https://localhost:8080/",
          "height": 265
        },
        "outputId": "017157ec-09b9-484a-fcf9-3cc9d4cc4488"
      },
      "source": [
        "plt.plot(list(range(len(lr_find_lr))), lr_find_lr)\n",
        "plt.show()"
      ],
      "execution_count": 25,
      "outputs": [
        {
          "output_type": "display_data",
          "data": {
            "image/png": "[encoded data removed]",
            "text/plain": [
              "<Figure size 432x288 with 1 Axes>"
            ]
          },
          "metadata": {
            "tags": []
          }
        }
      ]
    },
    {
      "cell_type": "code",
      "metadata": {
        "id": "uorAqYGjdquT",
        "colab_type": "code",
        "colab": {
          "base_uri": "https://localhost:8080/",
          "height": 265
        },
        "outputId": "5c7d8853-18e5-4bc6-94f4-785d8c5ae1a1"
      },
      "source": [
        "plt.plot(list(range(len(lr_find_lr))), lr_find_loss)\n",
        "plt.show()"
      ],
      "execution_count": 26,
      "outputs": [
        {
          "output_type": "display_data",
          "data": {
            "image/png": "[encoded data removed]",
            "text/plain": [
              "<Figure size 432x288 with 1 Axes>"
            ]
          },
          "metadata": {
            "tags": []
          }
        }
      ]
    },
    {
      "cell_type": "code",
      "metadata": {
        "id": "9E7MPLejd1Dx",
        "colab_type": "code",
        "colab": {}
      },
      "source": [
        ""
      ],
      "execution_count": 0,
      "outputs": []
    },
    {
      "cell_type": "code",
      "metadata": {
        "id": "ZiS9FG1x1ZyW",
        "colab_type": "code",
        "colab": {}
      },
      "source": [
        ""
      ],
      "execution_count": 0,
      "outputs": []
    },
    {
      "cell_type": "code",
      "metadata": {
        "id": "BTOXtMN-x_qv",
        "colab_type": "code",
        "colab": {
          "base_uri": "https://localhost:8080/",
          "height": 1000
        },
        "outputId": "e6f8bb72-f685-4ece-cc12-51ec26e7c130"
      },
      "source": [
        "#clr\n",
        "resnet18 = models.resnet18(num_classes=10, pretrained=False)\n",
        "resnet18 = resnet18.cuda()\n",
        "\n",
        "num_epochs = 20\n",
        "start_lr = 1e-3\n",
        "end_lr = 0.7\n",
        "opt = torch.optim.Adam(resnet18.parameters(), lr=start_lr)\n",
        "\n",
        "lr_lambda = lambda x: math.exp(x * math.log(start_lr / end_lr) / (num_epochs * len(trainset)/batch_size))\n",
        "scheduler = torch.optim.lr_scheduler.LambdaLR(opt, lr_lambda)\n",
        "\n",
        "train_loss = []\n",
        "val_accuracy = []\n",
        "\n",
        "lr_find_loss = []\n",
        "lr_find_lr = []\n",
        "\n",
        "it = 0\n",
        "\n",
        "smoothing = 0.5\n",
        "\n",
        "for epoch in range(num_epochs):\n",
        "    start_time = time.time()\n",
        "    k = 0\n",
        "    resnet18.train(True)\n",
        "    for (X_batch, y_batch) in trainloader:\n",
        "        loss = compute_loss(X_batch, y_batch)\n",
        "        loss.backward()\n",
        "        opt.step()\n",
        "        opt.zero_grad()\n",
        "        train_loss.append(loss.data.cpu().numpy())\n",
        "        if k % 20 == 0:\n",
        "          print(k, end=' ')\n",
        "        k += 1\n",
        "\n",
        "        scheduler.step()\n",
        "        lr_step = opt.state_dict()[\"param_groups\"][0][\"lr\"]\n",
        "        lr_find_lr.append(lr_step)\n",
        "\n",
        "        if it == 0:\n",
        "          lr_find_loss.append(loss)\n",
        "        else:\n",
        "          loss = smoothing  * loss + (1 - smoothing) * lr_find_loss[-1]\n",
        "          lr_find_loss.append(loss)\n",
        "        it += 1\n",
        "\n",
        "    resnet18.train(False)\n",
        "    #print('#')\n",
        "    for (X_batch, y_batch) in valloader:\n",
        "        #print('@', end='')\n",
        "        y_batch = y_batch.cuda()\n",
        "        logits = resnet18(Variable(torch.FloatTensor(X_batch)).cuda())\n",
        "        y_pred = logits.max(1)[1].data\n",
        "        val_accuracy.append(np.mean((y_batch.cpu() == y_pred.cpu()).numpy() ))\n",
        "\n",
        "    print(\"Epoch {} of {} took {:.3f}s\".format(\n",
        "        epoch + 1, num_epochs, time.time() - start_time))\n",
        "    print(\"  training loss (in-iteration): \\t{:.6f}\".format(\n",
        "        np.mean(train_loss[-len(trainset) // batch_size :])))\n",
        "    print(\"  validation accuracy: \\t\\t\\t{:.2f} %\".format(\n",
        "        np.mean(val_accuracy[-len(valset) // batch_size :]) * 100))\n",
        "    losses.append(np.array(train_loss).mean())"
      ],
      "execution_count": 17,
      "outputs": [
        {
          "output_type": "stream",
          "text": [
            "0 20 40 60 80 100 120 140 160 180 200 220 240 260 280 300 320 340 360 380 400 420 440 460 Epoch 1 of 20 took 20.678s\n",
            "  training loss (in-iteration): \t1.502681\n",
            "  validation accuracy: \t\t\t49.25 %\n",
            "0 20 40 60 80 100 120 140 160 180 200 220 240 260 280 300 320 340 360 380 400 420 440 460 Epoch 2 of 20 took 20.399s\n",
            "  training loss (in-iteration): \t1.083895\n",
            "  validation accuracy: \t\t\t57.97 %\n",
            "0 20 40 60 80 100 120 140 160 180 200 220 240 260 280 300 320 340 360 380 400 420 440 460 Epoch 3 of 20 took 20.226s\n",
            "  training loss (in-iteration): \t0.859203\n",
            "  validation accuracy: \t\t\t54.16 %\n",
            "0 20 40 60 80 100 120 140 160 180 200 220 240 260 280 300 320 340 360 380 400 420 440 460 Epoch 4 of 20 took 20.149s\n",
            "  training loss (in-iteration): \t0.664161\n",
            "  validation accuracy: \t\t\t67.98 %\n",
            "0 20 40 60 80 100 120 140 160 180 200 220 240 260 280 300 320 340 360 380 400 420 440 460 Epoch 5 of 20 took 20.159s\n",
            "  training loss (in-iteration): \t0.467716\n",
            "  validation accuracy: \t\t\t70.20 %\n",
            "0 20 40 60 80 100 120 140 160 180 200 220 240 260 280 300 320 340 360 380 400 420 440 460 Epoch 6 of 20 took 20.188s\n",
            "  training loss (in-iteration): \t0.292036\n",
            "  validation accuracy: \t\t\t70.60 %\n",
            "0 20 40 60 80 100 120 140 160 180 200 220 240 260 280 300 320 340 360 380 400 420 440 460 Epoch 7 of 20 took 20.244s\n",
            "  training loss (in-iteration): \t0.160199\n",
            "  validation accuracy: \t\t\t71.19 %\n",
            "0 20 40 60 80 100 120 140 160 180 200 220 240 260 280 300 320 340 360 380 400 420 440 460 Epoch 8 of 20 took 20.101s\n",
            "  training loss (in-iteration): \t0.076973\n",
            "  validation accuracy: \t\t\t71.77 %\n",
            "0 20 40 60 80 100 120 140 160 180 200 220 240 260 280 300 320 340 360 380 400 420 440 460 Epoch 9 of 20 took 20.089s\n",
            "  training loss (in-iteration): \t0.037646\n",
            "  validation accuracy: \t\t\t71.43 %\n",
            "0 20 40 60 80 100 120 140 160 180 200 220 240 260 280 300 320 340 360 380 400 420 440 460 Epoch 10 of 20 took 20.416s\n",
            "  training loss (in-iteration): \t0.020634\n",
            "  validation accuracy: \t\t\t72.07 %\n",
            "0 20 40 60 80 100 120 140 160 180 200 220 240 260 280 300 320 340 360 380 400 420 440 460 Epoch 11 of 20 took 20.636s\n",
            "  training loss (in-iteration): \t0.013545\n",
            "  validation accuracy: \t\t\t71.94 %\n",
            "0 20 40 60 80 100 120 140 160 180 200 220 240 260 280 300 320 340 360 380 400 420 440 460 Epoch 12 of 20 took 20.653s\n",
            "  training loss (in-iteration): \t0.010170\n",
            "  validation accuracy: \t\t\t72.15 %\n",
            "0 20 40 60 80 100 120 140 160 180 200 220 240 260 280 300 320 340 360 380 400 420 440 460 Epoch 13 of 20 took 20.531s\n",
            "  training loss (in-iteration): \t0.007551\n",
            "  validation accuracy: \t\t\t72.29 %\n",
            "0 20 40 60 80 100 120 140 160 180 200 220 240 260 280 300 320 340 360 380 400 420 440 460 Epoch 14 of 20 took 20.319s\n",
            "  training loss (in-iteration): \t0.005974\n",
            "  validation accuracy: \t\t\t72.03 %\n",
            "0 20 40 60 80 100 120 140 160 180 200 220 240 260 280 300 320 340 360 380 400 420 440 460 Epoch 15 of 20 took 20.331s\n",
            "  training loss (in-iteration): \t0.004943\n",
            "  validation accuracy: \t\t\t72.12 %\n",
            "0 20 40 60 80 100 120 140 160 180 200 220 240 260 280 300 320 340 360 380 400 420 440 460 Epoch 16 of 20 took 20.254s\n",
            "  training loss (in-iteration): \t0.004795\n",
            "  validation accuracy: \t\t\t72.31 %\n",
            "0 20 40 60 80 100 120 140 160 180 200 220 240 260 280 300 320 340 360 380 400 420 440 460 Epoch 17 of 20 took 20.304s\n",
            "  training loss (in-iteration): \t0.004522\n",
            "  validation accuracy: \t\t\t72.16 %\n",
            "0 20 40 60 80 100 120 140 160 180 200 220 240 260 280 300 320 340 360 380 400 420 440 460 Epoch 18 of 20 took 20.304s\n",
            "  training loss (in-iteration): \t0.003784\n",
            "  validation accuracy: \t\t\t72.12 %\n",
            "0 20 40 60 80 100 120 140 160 180 200 220 240 260 280 300 320 340 360 380 400 420 440 460 Epoch 19 of 20 took 20.192s\n",
            "  training loss (in-iteration): \t0.003634\n",
            "  validation accuracy: \t\t\t72.17 %\n",
            "0 20 40 60 80 100 120 140 160 180 200 220 240 260 280 300 320 340 360 380 400 420 440 460 Epoch 20 of 20 took 20.192s\n",
            "  training loss (in-iteration): \t0.003139\n",
            "  validation accuracy: \t\t\t72.28 %\n"
          ],
          "name": "stdout"
        }
      ]
    },
    {
      "cell_type": "code",
      "metadata": {
        "id": "fNresfwSkQT-",
        "colab_type": "code",
        "colab": {
          "base_uri": "https://localhost:8080/",
          "height": 265
        },
        "outputId": "21cdc922-73f2-4a53-f07a-0ed5e63285d1"
      },
      "source": [
        "plt.plot(list(range(len(lr_find_lr))), lr_find_lr)\n",
        "plt.show()"
      ],
      "execution_count": 18,
      "outputs": [
        {
          "output_type": "display_data",
          "data": {
            "image/png": "[encoded data removed]",
            "text/plain": [
              "<Figure size 432x288 with 1 Axes>"
            ]
          },
          "metadata": {
            "tags": []
          }
        }
      ]
    },
    {
      "cell_type": "code",
      "metadata": {
        "id": "-Bf31CbSl0KI",
        "colab_type": "code",
        "colab": {
          "base_uri": "https://localhost:8080/",
          "height": 265
        },
        "outputId": "ea1bd0ba-b54b-4ce3-ea18-c0183b06279c"
      },
      "source": [
        "plt.plot(list(range(len(lr_find_lr))), lr_find_loss)\n",
        "plt.show()"
      ],
      "execution_count": 19,
      "outputs": [
        {
          "output_type": "display_data",
          "data": {
            "image/png": "[encoded data removed]",
            "text/plain": [
              "<Figure size 432x288 with 1 Axes>"
            ]
          },
          "metadata": {
            "tags": []
          }
        }
      ]
    },
    {
      "cell_type": "code",
      "metadata": {
        "id": "g4H9yQ8VqLy0",
        "colab_type": "code",
        "colab": {}
      },
      "source": [
        ""
      ],
      "execution_count": 0,
      "outputs": []
    }
  ]
}