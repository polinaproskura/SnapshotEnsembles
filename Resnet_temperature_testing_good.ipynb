{
  "nbformat": 4,
  "nbformat_minor": 0,
  "metadata": {
    "colab": {
      "name": "Resnet_temperature_testing.ipynb",
      "provenance": [],
      "collapsed_sections": []
    },
    "kernelspec": {
      "name": "python3",
      "display_name": "Python 3"
    },
    "language_info": {
      "name": "python"
    },
    "accelerator": "GPU",
    "widgets": {
      "application/vnd.jupyter.widget-state+json": {
        "18113f308e364d1ba51e3893ad40be58": {
          "model_module": "@jupyter-widgets/controls",
          "model_name": "HBoxModel",
          "state": {
            "_view_name": "HBoxView",
            "_dom_classes": [],
            "_model_name": "HBoxModel",
            "_view_module": "@jupyter-widgets/controls",
            "_model_module_version": "1.5.0",
            "_view_count": null,
            "_view_module_version": "1.5.0",
            "box_style": "",
            "layout": "IPY_MODEL_2378e323900c4fd1860bf962bad2ffe9",
            "_model_module": "@jupyter-widgets/controls",
            "children": [
              "IPY_MODEL_59f4937e311043c483db25f6292940fe",
              "IPY_MODEL_cd1b70181b9c4ac4b9fe48f926eee894"
            ]
          }
        },
        "2378e323900c4fd1860bf962bad2ffe9": {
          "model_module": "@jupyter-widgets/base",
          "model_name": "LayoutModel",
          "state": {
            "_view_name": "LayoutView",
            "grid_template_rows": null,
            "right": null,
            "justify_content": null,
            "_view_module": "@jupyter-widgets/base",
            "overflow": null,
            "_model_module_version": "1.2.0",
            "_view_count": null,
            "flex_flow": null,
            "width": null,
            "min_width": null,
            "border": null,
            "align_items": null,
            "bottom": null,
            "_model_module": "@jupyter-widgets/base",
            "top": null,
            "grid_column": null,
            "overflow_y": null,
            "overflow_x": null,
            "grid_auto_flow": null,
            "grid_area": null,
            "grid_template_columns": null,
            "flex": null,
            "_model_name": "LayoutModel",
            "justify_items": null,
            "grid_row": null,
            "max_height": null,
            "align_content": null,
            "visibility": null,
            "align_self": null,
            "height": null,
            "min_height": null,
            "padding": null,
            "grid_auto_rows": null,
            "grid_gap": null,
            "max_width": null,
            "order": null,
            "_view_module_version": "1.2.0",
            "grid_template_areas": null,
            "object_position": null,
            "object_fit": null,
            "grid_auto_columns": null,
            "margin": null,
            "display": null,
            "left": null
          }
        },
        "59f4937e311043c483db25f6292940fe": {
          "model_module": "@jupyter-widgets/controls",
          "model_name": "FloatProgressModel",
          "state": {
            "_view_name": "ProgressView",
            "style": "IPY_MODEL_a802c9ecad5c4a5b9a65095fdbe42681",
            "_dom_classes": [],
            "description": "",
            "_model_name": "FloatProgressModel",
            "bar_style": "success",
            "max": 170498071,
            "_view_module": "@jupyter-widgets/controls",
            "_model_module_version": "1.5.0",
            "value": 170498071,
            "_view_count": null,
            "_view_module_version": "1.5.0",
            "orientation": "horizontal",
            "min": 0,
            "description_tooltip": null,
            "_model_module": "@jupyter-widgets/controls",
            "layout": "IPY_MODEL_29498b1a6d7143289c9ef7782e63216d"
          }
        },
        "cd1b70181b9c4ac4b9fe48f926eee894": {
          "model_module": "@jupyter-widgets/controls",
          "model_name": "HTMLModel",
          "state": {
            "_view_name": "HTMLView",
            "style": "IPY_MODEL_0a1b6e29320f40b8b289d836d864356c",
            "_dom_classes": [],
            "description": "",
            "_model_name": "HTMLModel",
            "placeholder": "​",
            "_view_module": "@jupyter-widgets/controls",
            "_model_module_version": "1.5.0",
            "value": " 170499072/? [14:27&lt;00:00, 196477.83it/s]",
            "_view_count": null,
            "_view_module_version": "1.5.0",
            "description_tooltip": null,
            "_model_module": "@jupyter-widgets/controls",
            "layout": "IPY_MODEL_8f9b4c141f104c75b0a901230e57a332"
          }
        },
        "a802c9ecad5c4a5b9a65095fdbe42681": {
          "model_module": "@jupyter-widgets/controls",
          "model_name": "ProgressStyleModel",
          "state": {
            "_view_name": "StyleView",
            "_model_name": "ProgressStyleModel",
            "description_width": "initial",
            "_view_module": "@jupyter-widgets/base",
            "_model_module_version": "1.5.0",
            "_view_count": null,
            "_view_module_version": "1.2.0",
            "bar_color": null,
            "_model_module": "@jupyter-widgets/controls"
          }
        },
        "29498b1a6d7143289c9ef7782e63216d": {
          "model_module": "@jupyter-widgets/base",
          "model_name": "LayoutModel",
          "state": {
            "_view_name": "LayoutView",
            "grid_template_rows": null,
            "right": null,
            "justify_content": null,
            "_view_module": "@jupyter-widgets/base",
            "overflow": null,
            "_model_module_version": "1.2.0",
            "_view_count": null,
            "flex_flow": null,
            "width": null,
            "min_width": null,
            "border": null,
            "align_items": null,
            "bottom": null,
            "_model_module": "@jupyter-widgets/base",
            "top": null,
            "grid_column": null,
            "overflow_y": null,
            "overflow_x": null,
            "grid_auto_flow": null,
            "grid_area": null,
            "grid_template_columns": null,
            "flex": null,
            "_model_name": "LayoutModel",
            "justify_items": null,
            "grid_row": null,
            "max_height": null,
            "align_content": null,
            "visibility": null,
            "align_self": null,
            "height": null,
            "min_height": null,
            "padding": null,
            "grid_auto_rows": null,
            "grid_gap": null,
            "max_width": null,
            "order": null,
            "_view_module_version": "1.2.0",
            "grid_template_areas": null,
            "object_position": null,
            "object_fit": null,
            "grid_auto_columns": null,
            "margin": null,
            "display": null,
            "left": null
          }
        },
        "0a1b6e29320f40b8b289d836d864356c": {
          "model_module": "@jupyter-widgets/controls",
          "model_name": "DescriptionStyleModel",
          "state": {
            "_view_name": "StyleView",
            "_model_name": "DescriptionStyleModel",
            "description_width": "",
            "_view_module": "@jupyter-widgets/base",
            "_model_module_version": "1.5.0",
            "_view_count": null,
            "_view_module_version": "1.2.0",
            "_model_module": "@jupyter-widgets/controls"
          }
        },
        "8f9b4c141f104c75b0a901230e57a332": {
          "model_module": "@jupyter-widgets/base",
          "model_name": "LayoutModel",
          "state": {
            "_view_name": "LayoutView",
            "grid_template_rows": null,
            "right": null,
            "justify_content": null,
            "_view_module": "@jupyter-widgets/base",
            "overflow": null,
            "_model_module_version": "1.2.0",
            "_view_count": null,
            "flex_flow": null,
            "width": null,
            "min_width": null,
            "border": null,
            "align_items": null,
            "bottom": null,
            "_model_module": "@jupyter-widgets/base",
            "top": null,
            "grid_column": null,
            "overflow_y": null,
            "overflow_x": null,
            "grid_auto_flow": null,
            "grid_area": null,
            "grid_template_columns": null,
            "flex": null,
            "_model_name": "LayoutModel",
            "justify_items": null,
            "grid_row": null,
            "max_height": null,
            "align_content": null,
            "visibility": null,
            "align_self": null,
            "height": null,
            "min_height": null,
            "padding": null,
            "grid_auto_rows": null,
            "grid_gap": null,
            "max_width": null,
            "order": null,
            "_view_module_version": "1.2.0",
            "grid_template_areas": null,
            "object_position": null,
            "object_fit": null,
            "grid_auto_columns": null,
            "margin": null,
            "display": null,
            "left": null
          }
        }
      }
    }
  },
  "cells": [
    {
      "cell_type": "code",
      "metadata": {
        "cellView": "form",
        "id": "VdSsjRBKkjCj"
      },
      "source": [
        "#@title imports\n",
        "\n",
        "import numpy as np\n",
        "import torch\n",
        "import torchvision\n",
        "import matplotlib.pyplot as plt\n",
        "from time import time\n",
        "import time\n",
        "import copy\n",
        "from torchvision import datasets, transforms\n",
        "from torch import nn, optim\n",
        "import warnings\n",
        "warnings.filterwarnings(\"ignore\")\n",
        "import torchvision.models as models\n",
        "import torch, torch.nn as nn\n",
        "import math\n",
        "import torch.nn.functional as F\n",
        "from torch.autograd import Variable\n",
        "class Flatten(nn.Module):\n",
        "    def forward(self, input):\n",
        "        return input.view(input.size(0), -1)\n",
        "\n",
        "def transform(my_x, my_y):\n",
        "    tensor_x = torch.Tensor(my_x)  # transform to torch tensor\n",
        "    tensor_y = torch.LongTensor(my_y)\n",
        "    my_dataset = data.TensorDataset(tensor_x, tensor_y)  # create your datset\n",
        "    my_dataloader = data.DataLoader(my_dataset)  # create your dataloader\n",
        "    return my_dataloader\n",
        "\n",
        "\n",
        "def compute_loss(X_batch, y_batch):\n",
        "    X_batch = Variable(torch.FloatTensor(X_batch))\n",
        "    y_batch = Variable(torch.LongTensor(y_batch))\n",
        "    X_batch, y_batch = X_batch.cuda(), y_batch.cuda()\n",
        "    logits = resnet18(X_batch)\n",
        "    return F.cross_entropy(logits, y_batch).mean()"
      ],
      "execution_count": null,
      "outputs": []
    },
    {
      "cell_type": "code",
      "metadata": {
        "colab": {
          "base_uri": "https://localhost:8080/",
          "height": 120,
          "referenced_widgets": [
            "18113f308e364d1ba51e3893ad40be58",
            "2378e323900c4fd1860bf962bad2ffe9",
            "59f4937e311043c483db25f6292940fe",
            "cd1b70181b9c4ac4b9fe48f926eee894",
            "a802c9ecad5c4a5b9a65095fdbe42681",
            "29498b1a6d7143289c9ef7782e63216d",
            "0a1b6e29320f40b8b289d836d864356c",
            "8f9b4c141f104c75b0a901230e57a332"
          ]
        },
        "id": "9X3NmX5GkoKl",
        "cellView": "form",
        "outputId": "fca2446b-167a-4ae3-e479-be23c2ddf133"
      },
      "source": [
        "#@title dataloading\n",
        "transform = transforms.ToTensor()\n",
        "batch_size=100\n",
        "\n",
        "transform_train = transforms.Compose([\n",
        "    transforms.RandomCrop(28, padding=4),\n",
        "    transforms.RandomHorizontalFlip(),\n",
        "    transforms.ToTensor(),\n",
        "    transforms.Normalize((0.4914, 0.4822, 0.4465), (0.2023, 0.1994, 0.2010)),\n",
        "])\n",
        "\n",
        "transform_test = transforms.Compose([\n",
        "    transforms.ToTensor(),\n",
        "    transforms.Normalize((0.4914, 0.4822, 0.4465), (0.2023, 0.1994, 0.2010)),\n",
        "])\n",
        "\n",
        "trainset = datasets.CIFAR10('cifar-10', download=True, train=True, transform=transform)\n",
        "testset = datasets.CIFAR10('cifar-10', download=True, train=False, transform=transform)\n",
        "trainloader = torch.utils.data.DataLoader(trainset, batch_size=batch_size, shuffle=True)\n",
        "valset, testset = torch.utils.data.random_split(testset, [1000, 9000])\n",
        "testloader = torch.utils.data.DataLoader(testset, batch_size=batch_size, shuffle=True)\n",
        "valloader = torch.utils.data.DataLoader(valset, batch_size=batch_size, shuffle=True)\n"
      ],
      "execution_count": null,
      "outputs": [
        {
          "output_type": "stream",
          "text": [
            "Downloading https://www.cs.toronto.edu/~kriz/cifar-10-python.tar.gz to cifar-10/cifar-10-python.tar.gz\n"
          ],
          "name": "stdout"
        },
        {
          "output_type": "display_data",
          "data": {
            "application/vnd.jupyter.widget-view+json": {
              "model_id": "18113f308e364d1ba51e3893ad40be58",
              "version_minor": 0,
              "version_major": 2
            },
            "text/plain": [
              "HBox(children=(FloatProgress(value=0.0, max=170498071.0), HTML(value='')))"
            ]
          },
          "metadata": {
            "tags": []
          }
        },
        {
          "output_type": "stream",
          "text": [
            "\n",
            "Extracting cifar-10/cifar-10-python.tar.gz to cifar-10\n",
            "Files already downloaded and verified\n"
          ],
          "name": "stdout"
        }
      ]
    },
    {
      "cell_type": "code",
      "metadata": {
        "cellView": "form",
        "id": "Btl5i05lkqps"
      },
      "source": [
        "#@title resnet_structure\n",
        "class BasicBlock(nn.Module):\n",
        "    expansion = 1\n",
        "\n",
        "    def __init__(self, in_planes, planes, stride=1):\n",
        "        super(BasicBlock, self).__init__()\n",
        "        self.conv1 = nn.Conv2d(in_planes, planes, kernel_size=3, stride=stride, padding=1, bias=False)\n",
        "        self.bn1 = nn.BatchNorm2d(planes)\n",
        "        self.conv2 = nn.Conv2d(planes, planes, kernel_size=3, stride=1, padding=1, bias=False)\n",
        "        self.bn2 = nn.BatchNorm2d(planes)\n",
        "\n",
        "        self.shortcut = nn.Sequential()\n",
        "        if stride != 1 or in_planes != self.expansion*planes:\n",
        "            self.shortcut = nn.Sequential(\n",
        "                nn.Conv2d(in_planes, self.expansion*planes, kernel_size=1, stride=stride, bias=False),\n",
        "                nn.BatchNorm2d(self.expansion*planes)\n",
        "            )\n",
        "\n",
        "    def forward(self, x):\n",
        "        out = F.relu(self.bn1(self.conv1(x)))\n",
        "        out = self.bn2(self.conv2(out))\n",
        "        out += self.shortcut(x)\n",
        "        out = F.relu(out)\n",
        "        return out\n",
        "\n",
        "\n",
        "class Bottleneck(nn.Module):\n",
        "    expansion = 4\n",
        "\n",
        "    def __init__(self, in_planes, planes, stride=1):\n",
        "        super(Bottleneck, self).__init__()\n",
        "        self.conv1 = nn.Conv2d(in_planes, planes, kernel_size=1, bias=False)\n",
        "        self.bn1 = nn.BatchNorm2d(planes)\n",
        "        self.conv2 = nn.Conv2d(planes, planes, kernel_size=3, stride=stride, padding=1, bias=False)\n",
        "        self.bn2 = nn.BatchNorm2d(planes)\n",
        "        self.conv3 = nn.Conv2d(planes, self.expansion*planes, kernel_size=1, bias=False)\n",
        "        self.bn3 = nn.BatchNorm2d(self.expansion*planes)\n",
        "\n",
        "        self.shortcut = nn.Sequential()\n",
        "        if stride != 1 or in_planes != self.expansion*planes:\n",
        "            self.shortcut = nn.Sequential(\n",
        "                nn.Conv2d(in_planes, self.expansion*planes, kernel_size=1, stride=stride, bias=False),\n",
        "                nn.BatchNorm2d(self.expansion*planes)\n",
        "            )\n",
        "\n",
        "    def forward(self, x):\n",
        "        out = F.relu(self.bn1(self.conv1(x)))\n",
        "        out = F.relu(self.bn2(self.conv2(out)))\n",
        "        out = self.bn3(self.conv3(out))\n",
        "        out += self.shortcut(x)\n",
        "        out = F.relu(out)\n",
        "        return out\n",
        "\n",
        "\n",
        "class ResNet(nn.Module):\n",
        "    def __init__(self, block, num_blocks, num_classes=10):\n",
        "        super(ResNet, self).__init__()\n",
        "        self.in_planes = 64\n",
        "\n",
        "        self.conv1 = nn.Conv2d(3, 64, kernel_size=3, stride=1, padding=1, bias=False)\n",
        "        self.bn1 = nn.BatchNorm2d(64)\n",
        "        self.layer1 = self._make_layer(block, 64, num_blocks[0], stride=1)\n",
        "        self.layer2 = self._make_layer(block, 128, num_blocks[1], stride=2)\n",
        "        self.layer3 = self._make_layer(block, 256, num_blocks[2], stride=2)\n",
        "        self.layer4 = self._make_layer(block, 512, num_blocks[3], stride=2)\n",
        "        self.linear = nn.Linear(512*block.expansion, num_classes)\n",
        "\n",
        "    def _make_layer(self, block, planes, num_blocks, stride):\n",
        "        strides = [stride] + [1]*(num_blocks-1)\n",
        "        layers = []\n",
        "        for stride in strides:\n",
        "            layers.append(block(self.in_planes, planes, stride))\n",
        "            self.in_planes = planes * block.expansion\n",
        "        return nn.Sequential(*layers)\n",
        "\n",
        "    def forward(self, x):\n",
        "        out = F.relu(self.bn1(self.conv1(x)))\n",
        "        out = self.layer1(out)\n",
        "        out = self.layer2(out)\n",
        "        out = self.layer3(out)\n",
        "        out = self.layer4(out)\n",
        "        out = F.avg_pool2d(out, 4)\n",
        "        out = out.view(out.size(0), -1)\n",
        "        out = self.linear(out)\n",
        "        return out\n",
        "\n",
        "\n",
        "def ResNet18():\n",
        "    return ResNet(BasicBlock, [2,2,2,2])\n"
      ],
      "execution_count": null,
      "outputs": []
    },
    {
      "cell_type": "code",
      "metadata": {
        "colab": {
          "base_uri": "https://localhost:8080/"
        },
        "id": "le7_ssJ1Tyaj",
        "outputId": "25d4c1f9-1b86-44a1-8793-98f1c4c9d319"
      },
      "source": [
        "from google.colab import drive\n",
        "drive.mount('/gdrive')"
      ],
      "execution_count": null,
      "outputs": [
        {
          "output_type": "stream",
          "text": [
            "Mounted at /gdrive\n"
          ],
          "name": "stdout"
        }
      ]
    },
    {
      "cell_type": "code",
      "metadata": {
        "colab": {
          "base_uri": "https://localhost:8080/"
        },
        "id": "8iyOt5ShVVdE",
        "outputId": "133e43aa-a577-49f3-fc49-3d0891fe2557"
      },
      "source": [
        "! ls /gdrive/MyDrive"
      ],
      "execution_count": null,
      "outputs": [
        {
          "output_type": "stream",
          "text": [
            " Classroom\t\t\t\t Lab1_Linear_and_Ensembles.ipynb\n",
            " Colab_Lab1_SVM.ipynb\t\t\t'Lab2 (1).ipynb'\n",
            "'Colab Notebooks'\t\t\t Lab2.ipynb\n",
            " heatmap_big_temp.jpg\t\t\t Lab3.rar\n",
            " heatmap_small_temp.jpg\t\t\t model_2\n",
            " heatmap_val_big_temp.jpg\t\t train_loss.csv\n",
            " heatmap_val_small_temp.jpg\t\t val_loss.csv\n",
            " HW1_kNN_and_Logistic_regression.ipynb\n"
          ],
          "name": "stdout"
        }
      ]
    },
    {
      "cell_type": "code",
      "metadata": {
        "id": "9oaGb7Zat82F"
      },
      "source": [
        "def weigheted_most_common(predictions, weights):\n",
        "    new_predictions = {}\n",
        "    for i in range(len(predictions)):\n",
        "        if predictions[i] in new_predictions:\n",
        "            new_predictions[predictions[i]] = new_predictions[predictions[i]] + weights[i]\n",
        "        else:\n",
        "            new_predictions[predictions[i]] = weights[i]\n",
        "    top = list(sorted(new_predictions.items(), key=lambda item: item[1], reverse=True))\n",
        "    return top[0][0]\n",
        "\n",
        "    \n",
        "from collections import Counter\n",
        "import numpy as np\n",
        "def ensemble_predictions(members, loader, weights):\n",
        "    accs = []\n",
        "    for (X_batch, y_batch) in loader:\n",
        "        yhats = []\n",
        "        for model in members:\n",
        "            y_batch = y_batch.cuda()\n",
        "            logits = model(Variable(torch.FloatTensor(X_batch)).cuda())\n",
        "            y_pred = logits.max(1)[1].data\n",
        "            yhats.append(y_pred.cpu().numpy())\n",
        "        yhats = np.array(yhats)\n",
        "        maxs = []\n",
        "        for i in range(yhats.shape[1]):\n",
        "            cur_max = weigheted_most_common(yhats[:, i], weights)\n",
        "            maxs.append(cur_max)\n",
        "        # sum across ensemble members\n",
        "        maxs = np.array(maxs)\n",
        "        # argmax across classes\n",
        "        accs.append(np.mean((y_batch.cpu().numpy() == maxs)))\n",
        "    accs = np.array(accs)\n",
        "    return accs, np.mean(accs)"
      ],
      "execution_count": null,
      "outputs": []
    },
    {
      "cell_type": "code",
      "metadata": {
        "id": "OnCnBCVPUpAa"
      },
      "source": [
        "models_list = []\n",
        "for i in range(25):\n",
        "    name = '/gdrive/MyDrive/model_2/model_' + str(i) + '.pt'\n",
        "    model = ResNet(BasicBlock, [2,2,2,2]).cuda()\n",
        "    model.load_state_dict(torch.load(name))\n",
        "    models_list.append(model)"
      ],
      "execution_count": null,
      "outputs": []
    },
    {
      "cell_type": "code",
      "metadata": {
        "colab": {
          "base_uri": "https://localhost:8080/"
        },
        "id": "6GG-wA3JYrKW",
        "outputId": "eebf63ad-3c6b-4d22-ba51-f5b630952cf1"
      },
      "source": [
        "current_models = models_list[-24:-8]\n",
        "weights = [1.] * 24\n",
        "accs, mean_accs = ensemble_predictions(current_models, testloader, weights)\n",
        "print('Ensemble accuracy = ', round(mean_accs, 3) * 100, '%')"
      ],
      "execution_count": null,
      "outputs": [
        {
          "output_type": "stream",
          "text": [
            "Ensemble accuracy =  90.10000000000001 %\n"
          ],
          "name": "stdout"
        }
      ]
    },
    {
      "cell_type": "code",
      "metadata": {
        "colab": {
          "base_uri": "https://localhost:8080/",
          "height": 256
        },
        "id": "6oYs6-2KVFED",
        "outputId": "f7d0bcae-ae50-4e00-cbf7-aeec644d60ee"
      },
      "source": [
        "from numpy import genfromtxt\n",
        "number_of_models = [2, 5, 8, 10, 15, 22]\n",
        "temperatures = [0.1, 0.3, 0.5, 1.0, 1.5, 2.5, 5.0]\n",
        "train_lik_loss = genfromtxt('/gdrive/MyDrive/train_loss.csv', delimiter=',')[-25:]\n",
        "print(len(train_lik_loss))\n",
        "#train loss\n",
        "\n",
        "results = np.zeros((len(number_of_models), len(temperatures)))\n",
        "for i in range(len(number_of_models)):\n",
        "    num = number_of_models[i]\n",
        "    current_models = models_list[-num:]\n",
        "    for t in range(len(temperatures)):\n",
        "            temp_constant = temperatures[t]\n",
        "            loss_list = np.array(train_lik_loss[-len(current_models):])\n",
        "            for j in range(loss_list.shape[0]):\n",
        "                loss_list[j] = np.exp(np.exp(-loss_list[j]) / temp_constant)\n",
        "            weights = loss_list #np.array(1. / loss_list, dtype=np.float64) #weight according likelyhood \n",
        "            accs, mean_accs = ensemble_predictions(current_models, testloader, weights)\n",
        "            results[i, t] = mean_accs\n",
        "            print(t, 'Ensemble accuracy = ', round(mean_accs, 3) * 100, '%')"
      ],
      "execution_count": null,
      "outputs": [
        {
          "output_type": "stream",
          "text": [
            "25\n"
          ],
          "name": "stdout"
        },
        {
          "output_type": "error",
          "ename": "NameError",
          "evalue": "ignored",
          "traceback": [
            "\u001b[0;31m---------------------------------------------------------------------------\u001b[0m",
            "\u001b[0;31mNameError\u001b[0m                                 Traceback (most recent call last)",
            "\u001b[0;32m<ipython-input-7-c60b57c4fb08>\u001b[0m in \u001b[0;36m<module>\u001b[0;34m()\u001b[0m\n\u001b[1;32m      9\u001b[0m \u001b[0;32mfor\u001b[0m \u001b[0mi\u001b[0m \u001b[0;32min\u001b[0m \u001b[0mrange\u001b[0m\u001b[0;34m(\u001b[0m\u001b[0mlen\u001b[0m\u001b[0;34m(\u001b[0m\u001b[0mnumber_of_models\u001b[0m\u001b[0;34m)\u001b[0m\u001b[0;34m)\u001b[0m\u001b[0;34m:\u001b[0m\u001b[0;34m\u001b[0m\u001b[0;34m\u001b[0m\u001b[0m\n\u001b[1;32m     10\u001b[0m     \u001b[0mnum\u001b[0m \u001b[0;34m=\u001b[0m \u001b[0mnumber_of_models\u001b[0m\u001b[0;34m[\u001b[0m\u001b[0mi\u001b[0m\u001b[0;34m]\u001b[0m\u001b[0;34m\u001b[0m\u001b[0;34m\u001b[0m\u001b[0m\n\u001b[0;32m---> 11\u001b[0;31m     \u001b[0mcurrent_models\u001b[0m \u001b[0;34m=\u001b[0m \u001b[0mmodels_list\u001b[0m\u001b[0;34m[\u001b[0m\u001b[0;34m-\u001b[0m\u001b[0mnum\u001b[0m\u001b[0;34m:\u001b[0m\u001b[0;34m]\u001b[0m\u001b[0;34m\u001b[0m\u001b[0;34m\u001b[0m\u001b[0m\n\u001b[0m\u001b[1;32m     12\u001b[0m     \u001b[0;32mfor\u001b[0m \u001b[0mt\u001b[0m \u001b[0;32min\u001b[0m \u001b[0mrange\u001b[0m\u001b[0;34m(\u001b[0m\u001b[0mlen\u001b[0m\u001b[0;34m(\u001b[0m\u001b[0mtemperatures\u001b[0m\u001b[0;34m)\u001b[0m\u001b[0;34m)\u001b[0m\u001b[0;34m:\u001b[0m\u001b[0;34m\u001b[0m\u001b[0;34m\u001b[0m\u001b[0m\n\u001b[1;32m     13\u001b[0m             \u001b[0mtemp_constant\u001b[0m \u001b[0;34m=\u001b[0m \u001b[0mtemperatures\u001b[0m\u001b[0;34m[\u001b[0m\u001b[0mt\u001b[0m\u001b[0;34m]\u001b[0m\u001b[0;34m\u001b[0m\u001b[0;34m\u001b[0m\u001b[0m\n",
            "\u001b[0;31mNameError\u001b[0m: name 'models_list' is not defined"
          ]
        }
      ]
    },
    {
      "cell_type": "code",
      "metadata": {
        "colab": {
          "base_uri": "https://localhost:8080/",
          "height": 264
        },
        "id": "fQ91nc4zVtfM",
        "outputId": "7e60657b-2e69-4698-8c75-916ee3d9c6d4"
      },
      "source": [
        "from seaborn import heatmap\n",
        "heatmap(results, xticklabels=temperatures, yticklabels=number_of_models)\n",
        "import matplotlib.pyplot as plt\n",
        "plt.savefig('/gdrive/MyDrive/heatmap_big_temp.jpg')"
      ],
      "execution_count": null,
      "outputs": [
        {
          "output_type": "display_data",
          "data": {
            "image/png": "[encoded data removed]",
            "text/plain": [
              "<Figure size 432x288 with 2 Axes>"
            ]
          },
          "metadata": {
            "tags": [],
            "needs_background": "light"
          }
        }
      ]
    },
    {
      "cell_type": "code",
      "metadata": {
        "id": "MG0VffU6Vtmy",
        "colab": {
          "base_uri": "https://localhost:8080/"
        },
        "outputId": "f5e73a7a-5d32-4060-af09-1f50fde9f9ce"
      },
      "source": [
        "from numpy import genfromtxt\n",
        "number_of_models = [10, 15, 17, 20, 22, 24]\n",
        "temperatures = [0.1, 0.3, 0.5, 0.7, 0.9, 1.1, 1.3]\n",
        "train_lik_loss = genfromtxt('/gdrive/MyDrive/train_loss.csv', delimiter=',')[-25:]\n",
        "print(len(train_lik_loss))\n",
        "#train loss\n",
        "\n",
        "results = np.zeros((len(number_of_models), len(temperatures)))\n",
        "for i in range(len(number_of_models)):\n",
        "    num = number_of_models[i]\n",
        "    current_models = models_list[-num:]\n",
        "    for t in range(len(temperatures)):\n",
        "            temp_constant = temperatures[t]\n",
        "            loss_list = np.array(train_lik_loss[-len(current_models):])\n",
        "            for j in range(loss_list.shape[0]):\n",
        "                loss_list[j] = np.exp(np.exp(-loss_list[j]) / temp_constant)\n",
        "            weights = loss_list #np.array(1. / loss_list, dtype=np.float64) #weight according likelyhood \n",
        "            accs, mean_accs = ensemble_predictions(current_models, testloader, weights)\n",
        "            results[i, t] = mean_accs\n",
        "            print(t, 'Ensemble accuracy = ', round(mean_accs, 3) * 100, '%')"
      ],
      "execution_count": null,
      "outputs": [
        {
          "output_type": "stream",
          "text": [
            "25\n",
            "0 Ensemble accuracy =  89.0 %\n",
            "1 Ensemble accuracy =  88.9 %\n",
            "2 Ensemble accuracy =  89.2 %\n",
            "3 Ensemble accuracy =  89.1 %\n",
            "4 Ensemble accuracy =  89.1 %\n",
            "5 Ensemble accuracy =  88.9 %\n",
            "6 Ensemble accuracy =  89.0 %\n",
            "0 Ensemble accuracy =  89.60000000000001 %\n",
            "1 Ensemble accuracy =  89.5 %\n",
            "2 Ensemble accuracy =  89.60000000000001 %\n",
            "3 Ensemble accuracy =  89.7 %\n",
            "4 Ensemble accuracy =  89.5 %\n",
            "5 Ensemble accuracy =  89.60000000000001 %\n",
            "6 Ensemble accuracy =  89.4 %\n",
            "0 Ensemble accuracy =  89.7 %\n",
            "1 Ensemble accuracy =  89.3 %\n",
            "2 Ensemble accuracy =  89.9 %\n",
            "3 Ensemble accuracy =  89.9 %\n",
            "4 Ensemble accuracy =  89.8 %\n",
            "5 Ensemble accuracy =  89.8 %\n",
            "6 Ensemble accuracy =  89.8 %\n",
            "0 Ensemble accuracy =  90.10000000000001 %\n",
            "1 Ensemble accuracy =  89.9 %\n",
            "2 Ensemble accuracy =  90.0 %\n",
            "3 Ensemble accuracy =  90.0 %\n",
            "4 Ensemble accuracy =  89.9 %\n",
            "5 Ensemble accuracy =  89.8 %\n",
            "6 Ensemble accuracy =  89.8 %\n",
            "0 Ensemble accuracy =  89.9 %\n",
            "1 Ensemble accuracy =  90.10000000000001 %\n",
            "2 Ensemble accuracy =  90.3 %\n",
            "3 Ensemble accuracy =  90.10000000000001 %\n",
            "4 Ensemble accuracy =  90.2 %\n",
            "5 Ensemble accuracy =  89.9 %\n",
            "6 Ensemble accuracy =  90.3 %\n",
            "0 Ensemble accuracy =  90.2 %\n",
            "1 Ensemble accuracy =  90.4 %\n",
            "2 Ensemble accuracy =  90.2 %\n",
            "3 Ensemble accuracy =  90.2 %\n",
            "4 Ensemble accuracy =  90.60000000000001 %\n",
            "5 Ensemble accuracy =  90.4 %\n",
            "6 Ensemble accuracy =  90.2 %\n"
          ],
          "name": "stdout"
        }
      ]
    },
    {
      "cell_type": "code",
      "metadata": {
        "colab": {
          "base_uri": "https://localhost:8080/",
          "height": 264
        },
        "id": "n3eqvc-TUrZl",
        "outputId": "3177d9cc-8af3-4711-ed2a-2660a54cb9e3"
      },
      "source": [
        "from seaborn import heatmap\n",
        "heatmap(results, xticklabels=temperatures, yticklabels=number_of_models)\n",
        "import matplotlib.pyplot as plt\n",
        "plt.savefig('/gdrive/MyDrive/heatmap_small_temp.jpg')"
      ],
      "execution_count": null,
      "outputs": [
        {
          "output_type": "display_data",
          "data": {
            "image/png": "[encoded data removed]",
            "text/plain": [
              "<Figure size 432x288 with 2 Axes>"
            ]
          },
          "metadata": {
            "tags": [],
            "needs_background": "light"
          }
        }
      ]
    },
    {
      "cell_type": "code",
      "metadata": {
        "colab": {
          "base_uri": "https://localhost:8080/"
        },
        "id": "dnmfIHo1Urgz",
        "outputId": "5bb8d0c0-c495-4dfb-ec8d-bf6846b68901"
      },
      "source": [
        "from numpy import genfromtxt\n",
        "number_of_models = [2, 5, 8, 10, 15, 22]\n",
        "temperatures = [0.1, 0.3, 0.5, 1.0, 1.5, 2.5, 5.0]\n",
        "train_lik_loss = genfromtxt('/gdrive/MyDrive/val_loss.csv', delimiter=',')[-25:]\n",
        "print(len(train_lik_loss))\n",
        "#train loss\n",
        "\n",
        "results = np.zeros((len(number_of_models), len(temperatures)))\n",
        "for i in range(len(number_of_models)):\n",
        "    num = number_of_models[i]\n",
        "    current_models = models_list[-num:]\n",
        "    for t in range(len(temperatures)):\n",
        "            temp_constant = temperatures[t]\n",
        "            loss_list = np.array(train_lik_loss[-len(current_models):])\n",
        "            for j in range(loss_list.shape[0]):\n",
        "                loss_list[j] = np.exp(np.exp(-loss_list[j]) / temp_constant)\n",
        "            weights = loss_list #np.array(1. / loss_list, dtype=np.float64) #weight according likelyhood \n",
        "            accs, mean_accs = ensemble_predictions(current_models, testloader, weights)\n",
        "            results[i, t] = mean_accs\n",
        "            print(t, 'Ensemble accuracy = ', round(mean_accs, 3) * 100, '%')"
      ],
      "execution_count": null,
      "outputs": [
        {
          "output_type": "stream",
          "text": [
            "25\n",
            "0 Ensemble accuracy =  89.0 %\n",
            "1 Ensemble accuracy =  88.6 %\n",
            "2 Ensemble accuracy =  89.0 %\n",
            "3 Ensemble accuracy =  88.9 %\n",
            "4 Ensemble accuracy =  89.4 %\n",
            "5 Ensemble accuracy =  88.9 %\n",
            "6 Ensemble accuracy =  89.1 %\n",
            "0 Ensemble accuracy =  89.1 %\n",
            "1 Ensemble accuracy =  89.2 %\n",
            "2 Ensemble accuracy =  88.8 %\n",
            "3 Ensemble accuracy =  88.9 %\n",
            "4 Ensemble accuracy =  89.0 %\n",
            "5 Ensemble accuracy =  88.9 %\n",
            "6 Ensemble accuracy =  88.9 %\n",
            "0 Ensemble accuracy =  88.9 %\n",
            "1 Ensemble accuracy =  89.0 %\n",
            "2 Ensemble accuracy =  89.0 %\n",
            "3 Ensemble accuracy =  89.1 %\n",
            "4 Ensemble accuracy =  89.0 %\n",
            "5 Ensemble accuracy =  89.0 %\n",
            "6 Ensemble accuracy =  89.0 %\n",
            "0 Ensemble accuracy =  88.9 %\n",
            "1 Ensemble accuracy =  88.9 %\n",
            "2 Ensemble accuracy =  89.3 %\n",
            "3 Ensemble accuracy =  89.0 %\n",
            "4 Ensemble accuracy =  88.9 %\n",
            "5 Ensemble accuracy =  89.3 %\n",
            "6 Ensemble accuracy =  88.9 %\n",
            "0 Ensemble accuracy =  89.5 %\n",
            "1 Ensemble accuracy =  89.4 %\n",
            "2 Ensemble accuracy =  89.60000000000001 %\n",
            "3 Ensemble accuracy =  89.5 %\n",
            "4 Ensemble accuracy =  89.4 %\n",
            "5 Ensemble accuracy =  89.7 %\n",
            "6 Ensemble accuracy =  89.3 %\n",
            "0 Ensemble accuracy =  90.10000000000001 %\n",
            "1 Ensemble accuracy =  90.3 %\n",
            "2 Ensemble accuracy =  90.0 %\n",
            "3 Ensemble accuracy =  90.0 %\n",
            "4 Ensemble accuracy =  90.2 %\n",
            "5 Ensemble accuracy =  90.4 %\n",
            "6 Ensemble accuracy =  90.3 %\n"
          ],
          "name": "stdout"
        }
      ]
    },
    {
      "cell_type": "code",
      "metadata": {
        "colab": {
          "base_uri": "https://localhost:8080/",
          "height": 267
        },
        "id": "X5SXUGPVdZ91",
        "outputId": "ea5d0319-ea9e-42e2-adbe-a34c6b237bbe"
      },
      "source": [
        "from seaborn import heatmap\n",
        "heatmap(results, xticklabels=temperatures, yticklabels=number_of_models)\n",
        "import matplotlib.pyplot as plt\n",
        "plt.savefig('/gdrive/MyDrive/heatmap_val_big_temp.jpg')"
      ],
      "execution_count": null,
      "outputs": [
        {
          "output_type": "display_data",
          "data": {
            "image/png": "[encoded data removed]",
            "text/plain": [
              "<Figure size 432x288 with 2 Axes>"
            ]
          },
          "metadata": {
            "tags": [],
            "needs_background": "light"
          }
        }
      ]
    },
    {
      "cell_type": "code",
      "metadata": {
        "colab": {
          "base_uri": "https://localhost:8080/"
        },
        "id": "RGEMt_UrdZwV",
        "outputId": "c2ce802e-2330-491b-89a1-bdc2f399325c"
      },
      "source": [
        "from numpy import genfromtxt\n",
        "number_of_models = [10, 15, 17, 20, 22, 24]\n",
        "temperatures = [0.1, 0.3, 0.5, 0.7, 0.9, 1.1, 1.3]\n",
        "train_lik_loss = genfromtxt('/gdrive/MyDrive/val_loss.csv', delimiter=',')[-25:]\n",
        "print(len(train_lik_loss))\n",
        "#train loss\n",
        "\n",
        "results = np.zeros((len(number_of_models), len(temperatures)))\n",
        "for i in range(len(number_of_models)):\n",
        "    num = number_of_models[i]\n",
        "    current_models = models_list[-num:]\n",
        "    for t in range(len(temperatures)):\n",
        "            temp_constant = temperatures[t]\n",
        "            loss_list = np.array(train_lik_loss[-len(current_models):])\n",
        "            for j in range(loss_list.shape[0]):\n",
        "                loss_list[j] = np.exp(np.exp(-loss_list[j]) / temp_constant)\n",
        "            weights = loss_list #np.array(1. / loss_list, dtype=np.float64) #weight according likelyhood \n",
        "            accs, mean_accs = ensemble_predictions(current_models, testloader, weights)\n",
        "            results[i, t] = mean_accs\n",
        "            print(t, 'Ensemble accuracy = ', round(mean_accs, 3) * 100, '%')"
      ],
      "execution_count": null,
      "outputs": [
        {
          "output_type": "stream",
          "text": [
            "25\n",
            "0 Ensemble accuracy =  89.0 %\n",
            "1 Ensemble accuracy =  89.3 %\n",
            "2 Ensemble accuracy =  89.0 %\n",
            "3 Ensemble accuracy =  88.9 %\n",
            "4 Ensemble accuracy =  88.8 %\n",
            "5 Ensemble accuracy =  89.0 %\n",
            "6 Ensemble accuracy =  89.1 %\n",
            "0 Ensemble accuracy =  89.8 %\n",
            "1 Ensemble accuracy =  89.60000000000001 %\n",
            "2 Ensemble accuracy =  89.7 %\n",
            "3 Ensemble accuracy =  89.4 %\n",
            "4 Ensemble accuracy =  89.7 %\n",
            "5 Ensemble accuracy =  89.4 %\n",
            "6 Ensemble accuracy =  89.4 %\n",
            "0 Ensemble accuracy =  89.7 %\n",
            "1 Ensemble accuracy =  89.8 %\n",
            "2 Ensemble accuracy =  89.4 %\n",
            "3 Ensemble accuracy =  89.7 %\n",
            "4 Ensemble accuracy =  89.7 %\n",
            "5 Ensemble accuracy =  89.8 %\n",
            "6 Ensemble accuracy =  89.60000000000001 %\n",
            "0 Ensemble accuracy =  90.4 %\n",
            "1 Ensemble accuracy =  90.0 %\n",
            "2 Ensemble accuracy =  90.2 %\n",
            "3 Ensemble accuracy =  90.3 %\n",
            "4 Ensemble accuracy =  90.10000000000001 %\n",
            "5 Ensemble accuracy =  90.10000000000001 %\n",
            "6 Ensemble accuracy =  90.2 %\n",
            "0 Ensemble accuracy =  90.3 %\n",
            "1 Ensemble accuracy =  90.5 %\n",
            "2 Ensemble accuracy =  90.0 %\n",
            "3 Ensemble accuracy =  90.2 %\n",
            "4 Ensemble accuracy =  90.2 %\n",
            "5 Ensemble accuracy =  90.10000000000001 %\n",
            "6 Ensemble accuracy =  90.2 %\n",
            "0 Ensemble accuracy =  90.2 %\n",
            "1 Ensemble accuracy =  90.5 %\n",
            "2 Ensemble accuracy =  90.2 %\n",
            "3 Ensemble accuracy =  90.2 %\n",
            "4 Ensemble accuracy =  90.10000000000001 %\n",
            "5 Ensemble accuracy =  90.3 %\n",
            "6 Ensemble accuracy =  90.5 %\n"
          ],
          "name": "stdout"
        }
      ]
    },
    {
      "cell_type": "code",
      "metadata": {
        "colab": {
          "base_uri": "https://localhost:8080/",
          "height": 264
        },
        "id": "8uo1jc1ddZmT",
        "outputId": "9fc1b29a-6071-4a02-acf6-f620333b23a1"
      },
      "source": [
        "from seaborn import heatmap\n",
        "heatmap(results, xticklabels=temperatures, yticklabels=number_of_models)\n",
        "import matplotlib.pyplot as plt\n",
        "plt.savefig('/gdrive/MyDrive/heatmap_val_small_temp.jpg')"
      ],
      "execution_count": null,
      "outputs": [
        {
          "output_type": "display_data",
          "data": {
            "image/png": "[encoded data removed]",
            "text/plain": [
              "<Figure size 432x288 with 2 Axes>"
            ]
          },
          "metadata": {
            "tags": [],
            "needs_background": "light"
          }
        }
      ]
    },
    {
      "cell_type": "code",
      "metadata": {
        "colab": {
          "base_uri": "https://localhost:8080/"
        },
        "id": "t8embIzvdZXE",
        "outputId": "a36eb30b-1e8c-400b-efa3-032ba6931767"
      },
      "source": [
        "from numpy import genfromtxt\n",
        "number_of_models = [10, 15, 17, 20, 22, 24]\n",
        "temperatures = [0.1, 0.3, 0.5, 1.0, 1.5, 2.5, 5.0]\n",
        "train_lik_loss = genfromtxt('/gdrive/MyDrive/train_loss.csv', delimiter=',')[-25:]\n",
        "print(len(train_lik_loss))\n",
        "#train loss\n",
        "\n",
        "results = np.zeros((len(number_of_models), len(temperatures)))\n",
        "for i in range(len(number_of_models)):\n",
        "    num = number_of_models[i]\n",
        "    current_models = models_list[-num:]\n",
        "    for t in range(len(temperatures)):\n",
        "            temp_constant = temperatures[t]\n",
        "            loss_list = np.array(train_lik_loss[-len(current_models):])\n",
        "            for j in range(loss_list.shape[0]):\n",
        "                loss_list[j] = np.exp(np.exp(-loss_list[j]) / temp_constant)\n",
        "            weights = loss_list #np.array(1. / loss_list, dtype=np.float64) #weight according likelyhood \n",
        "            accs, mean_accs = ensemble_predictions(current_models, valloader, weights)\n",
        "            results[i, t] = mean_accs\n",
        "            print(t, 'Ensemble accuracy = ', mean_accs)"
      ],
      "execution_count": null,
      "outputs": [
        {
          "output_type": "stream",
          "text": [
            "25\n",
            "0 Ensemble accuracy =  0.876\n",
            "1 Ensemble accuracy =  0.882\n",
            "2 Ensemble accuracy =  0.881\n",
            "3 Ensemble accuracy =  0.8710000000000001\n",
            "4 Ensemble accuracy =  0.8790000000000001\n",
            "5 Ensemble accuracy =  0.883\n",
            "6 Ensemble accuracy =  0.877\n",
            "0 Ensemble accuracy =  0.882\n",
            "1 Ensemble accuracy =  0.8880000000000001\n",
            "2 Ensemble accuracy =  0.8779999999999999\n",
            "3 Ensemble accuracy =  0.8869999999999999\n",
            "4 Ensemble accuracy =  0.8880000000000001\n",
            "5 Ensemble accuracy =  0.8880000000000001\n",
            "6 Ensemble accuracy =  0.883\n",
            "0 Ensemble accuracy =  0.8879999999999999\n",
            "1 Ensemble accuracy =  0.8879999999999999\n",
            "2 Ensemble accuracy =  0.8920000000000001\n",
            "3 Ensemble accuracy =  0.8959999999999999\n",
            "4 Ensemble accuracy =  0.8889999999999999\n",
            "5 Ensemble accuracy =  0.8869999999999999\n",
            "6 Ensemble accuracy =  0.884\n",
            "0 Ensemble accuracy =  0.893\n",
            "1 Ensemble accuracy =  0.8869999999999999\n",
            "2 Ensemble accuracy =  0.891\n",
            "3 Ensemble accuracy =  0.891\n",
            "4 Ensemble accuracy =  0.891\n",
            "5 Ensemble accuracy =  0.8880000000000001\n",
            "6 Ensemble accuracy =  0.889\n",
            "0 Ensemble accuracy =  0.8869999999999999\n",
            "1 Ensemble accuracy =  0.889\n",
            "2 Ensemble accuracy =  0.8869999999999999\n",
            "3 Ensemble accuracy =  0.891\n",
            "4 Ensemble accuracy =  0.8869999999999999\n",
            "5 Ensemble accuracy =  0.8939999999999999\n",
            "6 Ensemble accuracy =  0.8949999999999999\n",
            "0 Ensemble accuracy =  0.8960000000000001\n",
            "1 Ensemble accuracy =  0.8950000000000001\n",
            "2 Ensemble accuracy =  0.8880000000000001\n",
            "3 Ensemble accuracy =  0.8880000000000001\n",
            "4 Ensemble accuracy =  0.8859999999999999\n",
            "5 Ensemble accuracy =  0.893\n",
            "6 Ensemble accuracy =  0.892\n"
          ],
          "name": "stdout"
        }
      ]
    },
    {
      "cell_type": "code",
      "metadata": {
        "colab": {
          "base_uri": "https://localhost:8080/"
        },
        "id": "HoPzmIbArBCO",
        "outputId": "4f21c3b6-29b7-4c32-87c2-9a94bd009e67"
      },
      "source": [
        "temp_constant = 0.1\n",
        "current_models = models_list[-24:]\n",
        "loss_list = np.array(train_lik_loss[-len(current_models):])\n",
        "for j in range(loss_list.shape[0]):\n",
        "    loss_list[j] = np.exp(np.exp(-loss_list[j]) / temp_constant)\n",
        "weights = loss_list #np.array(1. / loss_list, dtype=np.float64) #weight according likelyhood \n",
        "accs, mean_accs = ensemble_predictions(current_models, testloader, weights)\n",
        "results[i, t] = mean_accs\n",
        "print(t, 'Ensemble accuracy = ', mean_accs)"
      ],
      "execution_count": null,
      "outputs": [
        {
          "output_type": "stream",
          "text": [
            "6 Ensemble accuracy =  0.9031111111111111\n"
          ],
          "name": "stdout"
        }
      ]
    },
    {
      "cell_type": "code",
      "metadata": {
        "colab": {
          "base_uri": "https://localhost:8080/"
        },
        "id": "KfdO5AnprA7i",
        "outputId": "801335f7-f3eb-4477-cc47-a02e7bd638f5"
      },
      "source": [
        "from numpy import genfromtxt\n",
        "number_of_models = [10, 15, 17, 20, 22, 24]\n",
        "temperatures = [0.1, 0.3, 0.5, 1.0, 1.5, 2.5, 5.0]\n",
        "train_lik_loss = genfromtxt('/gdrive/MyDrive/val_loss.csv', delimiter=',')[-25:]\n",
        "print(len(train_lik_loss))\n",
        "#train loss\n",
        "\n",
        "results = np.zeros((len(number_of_models), len(temperatures)))\n",
        "for i in range(len(number_of_models)):\n",
        "    num = number_of_models[i]\n",
        "    current_models = models_list[-num:]\n",
        "    for t in range(len(temperatures)):\n",
        "            temp_constant = temperatures[t]\n",
        "            loss_list = np.array(train_lik_loss[-len(current_models):])\n",
        "            for j in range(loss_list.shape[0]):\n",
        "                loss_list[j] = np.exp(np.exp(-loss_list[j]) / temp_constant)\n",
        "            weights = loss_list #np.array(1. / loss_list, dtype=np.float64) #weight according likelyhood \n",
        "            accs, mean_accs = ensemble_predictions(current_models, valloader, weights)\n",
        "            results[i, t] = mean_accs\n",
        "            print(t, 'Ensemble accuracy = ', mean_accs)"
      ],
      "execution_count": null,
      "outputs": [
        {
          "output_type": "stream",
          "text": [
            "25\n",
            "0 Ensemble accuracy =  0.883\n",
            "1 Ensemble accuracy =  0.8800000000000001\n",
            "2 Ensemble accuracy =  0.877\n",
            "3 Ensemble accuracy =  0.8879999999999999\n",
            "4 Ensemble accuracy =  0.881\n",
            "5 Ensemble accuracy =  0.889\n",
            "6 Ensemble accuracy =  0.8790000000000001\n",
            "0 Ensemble accuracy =  0.885\n",
            "1 Ensemble accuracy =  0.885\n",
            "2 Ensemble accuracy =  0.8880000000000001\n",
            "3 Ensemble accuracy =  0.891\n",
            "4 Ensemble accuracy =  0.881\n",
            "5 Ensemble accuracy =  0.892\n",
            "6 Ensemble accuracy =  0.8809999999999999\n",
            "0 Ensemble accuracy =  0.8930000000000001\n",
            "1 Ensemble accuracy =  0.8969999999999999\n",
            "2 Ensemble accuracy =  0.8869999999999999\n",
            "3 Ensemble accuracy =  0.882\n",
            "4 Ensemble accuracy =  0.8860000000000001\n",
            "5 Ensemble accuracy =  0.8930000000000001\n",
            "6 Ensemble accuracy =  0.8860000000000001\n",
            "0 Ensemble accuracy =  0.8889999999999999\n",
            "1 Ensemble accuracy =  0.8869999999999999\n",
            "2 Ensemble accuracy =  0.8930000000000001\n",
            "3 Ensemble accuracy =  0.8880000000000001\n",
            "4 Ensemble accuracy =  0.8940000000000001\n",
            "5 Ensemble accuracy =  0.8969999999999999\n",
            "6 Ensemble accuracy =  0.8930000000000001\n",
            "0 Ensemble accuracy =  0.893\n",
            "1 Ensemble accuracy =  0.897\n",
            "2 Ensemble accuracy =  0.89\n",
            "3 Ensemble accuracy =  0.889\n",
            "4 Ensemble accuracy =  0.8869999999999999\n",
            "5 Ensemble accuracy =  0.8879999999999999\n",
            "6 Ensemble accuracy =  0.8880000000000001\n",
            "0 Ensemble accuracy =  0.885\n",
            "1 Ensemble accuracy =  0.891\n",
            "2 Ensemble accuracy =  0.8869999999999999\n",
            "3 Ensemble accuracy =  0.8910000000000002\n",
            "4 Ensemble accuracy =  0.892\n",
            "5 Ensemble accuracy =  0.8940000000000001\n",
            "6 Ensemble accuracy =  0.8889999999999999\n"
          ],
          "name": "stdout"
        }
      ]
    },
    {
      "cell_type": "code",
      "metadata": {
        "colab": {
          "base_uri": "https://localhost:8080/"
        },
        "id": "zXLxRjXsrA1U",
        "outputId": "02ff27a9-c42e-47cc-b654-eb3c104a4f84"
      },
      "source": [
        "temp_constant = 0.3\n",
        "current_models = models_list[-22:]\n",
        "loss_list = np.array(train_lik_loss[-len(current_models):])\n",
        "for j in range(loss_list.shape[0]):\n",
        "    loss_list[j] = np.exp(np.exp(-loss_list[j]) / temp_constant)\n",
        "weights = loss_list #np.array(1. / loss_list, dtype=np.float64) #weight according likelyhood \n",
        "accs, mean_accs = ensemble_predictions(current_models, testloader, weights)\n",
        "results[i, t] = mean_accs\n",
        "print(t, 'Ensemble accuracy = ', mean_accs)"
      ],
      "execution_count": null,
      "outputs": [
        {
          "output_type": "stream",
          "text": [
            "6 Ensemble accuracy =  0.9036666666666666\n"
          ],
          "name": "stdout"
        }
      ]
    },
    {
      "cell_type": "code",
      "metadata": {
        "id": "XkUzJdIPrAuw"
      },
      "source": [
        ""
      ],
      "execution_count": null,
      "outputs": []
    },
    {
      "cell_type": "code",
      "metadata": {
        "id": "COOmLbsjrAnD"
      },
      "source": [
        ""
      ],
      "execution_count": null,
      "outputs": []
    },
    {
      "cell_type": "code",
      "metadata": {
        "id": "J2Bso93GUrq-"
      },
      "source": [
        ""
      ],
      "execution_count": null,
      "outputs": []
    },
    {
      "cell_type": "code",
      "metadata": {
        "id": "EZ644YOVVtvQ"
      },
      "source": [
        ""
      ],
      "execution_count": null,
      "outputs": []
    },
    {
      "cell_type": "code",
      "metadata": {
        "id": "srkJEP9pkt_n"
      },
      "source": [
        "def cyclical_lr(stepsize, min_lr=3e-4, max_lr=3e-3):\n",
        "\n",
        "    # Scaler: we can adapt this if we do not want the triangular CLR\n",
        "    scaler = lambda x: 1. #* math.exp(-x * 0.1)\n",
        "\n",
        "    # Lambda function to calculate the LR\n",
        "    lr_lambda = lambda it: min_lr + (max_lr - min_lr) * relative(it, stepsize)\n",
        "\n",
        "    # Additional function to see where on the cycle we are\n",
        "    def relative(it, stepsize):\n",
        "        cycle = math.floor(1 + it / (2 * stepsize))\n",
        "        x = abs(it / stepsize - 2 * cycle + 1)\n",
        "        return max(0, (1 - x)) * scaler(cycle)\n",
        "\n",
        "    return lr_lambda"
      ],
      "execution_count": null,
      "outputs": []
    },
    {
      "cell_type": "code",
      "metadata": {
        "colab": {
          "base_uri": "https://localhost:8080/"
        },
        "id": "NW9GptFqlfh3",
        "outputId": "cc043afd-64b8-41e5-d16f-27a9e2e8a13e"
      },
      "source": [
        "import time\n",
        "import copy\n",
        "\n",
        "resnet18 = ResNet(BasicBlock, [2,2,2,2])\n",
        "resnet18 = resnet18.cuda()\n",
        "models_list = []\n",
        "prev_model = copy.deepcopy(resnet18)\n",
        "prev_loss = 1000.\n",
        "\n",
        "num_epochs = 351\n",
        "start_lr = 0.01\n",
        "end_lr = 0.1\n",
        "factor = 10\n",
        "\n",
        "opt = torch.optim.SGD(resnet18.parameters(), lr=0.1, momentum=0.9, weight_decay=5e-4)\n",
        "\n",
        "step_size = 1*len(trainset) / batch_size\n",
        "print(step_size)\n",
        "clr = cyclical_lr(step_size, min_lr=start_lr, max_lr=end_lr)\n",
        "#scheduler = torch.optim.lr_scheduler.LambdaLR(opt, [clr])\n",
        "\n",
        "train_loss = []\n",
        "val_accuracy = []\n",
        "mean_losses = []\n",
        "mean_accs = []\n",
        "models_list = []\n",
        "\n",
        "lr_find_loss = []\n",
        "learning_rates = []\n",
        "likely_loss = []\n",
        "losses = []\n",
        "\n",
        "smoothing = 0.5\n",
        "lrs = []\n",
        "\n",
        "it = 0\n",
        "\n",
        "smoothing = 0.5\n",
        "small_flag = False\n",
        "#scheduler = torch.optim.lr_scheduler.LambdaLR(opt, [clr])\n",
        "\n",
        "for epoch in range(num_epochs):\n",
        "    start_time = time.time()\n",
        "    resnet18.train(True)\n",
        "    for (X_batch, y_batch) in trainloader:\n",
        "        loss = compute_loss(X_batch, y_batch)\n",
        "        loss.backward()\n",
        "        opt.step()\n",
        "        num_loss = loss.data.cpu().numpy()\n",
        "        train_loss.append(num_loss)\n",
        "        if epoch <= 150:\n",
        "            opt.step()\n",
        "        else:\n",
        "            scheduler.step()\n",
        "        opt.zero_grad()\n",
        "        lr_step = opt.state_dict()[\"param_groups\"][0][\"lr\"]\n",
        "        if lr_step < 0.001036:\n",
        "            models_list.append(copy.deepcopy(resnet18))\n",
        "            likely_loss.append(num_loss)\n",
        "            if len(models_list) > 25:\n",
        "                models_list = models_list[-25:]\n",
        "        learning_rates.append(lr_step)\n",
        "\n",
        "    if epoch == 150:\n",
        "        scheduler = torch.optim.lr_scheduler.LambdaLR(opt, [clr])  \n",
        "\n",
        "    resnet18.train(False)\n",
        "    for (X_batch, y_batch) in testloader:\n",
        "        y_batch = y_batch.cuda()\n",
        "        logits = resnet18(Variable(torch.FloatTensor(X_batch)).cuda())\n",
        "        y_pred = logits.max(1)[1].data\n",
        "        val_accuracy.append(np.mean((y_batch.cpu() == y_pred.cpu()).numpy() ))\n",
        "    \n",
        "\n",
        "    mean_accs.append(np.mean(val_accuracy[-len(testset) // batch_size:]))\n",
        "    cur_loss = np.mean(train_loss[-len(trainset) // batch_size:])\n",
        "    mean_losses.append(cur_loss)\n",
        "    \n",
        "    \n",
        "    if epoch % 10 == 0:\n",
        "        print(\"Epoch {} of {} took {:.3f}s\".format(\n",
        "            epoch + 1, num_epochs, time.time() - start_time))\n",
        "        print(\"  training loss (in-iteration): \\t{:.6f}\".format(\n",
        "            np.mean(train_loss[-len(trainset) // batch_size :])))\n",
        "        print(\"  validation accuracy: \\t\\t\\t{:.2f} %\".format(\n",
        "            np.mean(val_accuracy[-len(testset) // batch_size :]) * 100))\n",
        "    losses.append(np.array(train_loss).mean())"
      ],
      "execution_count": null,
      "outputs": [
        {
          "output_type": "stream",
          "text": [
            "500.0\n",
            "Epoch 1 of 351 took 73.119s\n",
            "  training loss (in-iteration): \t2.208253\n",
            "  validation accuracy: \t\t\t24.67 %\n",
            "Epoch 11 of 351 took 72.720s\n",
            "  training loss (in-iteration): \t0.553525\n",
            "  validation accuracy: \t\t\t66.82 %\n",
            "Epoch 21 of 351 took 72.425s\n",
            "  training loss (in-iteration): \t0.483124\n",
            "  validation accuracy: \t\t\t68.02 %\n",
            "Epoch 31 of 351 took 72.081s\n",
            "  training loss (in-iteration): \t0.467601\n",
            "  validation accuracy: \t\t\t76.62 %\n",
            "Epoch 41 of 351 took 71.931s\n",
            "  training loss (in-iteration): \t0.448886\n",
            "  validation accuracy: \t\t\t71.81 %\n",
            "Epoch 51 of 351 took 71.995s\n",
            "  training loss (in-iteration): \t0.442036\n",
            "  validation accuracy: \t\t\t71.64 %\n",
            "Epoch 61 of 351 took 71.889s\n",
            "  training loss (in-iteration): \t0.432482\n",
            "  validation accuracy: \t\t\t75.49 %\n",
            "Epoch 71 of 351 took 71.778s\n",
            "  training loss (in-iteration): \t0.422699\n",
            "  validation accuracy: \t\t\t69.77 %\n",
            "Epoch 81 of 351 took 71.647s\n",
            "  training loss (in-iteration): \t0.435560\n",
            "  validation accuracy: \t\t\t70.59 %\n",
            "Epoch 91 of 351 took 71.551s\n",
            "  training loss (in-iteration): \t0.437668\n",
            "  validation accuracy: \t\t\t68.67 %\n",
            "Epoch 101 of 351 took 71.577s\n",
            "  training loss (in-iteration): \t0.437841\n",
            "  validation accuracy: \t\t\t66.85 %\n",
            "Epoch 111 of 351 took 71.601s\n",
            "  training loss (in-iteration): \t0.428752\n",
            "  validation accuracy: \t\t\t74.63 %\n",
            "Epoch 121 of 351 took 71.400s\n",
            "  training loss (in-iteration): \t0.430895\n",
            "  validation accuracy: \t\t\t73.98 %\n",
            "Epoch 131 of 351 took 71.423s\n",
            "  training loss (in-iteration): \t0.435102\n",
            "  validation accuracy: \t\t\t77.96 %\n",
            "Epoch 141 of 351 took 71.277s\n",
            "  training loss (in-iteration): \t0.421750\n",
            "  validation accuracy: \t\t\t66.23 %\n"
          ],
          "name": "stdout"
        }
      ]
    },
    {
      "cell_type": "code",
      "metadata": {
        "id": "tqUTAxozoMN_"
      },
      "source": [
        "original_likely_loss = likely_loss.copy() # only for train\n",
        "print(original_likely_loss)"
      ],
      "execution_count": null,
      "outputs": []
    },
    {
      "cell_type": "code",
      "metadata": {
        "id": "64wCl_LbuC6i"
      },
      "source": [
        "temps = [0.1, 0.3, 0.5, 0.8, 1.1, 1.5,]\n",
        "ens_accs = []\n",
        "lik_loss = original_likely_loss.copy()\n",
        "print(len(models_list))\n",
        "for t in temps:\n",
        "    temp_constant = t\n",
        "    loss_list = np.array(lik_loss[-len(models_list):])\n",
        "    for i in range(loss_list.shape[0]):\n",
        "        loss_list[i] = np.exp(loss_list[i] / temp_constant)\n",
        "    weights = np.array(1. / loss_list, dtype=np.float64) #weight according likelyhood \n",
        "    #print(weights)\n",
        "    accs, mean_accs = ensemble_predictions(models_list, testloader, weights)\n",
        "    ens_accs.append(mean_accs)\n",
        "    print(t, 'Ensemble accuracy = ', round(mean_accs, 3) * 100, '%')"
      ],
      "execution_count": null,
      "outputs": []
    },
    {
      "cell_type": "code",
      "metadata": {
        "id": "7yjaoVEpuMTx"
      },
      "source": [
        "plt.plot(temps, ens_accs)\n",
        "plt.title('Weights according train loss')\n",
        "plt.xlabel('temperature')\n",
        "plt.ylabel('accuracy')\n",
        "plt.show()"
      ],
      "execution_count": null,
      "outputs": []
    },
    {
      "cell_type": "code",
      "metadata": {
        "id": "co0x8cG5ukU1"
      },
      "source": [
        "#aacuracy of every one\n",
        "for model in models_list:\n",
        "  accuracy = []\n",
        "  for (X_batch, y_batch) in testloader:\n",
        "          y_batch = y_batch.cuda()\n",
        "          logits = model(Variable(torch.FloatTensor(X_batch)).cuda())\n",
        "          y_pred = logits.max(1)[1].data\n",
        "          accuracy.append(np.mean((y_batch.cpu() == y_pred.cpu()).numpy() ))\n",
        "  print(np.array(accuracy).mean() * 100, '%')"
      ],
      "execution_count": null,
      "outputs": []
    },
    {
      "cell_type": "code",
      "metadata": {
        "id": "IPwLLbjrukTh"
      },
      "source": [
        ""
      ],
      "execution_count": null,
      "outputs": []
    },
    {
      "cell_type": "code",
      "metadata": {
        "id": "r94lqWlEukSL"
      },
      "source": [
        ""
      ],
      "execution_count": null,
      "outputs": []
    }
  ]
}