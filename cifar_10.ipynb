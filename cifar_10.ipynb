{
 "cells": [
  {
   "cell_type": "code",
   "execution_count": 0,
   "metadata": {
    "colab": {},
    "colab_type": "code",
    "id": "ScXfNhW5j29q"
   },
   "outputs": [],
   "source": [
    "import numpy as np\n",
    "import torch\n",
    "import torchvision\n",
    "import matplotlib.pyplot as plt\n",
    "from time import time\n",
    "import time\n",
    "from torchvision import datasets, transforms\n",
    "from torch import nn, optim\n",
    "import warnings\n",
    "warnings.filterwarnings(\"ignore\")\n",
    "import torchvision.models as models"
   ]
  },
  {
   "cell_type": "code",
   "execution_count": 0,
   "metadata": {
    "colab": {},
    "colab_type": "code",
    "id": "G10IRPC8j292"
   },
   "outputs": [],
   "source": [
    "import torch, torch.nn as nn\n",
    "import math\n",
    "import torch.nn.functional as F\n",
    "from torch.autograd import Variable\n",
    "class Flatten(nn.Module):\n",
    "    def forward(self, input):\n",
    "        return input.view(input.size(0), -1)"
   ]
  },
  {
   "cell_type": "code",
   "execution_count": 0,
   "metadata": {
    "colab": {
     "base_uri": "https://localhost:8080/",
     "height": 87
    },
    "colab_type": "code",
    "id": "H3QZm4LbmubK",
    "outputId": "d9251b95-c4b7-4a55-dfc8-79805a8c2f7d"
   },
   "outputs": [
    {
     "name": "stdout",
     "output_type": "stream",
     "text": [
      "nvcc: NVIDIA (R) Cuda compiler driver\n",
      "Copyright (c) 2005-2019 NVIDIA Corporation\n",
      "Built on Sun_Jul_28_19:07:16_PDT_2019\n",
      "Cuda compilation tools, release 10.1, V10.1.243\n"
     ]
    }
   ],
   "source": [
    "!nvcc --version"
   ]
  },
  {
   "cell_type": "code",
   "execution_count": 0,
   "metadata": {
    "colab": {},
    "colab_type": "code",
    "id": "8icQ74UAEyJF"
   },
   "outputs": [],
   "source": [
    "def transform(my_x, my_y):\n",
    "    tensor_x = torch.Tensor(my_x) # transform to torch tensor\n",
    "    tensor_y = torch.LongTensor(my_y)\n",
    "\n",
    "    my_dataset = data.TensorDataset(tensor_x,tensor_y) # create your datset\n",
    "    my_dataloader = data.DataLoader(my_dataset) # create your dataloader\n",
    "    return my_dataloader"
   ]
  },
  {
   "cell_type": "code",
   "execution_count": 0,
   "metadata": {
    "colab": {
     "base_uri": "https://localhost:8080/",
     "height": 101,
     "referenced_widgets": [
      "96c8f66085744785a0a18d013af29438",
      "66c2b485c47a4f1c82e703ac1b018b07",
      "98291363c4c54b15bc621ca89dc0cea8",
      "80b0bb1341874e9eb9c3d75e48db11b0",
      "13ef58f542f145d4ae21645d7f9754b3",
      "3e4b663ad34b4f1aba323dde511ad4d4",
      "17ee1d41ab104ed8abd0170897126168",
      "b165399415864fc4866e92cf9c247a84"
     ]
    },
    "colab_type": "code",
    "id": "XvvS4wP4j2-F",
    "outputId": "3b4ce6d9-d8ea-4507-f3f0-e2338680cb8e"
   },
   "outputs": [
    {
     "name": "stdout",
     "output_type": "stream",
     "text": [
      "Downloading https://www.cs.toronto.edu/~kriz/cifar-10-python.tar.gz to cifar-10/cifar-10-python.tar.gz\n"
     ]
    },
    {
     "data": {
      "application/vnd.jupyter.widget-view+json": {
       "model_id": "96c8f66085744785a0a18d013af29438",
       "version_major": 2,
       "version_minor": 0
      },
      "text/plain": [
       "HBox(children=(IntProgress(value=1, bar_style='info', max=1), HTML(value='')))"
      ]
     },
     "metadata": {
      "tags": []
     },
     "output_type": "display_data"
    },
    {
     "name": "stdout",
     "output_type": "stream",
     "text": [
      "Extracting cifar-10/cifar-10-python.tar.gz to cifar-10\n",
      "Files already downloaded and verified\n"
     ]
    }
   ],
   "source": [
    "#resnet18 = models.resnet18(num_classes=10, pretrained=False)\n",
    "\n",
    "transform = transforms.ToTensor()\n",
    "batch_size=64\n",
    "\n",
    "trainset = datasets.CIFAR10('cifar-10', download=True, train=True, transform=transform)\n",
    "testset = datasets.CIFAR10('cifar-10', download=True, train=False, transform=transform)\n",
    "\n",
    "trainset, valset = torch.utils.data.random_split(trainset, [30000, 20000])\n",
    "trainloader = torch.utils.data.DataLoader(trainset, batch_size=64, shuffle=True)\n",
    "valloader = torch.utils.data.DataLoader(valset, batch_size=64, shuffle=True)\n",
    "testloader = torch.utils.data.DataLoader(testset, batch_size=64, shuffle=True)"
   ]
  },
  {
   "cell_type": "code",
   "execution_count": 0,
   "metadata": {
    "colab": {},
    "colab_type": "code",
    "id": "snFGLg6Zj2-z"
   },
   "outputs": [],
   "source": [
    "def compute_loss(X_batch, y_batch):\n",
    "    X_batch = Variable(torch.FloatTensor(X_batch))\n",
    "    y_batch = Variable(torch.LongTensor(y_batch))\n",
    "    X_batch, y_batch = X_batch.cuda(), y_batch.cuda()\n",
    "    logits = resnet18(X_batch)\n",
    "    return F.cross_entropy(logits, y_batch).mean()"
   ]
  },
  {
   "cell_type": "code",
   "execution_count": 0,
   "metadata": {
    "colab": {
     "base_uri": "https://localhost:8080/",
     "height": 1000
    },
    "colab_type": "code",
    "id": "ond-ae7Uj2-7",
    "outputId": "0170b037-c445-4b91-d259-459a6f6f14fd"
   },
   "outputs": [
    {
     "name": "stdout",
     "output_type": "stream",
     "text": [
      "\n",
      "Current learning rate is 1e-05\n",
      "Epoch 1 of 51 took 36.263s\n",
      "  training loss (in-iteration): \t2.483407\n",
      "  validation accuracy: \t\t\t10.89 %\n",
      "Epoch 11 of 51 took 35.881s\n",
      "  training loss (in-iteration): \t2.209240\n",
      "  validation accuracy: \t\t\t18.97 %\n",
      "Epoch 21 of 51 took 35.775s\n",
      "  training loss (in-iteration): \t2.095837\n",
      "  validation accuracy: \t\t\t23.06 %\n",
      "Epoch 31 of 51 took 35.803s\n",
      "  training loss (in-iteration): \t2.022342\n",
      "  validation accuracy: \t\t\t25.54 %\n",
      "Epoch 41 of 51 took 35.814s\n",
      "  training loss (in-iteration): \t1.961929\n",
      "  validation accuracy: \t\t\t27.73 %\n",
      "Epoch 51 of 51 took 35.606s\n",
      "  training loss (in-iteration): \t1.905814\n",
      "  validation accuracy: \t\t\t29.46 %\n",
      "\n",
      "Current learning rate is 0.0001\n",
      "Epoch 1 of 51 took 35.601s\n",
      "  training loss (in-iteration): \t2.367218\n",
      "  validation accuracy: \t\t\t17.44 %\n",
      "Epoch 11 of 51 took 35.710s\n",
      "  training loss (in-iteration): \t1.702873\n",
      "  validation accuracy: \t\t\t36.24 %\n",
      "Epoch 21 of 51 took 35.679s\n",
      "  training loss (in-iteration): \t1.480981\n",
      "  validation accuracy: \t\t\t41.81 %\n",
      "Epoch 31 of 51 took 35.548s\n",
      "  training loss (in-iteration): \t1.335745\n",
      "  validation accuracy: \t\t\t44.65 %\n",
      "Epoch 41 of 51 took 35.537s\n",
      "  training loss (in-iteration): \t1.227302\n",
      "  validation accuracy: \t\t\t46.70 %\n",
      "Epoch 51 of 51 took 35.628s\n",
      "  training loss (in-iteration): \t1.124016\n",
      "  validation accuracy: \t\t\t47.81 %\n",
      "\n",
      "Current learning rate is 0.001\n",
      "Epoch 1 of 51 took 35.561s\n",
      "  training loss (in-iteration): \t2.057424\n",
      "  validation accuracy: \t\t\t32.19 %\n",
      "Epoch 11 of 51 took 35.640s\n",
      "  training loss (in-iteration): \t0.966115\n",
      "  validation accuracy: \t\t\t50.77 %\n",
      "Epoch 21 of 51 took 35.622s\n",
      "  training loss (in-iteration): \t0.379341\n",
      "  validation accuracy: \t\t\t51.34 %\n",
      "Epoch 31 of 51 took 35.587s\n",
      "  training loss (in-iteration): \t0.102412\n",
      "  validation accuracy: \t\t\t51.85 %\n",
      "Epoch 41 of 51 took 35.555s\n",
      "  training loss (in-iteration): \t0.048192\n",
      "  validation accuracy: \t\t\t51.51 %\n",
      "Epoch 51 of 51 took 35.533s\n",
      "  training loss (in-iteration): \t0.027782\n",
      "  validation accuracy: \t\t\t52.94 %\n",
      "\n",
      "Current learning rate is 0.1\n",
      "Epoch 1 of 51 took 35.740s\n",
      "  training loss (in-iteration): \t1.845340\n",
      "  validation accuracy: \t\t\t36.57 %\n",
      "Epoch 11 of 51 took 35.424s\n",
      "  training loss (in-iteration): \t0.265338\n",
      "  validation accuracy: \t\t\t64.54 %\n",
      "Epoch 21 of 51 took 35.523s\n",
      "  training loss (in-iteration): \t0.062831\n",
      "  validation accuracy: \t\t\t69.93 %\n",
      "Epoch 31 of 51 took 35.524s\n",
      "  training loss (in-iteration): \t0.025139\n",
      "  validation accuracy: \t\t\t70.15 %\n",
      "Epoch 41 of 51 took 35.458s\n",
      "  training loss (in-iteration): \t0.019983\n",
      "  validation accuracy: \t\t\t70.61 %\n",
      "Epoch 51 of 51 took 35.421s\n",
      "  training loss (in-iteration): \t0.008374\n",
      "  validation accuracy: \t\t\t71.39 %\n",
      "\n",
      "Current learning rate is 0.7\n",
      "Epoch 1 of 51 took 35.344s\n",
      "  training loss (in-iteration): \t2.388216\n",
      "  validation accuracy: \t\t\t36.99 %\n",
      "Epoch 11 of 51 took 35.493s\n",
      "  training loss (in-iteration): \t0.516695\n",
      "  validation accuracy: \t\t\t64.56 %\n",
      "Epoch 21 of 51 took 35.431s\n",
      "  training loss (in-iteration): \t0.107876\n",
      "  validation accuracy: \t\t\t67.78 %\n",
      "Epoch 31 of 51 took 35.484s\n",
      "  training loss (in-iteration): \t0.042090\n",
      "  validation accuracy: \t\t\t69.53 %\n",
      "Epoch 41 of 51 took 35.341s\n",
      "  training loss (in-iteration): \t0.027995\n",
      "  validation accuracy: \t\t\t69.49 %\n",
      "Epoch 51 of 51 took 35.443s\n",
      "  training loss (in-iteration): \t0.014692\n",
      "  validation accuracy: \t\t\t70.26 %\n",
      "\n",
      "Current learning rate is 10\n",
      "Epoch 1 of 51 took 35.389s\n",
      "  training loss (in-iteration): \t1297124.750000\n",
      "  validation accuracy: \t\t\t10.29 %\n",
      "Epoch 11 of 51 took 35.574s\n",
      "  training loss (in-iteration): \t2.381563\n",
      "  validation accuracy: \t\t\t9.94 %\n",
      "Epoch 21 of 51 took 35.498s\n",
      "  training loss (in-iteration): \t2.380304\n",
      "  validation accuracy: \t\t\t10.22 %\n",
      "Epoch 31 of 51 took 35.609s\n",
      "  training loss (in-iteration): \t2.379057\n",
      "  validation accuracy: \t\t\t9.80 %\n",
      "Epoch 41 of 51 took 35.122s\n",
      "  training loss (in-iteration): \t2.377666\n",
      "  validation accuracy: \t\t\t9.91 %\n",
      "Epoch 51 of 51 took 35.147s\n",
      "  training loss (in-iteration): \t2.384058\n",
      "  validation accuracy: \t\t\t10.06 %\n"
     ]
    }
   ],
   "source": [
    "import time\n",
    "num_epochs = 51\n",
    "learning_rates = [0.00001, 0.0001, 0.001, 0.1, 0.7, 10]\n",
    "losses = []\n",
    "for lr in learning_rates:\n",
    "  print()\n",
    "  print('Current learning rate is', lr)\n",
    "  resnet18 = models.resnet18(num_classes=10, pretrained=False)\n",
    "  resnet18 = resnet18.cuda()\n",
    "  opt = torch.optim.SGD(resnet18.parameters(), lr=lr)\n",
    "  train_loss = []\n",
    "  val_accuracy = []\n",
    "  \n",
    "  for epoch in range(num_epochs):\n",
    "      start_time = time.time()\n",
    "      k = 0\n",
    "      resnet18.train(True)\n",
    "      for (X_batch, y_batch) in trainloader:\n",
    "          loss = compute_loss(X_batch, y_batch)\n",
    "          loss.backward()\n",
    "          opt.step()\n",
    "          opt.zero_grad()\n",
    "          train_loss.append(loss.data.cpu().numpy())\n",
    "\n",
    "      resnet18.train(False)\n",
    "      for (X_batch, y_batch) in valloader:\n",
    "          y_batch = y_batch.cuda()\n",
    "          logits = resnet18(Variable(torch.FloatTensor(X_batch)).cuda())\n",
    "          y_pred = logits.max(1)[1].data\n",
    "          val_accuracy.append(np.mean((y_batch.cpu() == y_pred.cpu()).numpy() ))\n",
    "\n",
    "      if epoch % 10 == 0:\n",
    "        print(\"Epoch {} of {} took {:.3f}s\".format(\n",
    "            epoch + 1, num_epochs, time.time() - start_time))\n",
    "        print(\"  training loss (in-iteration): \\t{:.6f}\".format(\n",
    "            np.mean(train_loss[-len(trainset) // batch_size :])))\n",
    "        print(\"  validation accuracy: \\t\\t\\t{:.2f} %\".format(\n",
    "            np.mean(val_accuracy[-len(valset) // batch_size :]) * 100))\n",
    "        losses.append(np.array(train_loss).mean())"
   ]
  },
  {
   "cell_type": "code",
   "execution_count": 0,
   "metadata": {
    "colab": {
     "base_uri": "https://localhost:8080/",
     "height": 287
    },
    "colab_type": "code",
    "id": "TeN3Bg6Oj2_C",
    "outputId": "854ba852-ac21-4cdd-d6ff-1d9bee03b0ec"
   },
   "outputs": [
    {
     "name": "stderr",
     "output_type": "stream",
     "text": [
      "No handles with labels found to put in legend.\n"
     ]
    },
    {
     "data": {
      "image/png": "[encoded data removed]",
      "text/plain": [
       "<Figure size 432x288 with 1 Axes>"
      ]
     },
     "metadata": {
      "tags": []
     },
     "output_type": "display_data"
    }
   ],
   "source": [
    "colors = ['red', 'orange', 'blue', 'pink', 'green', 'violet', 'coral']\n",
    "\n",
    "for i in range(len(losses) // num_epochs - 1):\n",
    "  plt.plot(list(range(num_epochs)), losses[i * num_epochs: (i + 1) * num_epochs], \n",
    "              color=colors[i], label='lr=' + str(learning_rates[i]))\n",
    "#plt.xlim((1, 100))\n",
    "plt.legend()\n",
    "plt.show()"
   ]
  },
  {
   "cell_type": "code",
   "execution_count": 0,
   "metadata": {
    "colab": {
     "base_uri": "https://localhost:8080/",
     "height": 287
    },
    "colab_type": "code",
    "id": "2UD1LThZNmv9",
    "outputId": "bcc486f5-7104-44af-b061-a97b526e77b6"
   },
   "outputs": [
    {
     "name": "stderr",
     "output_type": "stream",
     "text": [
      "No handles with labels found to put in legend.\n"
     ]
    },
    {
     "data": {
      "image/png": "[encoded data removed]",
      "text/plain": [
       "<Figure size 432x288 with 1 Axes>"
      ]
     },
     "metadata": {
      "tags": []
     },
     "output_type": "display_data"
    }
   ],
   "source": [
    "for i in range(len(losses) // num_epochs):\n",
    "  plt.plot(list(range(num_epochs)), losses[i * num_epochs: (i + 1) * num_epochs], \n",
    "              color=colors[i], label='lr=' + str(learning_rates[i]))\n",
    "#plt.xlim((1, 100))\n",
    "plt.legend()\n",
    "plt.show()"
   ]
  },
  {
   "cell_type": "code",
   "execution_count": 0,
   "metadata": {
    "colab": {
     "base_uri": "https://localhost:8080/",
     "height": 1000
    },
    "colab_type": "code",
    "id": "UWa0xueIj2_I",
    "outputId": "554ba2d6-8be6-4f79-8461-83b8e828c9ef"
   },
   "outputs": [
    {
     "name": "stdout",
     "output_type": "stream",
     "text": [
      "Epoch 1 of 20 took 20.050s\n",
      "  training loss (in-iteration): \t2.072595\n",
      "  validation accuracy: \t\t\t35.35 %\n",
      "Epoch 2 of 20 took 20.378s\n",
      "  training loss (in-iteration): \t1.607396\n",
      "  validation accuracy: \t\t\t42.83 %\n",
      "Epoch 3 of 20 took 20.613s\n",
      "  training loss (in-iteration): \t1.360333\n",
      "  validation accuracy: \t\t\t47.43 %\n",
      "Epoch 4 of 20 took 20.976s\n",
      "  training loss (in-iteration): \t1.162281\n",
      "  validation accuracy: \t\t\t49.59 %\n",
      "Epoch 5 of 20 took 20.834s\n",
      "  training loss (in-iteration): \t1.022081\n",
      "  validation accuracy: \t\t\t49.87 %\n",
      "Epoch 6 of 20 took 20.662s\n",
      "  training loss (in-iteration): \t0.961321\n",
      "  validation accuracy: \t\t\t49.44 %\n",
      "Epoch 7 of 20 took 20.841s\n",
      "  training loss (in-iteration): \t0.977245\n",
      "  validation accuracy: \t\t\t50.04 %\n",
      "Epoch 8 of 20 took 20.787s\n",
      "  training loss (in-iteration): \t0.968029\n",
      "  validation accuracy: \t\t\t51.07 %\n",
      "Epoch 9 of 20 took 20.771s\n",
      "  training loss (in-iteration): \t0.965045\n",
      "  validation accuracy: \t\t\t53.07 %\n",
      "Epoch 10 of 20 took 20.735s\n",
      "  training loss (in-iteration): \t0.956457\n",
      "  validation accuracy: \t\t\t52.73 %\n",
      "Epoch 11 of 20 took 20.838s\n",
      "  training loss (in-iteration): \t0.955480\n",
      "  validation accuracy: \t\t\t51.90 %\n",
      "Epoch 12 of 20 took 20.757s\n",
      "  training loss (in-iteration): \t0.948999\n",
      "  validation accuracy: \t\t\t49.62 %\n",
      "Epoch 13 of 20 took 20.718s\n",
      "  training loss (in-iteration): \t0.924981\n",
      "  validation accuracy: \t\t\t63.54 %\n",
      "Epoch 14 of 20 took 20.754s\n",
      "  training loss (in-iteration): \t0.914280\n",
      "  validation accuracy: \t\t\t58.90 %\n",
      "Epoch 15 of 20 took 20.687s\n",
      "  training loss (in-iteration): \t0.893061\n",
      "  validation accuracy: \t\t\t61.84 %\n",
      "Epoch 16 of 20 took 20.718s\n",
      "  training loss (in-iteration): \t0.894146\n",
      "  validation accuracy: \t\t\t54.71 %\n",
      "Epoch 17 of 20 took 20.946s\n",
      "  training loss (in-iteration): \t0.897610\n",
      "  validation accuracy: \t\t\t55.94 %\n",
      "Epoch 18 of 20 took 20.688s\n",
      "  training loss (in-iteration): \t0.913792\n",
      "  validation accuracy: \t\t\t56.08 %\n",
      "Epoch 19 of 20 took 20.638s\n",
      "  training loss (in-iteration): \t0.957769\n",
      "  validation accuracy: \t\t\t55.49 %\n",
      "Epoch 20 of 20 took 20.769s\n",
      "  training loss (in-iteration): \t1.044595\n",
      "  validation accuracy: \t\t\t55.77 %\n"
     ]
    }
   ],
   "source": [
    "#clr\n",
    "import time\n",
    "resnet18 = models.resnet18(num_classes=10, pretrained=False)\n",
    "resnet18 = resnet18.cuda()\n",
    "\n",
    "num_epochs = 20\n",
    "start_lr = 1e-5\n",
    "end_lr = 0.1\n",
    "opt = torch.optim.Adam(resnet18.parameters(), lr=start_lr)\n",
    "\n",
    "lr_lambda = lambda x: math.exp(x * math.log(end_lr / start_lr) / (num_epochs * len(trainset)/batch_size))\n",
    "scheduler = torch.optim.lr_scheduler.LambdaLR(opt, lr_lambda)\n",
    "\n",
    "train_loss = []\n",
    "val_accuracy = []\n",
    "losses = []\n",
    "\n",
    "lr_find_loss = []\n",
    "lr_find_lr = []\n",
    "\n",
    "it = 0\n",
    "\n",
    "smoothing = 0.5\n",
    "\n",
    "for epoch in range(num_epochs):\n",
    "    start_time = time.time()\n",
    "    k = 0\n",
    "    resnet18.train(True)\n",
    "    for (X_batch, y_batch) in trainloader:\n",
    "        loss = compute_loss(X_batch, y_batch)\n",
    "        loss.backward()\n",
    "        opt.step()\n",
    "        opt.zero_grad()\n",
    "        train_loss.append(loss.data.cpu().numpy())\n",
    "        #if k % 20 == 0:\n",
    "        #  print(k, end=' ')\n",
    "        k += 1\n",
    "\n",
    "        scheduler.step()\n",
    "        lr_step = opt.state_dict()[\"param_groups\"][0][\"lr\"]\n",
    "        lr_find_lr.append(lr_step)\n",
    "\n",
    "        if it == 0:\n",
    "          lr_find_loss.append(loss)\n",
    "        else:\n",
    "          loss = smoothing  * loss + (1 - smoothing) * lr_find_loss[-1]\n",
    "          lr_find_loss.append(loss)\n",
    "        it += 1\n",
    "\n",
    "    resnet18.train(False)\n",
    "    #print('#')\n",
    "    for (X_batch, y_batch) in valloader:\n",
    "        #print('@', end='')\n",
    "        y_batch = y_batch.cuda()\n",
    "        logits = resnet18(Variable(torch.FloatTensor(X_batch)).cuda())\n",
    "        y_pred = logits.max(1)[1].data\n",
    "        val_accuracy.append(np.mean((y_batch.cpu() == y_pred.cpu()).numpy() ))\n",
    "\n",
    "    print(\"Epoch {} of {} took {:.3f}s\".format(\n",
    "        epoch + 1, num_epochs, time.time() - start_time))\n",
    "    print(\"  training loss (in-iteration): \\t{:.6f}\".format(\n",
    "        np.mean(train_loss[-len(trainset) // batch_size :])))\n",
    "    print(\"  validation accuracy: \\t\\t\\t{:.2f} %\".format(\n",
    "        np.mean(val_accuracy[-len(valset) // batch_size :]) * 100))\n",
    "    losses.append(np.array(train_loss).mean())"
   ]
  },
  {
   "cell_type": "code",
   "execution_count": 0,
   "metadata": {
    "colab": {
     "base_uri": "https://localhost:8080/",
     "height": 265
    },
    "colab_type": "code",
    "id": "q6HQhOCfj2_N",
    "outputId": "017157ec-09b9-484a-fcf9-3cc9d4cc4488"
   },
   "outputs": [
    {
     "data": {
      "image/png": "[encoded data removed]",
      "text/plain": [
       "<Figure size 432x288 with 1 Axes>"
      ]
     },
     "metadata": {
      "tags": []
     },
     "output_type": "display_data"
    }
   ],
   "source": [
    "plt.plot(list(range(len(lr_find_lr))), lr_find_lr)\n",
    "plt.show()"
   ]
  },
  {
   "cell_type": "code",
   "execution_count": 0,
   "metadata": {
    "colab": {
     "base_uri": "https://localhost:8080/",
     "height": 265
    },
    "colab_type": "code",
    "id": "uorAqYGjdquT",
    "outputId": "5c7d8853-18e5-4bc6-94f4-785d8c5ae1a1"
   },
   "outputs": [
    {
     "data": {
      "image/png": "[encoded data removed]",
      "text/plain": [
       "<Figure size 432x288 with 1 Axes>"
      ]
     },
     "metadata": {
      "tags": []
     },
     "output_type": "display_data"
    }
   ],
   "source": [
    "plt.plot(list(range(len(lr_find_lr))), lr_find_loss)\n",
    "plt.show()"
   ]
  },
  {
   "cell_type": "code",
   "execution_count": 0,
   "metadata": {
    "colab": {},
    "colab_type": "code",
    "id": "9E7MPLejd1Dx"
   },
   "outputs": [],
   "source": []
  },
  {
   "cell_type": "code",
   "execution_count": 0,
   "metadata": {
    "colab": {},
    "colab_type": "code",
    "id": "ZiS9FG1x1ZyW"
   },
   "outputs": [],
   "source": []
  },
  {
   "cell_type": "code",
   "execution_count": 0,
   "metadata": {
    "colab": {
     "base_uri": "https://localhost:8080/",
     "height": 225
    },
    "colab_type": "code",
    "id": "BTOXtMN-x_qv",
    "outputId": "6e708f40-7b9a-48e5-eb34-4d1571817721"
   },
   "outputs": [
    {
     "name": "stdout",
     "output_type": "stream",
     "text": [
      "Epoch 1 of 31 took 20.750s\n",
      "  training loss (in-iteration): \t1.497434\n",
      "  validation accuracy: \t\t\t46.68 %\n",
      "Epoch 11 of 31 took 20.489s\n",
      "  training loss (in-iteration): \t0.028826\n",
      "  validation accuracy: \t\t\t72.05 %\n",
      "Epoch 21 of 31 took 20.292s\n",
      "  training loss (in-iteration): \t0.002614\n",
      "  validation accuracy: \t\t\t72.97 %\n",
      "Epoch 31 of 31 took 20.156s\n",
      "  training loss (in-iteration): \t0.000768\n",
      "  validation accuracy: \t\t\t73.16 %\n"
     ]
    }
   ],
   "source": [
    "import time\n",
    "#clr\n",
    "resnet18 = models.resnet18(num_classes=10, pretrained=False)\n",
    "resnet18 = resnet18.cuda()\n",
    "\n",
    "num_epochs = 31\n",
    "start_lr = 1e-3\n",
    "end_lr = 0.7\n",
    "opt = torch.optim.Adam(resnet18.parameters(), lr=start_lr)\n",
    "\n",
    "lr_lambda = lambda x: math.exp(x * math.log(start_lr / end_lr) / (num_epochs * len(trainset)/batch_size))\n",
    "scheduler = torch.optim.lr_scheduler.LambdaLR(opt, lr_lambda)\n",
    "\n",
    "train_loss = []\n",
    "val_accuracy = []\n",
    "losses = []\n",
    "\n",
    "lr_find_loss = []\n",
    "lr_find_lr = []\n",
    "\n",
    "it = 0\n",
    "\n",
    "smoothing = 0.5\n",
    "\n",
    "for epoch in range(num_epochs):\n",
    "    start_time = time.time()\n",
    "    k = 0\n",
    "    resnet18.train(True)\n",
    "    for (X_batch, y_batch) in trainloader:\n",
    "        loss = compute_loss(X_batch, y_batch)\n",
    "        loss.backward()\n",
    "        opt.step()\n",
    "        opt.zero_grad()\n",
    "        train_loss.append(loss.data.cpu().numpy())\n",
    "        #if k % 20 == 0:\n",
    "        #  print(k, end=' ')\n",
    "        k += 1\n",
    "\n",
    "        scheduler.step()\n",
    "        lr_step = opt.state_dict()[\"param_groups\"][0][\"lr\"]\n",
    "        lr_find_lr.append(lr_step)\n",
    "\n",
    "        if it == 0:\n",
    "          lr_find_loss.append(loss)\n",
    "        else:\n",
    "          loss = smoothing  * loss + (1 - smoothing) * lr_find_loss[-1]\n",
    "          lr_find_loss.append(loss)\n",
    "        it += 1\n",
    "\n",
    "    resnet18.train(False)\n",
    "    #print('#')\n",
    "    for (X_batch, y_batch) in valloader:\n",
    "        #print('@', end='')\n",
    "        y_batch = y_batch.cuda()\n",
    "        logits = resnet18(Variable(torch.FloatTensor(X_batch)).cuda())\n",
    "        y_pred = logits.max(1)[1].data\n",
    "        val_accuracy.append(np.mean((y_batch.cpu() == y_pred.cpu()).numpy() ))\n",
    "    \n",
    "    if epoch % 10 == 0:\n",
    "      print(\"Epoch {} of {} took {:.3f}s\".format(\n",
    "          epoch + 1, num_epochs, time.time() - start_time))\n",
    "      print(\"  training loss (in-iteration): \\t{:.6f}\".format(\n",
    "          np.mean(train_loss[-len(trainset) // batch_size :])))\n",
    "      print(\"  validation accuracy: \\t\\t\\t{:.2f} %\".format(\n",
    "          np.mean(val_accuracy[-len(valset) // batch_size :]) * 100))\n",
    "      losses.append(np.array(train_loss).mean())"
   ]
  },
  {
   "cell_type": "code",
   "execution_count": 0,
   "metadata": {
    "colab": {
     "base_uri": "https://localhost:8080/",
     "height": 265
    },
    "colab_type": "code",
    "id": "fNresfwSkQT-",
    "outputId": "defe09b5-8c27-4e3d-dc29-a31a1750b278"
   },
   "outputs": [
    {
     "data": {
      "image/png": "[encoded data removed]",
      "text/plain": [
       "<Figure size 432x288 with 1 Axes>"
      ]
     },
     "metadata": {
      "tags": []
     },
     "output_type": "display_data"
    }
   ],
   "source": [
    "plt.plot(list(range(len(lr_find_lr))), lr_find_lr)\n",
    "plt.show()"
   ]
  },
  {
   "cell_type": "code",
   "execution_count": 0,
   "metadata": {
    "colab": {
     "base_uri": "https://localhost:8080/",
     "height": 265
    },
    "colab_type": "code",
    "id": "-Bf31CbSl0KI",
    "outputId": "5410a17e-6344-4b8d-d090-c216fd1ef5a2"
   },
   "outputs": [
    {
     "data": {
      "image/png": "[encoded data removed]",
      "text/plain": [
       "<Figure size 432x288 with 1 Axes>"
      ]
     },
     "metadata": {
      "tags": []
     },
     "output_type": "display_data"
    }
   ],
   "source": [
    "plt.plot(list(range(len(lr_find_lr))), lr_find_loss)\n",
    "plt.show()"
   ]
  },
  {
   "cell_type": "code",
   "execution_count": 0,
   "metadata": {
    "colab": {},
    "colab_type": "code",
    "id": "g4H9yQ8VqLy0"
   },
   "outputs": [],
   "source": [
    "def cyclical_lr(stepsize, min_lr=3e-4, max_lr=3e-3):\n",
    "\n",
    "    # Scaler: we can adapt this if we do not want the triangular CLR\n",
    "    scaler = lambda x: 1. #* math.exp(-x * 0.1)\n",
    "\n",
    "    # Lambda function to calculate the LR\n",
    "    lr_lambda = lambda it: min_lr + (max_lr - min_lr) * relative(it, stepsize)\n",
    "\n",
    "    # Additional function to see where on the cycle we are\n",
    "    def relative(it, stepsize):\n",
    "        cycle = math.floor(1 + it / (2 * stepsize))\n",
    "        x = abs(it / stepsize - 2 * cycle + 1)\n",
    "        return max(0, (1 - x)) * scaler(cycle)\n",
    "\n",
    "    return lr_lambda"
   ]
  },
  {
   "cell_type": "code",
   "execution_count": 0,
   "metadata": {
    "colab": {
     "base_uri": "https://localhost:8080/",
     "height": 277
    },
    "colab_type": "code",
    "id": "xDTHO4veFewO",
    "outputId": "7428e2d8-2775-47b8-c7e6-13874885b125"
   },
   "outputs": [
    {
     "name": "stdout",
     "output_type": "stream",
     "text": [
      "Epoch 1 of 41 took 20.792s\n",
      "  training loss (in-iteration): \t1.632589\n",
      "  validation accuracy: \t\t\t40.57 %\n",
      "Epoch 11 of 41 took 20.500s\n",
      "  training loss (in-iteration): \t0.560200\n",
      "  validation accuracy: \t\t\t66.45 %\n",
      "Epoch 21 of 41 took 20.358s\n",
      "  training loss (in-iteration): \t0.263873\n",
      "  validation accuracy: \t\t\t71.75 %\n",
      "Epoch 31 of 41 took 20.476s\n",
      "  training loss (in-iteration): \t0.024488\n",
      "  validation accuracy: \t\t\t75.27 %\n",
      "Epoch 41 of 41 took 20.392s\n",
      "  training loss (in-iteration): \t0.002315\n",
      "  validation accuracy: \t\t\t75.30 %\n"
     ]
    }
   ],
   "source": [
    "import time\n",
    "resnet18 = models.resnet18(num_classes=10, pretrained=False)\n",
    "resnet18 = resnet18.cuda()\n",
    "\n",
    "num_epochs = 41\n",
    "start_lr = 1e-4\n",
    "end_lr = 0.1\n",
    "factor = 100\n",
    "opt = torch.optim.Adam(resnet18.parameters(), lr=end_lr)\n",
    "\n",
    "#lr_lambda = lambda x: math.exp(x * math.log(end_lr / start_lr) / (num_epochs * len(trainset)/batch_size))\n",
    "#scheduler = torch.optim.lr_scheduler.LambdaLR(opt, lr_lambda)\n",
    "step_size = 4*len(trainset) / batch_size\n",
    "clr = cyclical_lr(step_size, min_lr=start_lr, max_lr=end_lr)\n",
    "scheduler = torch.optim.lr_scheduler.LambdaLR(opt, [clr])\n",
    "\n",
    "train_loss = []\n",
    "val_accuracy = []\n",
    "losses = []\n",
    "\n",
    "lr_find_loss = []\n",
    "lr_find_lr = []\n",
    "\n",
    "it = 0\n",
    "\n",
    "smoothing = 0.5\n",
    "\n",
    "for epoch in range(num_epochs):\n",
    "    start_time = time.time()\n",
    "    k = 0\n",
    "    resnet18.train(True)\n",
    "    for (X_batch, y_batch) in trainloader:\n",
    "        loss = compute_loss(X_batch, y_batch)\n",
    "        loss.backward()\n",
    "        opt.step()\n",
    "        train_loss.append(loss.data.cpu().numpy())\n",
    "        #if k % 20 == 0:\n",
    "        #  print(k, end=' ')\n",
    "        k += 1\n",
    "\n",
    "        scheduler.step()\n",
    "        opt.zero_grad()\n",
    "        lr_step = opt.state_dict()[\"param_groups\"][0][\"lr\"]\n",
    "        lr_find_lr.append(lr_step)\n",
    "\n",
    "        lr_find_loss.append(loss)\n",
    "        #if it == 0:\n",
    "        #  lr_find_loss.append(loss)\n",
    "        #else:\n",
    "        #  loss = smoothing  * loss + (1 - smoothing) * lr_find_loss[-1]\n",
    "        #  lr_find_loss.append(loss)\n",
    "        it += 1\n",
    "\n",
    "    resnet18.train(False)\n",
    "    #print('#')\n",
    "    for (X_batch, y_batch) in valloader:\n",
    "        #print('@', end='')\n",
    "        y_batch = y_batch.cuda()\n",
    "        logits = resnet18(Variable(torch.FloatTensor(X_batch)).cuda())\n",
    "        y_pred = logits.max(1)[1].data\n",
    "        val_accuracy.append(np.mean((y_batch.cpu() == y_pred.cpu()).numpy() ))\n",
    "    if epoch % 10 == 0:\n",
    "\n",
    "      print(\"Epoch {} of {} took {:.3f}s\".format(\n",
    "          epoch + 1, num_epochs, time.time() - start_time))\n",
    "      print(\"  training loss (in-iteration): \\t{:.6f}\".format(\n",
    "          np.mean(train_loss[-len(trainset) // batch_size :])))\n",
    "      print(\"  validation accuracy: \\t\\t\\t{:.2f} %\".format(\n",
    "          np.mean(val_accuracy[-len(valset) // batch_size :]) * 100))\n",
    "      losses.append(np.array(train_loss).mean())"
   ]
  },
  {
   "cell_type": "code",
   "execution_count": 0,
   "metadata": {
    "colab": {
     "base_uri": "https://localhost:8080/",
     "height": 265
    },
    "colab_type": "code",
    "id": "ee4JR87XKcrC",
    "outputId": "b710db84-e32c-4a4e-ae96-bb64be2cd8be"
   },
   "outputs": [
    {
     "data": {
      "image/png": "[encoded data removed]",
      "text/plain": [
       "<Figure size 432x288 with 1 Axes>"
      ]
     },
     "metadata": {
      "tags": []
     },
     "output_type": "display_data"
    }
   ],
   "source": [
    "plt.plot(list(range(len(lr_find_lr))), lr_find_lr)\n",
    "plt.show()"
   ]
  },
  {
   "cell_type": "code",
   "execution_count": 0,
   "metadata": {
    "colab": {
     "base_uri": "https://localhost:8080/",
     "height": 265
    },
    "colab_type": "code",
    "id": "sNcaFvvGLdlY",
    "outputId": "f3d4528b-1003-434d-e707-8918cf61abd2"
   },
   "outputs": [
    {
     "data": {
      "image/png": "[encoded data removed]",
      "text/plain": [
       "<Figure size 432x288 with 1 Axes>"
      ]
     },
     "metadata": {
      "tags": []
     },
     "output_type": "display_data"
    }
   ],
   "source": [
    "plt.plot(list(range(len(lr_find_lr))), lr_find_loss)\n",
    "plt.show()"
   ]
  },
  {
   "cell_type": "code",
   "execution_count": 0,
   "metadata": {
    "colab": {
     "base_uri": "https://localhost:8080/",
     "height": 329
    },
    "colab_type": "code",
    "id": "eysU-PcoMKBW",
    "outputId": "13cbc363-4669-45ae-987f-00c69da48adc"
   },
   "outputs": [
    {
     "name": "stdout",
     "output_type": "stream",
     "text": [
      "Epoch 1 of 51 took 25.935s\n",
      "  training loss (in-iteration): \t1.625673\n",
      "  validation accuracy: \t\t\t47.35 %\n",
      "Epoch 11 of 51 took 25.646s\n",
      "  training loss (in-iteration): \t0.521315\n",
      "  validation accuracy: \t\t\t68.93 %\n",
      "Epoch 21 of 51 took 25.630s\n",
      "  training loss (in-iteration): \t0.232645\n",
      "  validation accuracy: \t\t\t71.67 %\n",
      "Epoch 31 of 51 took 25.598s\n",
      "  training loss (in-iteration): \t0.020390\n",
      "  validation accuracy: \t\t\t75.82 %\n",
      "Epoch 41 of 51 took 25.695s\n",
      "  training loss (in-iteration): \t0.001650\n",
      "  validation accuracy: \t\t\t75.44 %\n",
      "Epoch 51 of 51 took 25.765s\n",
      "  training loss (in-iteration): \t0.053412\n",
      "  validation accuracy: \t\t\t72.41 %\n"
     ]
    }
   ],
   "source": [
    "import time\n",
    "def cyclical_lr(stepsize, min_lr=3e-4, max_lr=3e-3):\n",
    "\n",
    "    # Scaler: we can adapt this if we do not want the triangular CLR\n",
    "    scaler = lambda x: 1. * math.exp(-x * 0.1)\n",
    "\n",
    "    # Lambda function to calculate the LR\n",
    "    lr_lambda = lambda it: min_lr + (max_lr - min_lr) * relative(it, stepsize)\n",
    "\n",
    "    # Additional function to see where on the cycle we are\n",
    "    def relative(it, stepsize):\n",
    "        cycle = math.floor(1 + it / (2 * stepsize))\n",
    "        x = abs(it / stepsize - 2 * cycle + 1)\n",
    "        return max(0, (1 - x)) * scaler(cycle)\n",
    "\n",
    "    return lr_lambda\n",
    "\n",
    "resnet18 = models.resnet18(num_classes=10, pretrained=False)\n",
    "resnet18 = resnet18.cuda()\n",
    "\n",
    "num_epochs = 51\n",
    "start_lr = 1e-4\n",
    "end_lr = 0.1\n",
    "factor = 10\n",
    "opt = torch.optim.Adam(resnet18.parameters(), lr=end_lr)\n",
    "\n",
    "#lr_lambda = lambda x: math.exp(x * math.log(end_lr / start_lr) / (num_epochs * len(trainset)/batch_size))\n",
    "#scheduler = torch.optim.lr_scheduler.LambdaLR(opt, lr_lambda)\n",
    "step_size = 4*len(trainset) / batch_size\n",
    "clr = cyclical_lr(step_size, min_lr=start_lr, max_lr=end_lr)\n",
    "scheduler = torch.optim.lr_scheduler.LambdaLR(opt, [clr])\n",
    "\n",
    "train_loss = []\n",
    "val_accuracy = []\n",
    "losses = []\n",
    "\n",
    "lr_find_loss = []\n",
    "lr_find_lr = []\n",
    "\n",
    "it = 0\n",
    "\n",
    "smoothing = 0.5\n",
    "\n",
    "for epoch in range(num_epochs):\n",
    "    start_time = time.time()\n",
    "    k = 0\n",
    "    resnet18.train(True)\n",
    "    for (X_batch, y_batch) in trainloader:\n",
    "        loss = compute_loss(X_batch, y_batch)\n",
    "        loss.backward()\n",
    "        opt.step()\n",
    "        train_loss.append(loss.data.cpu().numpy())\n",
    "        #if k % 20 == 0:\n",
    "        #  print(k, end=' ')\n",
    "        k += 1\n",
    "\n",
    "        scheduler.step()\n",
    "        opt.zero_grad()\n",
    "        lr_step = opt.state_dict()[\"param_groups\"][0][\"lr\"]\n",
    "        lr_find_lr.append(lr_step)\n",
    "\n",
    "        lr_find_loss.append(loss)\n",
    "        #if it == 0:\n",
    "        #  lr_find_loss.append(loss)\n",
    "        #else:\n",
    "        #  loss = smoothing  * loss + (1 - smoothing) * lr_find_loss[-1]\n",
    "        #  lr_find_loss.append(loss)\n",
    "        it += 1\n",
    "\n",
    "    resnet18.train(False)\n",
    "    #print('#')\n",
    "    for (X_batch, y_batch) in valloader:\n",
    "        #print('@', end='')\n",
    "        y_batch = y_batch.cuda()\n",
    "        logits = resnet18(Variable(torch.FloatTensor(X_batch)).cuda())\n",
    "        y_pred = logits.max(1)[1].data\n",
    "        val_accuracy.append(np.mean((y_batch.cpu() == y_pred.cpu()).numpy() ))\n",
    "\n",
    "    if epoch % 10 == 0:\n",
    "      print(\"Epoch {} of {} took {:.3f}s\".format(\n",
    "          epoch + 1, num_epochs, time.time() - start_time))\n",
    "      print(\"  training loss (in-iteration): \\t{:.6f}\".format(\n",
    "          np.mean(train_loss[-len(trainset) // batch_size :])))\n",
    "      print(\"  validation accuracy: \\t\\t\\t{:.2f} %\".format(\n",
    "          np.mean(val_accuracy[-len(valset) // batch_size :]) * 100))\n",
    "      losses.append(np.array(train_loss).mean())"
   ]
  },
  {
   "cell_type": "code",
   "execution_count": 0,
   "metadata": {
    "colab": {
     "base_uri": "https://localhost:8080/",
     "height": 265
    },
    "colab_type": "code",
    "id": "pgdW22rnHLVe",
    "outputId": "e764e69b-ddc7-459f-d7cc-a398c7911e72"
   },
   "outputs": [
    {
     "data": {
      "image/png": "[encoded data removed]",
      "text/plain": [
       "<Figure size 432x288 with 1 Axes>"
      ]
     },
     "metadata": {
      "tags": []
     },
     "output_type": "display_data"
    }
   ],
   "source": [
    "plt.plot(list(range(len(lr_find_lr))), lr_find_lr)\n",
    "plt.show()"
   ]
  },
  {
   "cell_type": "code",
   "execution_count": 0,
   "metadata": {
    "colab": {
     "base_uri": "https://localhost:8080/",
     "height": 265
    },
    "colab_type": "code",
    "id": "Oh_H_i0IF1f0",
    "outputId": "c9ba120e-e509-47c3-9405-30fc7dbb9a8e"
   },
   "outputs": [
    {
     "data": {
      "image/png": "[encoded data removed]",
      "text/plain": [
       "<Figure size 432x288 with 1 Axes>"
      ]
     },
     "metadata": {
      "tags": []
     },
     "output_type": "display_data"
    }
   ],
   "source": [
    "plt.plot(list(range(len(lr_find_lr))), lr_find_loss)\n",
    "plt.show()"
   ]
  },
  {
   "cell_type": "code",
   "execution_count": 0,
   "metadata": {
    "colab": {
     "base_uri": "https://localhost:8080/",
     "height": 329
    },
    "colab_type": "code",
    "id": "q1qbEB2dF7A5",
    "outputId": "31a08f2a-be6e-456d-f224-078e9cab725a"
   },
   "outputs": [
    {
     "name": "stdout",
     "output_type": "stream",
     "text": [
      "Epoch 1 of 51 took 39.654s\n",
      "  training loss (in-iteration): \t1.742999\n",
      "  validation accuracy: \t\t\t40.21 %\n",
      "Epoch 11 of 51 took 39.102s\n",
      "  training loss (in-iteration): \t0.978056\n",
      "  validation accuracy: \t\t\t61.92 %\n",
      "Epoch 21 of 51 took 39.140s\n",
      "  training loss (in-iteration): \t0.536103\n",
      "  validation accuracy: \t\t\t70.65 %\n",
      "Epoch 31 of 51 took 39.094s\n",
      "  training loss (in-iteration): \t0.059520\n",
      "  validation accuracy: \t\t\t74.43 %\n",
      "Epoch 41 of 51 took 39.107s\n",
      "  training loss (in-iteration): \t0.005052\n",
      "  validation accuracy: \t\t\t74.90 %\n",
      "Epoch 51 of 51 took 39.070s\n",
      "  training loss (in-iteration): \t0.119532\n",
      "  validation accuracy: \t\t\t68.76 %\n"
     ]
    }
   ],
   "source": [
    "import time\n",
    "def cyclical_lr(stepsize, min_lr=3e-4, max_lr=3e-3):\n",
    "\n",
    "    # Scaler: we can adapt this if we do not want the triangular CLR\n",
    "    scaler = lambda x: 1. * (10 - 0.3 * x)#* math.exp(-x)\n",
    "\n",
    "    # Lambda function to calculate the LR\n",
    "    lr_lambda = lambda it: min_lr + (max_lr - min_lr) * relative(it, stepsize)\n",
    "\n",
    "    # Additional function to see where on the cycle we are\n",
    "    def relative(it, stepsize):\n",
    "        cycle = math.floor(1 + it / (2 * stepsize))\n",
    "        x = abs(it / stepsize - 2 * cycle + 1)\n",
    "        return max(0, (1 - x)) * scaler(cycle)\n",
    "\n",
    "    return lr_lambda\n",
    "\n",
    "resnet18 = models.resnet18(num_classes=10, pretrained=False)\n",
    "resnet18 = resnet18.cuda()\n",
    "\n",
    "num_epochs = 51\n",
    "start_lr = 1e-3\n",
    "end_lr = 0.1\n",
    "factor = 10\n",
    "opt = torch.optim.Adam(resnet18.parameters(), lr=end_lr)\n",
    "\n",
    "#lr_lambda = lambda x: math.exp(x * math.log(end_lr / start_lr) / (num_epochs * len(trainset)/batch_size))\n",
    "#scheduler = torch.optim.lr_scheduler.LambdaLR(opt, lr_lambda)\n",
    "step_size = 4*len(trainset) / batch_size\n",
    "clr = cyclical_lr(step_size, min_lr=start_lr, max_lr=end_lr)\n",
    "scheduler = torch.optim.lr_scheduler.LambdaLR(opt, [clr])\n",
    "\n",
    "train_loss = []\n",
    "val_accuracy = []\n",
    "losses = []\n",
    "\n",
    "lr_find_loss = []\n",
    "lr_find_lr = []\n",
    "\n",
    "it = 0\n",
    "\n",
    "smoothing = 0.5\n",
    "\n",
    "for epoch in range(num_epochs):\n",
    "    start_time = time.time()\n",
    "    k = 0\n",
    "    resnet18.train(True)\n",
    "    for (X_batch, y_batch) in trainloader:\n",
    "        loss = compute_loss(X_batch, y_batch)\n",
    "        loss.backward()\n",
    "        opt.step()\n",
    "        train_loss.append(loss.data.cpu().numpy())\n",
    "        #if k % 20 == 0:\n",
    "        #  print(k, end=' ')\n",
    "        k += 1\n",
    "\n",
    "        scheduler.step()\n",
    "        opt.zero_grad()\n",
    "        lr_step = opt.state_dict()[\"param_groups\"][0][\"lr\"]\n",
    "        lr_find_lr.append(lr_step)\n",
    "\n",
    "        lr_find_loss.append(loss)\n",
    "        #if it == 0:\n",
    "        #  lr_find_loss.append(loss)\n",
    "        #else:\n",
    "        #  loss = smoothing  * loss + (1 - smoothing) * lr_find_loss[-1]\n",
    "        #  lr_find_loss.append(loss)\n",
    "        it += 1\n",
    "\n",
    "    resnet18.train(False)\n",
    "    #print('#')\n",
    "    for (X_batch, y_batch) in valloader:\n",
    "        #print('@', end='')\n",
    "        y_batch = y_batch.cuda()\n",
    "        logits = resnet18(Variable(torch.FloatTensor(X_batch)).cuda())\n",
    "        y_pred = logits.max(1)[1].data\n",
    "        val_accuracy.append(np.mean((y_batch.cpu() == y_pred.cpu()).numpy() ))\n",
    "\n",
    "    if epoch % 10 == 0:\n",
    "        print(\"Epoch {} of {} took {:.3f}s\".format(\n",
    "            epoch + 1, num_epochs, time.time() - start_time))\n",
    "        print(\"  training loss (in-iteration): \\t{:.6f}\".format(\n",
    "            np.mean(train_loss[-len(trainset) // batch_size :])))\n",
    "        print(\"  validation accuracy: \\t\\t\\t{:.2f} %\".format(\n",
    "            np.mean(val_accuracy[-len(valset) // batch_size :]) * 100))\n",
    "        losses.append(np.array(train_loss).mean())"
   ]
  },
  {
   "cell_type": "code",
   "execution_count": 0,
   "metadata": {
    "colab": {
     "base_uri": "https://localhost:8080/",
     "height": 267
    },
    "colab_type": "code",
    "id": "AwaLP1pwJCKn",
    "outputId": "f157482a-e04d-4f2a-a3b0-3329ae283fef"
   },
   "outputs": [
    {
     "data": {
      "image/png": "[encoded data removed]",
      "text/plain": [
       "<Figure size 432x288 with 1 Axes>"
      ]
     },
     "metadata": {
      "tags": []
     },
     "output_type": "display_data"
    }
   ],
   "source": [
    "plt.plot(list(range(len(lr_find_lr))), lr_find_lr)\n",
    "plt.show()"
   ]
  },
  {
   "cell_type": "code",
   "execution_count": 0,
   "metadata": {
    "colab": {
     "base_uri": "https://localhost:8080/",
     "height": 265
    },
    "colab_type": "code",
    "id": "9uhSPNmSNK8l",
    "outputId": "976bb9f7-a2a1-40ae-91a5-c8589ab548ce"
   },
   "outputs": [
    {
     "data": {
      "image/png": "[encoded data removed]",
      "text/plain": [
       "<Figure size 432x288 with 1 Axes>"
      ]
     },
     "metadata": {
      "tags": []
     },
     "output_type": "display_data"
    }
   ],
   "source": [
    "plt.plot(list(range(len(lr_find_lr))), lr_find_loss)\n",
    "plt.show()"
   ]
  },
  {
   "cell_type": "code",
   "execution_count": 0,
   "metadata": {
    "colab": {
     "base_uri": "https://localhost:8080/",
     "height": 329
    },
    "colab_type": "code",
    "id": "22NezHQuNQ8n",
    "outputId": "2a57a283-0369-42d2-a3e3-fd3ef4eb9594"
   },
   "outputs": [
    {
     "name": "stdout",
     "output_type": "stream",
     "text": [
      "Epoch 1 of 51 took 26.180s\n",
      "  training loss (in-iteration): \t1.755143\n",
      "  validation accuracy: \t\t\t31.31 %\n",
      "Epoch 11 of 51 took 26.068s\n",
      "  training loss (in-iteration): \t0.891474\n",
      "  validation accuracy: \t\t\t59.07 %\n",
      "Epoch 21 of 51 took 26.024s\n",
      "  training loss (in-iteration): \t0.727585\n",
      "  validation accuracy: \t\t\t67.05 %\n",
      "Epoch 31 of 51 took 26.121s\n",
      "  training loss (in-iteration): \t0.054775\n",
      "  validation accuracy: \t\t\t75.12 %\n",
      "Epoch 41 of 51 took 25.917s\n",
      "  training loss (in-iteration): \t0.005150\n",
      "  validation accuracy: \t\t\t75.57 %\n",
      "Epoch 51 of 51 took 26.223s\n",
      "  training loss (in-iteration): \t0.096201\n",
      "  validation accuracy: \t\t\t72.56 %\n"
     ]
    }
   ],
   "source": [
    "import time\n",
    "def cyclical_lr(stepsize, min_lr=3e-4, max_lr=3e-3):\n",
    "\n",
    "    # Scaler: we can adapt this if we do not want the triangular CLR\n",
    "    scaler = lambda x: 1. * (10 - 0.7 * x)#* math.exp(-x)\n",
    "\n",
    "    # Lambda function to calculate the LR\n",
    "    lr_lambda = lambda it: min_lr + (max_lr - min_lr) * relative(it, stepsize)\n",
    "\n",
    "    # Additional function to see where on the cycle we are\n",
    "    def relative(it, stepsize):\n",
    "        cycle = math.floor(1 + it / (2 * stepsize))\n",
    "        x = abs(it / stepsize - 2 * cycle + 1)\n",
    "        return max(0, (1 - x)) * scaler(cycle)\n",
    "\n",
    "    return lr_lambda\n",
    "\n",
    "resnet18 = models.resnet18(num_classes=10, pretrained=False)\n",
    "resnet18 = resnet18.cuda()\n",
    "\n",
    "num_epochs = 51\n",
    "start_lr = 1e-3\n",
    "end_lr = 0.1\n",
    "factor = 10\n",
    "opt = torch.optim.Adam(resnet18.parameters(), lr=end_lr)\n",
    "\n",
    "#lr_lambda = lambda x: math.exp(x * math.log(end_lr / start_lr) / (num_epochs * len(trainset)/batch_size))\n",
    "#scheduler = torch.optim.lr_scheduler.LambdaLR(opt, lr_lambda)\n",
    "step_size = 4*len(trainset) / batch_size\n",
    "clr = cyclical_lr(step_size, min_lr=start_lr, max_lr=end_lr)\n",
    "scheduler = torch.optim.lr_scheduler.LambdaLR(opt, [clr])\n",
    "\n",
    "train_loss = []\n",
    "val_accuracy = []\n",
    "losses = []\n",
    "\n",
    "lr_find_loss = []\n",
    "lr_find_lr = []\n",
    "\n",
    "it = 0\n",
    "\n",
    "smoothing = 0.5\n",
    "\n",
    "for epoch in range(num_epochs):\n",
    "    start_time = time.time()\n",
    "    k = 0\n",
    "    resnet18.train(True)\n",
    "    for (X_batch, y_batch) in trainloader:\n",
    "        loss = compute_loss(X_batch, y_batch)\n",
    "        loss.backward()\n",
    "        opt.step()\n",
    "        train_loss.append(loss.data.cpu().numpy())\n",
    "        #if k % 20 == 0:\n",
    "        #  print(k, end=' ')\n",
    "        k += 1\n",
    "\n",
    "        scheduler.step()\n",
    "        opt.zero_grad()\n",
    "        lr_step = opt.state_dict()[\"param_groups\"][0][\"lr\"]\n",
    "        lr_find_lr.append(lr_step)\n",
    "\n",
    "        lr_find_loss.append(loss)\n",
    "        #if it == 0:\n",
    "        #  lr_find_loss.append(loss)\n",
    "        #else:\n",
    "        #  loss = smoothing  * loss + (1 - smoothing) * lr_find_loss[-1]\n",
    "        #  lr_find_loss.append(loss)\n",
    "        it += 1\n",
    "\n",
    "    resnet18.train(False)\n",
    "    #print('#')\n",
    "    for (X_batch, y_batch) in valloader:\n",
    "        #print('@', end='')\n",
    "        y_batch = y_batch.cuda()\n",
    "        logits = resnet18(Variable(torch.FloatTensor(X_batch)).cuda())\n",
    "        y_pred = logits.max(1)[1].data\n",
    "        val_accuracy.append(np.mean((y_batch.cpu() == y_pred.cpu()).numpy() ))\n",
    "\n",
    "    if epoch % 10 == 0:\n",
    "        print(\"Epoch {} of {} took {:.3f}s\".format(\n",
    "            epoch + 1, num_epochs, time.time() - start_time))\n",
    "        print(\"  training loss (in-iteration): \\t{:.6f}\".format(\n",
    "            np.mean(train_loss[-len(trainset) // batch_size :])))\n",
    "        print(\"  validation accuracy: \\t\\t\\t{:.2f} %\".format(\n",
    "            np.mean(val_accuracy[-len(valset) // batch_size :]) * 100))\n",
    "        losses.append(np.array(train_loss).mean())"
   ]
  },
  {
   "cell_type": "code",
   "execution_count": 0,
   "metadata": {
    "colab": {
     "base_uri": "https://localhost:8080/",
     "height": 265
    },
    "colab_type": "code",
    "id": "XgmGm_G3NkVw",
    "outputId": "ac4ff016-9c54-48d0-e2e5-acd413826238"
   },
   "outputs": [
    {
     "data": {
      "image/png": "[encoded data removed]",
      "text/plain": [
       "<Figure size 432x288 with 1 Axes>"
      ]
     },
     "metadata": {
      "tags": []
     },
     "output_type": "display_data"
    }
   ],
   "source": [
    "plt.plot(list(range(len(lr_find_lr))), lr_find_lr)\n",
    "plt.show()"
   ]
  },
  {
   "cell_type": "code",
   "execution_count": 0,
   "metadata": {
    "colab": {
     "base_uri": "https://localhost:8080/",
     "height": 265
    },
    "colab_type": "code",
    "id": "N00iUmSxSRwR",
    "outputId": "2d6a353c-fdcc-42b7-f708-1800b93f4ebc"
   },
   "outputs": [
    {
     "data": {
      "image/png": "[encoded data removed]",
      "text/plain": [
       "<Figure size 432x288 with 1 Axes>"
      ]
     },
     "metadata": {
      "tags": []
     },
     "output_type": "display_data"
    }
   ],
   "source": [
    "plt.plot(list(range(len(lr_find_lr))), lr_find_loss)\n",
    "plt.show()"
   ]
  },
  {
   "cell_type": "code",
   "execution_count": 0,
   "metadata": {
    "colab": {
     "base_uri": "https://localhost:8080/",
     "height": 329
    },
    "colab_type": "code",
    "id": "aZ2_rHBDSXTc",
    "outputId": "7929aeca-22bb-497d-e53a-c930e8351667"
   },
   "outputs": [
    {
     "name": "stdout",
     "output_type": "stream",
     "text": [
      "Epoch 1 of 51 took 41.166s\n",
      "  training loss (in-iteration): \t2.286968\n",
      "  validation accuracy: \t\t\t22.15 %\n",
      "Epoch 11 of 51 took 40.705s\n",
      "  training loss (in-iteration): \t1.138740\n",
      "  validation accuracy: \t\t\t51.15 %\n",
      "Epoch 21 of 51 took 41.140s\n",
      "  training loss (in-iteration): \t0.375702\n",
      "  validation accuracy: \t\t\t54.16 %\n",
      "Epoch 31 of 51 took 40.504s\n",
      "  training loss (in-iteration): \t0.056851\n",
      "  validation accuracy: \t\t\t65.32 %\n",
      "Epoch 41 of 51 took 40.701s\n",
      "  training loss (in-iteration): \t0.076444\n",
      "  validation accuracy: \t\t\t64.77 %\n",
      "Epoch 51 of 51 took 40.549s\n",
      "  training loss (in-iteration): \t0.029368\n",
      "  validation accuracy: \t\t\t65.66 %\n"
     ]
    }
   ],
   "source": [
    "import time\n",
    "def cyclical_lr(stepsize, min_lr=3e-4, max_lr=3e-3):\n",
    "\n",
    "    # Scaler: we can adapt this if we do not want the triangular CLR\n",
    "    scaler = lambda x: 1. * (10 - 0.7 * x)#* math.exp(-x)\n",
    "\n",
    "    # Lambda function to calculate the LR\n",
    "    lr_lambda = lambda it: min_lr + (max_lr - min_lr) * relative(it, stepsize)\n",
    "\n",
    "    # Additional function to see where on the cycle we are\n",
    "    def relative(it, stepsize):\n",
    "        cycle = math.floor(1 + it / (2 * stepsize))\n",
    "        x = abs(it / stepsize - 2 * cycle + 1)\n",
    "        return max(0, (1 - x)) * scaler(cycle)\n",
    "    return lr_lambda\n",
    "\n",
    "\n",
    "resnet18 = models.resnet18(num_classes=10, pretrained=False)\n",
    "resnet18 = resnet18.cuda()\n",
    "\n",
    "num_epochs = 51\n",
    "small_start_lr = 1e-4\n",
    "small_end_lr = 0.01\n",
    "start_lr = 0.001\n",
    "end_lr = 0.1\n",
    "factor = 10\n",
    "opt = torch.optim.Adam(resnet18.parameters(), lr=end_lr)\n",
    "\n",
    "#lr_lambda = lambda x: math.exp(x * math.log(end_lr / start_lr) / (num_epochs * len(trainset)/batch_size))\n",
    "#scheduler = torch.optim.lr_scheduler.LambdaLR(opt, lr_lambda)\n",
    "lr_lambda = lambda x: math.exp(x * math.log(start_lr / end_lr) / (num_epochs * len(trainset)/batch_size))\n",
    "scheduler = torch.optim.lr_scheduler.LambdaLR(opt, lr_lambda)\n",
    "\n",
    "step_size = 4*len(trainset) / batch_size\n",
    "clr = cyclical_lr(step_size, min_lr=small_start_lr, max_lr=small_end_lr)\n",
    "small_scheduler = torch.optim.lr_scheduler.LambdaLR(opt, [clr])\n",
    "\n",
    "train_loss = []\n",
    "val_accuracy = []\n",
    "losses = []\n",
    "\n",
    "lr_find_loss = []\n",
    "lr_find_lr = []\n",
    "\n",
    "it = 0\n",
    "\n",
    "smoothing = 0.5\n",
    "small_flag = False\n",
    "\n",
    "for epoch in range(num_epochs):\n",
    "    start_time = time.time()\n",
    "    resnet18.train(True)\n",
    "    for (X_batch, y_batch) in trainloader:\n",
    "        loss = compute_loss(X_batch, y_batch)\n",
    "        loss.backward()\n",
    "        opt.step()\n",
    "        train_loss.append(loss.data.cpu().numpy())\n",
    "      \n",
    "\n",
    "        if small_flag == False:\n",
    "            scheduler.step()\n",
    "        else:\n",
    "            small_scheduler.step()\n",
    "        opt.zero_grad()\n",
    "\n",
    "        lr_step = opt.state_dict()[\"param_groups\"][0][\"lr\"]\n",
    "        lr_find_lr.append(lr_step)\n",
    "        lr_find_loss.append(loss)\n",
    "        \n",
    "        it += 1\n",
    "        if loss < 0.001:\n",
    "          small_flag = True\n",
    "\n",
    "    resnet18.train(False)\n",
    "    for (X_batch, y_batch) in valloader:\n",
    "        y_batch = y_batch.cuda()\n",
    "        logits = resnet18(Variable(torch.FloatTensor(X_batch)).cuda())\n",
    "        y_pred = logits.max(1)[1].data\n",
    "        val_accuracy.append(np.mean((y_batch.cpu() == y_pred.cpu()).numpy() ))\n",
    "\n",
    "    if epoch % 10 == 0:\n",
    "        print(\"Epoch {} of {} took {:.3f}s\".format(\n",
    "            epoch + 1, num_epochs, time.time() - start_time))\n",
    "        print(\"  training loss (in-iteration): \\t{:.6f}\".format(\n",
    "            np.mean(train_loss[-len(trainset) // batch_size :])))\n",
    "        print(\"  validation accuracy: \\t\\t\\t{:.2f} %\".format(\n",
    "            np.mean(val_accuracy[-len(valset) // batch_size :]) * 100))\n",
    "        losses.append(np.array(train_loss).mean())"
   ]
  },
  {
   "cell_type": "code",
   "execution_count": 0,
   "metadata": {
    "colab": {
     "base_uri": "https://localhost:8080/",
     "height": 265
    },
    "colab_type": "code",
    "id": "3actKqq2b6Qh",
    "outputId": "6cdf3858-9e18-467b-a921-7440b0f5db3c"
   },
   "outputs": [
    {
     "data": {
      "image/png": "[encoded data removed]",
      "text/plain": [
       "<Figure size 432x288 with 1 Axes>"
      ]
     },
     "metadata": {
      "tags": []
     },
     "output_type": "display_data"
    }
   ],
   "source": [
    "plt.plot(list(range(len(lr_find_lr))), lr_find_lr)\n",
    "plt.show()"
   ]
  },
  {
   "cell_type": "code",
   "execution_count": 0,
   "metadata": {
    "colab": {
     "base_uri": "https://localhost:8080/",
     "height": 265
    },
    "colab_type": "code",
    "id": "t24h69nCcLk3",
    "outputId": "2659473c-dbb5-4445-d745-53a1b9dcdb7a"
   },
   "outputs": [
    {
     "data": {
      "image/png": "[encoded data removed]",
      "text/plain": [
       "<Figure size 432x288 with 1 Axes>"
      ]
     },
     "metadata": {
      "tags": []
     },
     "output_type": "display_data"
    }
   ],
   "source": [
    "plt.plot(list(range(len(lr_find_lr))), lr_find_loss)\n",
    "plt.show()"
   ]
  },
  {
   "cell_type": "code",
   "execution_count": 0,
   "metadata": {
    "colab": {},
    "colab_type": "code",
    "id": "c27Z4GLIwM-1"
   },
   "outputs": [],
   "source": []
  }
 ],
 "metadata": {
  "accelerator": "GPU",
  "colab": {
   "collapsed_sections": [],
   "name": "cifar_10.ipynb",
   "provenance": []
  },
  "kernelspec": {
   "display_name": "Python 3",
   "language": "python",
   "name": "python3"
  },
  "language_info": {
   "codemirror_mode": {
    "name": "ipython",
    "version": 3
   },
   "file_extension": ".py",
   "mimetype": "text/x-python",
   "name": "python",
   "nbconvert_exporter": "python",
   "pygments_lexer": "ipython3",
   "version": "3.7.3"
  },
  "widgets": {
   "application/vnd.jupyter.widget-state+json": {
    "13ef58f542f145d4ae21645d7f9754b3": {
     "model_module": "@jupyter-widgets/controls",
     "model_name": "ProgressStyleModel",
     "state": {
      "_model_module": "@jupyter-widgets/controls",
      "_model_module_version": "1.5.0",
      "_model_name": "ProgressStyleModel",
      "_view_count": null,
      "_view_module": "@jupyter-widgets/base",
      "_view_module_version": "1.2.0",
      "_view_name": "StyleView",
      "bar_color": null,
      "description_width": "initial"
     }
    },
    "17ee1d41ab104ed8abd0170897126168": {
     "model_module": "@jupyter-widgets/controls",
     "model_name": "DescriptionStyleModel",
     "state": {
      "_model_module": "@jupyter-widgets/controls",
      "_model_module_version": "1.5.0",
      "_model_name": "DescriptionStyleModel",
      "_view_count": null,
      "_view_module": "@jupyter-widgets/base",
      "_view_module_version": "1.2.0",
      "_view_name": "StyleView",
      "description_width": ""
     }
    },
    "3e4b663ad34b4f1aba323dde511ad4d4": {
     "model_module": "@jupyter-widgets/base",
     "model_name": "LayoutModel",
     "state": {
      "_model_module": "@jupyter-widgets/base",
      "_model_module_version": "1.2.0",
      "_model_name": "LayoutModel",
      "_view_count": null,
      "_view_module": "@jupyter-widgets/base",
      "_view_module_version": "1.2.0",
      "_view_name": "LayoutView",
      "align_content": null,
      "align_items": null,
      "align_self": null,
      "border": null,
      "bottom": null,
      "display": null,
      "flex": null,
      "flex_flow": null,
      "grid_area": null,
      "grid_auto_columns": null,
      "grid_auto_flow": null,
      "grid_auto_rows": null,
      "grid_column": null,
      "grid_gap": null,
      "grid_row": null,
      "grid_template_areas": null,
      "grid_template_columns": null,
      "grid_template_rows": null,
      "height": null,
      "justify_content": null,
      "justify_items": null,
      "left": null,
      "margin": null,
      "max_height": null,
      "max_width": null,
      "min_height": null,
      "min_width": null,
      "object_fit": null,
      "object_position": null,
      "order": null,
      "overflow": null,
      "overflow_x": null,
      "overflow_y": null,
      "padding": null,
      "right": null,
      "top": null,
      "visibility": null,
      "width": null
     }
    },
    "66c2b485c47a4f1c82e703ac1b018b07": {
     "model_module": "@jupyter-widgets/base",
     "model_name": "LayoutModel",
     "state": {
      "_model_module": "@jupyter-widgets/base",
      "_model_module_version": "1.2.0",
      "_model_name": "LayoutModel",
      "_view_count": null,
      "_view_module": "@jupyter-widgets/base",
      "_view_module_version": "1.2.0",
      "_view_name": "LayoutView",
      "align_content": null,
      "align_items": null,
      "align_self": null,
      "border": null,
      "bottom": null,
      "display": null,
      "flex": null,
      "flex_flow": null,
      "grid_area": null,
      "grid_auto_columns": null,
      "grid_auto_flow": null,
      "grid_auto_rows": null,
      "grid_column": null,
      "grid_gap": null,
      "grid_row": null,
      "grid_template_areas": null,
      "grid_template_columns": null,
      "grid_template_rows": null,
      "height": null,
      "justify_content": null,
      "justify_items": null,
      "left": null,
      "margin": null,
      "max_height": null,
      "max_width": null,
      "min_height": null,
      "min_width": null,
      "object_fit": null,
      "object_position": null,
      "order": null,
      "overflow": null,
      "overflow_x": null,
      "overflow_y": null,
      "padding": null,
      "right": null,
      "top": null,
      "visibility": null,
      "width": null
     }
    },
    "80b0bb1341874e9eb9c3d75e48db11b0": {
     "model_module": "@jupyter-widgets/controls",
     "model_name": "HTMLModel",
     "state": {
      "_dom_classes": [],
      "_model_module": "@jupyter-widgets/controls",
      "_model_module_version": "1.5.0",
      "_model_name": "HTMLModel",
      "_view_count": null,
      "_view_module": "@jupyter-widgets/controls",
      "_view_module_version": "1.5.0",
      "_view_name": "HTMLView",
      "description": "",
      "description_tooltip": null,
      "layout": "IPY_MODEL_b165399415864fc4866e92cf9c247a84",
      "placeholder": "​",
      "style": "IPY_MODEL_17ee1d41ab104ed8abd0170897126168",
      "value": " 170500096/? [00:30&lt;00:00, 18095973.26it/s]"
     }
    },
    "96c8f66085744785a0a18d013af29438": {
     "model_module": "@jupyter-widgets/controls",
     "model_name": "HBoxModel",
     "state": {
      "_dom_classes": [],
      "_model_module": "@jupyter-widgets/controls",
      "_model_module_version": "1.5.0",
      "_model_name": "HBoxModel",
      "_view_count": null,
      "_view_module": "@jupyter-widgets/controls",
      "_view_module_version": "1.5.0",
      "_view_name": "HBoxView",
      "box_style": "",
      "children": [
       "IPY_MODEL_98291363c4c54b15bc621ca89dc0cea8",
       "IPY_MODEL_80b0bb1341874e9eb9c3d75e48db11b0"
      ],
      "layout": "IPY_MODEL_66c2b485c47a4f1c82e703ac1b018b07"
     }
    },
    "98291363c4c54b15bc621ca89dc0cea8": {
     "model_module": "@jupyter-widgets/controls",
     "model_name": "IntProgressModel",
     "state": {
      "_dom_classes": [],
      "_model_module": "@jupyter-widgets/controls",
      "_model_module_version": "1.5.0",
      "_model_name": "IntProgressModel",
      "_view_count": null,
      "_view_module": "@jupyter-widgets/controls",
      "_view_module_version": "1.5.0",
      "_view_name": "ProgressView",
      "bar_style": "info",
      "description": "",
      "description_tooltip": null,
      "layout": "IPY_MODEL_3e4b663ad34b4f1aba323dde511ad4d4",
      "max": 1,
      "min": 0,
      "orientation": "horizontal",
      "style": "IPY_MODEL_13ef58f542f145d4ae21645d7f9754b3",
      "value": 1
     }
    },
    "b165399415864fc4866e92cf9c247a84": {
     "model_module": "@jupyter-widgets/base",
     "model_name": "LayoutModel",
     "state": {
      "_model_module": "@jupyter-widgets/base",
      "_model_module_version": "1.2.0",
      "_model_name": "LayoutModel",
      "_view_count": null,
      "_view_module": "@jupyter-widgets/base",
      "_view_module_version": "1.2.0",
      "_view_name": "LayoutView",
      "align_content": null,
      "align_items": null,
      "align_self": null,
      "border": null,
      "bottom": null,
      "display": null,
      "flex": null,
      "flex_flow": null,
      "grid_area": null,
      "grid_auto_columns": null,
      "grid_auto_flow": null,
      "grid_auto_rows": null,
      "grid_column": null,
      "grid_gap": null,
      "grid_row": null,
      "grid_template_areas": null,
      "grid_template_columns": null,
      "grid_template_rows": null,
      "height": null,
      "justify_content": null,
      "justify_items": null,
      "left": null,
      "margin": null,
      "max_height": null,
      "max_width": null,
      "min_height": null,
      "min_width": null,
      "object_fit": null,
      "object_position": null,
      "order": null,
      "overflow": null,
      "overflow_x": null,
      "overflow_y": null,
      "padding": null,
      "right": null,
      "top": null,
      "visibility": null,
      "width": null
     }
    }
   }
  }
 },
 "nbformat": 4,
 "nbformat_minor": 1
}
