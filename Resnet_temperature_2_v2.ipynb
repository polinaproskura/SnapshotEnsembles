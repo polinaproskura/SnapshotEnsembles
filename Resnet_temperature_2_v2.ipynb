{
  "nbformat": 4,
  "nbformat_minor": 0,
  "metadata": {
    "colab": {
      "name": "Resnet_temperature_2.ipynb",
      "provenance": [],
      "collapsed_sections": []
    },
    "kernelspec": {
      "name": "python3",
      "display_name": "Python 3"
    },
    "language_info": {
      "name": "python"
    },
    "accelerator": "GPU",
    "widgets": {
      "application/vnd.jupyter.widget-state+json": {
        "552f4977ad9e4e59bea247b36103a202": {
          "model_module": "@jupyter-widgets/controls",
          "model_name": "HBoxModel",
          "state": {
            "_view_name": "HBoxView",
            "_dom_classes": [],
            "_model_name": "HBoxModel",
            "_view_module": "@jupyter-widgets/controls",
            "_model_module_version": "1.5.0",
            "_view_count": null,
            "_view_module_version": "1.5.0",
            "box_style": "",
            "layout": "IPY_MODEL_633ca04b64384cf59edeb8ed28a1a40f",
            "_model_module": "@jupyter-widgets/controls",
            "children": [
              "IPY_MODEL_72816ae0f9674396aaaad4264f29cb71",
              "IPY_MODEL_886a9ff63a6641a8882ac7759a00f28e"
            ]
          }
        },
        "633ca04b64384cf59edeb8ed28a1a40f": {
          "model_module": "@jupyter-widgets/base",
          "model_name": "LayoutModel",
          "state": {
            "_view_name": "LayoutView",
            "grid_template_rows": null,
            "right": null,
            "justify_content": null,
            "_view_module": "@jupyter-widgets/base",
            "overflow": null,
            "_model_module_version": "1.2.0",
            "_view_count": null,
            "flex_flow": null,
            "width": null,
            "min_width": null,
            "border": null,
            "align_items": null,
            "bottom": null,
            "_model_module": "@jupyter-widgets/base",
            "top": null,
            "grid_column": null,
            "overflow_y": null,
            "overflow_x": null,
            "grid_auto_flow": null,
            "grid_area": null,
            "grid_template_columns": null,
            "flex": null,
            "_model_name": "LayoutModel",
            "justify_items": null,
            "grid_row": null,
            "max_height": null,
            "align_content": null,
            "visibility": null,
            "align_self": null,
            "height": null,
            "min_height": null,
            "padding": null,
            "grid_auto_rows": null,
            "grid_gap": null,
            "max_width": null,
            "order": null,
            "_view_module_version": "1.2.0",
            "grid_template_areas": null,
            "object_position": null,
            "object_fit": null,
            "grid_auto_columns": null,
            "margin": null,
            "display": null,
            "left": null
          }
        },
        "72816ae0f9674396aaaad4264f29cb71": {
          "model_module": "@jupyter-widgets/controls",
          "model_name": "FloatProgressModel",
          "state": {
            "_view_name": "ProgressView",
            "style": "IPY_MODEL_96c6b33db8244eddb8227227a93a7f7a",
            "_dom_classes": [],
            "description": "",
            "_model_name": "FloatProgressModel",
            "bar_style": "success",
            "max": 170498071,
            "_view_module": "@jupyter-widgets/controls",
            "_model_module_version": "1.5.0",
            "value": 170498071,
            "_view_count": null,
            "_view_module_version": "1.5.0",
            "orientation": "horizontal",
            "min": 0,
            "description_tooltip": null,
            "_model_module": "@jupyter-widgets/controls",
            "layout": "IPY_MODEL_e0b7b7ea564d4ee891c072b16f68f095"
          }
        },
        "886a9ff63a6641a8882ac7759a00f28e": {
          "model_module": "@jupyter-widgets/controls",
          "model_name": "HTMLModel",
          "state": {
            "_view_name": "HTMLView",
            "style": "IPY_MODEL_a3094c619c8140319ca5c60a932b365f",
            "_dom_classes": [],
            "description": "",
            "_model_name": "HTMLModel",
            "placeholder": "​",
            "_view_module": "@jupyter-widgets/controls",
            "_model_module_version": "1.5.0",
            "value": " 170499072/? [02:24&lt;00:00, 1179857.10it/s]",
            "_view_count": null,
            "_view_module_version": "1.5.0",
            "description_tooltip": null,
            "_model_module": "@jupyter-widgets/controls",
            "layout": "IPY_MODEL_69bc17c08f2948d9aaa118ea2cd07417"
          }
        },
        "96c6b33db8244eddb8227227a93a7f7a": {
          "model_module": "@jupyter-widgets/controls",
          "model_name": "ProgressStyleModel",
          "state": {
            "_view_name": "StyleView",
            "_model_name": "ProgressStyleModel",
            "description_width": "initial",
            "_view_module": "@jupyter-widgets/base",
            "_model_module_version": "1.5.0",
            "_view_count": null,
            "_view_module_version": "1.2.0",
            "bar_color": null,
            "_model_module": "@jupyter-widgets/controls"
          }
        },
        "e0b7b7ea564d4ee891c072b16f68f095": {
          "model_module": "@jupyter-widgets/base",
          "model_name": "LayoutModel",
          "state": {
            "_view_name": "LayoutView",
            "grid_template_rows": null,
            "right": null,
            "justify_content": null,
            "_view_module": "@jupyter-widgets/base",
            "overflow": null,
            "_model_module_version": "1.2.0",
            "_view_count": null,
            "flex_flow": null,
            "width": null,
            "min_width": null,
            "border": null,
            "align_items": null,
            "bottom": null,
            "_model_module": "@jupyter-widgets/base",
            "top": null,
            "grid_column": null,
            "overflow_y": null,
            "overflow_x": null,
            "grid_auto_flow": null,
            "grid_area": null,
            "grid_template_columns": null,
            "flex": null,
            "_model_name": "LayoutModel",
            "justify_items": null,
            "grid_row": null,
            "max_height": null,
            "align_content": null,
            "visibility": null,
            "align_self": null,
            "height": null,
            "min_height": null,
            "padding": null,
            "grid_auto_rows": null,
            "grid_gap": null,
            "max_width": null,
            "order": null,
            "_view_module_version": "1.2.0",
            "grid_template_areas": null,
            "object_position": null,
            "object_fit": null,
            "grid_auto_columns": null,
            "margin": null,
            "display": null,
            "left": null
          }
        },
        "a3094c619c8140319ca5c60a932b365f": {
          "model_module": "@jupyter-widgets/controls",
          "model_name": "DescriptionStyleModel",
          "state": {
            "_view_name": "StyleView",
            "_model_name": "DescriptionStyleModel",
            "description_width": "",
            "_view_module": "@jupyter-widgets/base",
            "_model_module_version": "1.5.0",
            "_view_count": null,
            "_view_module_version": "1.2.0",
            "_model_module": "@jupyter-widgets/controls"
          }
        },
        "69bc17c08f2948d9aaa118ea2cd07417": {
          "model_module": "@jupyter-widgets/base",
          "model_name": "LayoutModel",
          "state": {
            "_view_name": "LayoutView",
            "grid_template_rows": null,
            "right": null,
            "justify_content": null,
            "_view_module": "@jupyter-widgets/base",
            "overflow": null,
            "_model_module_version": "1.2.0",
            "_view_count": null,
            "flex_flow": null,
            "width": null,
            "min_width": null,
            "border": null,
            "align_items": null,
            "bottom": null,
            "_model_module": "@jupyter-widgets/base",
            "top": null,
            "grid_column": null,
            "overflow_y": null,
            "overflow_x": null,
            "grid_auto_flow": null,
            "grid_area": null,
            "grid_template_columns": null,
            "flex": null,
            "_model_name": "LayoutModel",
            "justify_items": null,
            "grid_row": null,
            "max_height": null,
            "align_content": null,
            "visibility": null,
            "align_self": null,
            "height": null,
            "min_height": null,
            "padding": null,
            "grid_auto_rows": null,
            "grid_gap": null,
            "max_width": null,
            "order": null,
            "_view_module_version": "1.2.0",
            "grid_template_areas": null,
            "object_position": null,
            "object_fit": null,
            "grid_auto_columns": null,
            "margin": null,
            "display": null,
            "left": null
          }
        }
      }
    }
  },
  "cells": [
    {
      "cell_type": "code",
      "metadata": {
        "id": "VdSsjRBKkjCj",
        "cellView": "form"
      },
      "source": [
        "#@title imports\n",
        "\n",
        "import numpy as np\n",
        "import torch\n",
        "import torchvision\n",
        "import matplotlib.pyplot as plt\n",
        "from time import time\n",
        "import time\n",
        "import copy\n",
        "from torchvision import datasets, transforms\n",
        "from torch import nn, optim\n",
        "import warnings\n",
        "warnings.filterwarnings(\"ignore\")\n",
        "import torchvision.models as models\n",
        "import torch, torch.nn as nn\n",
        "import math\n",
        "import torch.nn.functional as F\n",
        "from torch.autograd import Variable\n",
        "class Flatten(nn.Module):\n",
        "    def forward(self, input):\n",
        "        return input.view(input.size(0), -1)\n",
        "\n",
        "def transform(my_x, my_y):\n",
        "    tensor_x = torch.Tensor(my_x)  # transform to torch tensor\n",
        "    tensor_y = torch.LongTensor(my_y)\n",
        "    my_dataset = data.TensorDataset(tensor_x, tensor_y)  # create your datset\n",
        "    my_dataloader = data.DataLoader(my_dataset)  # create your dataloader\n",
        "    return my_dataloader\n",
        "\n",
        "\n",
        "def compute_loss(X_batch, y_batch):\n",
        "    X_batch = Variable(torch.FloatTensor(X_batch))\n",
        "    y_batch = Variable(torch.LongTensor(y_batch))\n",
        "    X_batch, y_batch = X_batch.cuda(), y_batch.cuda()\n",
        "    logits = resnet18(X_batch)\n",
        "    return F.cross_entropy(logits, y_batch).mean()"
      ],
      "execution_count": null,
      "outputs": []
    },
    {
      "cell_type": "code",
      "metadata": {
        "colab": {
          "base_uri": "https://localhost:8080/",
          "height": 140,
          "referenced_widgets": [
            "552f4977ad9e4e59bea247b36103a202",
            "633ca04b64384cf59edeb8ed28a1a40f",
            "72816ae0f9674396aaaad4264f29cb71",
            "886a9ff63a6641a8882ac7759a00f28e",
            "96c6b33db8244eddb8227227a93a7f7a",
            "e0b7b7ea564d4ee891c072b16f68f095",
            "a3094c619c8140319ca5c60a932b365f",
            "69bc17c08f2948d9aaa118ea2cd07417"
          ]
        },
        "id": "9X3NmX5GkoKl",
        "cellView": "form",
        "outputId": "22898d9a-7f53-4ac5-fd10-8aa641ef3492"
      },
      "source": [
        "#@title dataloading\n",
        "transform = transforms.ToTensor()\n",
        "batch_size=100\n",
        "\n",
        "transform_train = transforms.Compose([\n",
        "    transforms.RandomCrop(28, padding=4),\n",
        "    transforms.RandomHorizontalFlip(),\n",
        "    transforms.ToTensor(),\n",
        "    transforms.Normalize((0.4914, 0.4822, 0.4465), (0.2023, 0.1994, 0.2010)),\n",
        "])\n",
        "\n",
        "transform_test = transforms.Compose([\n",
        "    transforms.ToTensor(),\n",
        "    transforms.Normalize((0.4914, 0.4822, 0.4465), (0.2023, 0.1994, 0.2010)),\n",
        "])\n",
        "\n",
        "trainset = datasets.CIFAR10('cifar-10', download=True, train=True, transform=transform)\n",
        "testset = datasets.CIFAR10('cifar-10', download=True, train=False, transform=transform)\n",
        "trainloader = torch.utils.data.DataLoader(trainset, batch_size=batch_size, shuffle=True)\n",
        "valset, testset = torch.utils.data.random_split(testset, [1000, 9000])\n",
        "testloader = torch.utils.data.DataLoader(testset, batch_size=batch_size, shuffle=True)\n",
        "valloader = torch.utils.data.DataLoader(valset, batch_size=batch_size, shuffle=True)\n"
      ],
      "execution_count": null,
      "outputs": [
        {
          "output_type": "stream",
          "text": [
            "Downloading https://www.cs.toronto.edu/~kriz/cifar-10-python.tar.gz to cifar-10/cifar-10-python.tar.gz\n"
          ],
          "name": "stdout"
        },
        {
          "output_type": "display_data",
          "data": {
            "application/vnd.jupyter.widget-view+json": {
              "model_id": "552f4977ad9e4e59bea247b36103a202",
              "version_minor": 0,
              "version_major": 2
            },
            "text/plain": [
              "HBox(children=(FloatProgress(value=0.0, max=170498071.0), HTML(value='')))"
            ]
          },
          "metadata": {
            "tags": []
          }
        },
        {
          "output_type": "stream",
          "text": [
            "\n",
            "Extracting cifar-10/cifar-10-python.tar.gz to cifar-10\n",
            "Files already downloaded and verified\n"
          ],
          "name": "stdout"
        }
      ]
    },
    {
      "cell_type": "code",
      "metadata": {
        "id": "Btl5i05lkqps",
        "cellView": "form"
      },
      "source": [
        "#@title resnet_structure\n",
        "class BasicBlock(nn.Module):\n",
        "    expansion = 1\n",
        "\n",
        "    def __init__(self, in_planes, planes, stride=1):\n",
        "        super(BasicBlock, self).__init__()\n",
        "        self.conv1 = nn.Conv2d(in_planes, planes, kernel_size=3, stride=stride, padding=1, bias=False)\n",
        "        self.bn1 = nn.BatchNorm2d(planes)\n",
        "        self.conv2 = nn.Conv2d(planes, planes, kernel_size=3, stride=1, padding=1, bias=False)\n",
        "        self.bn2 = nn.BatchNorm2d(planes)\n",
        "\n",
        "        self.shortcut = nn.Sequential()\n",
        "        if stride != 1 or in_planes != self.expansion*planes:\n",
        "            self.shortcut = nn.Sequential(\n",
        "                nn.Conv2d(in_planes, self.expansion*planes, kernel_size=1, stride=stride, bias=False),\n",
        "                nn.BatchNorm2d(self.expansion*planes)\n",
        "            )\n",
        "\n",
        "    def forward(self, x):\n",
        "        out = F.relu(self.bn1(self.conv1(x)))\n",
        "        out = self.bn2(self.conv2(out))\n",
        "        out += self.shortcut(x)\n",
        "        out = F.relu(out)\n",
        "        return out\n",
        "\n",
        "\n",
        "class Bottleneck(nn.Module):\n",
        "    expansion = 4\n",
        "\n",
        "    def __init__(self, in_planes, planes, stride=1):\n",
        "        super(Bottleneck, self).__init__()\n",
        "        self.conv1 = nn.Conv2d(in_planes, planes, kernel_size=1, bias=False)\n",
        "        self.bn1 = nn.BatchNorm2d(planes)\n",
        "        self.conv2 = nn.Conv2d(planes, planes, kernel_size=3, stride=stride, padding=1, bias=False)\n",
        "        self.bn2 = nn.BatchNorm2d(planes)\n",
        "        self.conv3 = nn.Conv2d(planes, self.expansion*planes, kernel_size=1, bias=False)\n",
        "        self.bn3 = nn.BatchNorm2d(self.expansion*planes)\n",
        "\n",
        "        self.shortcut = nn.Sequential()\n",
        "        if stride != 1 or in_planes != self.expansion*planes:\n",
        "            self.shortcut = nn.Sequential(\n",
        "                nn.Conv2d(in_planes, self.expansion*planes, kernel_size=1, stride=stride, bias=False),\n",
        "                nn.BatchNorm2d(self.expansion*planes)\n",
        "            )\n",
        "\n",
        "    def forward(self, x):\n",
        "        out = F.relu(self.bn1(self.conv1(x)))\n",
        "        out = F.relu(self.bn2(self.conv2(out)))\n",
        "        out = self.bn3(self.conv3(out))\n",
        "        out += self.shortcut(x)\n",
        "        out = F.relu(out)\n",
        "        return out\n",
        "\n",
        "\n",
        "class ResNet(nn.Module):\n",
        "    def __init__(self, block, num_blocks, num_classes=10):\n",
        "        super(ResNet, self).__init__()\n",
        "        self.in_planes = 64\n",
        "\n",
        "        self.conv1 = nn.Conv2d(3, 64, kernel_size=3, stride=1, padding=1, bias=False)\n",
        "        self.bn1 = nn.BatchNorm2d(64)\n",
        "        self.layer1 = self._make_layer(block, 64, num_blocks[0], stride=1)\n",
        "        self.layer2 = self._make_layer(block, 128, num_blocks[1], stride=2)\n",
        "        self.layer3 = self._make_layer(block, 256, num_blocks[2], stride=2)\n",
        "        self.layer4 = self._make_layer(block, 512, num_blocks[3], stride=2)\n",
        "        self.linear = nn.Linear(512*block.expansion, num_classes)\n",
        "\n",
        "    def _make_layer(self, block, planes, num_blocks, stride):\n",
        "        strides = [stride] + [1]*(num_blocks-1)\n",
        "        layers = []\n",
        "        for stride in strides:\n",
        "            layers.append(block(self.in_planes, planes, stride))\n",
        "            self.in_planes = planes * block.expansion\n",
        "        return nn.Sequential(*layers)\n",
        "\n",
        "    def forward(self, x):\n",
        "        out = F.relu(self.bn1(self.conv1(x)))\n",
        "        out = self.layer1(out)\n",
        "        out = self.layer2(out)\n",
        "        out = self.layer3(out)\n",
        "        out = self.layer4(out)\n",
        "        out = F.avg_pool2d(out, 4)\n",
        "        out = out.view(out.size(0), -1)\n",
        "        out = self.linear(out)\n",
        "        return out\n",
        "\n",
        "\n",
        "def ResNet18():\n",
        "    return ResNet(BasicBlock, [2,2,2,2])\n"
      ],
      "execution_count": null,
      "outputs": []
    },
    {
      "cell_type": "code",
      "metadata": {
        "id": "srkJEP9pkt_n"
      },
      "source": [
        "def cyclical_lr(stepsize, min_lr=3e-4, max_lr=3e-3):\n",
        "\n",
        "    # Scaler: we can adapt this if we do not want the triangular CLR\n",
        "    scaler = lambda x: 1. #* math.exp(-x * 0.1)\n",
        "\n",
        "    # Lambda function to calculate the LR\n",
        "    lr_lambda = lambda it: min_lr + (max_lr - min_lr) * relative(it, stepsize)\n",
        "\n",
        "    # Additional function to see where on the cycle we are\n",
        "    def relative(it, stepsize):\n",
        "        cycle = math.floor(1 + it / (2 * stepsize))\n",
        "        x = abs(it / stepsize - 2 * cycle + 1)\n",
        "        return max(0, (1 - x)) * scaler(cycle)\n",
        "\n",
        "    return lr_lambda"
      ],
      "execution_count": null,
      "outputs": []
    },
    {
      "cell_type": "code",
      "metadata": {
        "colab": {
          "base_uri": "https://localhost:8080/"
        },
        "id": "4NsP_nNR_guT",
        "outputId": "17ec9441-49cc-4818-875f-70f29bac1d12"
      },
      "source": [
        "from google.colab import drive\n",
        "drive.mount('/gdrive', force_remount=True)"
      ],
      "execution_count": null,
      "outputs": [
        {
          "output_type": "stream",
          "text": [
            "Mounted at /gdrive\n"
          ],
          "name": "stdout"
        }
      ]
    },
    {
      "cell_type": "code",
      "metadata": {
        "colab": {
          "base_uri": "https://localhost:8080/"
        },
        "id": "NW9GptFqlfh3",
        "outputId": "4710ddf3-9c21-4a37-ee65-8516f0deb42e"
      },
      "source": [
        "import time\n",
        "import copy\n",
        "\n",
        "resnet18 = ResNet(BasicBlock, [2,2,2,2])\n",
        "resnet18 = resnet18.cuda()\n",
        "models_list = []\n",
        "prev_model = copy.deepcopy(resnet18)\n",
        "prev_loss = 1000.\n",
        "\n",
        "num_epochs = 351\n",
        "start_lr = 0.01\n",
        "end_lr = 0.1\n",
        "factor = 10\n",
        "\n",
        "opt = torch.optim.SGD(resnet18.parameters(), lr=0.1, momentum=0.9, weight_decay=5e-4)\n",
        "\n",
        "step_size = 1*len(trainset) / batch_size\n",
        "print(step_size)\n",
        "clr = cyclical_lr(step_size, min_lr=start_lr, max_lr=end_lr)\n",
        "#scheduler = torch.optim.lr_scheduler.LambdaLR(opt, [clr])\n",
        "\n",
        "train_loss = []\n",
        "val_accuracy = []\n",
        "mean_losses = []\n",
        "mean_accs = []\n",
        "models_list = []\n",
        "\n",
        "lr_find_loss = []\n",
        "learning_rates = []\n",
        "likely_loss = []\n",
        "val_likely_loss = []\n",
        "losses = []\n",
        "\n",
        "middle_models = []\n",
        "middle_loss = []\n",
        "\n",
        "one_step_models = []\n",
        "one_step_loss = []\n",
        "\n",
        "three_step_models = []\n",
        "three_step_loss = []\n",
        "\n",
        "five_step_models = []\n",
        "five_step_loss = []\n",
        "\n",
        "\n",
        "smoothing = 0.5\n",
        "lrs = []\n",
        "\n",
        "it = 0\n",
        "\n",
        "smoothing = 0.5\n",
        "small_flag = False\n",
        "num_loss = 0.\n",
        "lr_step = 0.\n",
        "#scheduler = torch.optim.lr_scheduler.LambdaLR(opt, [clr])\n",
        "current_models = []\n",
        "c_val_loss = []\n",
        "slide_models = []\n",
        "slide_loss = []\n",
        "\n",
        "\n",
        "for epoch in range(num_epochs):\n",
        "    #print('EPOOOCH', epoch)\n",
        "    start_time = time.time()\n",
        "    resnet18.train(True)\n",
        "    for (X_batch, y_batch) in trainloader:\n",
        "        loss = compute_loss(X_batch, y_batch)\n",
        "        loss.backward()\n",
        "        opt.step()\n",
        "        num_loss = loss.data.cpu().numpy()\n",
        "        train_loss.append(num_loss)\n",
        "        if epoch <= 150:\n",
        "            opt.step()\n",
        "        else:\n",
        "            scheduler.step()\n",
        "        opt.zero_grad()\n",
        "\n",
        "        #steps part\n",
        "        #if lr_step < opt.state_dict()[\"param_groups\"][0][\"lr\"] and lr_step < 0.0011970000000000003 and lr_step > 0.0011630000000000003:\n",
        "        #    one_step_models.append(copy.deepcopy(resnet18))\n",
        "        #    one_step_loss.append(num_loss)\n",
        "        #    if len(one_step_models) > 25:\n",
        "        #        one_step_models = one_step_models[-25:]\n",
        "            #print('one')\n",
        "\n",
        "        #if lr_step < opt.state_dict()[\"param_groups\"][0][\"lr\"] and lr_step > 0.00152230000000000006 and lr_step < 0.0015570000000000008:\n",
        "        #    three_step_models.append(copy.deepcopy(resnet18))\n",
        "        #    three_step_loss.append(num_loss)\n",
        "        #    if len(three_step_models) > 25:\n",
        "        #        three_step_models = three_step_models[-25:]\n",
        "            #print('three')\n",
        "\n",
        "            \n",
        "        #if lr_step < opt.state_dict()[\"param_groups\"][0][\"lr\"] and lr_step > 0.001883000000000001 and lr_step < 0.001917000000000001:\n",
        "        #    five_step_models.append(copy.deepcopy(resnet18))\n",
        "        #    five_step_loss.append(num_loss)\n",
        "        #    if len(five_step_models) > 25:\n",
        "        #        five_step_models = five_step_models[-25:]\n",
        "            #print('five')\n",
        "\n",
        "\n",
        "\n",
        "        lr_step = opt.state_dict()[\"param_groups\"][0][\"lr\"]\n",
        "        learning_rates.append(lr_step)\n",
        "\n",
        "        #points near minimum\n",
        "\n",
        "        #if lr_step < 0.001053999999999998:\n",
        "            #print('near min')\n",
        "        #    current_models.append(copy.deepcopy(resnet18))\n",
        "            \n",
        "\n",
        "        #models not in the minimum\n",
        "        #if lr_step < 0.005032000000000001 and lr_step > 0.0049960000000000004:\n",
        "            #print('middle')\n",
        "        #    middle_models.append(copy.deepcopy(resnet18))\n",
        "        #    middle_loss.append(num_loss)\n",
        "        #    if len(middle_models) > 25:\n",
        "        #        middle_models = middle_models[-25:]\n",
        "\n",
        "   # if len(current_models) >= 5:\n",
        "   #     c_val_accs = []\n",
        "   #     for c_model in current_models:\n",
        "   #         accs = 0\n",
        "   #         for (X_batch, y_batch) in valloader:\n",
        "   #             y_batch = y_batch.cuda()\n",
        "   #             logits = c_model(Variable(torch.FloatTensor(X_batch)).cuda())\n",
        "   #             y_pred = logits.max(1)[1].data\n",
        "   #             accs += np.mean((y_batch.cpu() == y_pred.cpu()).numpy())\n",
        "   #         torch.cuda.empty_cache()\n",
        "   #         c_val_accs.append(accs)\n",
        "   #     best_ind = np.argmax(np.array(c_val_accs))\n",
        "   #     slide_models.append(current_models[best_ind])\n",
        "   #     slide_loss.append(c_val_accs[best_ind])\n",
        "   #     if len(slide_models) > 25:\n",
        "   #         slide_models = slide_models[-25:]\n",
        "   #     current_models = []\n",
        "        #print('hereherehere')\n",
        "\n",
        "    \n",
        "    if epoch == 150:\n",
        "        scheduler = torch.optim.lr_scheduler.LambdaLR(opt, [clr])  \n",
        "\n",
        "    resnet18.train(False)\n",
        "    for (X_batch, y_batch) in testloader:\n",
        "        y_batch = y_batch.cuda()\n",
        "        logits = resnet18(Variable(torch.FloatTensor(X_batch)).cuda())\n",
        "        y_pred = logits.max(1)[1].data\n",
        "        val_accuracy.append(np.mean((y_batch.cpu() == y_pred.cpu()).numpy() ))\n",
        "    torch.cuda.empty_cache()\n",
        "    \n",
        "\n",
        "    #mean_accs.append(np.mean(val_accuracy[-len(testset) // batch_size:]))\n",
        "    #cur_loss = np.mean(train_loss[-len(trainset) // batch_size:])\n",
        "    #mean_losses.append(cur_loss)\n",
        "    \n",
        "    \n",
        "    if epoch % 10 == 0:\n",
        "        print(\"Epoch {} of {} took {:.3f}s\".format(\n",
        "            epoch + 1, num_epochs, time.time() - start_time))\n",
        "        print(\"  training loss (in-iteration): \\t{:.6f}\".format(\n",
        "            np.mean(train_loss[-len(trainset) // batch_size :])))\n",
        "        print(\"  validation accuracy: \\t\\t\\t{:.2f} %\".format(\n",
        "            np.mean(val_accuracy[-len(testset) // batch_size :]) * 100))\n",
        "    losses.append(np.array(train_loss).mean())"
      ],
      "execution_count": null,
      "outputs": [
        {
          "output_type": "stream",
          "text": [
            "500.0\n",
            "Epoch 1 of 351 took 69.975s\n",
            "  training loss (in-iteration): \t2.217613\n",
            "  validation accuracy: \t\t\t24.51 %\n",
            "Epoch 11 of 351 took 71.374s\n",
            "  training loss (in-iteration): \t0.585867\n",
            "  validation accuracy: \t\t\t69.03 %\n",
            "Epoch 21 of 351 took 71.046s\n",
            "  training loss (in-iteration): \t0.495140\n",
            "  validation accuracy: \t\t\t76.53 %\n",
            "Epoch 31 of 351 took 70.724s\n",
            "  training loss (in-iteration): \t0.465111\n",
            "  validation accuracy: \t\t\t72.99 %\n",
            "Epoch 41 of 351 took 70.633s\n",
            "  training loss (in-iteration): \t0.452951\n",
            "  validation accuracy: \t\t\t77.70 %\n",
            "Epoch 51 of 351 took 70.327s\n",
            "  training loss (in-iteration): \t0.452232\n",
            "  validation accuracy: \t\t\t71.69 %\n",
            "Epoch 61 of 351 took 70.342s\n",
            "  training loss (in-iteration): \t0.442016\n",
            "  validation accuracy: \t\t\t69.31 %\n",
            "Epoch 71 of 351 took 70.118s\n",
            "  training loss (in-iteration): \t0.438844\n",
            "  validation accuracy: \t\t\t73.68 %\n",
            "Epoch 81 of 351 took 69.992s\n",
            "  training loss (in-iteration): \t0.441412\n",
            "  validation accuracy: \t\t\t70.52 %\n",
            "Epoch 91 of 351 took 69.757s\n",
            "  training loss (in-iteration): \t0.437333\n",
            "  validation accuracy: \t\t\t72.17 %\n",
            "Epoch 101 of 351 took 69.826s\n",
            "  training loss (in-iteration): \t0.430533\n",
            "  validation accuracy: \t\t\t76.78 %\n",
            "Epoch 111 of 351 took 69.809s\n",
            "  training loss (in-iteration): \t0.434737\n",
            "  validation accuracy: \t\t\t67.32 %\n",
            "Epoch 121 of 351 took 69.670s\n",
            "  training loss (in-iteration): \t0.432399\n",
            "  validation accuracy: \t\t\t77.54 %\n",
            "Epoch 131 of 351 took 69.743s\n",
            "  training loss (in-iteration): \t0.439277\n",
            "  validation accuracy: \t\t\t72.10 %\n",
            "Epoch 141 of 351 took 69.640s\n",
            "  training loss (in-iteration): \t0.431355\n",
            "  validation accuracy: \t\t\t77.03 %\n",
            "Epoch 151 of 351 took 69.575s\n",
            "  training loss (in-iteration): \t0.428794\n",
            "  validation accuracy: \t\t\t71.16 %\n",
            "Epoch 161 of 351 took 68.585s\n",
            "  training loss (in-iteration): \t0.014039\n",
            "  validation accuracy: \t\t\t88.47 %\n",
            "Epoch 171 of 351 took 68.638s\n",
            "  training loss (in-iteration): \t0.004239\n",
            "  validation accuracy: \t\t\t88.37 %\n",
            "Epoch 181 of 351 took 68.543s\n",
            "  training loss (in-iteration): \t0.003068\n",
            "  validation accuracy: \t\t\t88.48 %\n",
            "Epoch 191 of 351 took 68.550s\n",
            "  training loss (in-iteration): \t0.002548\n",
            "  validation accuracy: \t\t\t88.48 %\n"
          ],
          "name": "stdout"
        }
      ]
    },
    {
      "cell_type": "code",
      "metadata": {
        "id": "fPJv9rsZ_G_L"
      },
      "source": [
        "np.savetxt(\"/gdrive/MyDrive/train_loss_0.csv\", np.array(train_loss), delimiter=\",\")\n",
        "np.savetxt(\"/gdrive/MyDrive/mean_loss_0.csv\", np.array(losses), delimiter=\",\")\n",
        "np.savetxt(\"/gdrive/MyDrive/learning_rates.csv\", np.array(learning_rates), delimiter=\",\")\n"
      ],
      "execution_count": null,
      "outputs": []
    },
    {
      "cell_type": "code",
      "metadata": {
        "id": "4Bmc3zct1sxR"
      },
      "source": [
        "# slide models, slide loss\n",
        "# one, three, five models and loss\n",
        "# middle model, middle loss\n",
        "\n",
        "\n",
        "i = 0\n",
        "for model in middle_models:\n",
        "    torch.save(model.state_dict(), '/gdrive/MyDrive/middle_models/model_' + str(i) + '.pt')\n",
        "    i += 1\n",
        "np.savetxt(\"/gdrive/MyDrive/middle_loss.csv\", np.array(middle_loss), delimiter=\",\")\n",
        "\n",
        "i = 0\n",
        "for model in slide_models:\n",
        "    torch.save(model.state_dict(), '/gdrive/MyDrive/slide_models/model_' + str(i) + '.pt')\n",
        "    i += 1\n",
        "np.savetxt(\"/gdrive/MyDrive/slide_loss.csv\", np.array(slide_loss), delimiter=\",\")\n",
        "\n",
        "i = 0\n",
        "for model in one_step_models:\n",
        "    torch.save(model.state_dict(), '/gdrive/MyDrive/one/model_' + str(i) + '.pt')\n",
        "    i += 1\n",
        "np.savetxt(\"/gdrive/MyDrive/one_loss.csv\", np.array(one_step_loss), delimiter=\",\")\n",
        "\n",
        "i = 0\n",
        "for model in three_step_models:\n",
        "    torch.save(model.state_dict(), '/gdrive/MyDrive/three/model_' + str(i) + '.pt')\n",
        "    i += 1\n",
        "np.savetxt(\"/gdrive/MyDrive/three_loss.csv\", np.array(three_step_loss), delimiter=\",\")\n",
        "\n",
        "i = 0\n",
        "for model in five_step_models:\n",
        "    torch.save(model.state_dict(), '/gdrive/MyDrive/five/model_' + str(i) + '.pt')\n",
        "    i += 1\n",
        "np.savetxt(\"/gdrive/MyDrive/five_loss.csv\", np.array(five_step_loss), delimiter=\",\")"
      ],
      "execution_count": null,
      "outputs": []
    },
    {
      "cell_type": "code",
      "metadata": {
        "colab": {
          "base_uri": "https://localhost:8080/"
        },
        "id": "EMtS3EDKCfZz",
        "outputId": "6cf8b159-ae1b-4f9b-b7fe-01746a2bc427"
      },
      "source": [
        "from google.colab import drive\n",
        "drive.mount('/gdrive', force_remount=True)"
      ],
      "execution_count": null,
      "outputs": [
        {
          "output_type": "stream",
          "text": [
            "Mounted at /gdrive\n"
          ],
          "name": "stdout"
        }
      ]
    },
    {
      "cell_type": "code",
      "metadata": {
        "colab": {
          "base_uri": "https://localhost:8080/"
        },
        "id": "NyQN9Wb_aODP",
        "outputId": "9fc85abb-01f7-4ec9-b519-084b94afce15"
      },
      "source": [
        "one_step_loss"
      ],
      "execution_count": null,
      "outputs": [
        {
          "output_type": "execute_result",
          "data": {
            "text/plain": [
              "[array(0.2568645, dtype=float32),\n",
              " array(0.1051802, dtype=float32),\n",
              " array(0.03329077, dtype=float32),\n",
              " array(0.03619824, dtype=float32),\n",
              " array(0.01680737, dtype=float32),\n",
              " array(0.01874062, dtype=float32),\n",
              " array(0.00811349, dtype=float32),\n",
              " array(0.00400712, dtype=float32),\n",
              " array(0.00317649, dtype=float32),\n",
              " array(0.00315473, dtype=float32),\n",
              " array(0.0060142, dtype=float32),\n",
              " array(0.00326968, dtype=float32),\n",
              " array(0.00271498, dtype=float32),\n",
              " array(0.00225299, dtype=float32),\n",
              " array(0.00404403, dtype=float32),\n",
              " array(0.00257674, dtype=float32),\n",
              " array(0.00156322, dtype=float32),\n",
              " array(0.00184552, dtype=float32),\n",
              " array(0.00305111, dtype=float32),\n",
              " array(0.00271601, dtype=float32),\n",
              " array(0.00215227, dtype=float32),\n",
              " array(0.0022293, dtype=float32),\n",
              " array(0.00137598, dtype=float32),\n",
              " array(0.00180582, dtype=float32),\n",
              " array(0.00196607, dtype=float32),\n",
              " array(0.00368799, dtype=float32),\n",
              " array(0.00170811, dtype=float32),\n",
              " array(0.00144139, dtype=float32),\n",
              " array(0.00358766, dtype=float32),\n",
              " array(0.00138657, dtype=float32),\n",
              " array(0.00153825, dtype=float32),\n",
              " array(0.00135347, dtype=float32),\n",
              " array(0.00271891, dtype=float32),\n",
              " array(0.00167154, dtype=float32),\n",
              " array(0.00164599, dtype=float32),\n",
              " array(0.0019984, dtype=float32),\n",
              " array(0.00143666, dtype=float32),\n",
              " array(0.00152245, dtype=float32),\n",
              " array(0.00178097, dtype=float32),\n",
              " array(0.00152469, dtype=float32),\n",
              " array(0.0017585, dtype=float32),\n",
              " array(0.00240068, dtype=float32),\n",
              " array(0.00160184, dtype=float32),\n",
              " array(0.00153892, dtype=float32),\n",
              " array(0.00150199, dtype=float32),\n",
              " array(0.0021488, dtype=float32),\n",
              " array(0.00230674, dtype=float32),\n",
              " array(0.00154037, dtype=float32),\n",
              " array(0.00170558, dtype=float32),\n",
              " array(0.00169212, dtype=float32),\n",
              " array(0.00139324, dtype=float32),\n",
              " array(0.00127471, dtype=float32),\n",
              " array(0.00200775, dtype=float32),\n",
              " array(0.00223487, dtype=float32),\n",
              " array(0.02055728, dtype=float32),\n",
              " array(0.00687917, dtype=float32),\n",
              " array(0.00802369, dtype=float32),\n",
              " array(0.00435843, dtype=float32),\n",
              " array(0.00270073, dtype=float32),\n",
              " array(0.00094171, dtype=float32),\n",
              " array(0.00091368, dtype=float32),\n",
              " array(0.00082452, dtype=float32),\n",
              " array(0.00083256, dtype=float32),\n",
              " array(0.00089258, dtype=float32),\n",
              " array(0.00131172, dtype=float32),\n",
              " array(0.00194462, dtype=float32),\n",
              " array(0.0020958, dtype=float32),\n",
              " array(0.00168363, dtype=float32),\n",
              " array(0.00124264, dtype=float32),\n",
              " array(0.00130176, dtype=float32),\n",
              " array(0.00224488, dtype=float32),\n",
              " array(0.0015708, dtype=float32),\n",
              " array(0.00162244, dtype=float32),\n",
              " array(0.01927584, dtype=float32),\n",
              " array(0.00613143, dtype=float32),\n",
              " array(0.0034489, dtype=float32),\n",
              " array(0.00194355, dtype=float32),\n",
              " array(0.00229887, dtype=float32),\n",
              " array(0.00275186, dtype=float32),\n",
              " array(0.00098513, dtype=float32),\n",
              " array(0.00120697, dtype=float32),\n",
              " array(0.00116409, dtype=float32),\n",
              " array(0.00077777, dtype=float32),\n",
              " array(0.00224745, dtype=float32),\n",
              " array(0.00119759, dtype=float32),\n",
              " array(0.00101638, dtype=float32),\n",
              " array(0.0012869, dtype=float32),\n",
              " array(0.00145819, dtype=float32),\n",
              " array(0.00147927, dtype=float32),\n",
              " array(0.00161468, dtype=float32),\n",
              " array(0.00239789, dtype=float32),\n",
              " array(0.00269743, dtype=float32),\n",
              " array(0.00194243, dtype=float32),\n",
              " array(0.00146856, dtype=float32),\n",
              " array(0.00154822, dtype=float32),\n",
              " array(0.00156794, dtype=float32),\n",
              " array(0.00212183, dtype=float32),\n",
              " array(0.0014398, dtype=float32),\n",
              " array(0.00199041, dtype=float32),\n",
              " array(0.00207251, dtype=float32)]"
            ]
          },
          "metadata": {
            "tags": []
          },
          "execution_count": 17
        }
      ]
    },
    {
      "cell_type": "code",
      "metadata": {
        "id": "sxzbKSJPag4w"
      },
      "source": [
        "import numpy as np\n",
        "np.savetxt(\"/gdrive/MyDrive/train_loss.csv\", np.array(likely_loss), delimiter=\",\")"
      ],
      "execution_count": null,
      "outputs": []
    },
    {
      "cell_type": "code",
      "metadata": {
        "id": "NbwISORuaysN"
      },
      "source": [
        "np.savetxt(\"/gdrive/MyDrive/val_loss.csv\", np.array(val_likely_loss), delimiter=\",\")"
      ],
      "execution_count": null,
      "outputs": []
    },
    {
      "cell_type": "code",
      "metadata": {
        "colab": {
          "base_uri": "https://localhost:8080/"
        },
        "id": "0F3N9741b5gv",
        "outputId": "ee68be2a-2c97-4b35-b60b-b31f6adf7bd9"
      },
      "source": [
        "val_likely_loss"
      ],
      "execution_count": null,
      "outputs": [
        {
          "output_type": "execute_result",
          "data": {
            "text/plain": [
              "[0.3370143175125122,\n",
              " 0.36149091720581056,\n",
              " 0.36473262310028076,\n",
              " 0.36638493537902833,\n",
              " 0.37573745250701907,\n",
              " 0.399517560005188,\n",
              " 0.4052162170410156,\n",
              " 0.41225337982177734,\n",
              " 0.4329291820526123,\n",
              " 0.4099567413330078,\n",
              " 0.41101861000061035,\n",
              " 0.41811313629150393,\n",
              " 0.4138028144836426,\n",
              " 0.4164175033569336,\n",
              " 0.4118938446044922,\n",
              " 0.42110605239868165,\n",
              " 0.4011654853820801,\n",
              " 0.4082201957702637,\n",
              " 0.41353673934936525,\n",
              " 0.42014036178588865,\n",
              " 0.4107046127319336,\n",
              " 0.4129739284515381,\n",
              " 0.39719018936157224,\n",
              " 0.39955744743347166,\n",
              " 0.39686577320098876,\n",
              " 0.40872840881347655,\n",
              " 0.40515522956848143,\n",
              " 0.41911907196044923,\n",
              " 0.4057685375213623,\n",
              " 0.40726318359375,\n",
              " 0.4130890369415283,\n",
              " 0.40140929222106936,\n",
              " 0.4166423797607422,\n",
              " 0.4166524410247803,\n",
              " 0.3772214412689209,\n",
              " 0.413134765625,\n",
              " 0.3978792905807495,\n",
              " 0.3980132818222046,\n",
              " 0.4125502109527588,\n",
              " 0.42808284759521487,\n",
              " 0.39242944717407224,\n",
              " 0.39519762992858887,\n",
              " 0.43209376335144045,\n",
              " 0.43975000381469725,\n",
              " 0.4160469532012939,\n",
              " 0.40908427238464357,\n",
              " 0.42143731117248534,\n",
              " 0.4033822059631348,\n",
              " 0.3982950210571289,\n",
              " 0.37897562980651855,\n",
              " 0.3964022874832153,\n",
              " 0.4062863826751709,\n",
              " 0.37598299980163574,\n",
              " 0.3798593282699585,\n",
              " 0.3995007038116455,\n",
              " 0.3943390130996704,\n",
              " 0.3767011880874634,\n",
              " 0.4246621608734131,\n",
              " 0.37818591594696044,\n",
              " 0.4061011791229248,\n",
              " 0.4235889434814453,\n",
              " 0.4114387035369873,\n",
              " 0.433792781829834,\n",
              " 0.4360166072845459,\n",
              " 0.41819124221801757,\n",
              " 0.4145073413848877,\n",
              " 0.38542234897613525,\n",
              " 0.39432559013366697,\n",
              " 0.3841919660568237,\n",
              " 0.39175755977630616,\n",
              " 0.3609912872314453,\n",
              " 0.36143970489501953,\n",
              " 0.39025866985321045,\n",
              " 0.37681050300598146,\n",
              " 0.36754817962646485,\n",
              " 0.37136268615722656,\n",
              " 0.3862186908721924,\n",
              " 0.3651444435119629,\n",
              " 0.3321078777313232,\n",
              " 0.36576199531555176,\n",
              " 0.3496385097503662,\n",
              " 0.37126917839050294,\n",
              " 0.3661809921264648,\n",
              " 0.4518886089324951,\n",
              " 0.35816221237182616,\n",
              " 0.39233598709106443,\n",
              " 0.44327573776245116,\n",
              " 0.44273200035095217,\n",
              " 0.4727190971374512,\n",
              " 0.4491841793060303,\n",
              " 0.488844108581543,\n",
              " 0.49016895294189455,\n",
              " 0.5021466255187989,\n",
              " 0.4920938968658447,\n",
              " 0.480909538269043,\n",
              " 0.4805905342102051,\n",
              " 0.4578338623046875,\n",
              " 0.41831026077270506,\n",
              " 0.42809362411499025,\n",
              " 0.43984074592590333]"
            ]
          },
          "metadata": {
            "tags": []
          },
          "execution_count": 17
        }
      ]
    },
    {
      "cell_type": "code",
      "metadata": {
        "id": "bkJ4Q2aZb9CF",
        "colab": {
          "base_uri": "https://localhost:8080/"
        },
        "outputId": "62a9cc82-e56e-4656-e4e4-b1eda80efbbb"
      },
      "source": [
        "likely_loss"
      ],
      "execution_count": null,
      "outputs": [
        {
          "output_type": "execute_result",
          "data": {
            "text/plain": [
              "[array(0.07611059, dtype=float32),\n",
              " array(0.04998975, dtype=float32),\n",
              " array(0.02412947, dtype=float32),\n",
              " array(0.02482706, dtype=float32),\n",
              " array(0.01884734, dtype=float32),\n",
              " array(0.00691112, dtype=float32),\n",
              " array(0.00378737, dtype=float32),\n",
              " array(0.00264118, dtype=float32),\n",
              " array(0.01182048, dtype=float32),\n",
              " array(0.0026502, dtype=float32),\n",
              " array(0.00658874, dtype=float32),\n",
              " array(0.00256002, dtype=float32),\n",
              " array(0.00600947, dtype=float32),\n",
              " array(0.00313522, dtype=float32),\n",
              " array(0.00207331, dtype=float32),\n",
              " array(0.001296, dtype=float32),\n",
              " array(0.00178234, dtype=float32),\n",
              " array(0.00353882, dtype=float32),\n",
              " array(0.00208417, dtype=float32),\n",
              " array(0.00344639, dtype=float32),\n",
              " array(0.00137587, dtype=float32),\n",
              " array(0.00250356, dtype=float32),\n",
              " array(0.00346202, dtype=float32),\n",
              " array(0.00356042, dtype=float32),\n",
              " array(0.00402279, dtype=float32),\n",
              " array(0.00228087, dtype=float32),\n",
              " array(0.00279079, dtype=float32),\n",
              " array(0.0026562, dtype=float32),\n",
              " array(0.00268572, dtype=float32),\n",
              " array(0.00139283, dtype=float32),\n",
              " array(0.0020197, dtype=float32),\n",
              " array(0.00175372, dtype=float32),\n",
              " array(0.00161565, dtype=float32),\n",
              " array(0.00116816, dtype=float32),\n",
              " array(0.00206533, dtype=float32),\n",
              " array(0.00100439, dtype=float32),\n",
              " array(0.00184981, dtype=float32),\n",
              " array(0.00179159, dtype=float32),\n",
              " array(0.03009294, dtype=float32),\n",
              " array(0.02831896, dtype=float32),\n",
              " array(0.01087387, dtype=float32),\n",
              " array(0.00620033, dtype=float32),\n",
              " array(0.00808976, dtype=float32),\n",
              " array(0.00412875, dtype=float32),\n",
              " array(0.00261227, dtype=float32),\n",
              " array(0.0014656, dtype=float32),\n",
              " array(0.00158958, dtype=float32),\n",
              " array(0.00124522, dtype=float32),\n",
              " array(0.00153431, dtype=float32),\n",
              " array(0.00149466, dtype=float32),\n",
              " array(0.00332822, dtype=float32),\n",
              " array(0.00153115, dtype=float32),\n",
              " array(0.00099928, dtype=float32),\n",
              " array(0.00146059, dtype=float32),\n",
              " array(0.00190016, dtype=float32),\n",
              " array(0.02839071, dtype=float32),\n",
              " array(0.06759665, dtype=float32),\n",
              " array(0.00394835, dtype=float32),\n",
              " array(0.00718957, dtype=float32),\n",
              " array(0.01019145, dtype=float32),\n",
              " array(0.0065295, dtype=float32),\n",
              " array(0.00519016, dtype=float32),\n",
              " array(0.00566902, dtype=float32),\n",
              " array(0.00329439, dtype=float32),\n",
              " array(0.00420203, dtype=float32),\n",
              " array(0.00135792, dtype=float32),\n",
              " array(0.00142849, dtype=float32),\n",
              " array(0.00149478, dtype=float32),\n",
              " array(0.0024696, dtype=float32),\n",
              " array(0.00109509, dtype=float32),\n",
              " array(0.00184306, dtype=float32),\n",
              " array(0.00131387, dtype=float32),\n",
              " array(0.00183263, dtype=float32),\n",
              " array(0.00148454, dtype=float32),\n",
              " array(0.00132676, dtype=float32),\n",
              " array(0.00148572, dtype=float32),\n",
              " array(0.00166552, dtype=float32),\n",
              " array(0.00144706, dtype=float32),\n",
              " array(0.00130221, dtype=float32),\n",
              " array(0.00138575, dtype=float32),\n",
              " array(0.00147291, dtype=float32),\n",
              " array(0.00152246, dtype=float32),\n",
              " array(0.00129918, dtype=float32),\n",
              " array(0.00616988, dtype=float32),\n",
              " array(0.04151157, dtype=float32),\n",
              " array(0.01514093, dtype=float32),\n",
              " array(0.01135083, dtype=float32),\n",
              " array(0.02456773, dtype=float32),\n",
              " array(0.00917364, dtype=float32),\n",
              " array(0.01347006, dtype=float32),\n",
              " array(0.0030748, dtype=float32),\n",
              " array(0.0161935, dtype=float32),\n",
              " array(0.00138305, dtype=float32),\n",
              " array(0.00167868, dtype=float32),\n",
              " array(0.00372324, dtype=float32),\n",
              " array(0.00133526, dtype=float32),\n",
              " array(0.00092158, dtype=float32),\n",
              " array(0.00125505, dtype=float32),\n",
              " array(0.00141558, dtype=float32),\n",
              " array(0.00129094, dtype=float32)]"
            ]
          },
          "metadata": {
            "tags": []
          },
          "execution_count": 18
        }
      ]
    },
    {
      "cell_type": "code",
      "metadata": {
        "colab": {
          "base_uri": "https://localhost:8080/"
        },
        "id": "S9V7Pl4Va3RO",
        "outputId": "d01a6377-6e4e-4f82-8a1c-35b04a97309d"
      },
      "source": [
        "! ls /gdrive/MyDrive/model_2"
      ],
      "execution_count": null,
      "outputs": [
        {
          "output_type": "stream",
          "text": [
            "model_0.pt   model_14.pt  model_19.pt  model_23.pt  model_5.pt\n",
            "model_10.pt  model_15.pt  model_1.pt   model_24.pt  model_6.pt\n",
            "model_11.pt  model_16.pt  model_20.pt  model_2.pt   model_7.pt\n",
            "model_12.pt  model_17.pt  model_21.pt  model_3.pt   model_8.pt\n",
            "model_13.pt  model_18.pt  model_22.pt  model_4.pt   model_9.pt\n"
          ],
          "name": "stdout"
        }
      ]
    },
    {
      "cell_type": "code",
      "metadata": {
        "colab": {
          "base_uri": "https://localhost:8080/"
        },
        "id": "bik5ZCz6bOy2",
        "outputId": "44de8d59-d0a0-4a60-c846-9c252dfd87e7"
      },
      "source": [
        "new_model = ResNet(BasicBlock, [2,2,2,2]).cuda()\n",
        "new_model.load_state_dict(torch.load('/gdrive/MyDrive/model_2/model_0.pt'))\n",
        "accuracy = []\n",
        "for (X_batch, y_batch) in testloader:\n",
        "    y_batch = y_batch.cuda()\n",
        "    logits = new_model(Variable(torch.FloatTensor(X_batch)).cuda())\n",
        "    y_pred = logits.max(1)[1].data\n",
        "    accuracy.append(np.mean((y_batch.cpu() == y_pred.cpu()).numpy() ))\n",
        "print(np.array(accuracy).mean() * 100, '%')"
      ],
      "execution_count": null,
      "outputs": [
        {
          "output_type": "stream",
          "text": [
            "89.6111111111111 %\n"
          ],
          "name": "stdout"
        }
      ]
    },
    {
      "cell_type": "code",
      "metadata": {
        "id": "tqUTAxozoMN_",
        "colab": {
          "base_uri": "https://localhost:8080/"
        },
        "outputId": "f4588e15-1efe-44a0-b945-ce074d7b2263"
      },
      "source": [
        "original_likely_loss = likely_loss.copy() # only for train\n",
        "original_val_likely_loss = val_likely_loss.copy() # only for train\n",
        "print(np.array(original_likely_loss).ravel())\n",
        "print(val_likely_loss)"
      ],
      "execution_count": null,
      "outputs": [
        {
          "output_type": "stream",
          "text": [
            "[0.41801873 0.1583573  0.17880955 0.06143168 0.03225067 0.03540042\n",
            " 0.02540473 0.06312861 0.07828125 0.10172525 0.01667804 0.03095847\n",
            " 0.01188111 0.05812168 0.01871526 0.01340374 0.0133221  0.024826\n",
            " 0.01344658 0.00883297 0.02133892 0.00500289 0.01216806 0.00527994\n",
            " 0.01420187 0.01295339 0.00298531 0.00707845 0.0045954  0.00626624\n",
            " 0.00817428 0.01329994 0.00759148 0.00402366 0.01053237 0.00342908\n",
            " 0.00269209 0.009548   0.00462405 0.00252138 0.00289509 0.00418836\n",
            " 0.00317321 0.0037573  0.00387604 0.0035539  0.00993261 0.00368495\n",
            " 0.00260252 0.0018135  0.00218898 0.00360051 0.00408914 0.00259685\n",
            " 0.00288065 0.00620754 0.00153885 0.00334432 0.00705199 0.00197012\n",
            " 0.00156283 0.00169105 0.00159803 0.00197152 0.00200997 0.00321557\n",
            " 0.00223971 0.00205853 0.00278637 0.00281621 0.00220327 0.00179947\n",
            " 0.0013845  0.00166513 0.00137151 0.00227856 0.0019144  0.00179931\n",
            " 0.00146726 0.00141184 0.00190206 0.00165286 0.0018681  0.00317711\n",
            " 0.00199671 0.00159493 0.00146087 0.00223138 0.00159856 0.00291725\n",
            " 0.00119204 0.00174177 0.00127215 0.00174829 0.00190527 0.00159232\n",
            " 0.00245706 0.00200617 0.00411148 0.00285312 0.0017363  0.00189078\n",
            " 0.00140899 0.00186079 0.00217114 0.00180671 0.00158343 0.00143898\n",
            " 0.00163895 0.00181934 0.00162216 0.00162179 0.0021056  0.00313487\n",
            " 0.00151173 0.00205729 0.00174861 0.00181033 0.00102303 0.00169509\n",
            " 0.00161395 0.00134622 0.00198088 0.00120234 0.00110766 0.00122812\n",
            " 0.00161859 0.00165015 0.00149197 0.00156274 0.00098317 0.00107425\n",
            " 0.00210582 0.00235113 0.00286489 0.00258469 0.00363517 0.00308257\n",
            " 0.00211894 0.00212383 0.00297716 0.00158679 0.00131434 0.00172432\n",
            " 0.00178667 0.00164243 0.00144679 0.00196365 0.00320138 0.00184592\n",
            " 0.00179298 0.00149707 0.00142876 0.00142832 0.00257467 0.0016316\n",
            " 0.0016114  0.00196377 0.00150643 0.00165732 0.00139381 0.00156602\n",
            " 0.00196729 0.00199226 0.00166106 0.00129041 0.0031046  0.00137216\n",
            " 0.00167438 0.00178025 0.00151433 0.00145552 0.0018351  0.00144092\n",
            " 0.00219536 0.00131938 0.0017125  0.0013706  0.00137232 0.00212733\n",
            " 0.00165405 0.00171866 0.00184718 0.00247361 0.00150833 0.00129486\n",
            " 0.00185686 0.00149973 0.00287957 0.00627237 0.00540582 0.00491597\n",
            " 0.0863281  0.08720741 0.01244942 0.01273517 0.03721842 0.00628979\n",
            " 0.01799573 0.00308583 0.00562059 0.04400466 0.00918256 0.00518391\n",
            " 0.00154471 0.0032863  0.00121384 0.00122644 0.00161795 0.0013304\n",
            " 0.00095849 0.00206353 0.00089172 0.00150887 0.00126173 0.00116579\n",
            " 0.00208135 0.00238252 0.00199998 0.0027763  0.00131163 0.00119402\n",
            " 0.0013508  0.00140137 0.00120077 0.00203536 0.00217009 0.00116202\n",
            " 0.00130666 0.00144612 0.00228829 0.00297648 0.00257181 0.00131073\n",
            " 0.00154876 0.00130837 0.00168189 0.00138612 0.00209611 0.00224305\n",
            " 0.00185826 0.00130287 0.00159505 0.0015983  0.00129873 0.00181164\n",
            " 0.00123389 0.00214007 0.00181488 0.00279022 0.00159043 0.00133969\n",
            " 0.00133934 0.00202337 0.00200979 0.00157252 0.00192883 0.00119104\n",
            " 0.0012915  0.00137335 0.0020443  0.00118624 0.00202128 0.00198553\n",
            " 0.00222882 0.00168874 0.00183221 0.00128689 0.00141112 0.00246684\n",
            " 0.00180622 0.0018981  0.00111199 0.00165484 0.00128771 0.00141266\n",
            " 0.00133761 0.00156337 0.00186207 0.00184325 0.00140304 0.0017707\n",
            " 0.00247984 0.00135589 0.00176347 0.00131647 0.00179038 0.00175463\n",
            " 0.00333533 0.00249987 0.00414408 0.00455816 0.0023833  0.2683484\n",
            " 0.12312284 0.10350768 0.02572886 0.0454676  0.08213727 0.07357676\n",
            " 0.04910021 0.01886871 0.01364771 0.01421733 0.03796762 0.0164065\n",
            " 0.01006947 0.00423265 0.01421292 0.00838156 0.03821564 0.00397201\n",
            " 0.00450321 0.00142948 0.00197981 0.00232013 0.00266819 0.00360034\n",
            " 0.00536475 0.00111048 0.00234802 0.00154728 0.0014275  0.00176463\n",
            " 0.00189788 0.00132412 0.00080827 0.00114776 0.00144482 0.00157419\n",
            " 0.00116745 0.00108512 0.00064982 0.00100966 0.0012009  0.00083604\n",
            " 0.00097566 0.00087837 0.00156115 0.0011947  0.00211493 0.00091898\n",
            " 0.00122227 0.001482   0.00156412 0.00127096 0.00151098 0.00135483\n",
            " 0.00175967 0.00185113 0.00130351 0.00129439 0.00105627 0.00137914\n",
            " 0.0015521  0.00104344 0.0016718  0.00095562 0.00168785 0.00331613\n",
            " 0.00156753 0.00260223 0.00169722 0.00172114 0.00192211 0.00242243\n",
            " 0.00191059 0.00156476 0.00193813 0.00157248 0.00221612 0.00123241\n",
            " 0.00142911 0.0012218  0.00166256 0.00150018 0.00134944 0.001395\n",
            " 0.00178787 0.00310977 0.001739   0.00153168 0.00136578 0.00137316\n",
            " 0.00140629 0.00159975 0.0016021  0.00161469 0.00198185 0.0017318\n",
            " 0.00196089 0.00144718 0.00157179 0.00176873 0.00116637 0.00341584\n",
            " 0.00377724 0.00128005 0.0016156  0.00142033 0.00159872 0.00143677\n",
            " 0.00171571 0.00145743 0.00149634 0.00249395 0.00227039 0.00293254\n",
            " 0.00139555 0.00197147 0.00150485 0.00126296 0.00166432 0.00153561\n",
            " 0.00141315 0.00165902]\n",
            "[0.562251091003418, 0.4081115245819092, 0.3875044107437134, 0.39558959007263184, 0.4067698955535889, 0.4209193229675293, 0.39308302402496337, 0.40317959785461427, 0.40513224601745607, 0.44351372718811033, 0.42914929389953616, 0.41088080406188965, 0.42153377532958985, 0.42158050537109376, 0.39487836360931394, 0.4399284362792969, 0.43123736381530764, 0.42455058097839354, 0.45105533599853515, 0.44169154167175295, 0.44285974502563474, 0.44292559623718264, 0.4454934120178223, 0.44693422317504883, 0.47088074684143066, 0.45331578254699706, 0.44974431991577146, 0.45570802688598633, 0.46285085678100585, 0.46067004203796386, 0.4593050956726074, 0.46006622314453127, 0.45476841926574707, 0.4684028625488281, 0.4866368770599365, 0.47988333702087405, 0.4499915599822998, 0.4714506149291992, 0.44825077056884766, 0.4755424499511719, 0.4600379943847656, 0.46786036491394045, 0.4566087245941162, 0.4787441253662109, 0.47770304679870607, 0.48323726654052734, 0.471497631072998, 0.4690119743347168, 0.4960888385772705, 0.47315311431884766, 0.4778071403503418, 0.4728841781616211, 0.4668299674987793, 0.4598550796508789, 0.4675971508026123, 0.4854630470275879, 0.47115144729614256, 0.48019256591796877, 0.49887652397155763, 0.45879158973693845, 0.47682814598083495, 0.45935697555541993, 0.46097941398620607, 0.47478690147399905, 0.46037678718566893, 0.4735885143280029, 0.46894245147705077, 0.46844959259033203, 0.4413002967834473, 0.48735671043395995, 0.47217273712158203, 0.45968060493469237, 0.44794669151306155, 0.46663947105407716, 0.44177780151367185, 0.48262748718261717, 0.46419696807861327, 0.45003409385681153, 0.4655466556549072, 0.4620016098022461, 0.4520090103149414, 0.45563540458679197, 0.45859527587890625, 0.46651926040649416, 0.474576997756958, 0.4738719940185547, 0.4680306434631348, 0.4854078769683838, 0.45894527435302734, 0.451594877243042, 0.477341365814209, 0.4894286632537842, 0.47824506759643554, 0.49474468231201174, 0.47633042335510256, 0.47322959899902345, 0.46062211990356444, 0.4852130889892578, 0.4753584861755371, 0.43932652473449707, 0.47924103736877444, 0.47544708251953127, 0.4682616710662842, 0.4492471694946289, 0.4682454109191895, 0.47187080383300783, 0.4439876079559326, 0.44805097579956055, 0.46218013763427734, 0.44141445159912107, 0.4601313591003418, 0.4427622318267822, 0.4649716854095459, 0.4356563091278076, 0.45762786865234373, 0.4921578407287598, 0.4462465763092041, 0.475496768951416, 0.4441187858581543, 0.47351770401000975, 0.4528721809387207, 0.4885402679443359, 0.47129106521606445, 0.47667646408081055, 0.4620828151702881, 0.4515260696411133, 0.45202040672302246, 0.45845465660095214, 0.4823387622833252, 0.46367697715759276, 0.4497023582458496, 0.4486387252807617, 0.43132004737854, 0.4707225799560547, 0.4767235279083252, 0.4639500617980957, 0.44417262077331543, 0.44981069564819337, 0.468337345123291, 0.4482574939727783, 0.47280311584472656, 0.47381272315979006, 0.46653318405151367, 0.46410655975341797, 0.48760066032409666, 0.44454617500305177, 0.47533040046691893, 0.47526869773864744, 0.48372254371643064, 0.4777782440185547, 0.46701927185058595, 0.4585292339324951, 0.47923927307128905, 0.45430583953857423, 0.4597184181213379, 0.460775089263916, 0.49151244163513186, 0.48712863922119143, 0.46056489944458007, 0.467576265335083, 0.4540210723876953, 0.4513975143432617, 0.4563016414642334, 0.47400922775268556, 0.4804725646972656, 0.4656821727752686, 0.48211255073547366, 0.48506646156311034, 0.47594356536865234, 0.45569443702697754, 0.47243571281433105, 0.46833062171936035, 0.4720635414123535, 0.47097339630126955, 0.47376241683959963, 0.43526506423950195, 0.4736640453338623, 0.4281910419464111, 0.47899761199951174, 0.4683834075927734, 0.4952208995819092, 0.4922616004943848, 0.4409646511077881, 0.45706605911254883, 0.49234766960144044, 0.4607278823852539, 0.48106932640075684, 0.4881435394287109, 0.48319425582885744, 0.4687459945678711, 0.4478630542755127, 0.4947225093841553, 0.3799591541290283, 0.409284782409668, 0.38837227821350095, 0.4690376281738281, 0.48068819046020506, 0.4766544818878174, 0.44515314102172854, 0.4557689666748047, 0.4323584079742432, 0.4782541751861572, 0.46409912109375, 0.4847306251525879, 0.49124436378479003, 0.47819342613220217, 0.4773305892944336, 0.4725499629974365, 0.49715237617492675, 0.4818725109100342, 0.4704880714416504, 0.46604042053222655, 0.49070086479187014, 0.4699853420257568, 0.4688112258911133, 0.44774227142333983, 0.45902242660522463, 0.44904189109802245, 0.43439207077026365, 0.4653773307800293, 0.43579692840576173, 0.46279516220092776, 0.4589245319366455, 0.46364355087280273, 0.45132737159729003, 0.43138823509216306, 0.4479036808013916, 0.4419238090515137, 0.4544886589050293, 0.44083294868469236, 0.46388907432556153, 0.45924887657165525, 0.4673327922821045, 0.4618676662445068, 0.44873952865600586, 0.4592895984649658, 0.4518291473388672, 0.4521683692932129, 0.48488712310791016, 0.45546607971191405, 0.4497507572174072, 0.4427164077758789, 0.45293483734130857, 0.4571685791015625, 0.44312686920166017, 0.46255316734313967, 0.46661624908447263, 0.45029349327087403, 0.44312610626220705, 0.4526130199432373, 0.4590038299560547, 0.4569262504577637, 0.45581722259521484, 0.4450072765350342, 0.45447330474853515, 0.45359163284301757, 0.4592954158782959, 0.4492669582366943, 0.459520149230957, 0.46767301559448243, 0.4510002136230469, 0.45075092315673826, 0.4886378288269043, 0.43629989624023435, 0.44457106590270995, 0.4697091579437256, 0.45044536590576173, 0.44509449005126955, 0.45424952507019045, 0.4578592300415039, 0.4527721405029297, 0.439500093460083, 0.45597028732299805, 0.4801971435546875, 0.4683660984039307, 0.4825087547302246, 0.46357388496398927, 0.4653922557830811, 0.4946998119354248, 0.4661311149597168, 0.4713769435882568, 0.49074373245239256, 0.46589999198913573, 0.45754427909851075, 0.4791517734527588, 0.454813289642334, 0.478169584274292, 0.4601754665374756, 0.49141616821289064, 0.5104199409484863, 0.47366695404052733, 0.4801772594451904, 0.4878589153289795, 0.39134256839752196, 0.3813335657119751, 0.3839895248413086, 0.38919796943664553, 0.38094046115875246, 0.42506208419799807, 0.420686149597168, 0.4033947944641113, 0.40727009773254397, 0.41207361221313477, 0.3798717498779297, 0.42044787406921386, 0.40888290405273436, 0.4177547454833984, 0.38752620220184325, 0.4207919120788574, 0.4373805999755859, 0.41849241256713865, 0.4347425937652588, 0.42719292640686035, 0.44718589782714846, 0.45593738555908203, 0.46645464897155764, 0.46003265380859376, 0.4564692497253418, 0.4590129375457764, 0.4947521209716797, 0.4481663703918457, 0.452117919921875, 0.4584199905395508, 0.4657552242279053, 0.48104124069213866, 0.4496779441833496, 0.4759024143218994, 0.46030139923095703, 0.45924692153930663, 0.4579267978668213, 0.4567469596862793, 0.46323108673095703, 0.47187514305114747, 0.4618175506591797, 0.4380302429199219, 0.4251865386962891, 0.44810776710510253, 0.43596935272216797, 0.44643592834472656, 0.4470174789428711, 0.44865918159484863, 0.44664998054504396, 0.4517990589141846, 0.4571816921234131, 0.44062604904174807, 0.42136588096618655, 0.4562716007232666, 0.4255526542663574, 0.4287850379943848, 0.44550514221191406, 0.421359920501709, 0.44143261909484866, 0.4302820205688477, 0.4351222991943359, 0.4443847179412842, 0.46042585372924805, 0.45581612586975095, 0.43193302154541013, 0.44028635025024415, 0.43961000442504883, 0.42206921577453616, 0.419813871383667, 0.42722129821777344, 0.42918944358825684, 0.44539608955383303, 0.43568806648254393, 0.42149009704589846, 0.4406644344329834, 0.4573663234710693, 0.42867293357849123, 0.42740745544433595, 0.42446303367614746, 0.44634151458740234, 0.44975929260253905, 0.41143298149108887, 0.45523777008056643, 0.4505854606628418, 0.42400250434875486, 0.4092578887939453, 0.41933164596557615, 0.4239463806152344, 0.41718297004699706, 0.4286851406097412, 0.41828384399414065, 0.4252505302429199, 0.44124541282653806, 0.4375280857086182, 0.4275036334991455, 0.453857946395874, 0.42433962821960447, 0.43459453582763674, 0.45652093887329104, 0.42646055221557616, 0.43354973793029783, 0.42796964645385743, 0.4356822490692139, 0.4190226554870605, 0.46463766098022463, 0.4352861881256104, 0.45671472549438474, 0.4260871410369873, 0.4382627964019775, 0.45209226608276365, 0.42721900939941404, 0.43845582008361816, 0.43010196685791013, 0.42498779296875, 0.4411925315856934, 0.443325138092041, 0.44149255752563477, 0.42067975997924806, 0.42614450454711916, 0.41861600875854493, 0.4119095325469971, 0.43017282485961916, 0.4558354377746582]\n"
          ],
          "name": "stdout"
        }
      ]
    },
    {
      "cell_type": "code",
      "metadata": {
        "colab": {
          "base_uri": "https://localhost:8080/"
        },
        "id": "ehnZlHgvvBjK",
        "outputId": "1a5f5789-9840-42be-ef72-89e71a924e69"
      },
      "source": [
        "for i in range(len(models_list)):\n",
        "    torch.save(models_list[i].state_dict(), 'model_' + str(i) + '.pt')\n",
        "print('Save models')"
      ],
      "execution_count": null,
      "outputs": [
        {
          "output_type": "stream",
          "text": [
            "Save models\n"
          ],
          "name": "stdout"
        }
      ]
    },
    {
      "cell_type": "code",
      "metadata": {
        "colab": {
          "base_uri": "https://localhost:8080/",
          "height": 16
        },
        "id": "RN0G2Rs-vKrI",
        "outputId": "66d6331d-74bc-4790-e4a3-240323a02565"
      },
      "source": [
        "from google.colab import files\n",
        "for i in range(len(models_list)):\n",
        "    files.download('model_' + str(i) + '.pt') "
      ],
      "execution_count": null,
      "outputs": [
        {
          "output_type": "display_data",
          "data": {
            "application/javascript": [
              "\n",
              "    async function download(id, filename, size) {\n",
              "      if (!google.colab.kernel.accessAllowed) {\n",
              "        return;\n",
              "      }\n",
              "      const div = document.createElement('div');\n",
              "      const label = document.createElement('label');\n",
              "      label.textContent = `Downloading \"${filename}\": `;\n",
              "      div.appendChild(label);\n",
              "      const progress = document.createElement('progress');\n",
              "      progress.max = size;\n",
              "      div.appendChild(progress);\n",
              "      document.body.appendChild(div);\n",
              "\n",
              "      const buffers = [];\n",
              "      let downloaded = 0;\n",
              "\n",
              "      const channel = await google.colab.kernel.comms.open(id);\n",
              "      // Send a message to notify the kernel that we're ready.\n",
              "      channel.send({})\n",
              "\n",
              "      for await (const message of channel.messages) {\n",
              "        // Send a message to notify the kernel that we're ready.\n",
              "        channel.send({})\n",
              "        if (message.buffers) {\n",
              "          for (const buffer of message.buffers) {\n",
              "            buffers.push(buffer);\n",
              "            downloaded += buffer.byteLength;\n",
              "            progress.value = downloaded;\n",
              "          }\n",
              "        }\n",
              "      }\n",
              "      const blob = new Blob(buffers, {type: 'application/binary'});\n",
              "      const a = document.createElement('a');\n",
              "      a.href = window.URL.createObjectURL(blob);\n",
              "      a.download = filename;\n",
              "      div.appendChild(a);\n",
              "      a.click();\n",
              "      div.remove();\n",
              "    }\n",
              "  "
            ],
            "text/plain": [
              "<IPython.core.display.Javascript object>"
            ]
          },
          "metadata": {
            "tags": []
          }
        },
        {
          "output_type": "display_data",
          "data": {
            "application/javascript": [
              "download(\"download_5b660585-cf75-46eb-a78d-facca9f6b12c\", \"model_0.pt\", 44776889)"
            ],
            "text/plain": [
              "<IPython.core.display.Javascript object>"
            ]
          },
          "metadata": {
            "tags": []
          }
        },
        {
          "output_type": "display_data",
          "data": {
            "application/javascript": [
              "\n",
              "    async function download(id, filename, size) {\n",
              "      if (!google.colab.kernel.accessAllowed) {\n",
              "        return;\n",
              "      }\n",
              "      const div = document.createElement('div');\n",
              "      const label = document.createElement('label');\n",
              "      label.textContent = `Downloading \"${filename}\": `;\n",
              "      div.appendChild(label);\n",
              "      const progress = document.createElement('progress');\n",
              "      progress.max = size;\n",
              "      div.appendChild(progress);\n",
              "      document.body.appendChild(div);\n",
              "\n",
              "      const buffers = [];\n",
              "      let downloaded = 0;\n",
              "\n",
              "      const channel = await google.colab.kernel.comms.open(id);\n",
              "      // Send a message to notify the kernel that we're ready.\n",
              "      channel.send({})\n",
              "\n",
              "      for await (const message of channel.messages) {\n",
              "        // Send a message to notify the kernel that we're ready.\n",
              "        channel.send({})\n",
              "        if (message.buffers) {\n",
              "          for (const buffer of message.buffers) {\n",
              "            buffers.push(buffer);\n",
              "            downloaded += buffer.byteLength;\n",
              "            progress.value = downloaded;\n",
              "          }\n",
              "        }\n",
              "      }\n",
              "      const blob = new Blob(buffers, {type: 'application/binary'});\n",
              "      const a = document.createElement('a');\n",
              "      a.href = window.URL.createObjectURL(blob);\n",
              "      a.download = filename;\n",
              "      div.appendChild(a);\n",
              "      a.click();\n",
              "      div.remove();\n",
              "    }\n",
              "  "
            ],
            "text/plain": [
              "<IPython.core.display.Javascript object>"
            ]
          },
          "metadata": {
            "tags": []
          }
        },
        {
          "output_type": "display_data",
          "data": {
            "application/javascript": [
              "download(\"download_308d2065-3193-4220-98b0-5effd45d2986\", \"model_1.pt\", 44776889)"
            ],
            "text/plain": [
              "<IPython.core.display.Javascript object>"
            ]
          },
          "metadata": {
            "tags": []
          }
        },
        {
          "output_type": "display_data",
          "data": {
            "application/javascript": [
              "\n",
              "    async function download(id, filename, size) {\n",
              "      if (!google.colab.kernel.accessAllowed) {\n",
              "        return;\n",
              "      }\n",
              "      const div = document.createElement('div');\n",
              "      const label = document.createElement('label');\n",
              "      label.textContent = `Downloading \"${filename}\": `;\n",
              "      div.appendChild(label);\n",
              "      const progress = document.createElement('progress');\n",
              "      progress.max = size;\n",
              "      div.appendChild(progress);\n",
              "      document.body.appendChild(div);\n",
              "\n",
              "      const buffers = [];\n",
              "      let downloaded = 0;\n",
              "\n",
              "      const channel = await google.colab.kernel.comms.open(id);\n",
              "      // Send a message to notify the kernel that we're ready.\n",
              "      channel.send({})\n",
              "\n",
              "      for await (const message of channel.messages) {\n",
              "        // Send a message to notify the kernel that we're ready.\n",
              "        channel.send({})\n",
              "        if (message.buffers) {\n",
              "          for (const buffer of message.buffers) {\n",
              "            buffers.push(buffer);\n",
              "            downloaded += buffer.byteLength;\n",
              "            progress.value = downloaded;\n",
              "          }\n",
              "        }\n",
              "      }\n",
              "      const blob = new Blob(buffers, {type: 'application/binary'});\n",
              "      const a = document.createElement('a');\n",
              "      a.href = window.URL.createObjectURL(blob);\n",
              "      a.download = filename;\n",
              "      div.appendChild(a);\n",
              "      a.click();\n",
              "      div.remove();\n",
              "    }\n",
              "  "
            ],
            "text/plain": [
              "<IPython.core.display.Javascript object>"
            ]
          },
          "metadata": {
            "tags": []
          }
        },
        {
          "output_type": "display_data",
          "data": {
            "application/javascript": [
              "download(\"download_e0843842-c298-485c-a10b-8e7bd2a956b2\", \"model_2.pt\", 44776889)"
            ],
            "text/plain": [
              "<IPython.core.display.Javascript object>"
            ]
          },
          "metadata": {
            "tags": []
          }
        },
        {
          "output_type": "display_data",
          "data": {
            "application/javascript": [
              "\n",
              "    async function download(id, filename, size) {\n",
              "      if (!google.colab.kernel.accessAllowed) {\n",
              "        return;\n",
              "      }\n",
              "      const div = document.createElement('div');\n",
              "      const label = document.createElement('label');\n",
              "      label.textContent = `Downloading \"${filename}\": `;\n",
              "      div.appendChild(label);\n",
              "      const progress = document.createElement('progress');\n",
              "      progress.max = size;\n",
              "      div.appendChild(progress);\n",
              "      document.body.appendChild(div);\n",
              "\n",
              "      const buffers = [];\n",
              "      let downloaded = 0;\n",
              "\n",
              "      const channel = await google.colab.kernel.comms.open(id);\n",
              "      // Send a message to notify the kernel that we're ready.\n",
              "      channel.send({})\n",
              "\n",
              "      for await (const message of channel.messages) {\n",
              "        // Send a message to notify the kernel that we're ready.\n",
              "        channel.send({})\n",
              "        if (message.buffers) {\n",
              "          for (const buffer of message.buffers) {\n",
              "            buffers.push(buffer);\n",
              "            downloaded += buffer.byteLength;\n",
              "            progress.value = downloaded;\n",
              "          }\n",
              "        }\n",
              "      }\n",
              "      const blob = new Blob(buffers, {type: 'application/binary'});\n",
              "      const a = document.createElement('a');\n",
              "      a.href = window.URL.createObjectURL(blob);\n",
              "      a.download = filename;\n",
              "      div.appendChild(a);\n",
              "      a.click();\n",
              "      div.remove();\n",
              "    }\n",
              "  "
            ],
            "text/plain": [
              "<IPython.core.display.Javascript object>"
            ]
          },
          "metadata": {
            "tags": []
          }
        },
        {
          "output_type": "display_data",
          "data": {
            "application/javascript": [
              "download(\"download_7c492a42-4410-4033-b64b-d9d52e349858\", \"model_3.pt\", 44776889)"
            ],
            "text/plain": [
              "<IPython.core.display.Javascript object>"
            ]
          },
          "metadata": {
            "tags": []
          }
        },
        {
          "output_type": "display_data",
          "data": {
            "application/javascript": [
              "\n",
              "    async function download(id, filename, size) {\n",
              "      if (!google.colab.kernel.accessAllowed) {\n",
              "        return;\n",
              "      }\n",
              "      const div = document.createElement('div');\n",
              "      const label = document.createElement('label');\n",
              "      label.textContent = `Downloading \"${filename}\": `;\n",
              "      div.appendChild(label);\n",
              "      const progress = document.createElement('progress');\n",
              "      progress.max = size;\n",
              "      div.appendChild(progress);\n",
              "      document.body.appendChild(div);\n",
              "\n",
              "      const buffers = [];\n",
              "      let downloaded = 0;\n",
              "\n",
              "      const channel = await google.colab.kernel.comms.open(id);\n",
              "      // Send a message to notify the kernel that we're ready.\n",
              "      channel.send({})\n",
              "\n",
              "      for await (const message of channel.messages) {\n",
              "        // Send a message to notify the kernel that we're ready.\n",
              "        channel.send({})\n",
              "        if (message.buffers) {\n",
              "          for (const buffer of message.buffers) {\n",
              "            buffers.push(buffer);\n",
              "            downloaded += buffer.byteLength;\n",
              "            progress.value = downloaded;\n",
              "          }\n",
              "        }\n",
              "      }\n",
              "      const blob = new Blob(buffers, {type: 'application/binary'});\n",
              "      const a = document.createElement('a');\n",
              "      a.href = window.URL.createObjectURL(blob);\n",
              "      a.download = filename;\n",
              "      div.appendChild(a);\n",
              "      a.click();\n",
              "      div.remove();\n",
              "    }\n",
              "  "
            ],
            "text/plain": [
              "<IPython.core.display.Javascript object>"
            ]
          },
          "metadata": {
            "tags": []
          }
        },
        {
          "output_type": "display_data",
          "data": {
            "application/javascript": [
              "download(\"download_8c925e89-c7bb-4f2e-b908-0199f7803d9a\", \"model_4.pt\", 44776889)"
            ],
            "text/plain": [
              "<IPython.core.display.Javascript object>"
            ]
          },
          "metadata": {
            "tags": []
          }
        },
        {
          "output_type": "display_data",
          "data": {
            "application/javascript": [
              "\n",
              "    async function download(id, filename, size) {\n",
              "      if (!google.colab.kernel.accessAllowed) {\n",
              "        return;\n",
              "      }\n",
              "      const div = document.createElement('div');\n",
              "      const label = document.createElement('label');\n",
              "      label.textContent = `Downloading \"${filename}\": `;\n",
              "      div.appendChild(label);\n",
              "      const progress = document.createElement('progress');\n",
              "      progress.max = size;\n",
              "      div.appendChild(progress);\n",
              "      document.body.appendChild(div);\n",
              "\n",
              "      const buffers = [];\n",
              "      let downloaded = 0;\n",
              "\n",
              "      const channel = await google.colab.kernel.comms.open(id);\n",
              "      // Send a message to notify the kernel that we're ready.\n",
              "      channel.send({})\n",
              "\n",
              "      for await (const message of channel.messages) {\n",
              "        // Send a message to notify the kernel that we're ready.\n",
              "        channel.send({})\n",
              "        if (message.buffers) {\n",
              "          for (const buffer of message.buffers) {\n",
              "            buffers.push(buffer);\n",
              "            downloaded += buffer.byteLength;\n",
              "            progress.value = downloaded;\n",
              "          }\n",
              "        }\n",
              "      }\n",
              "      const blob = new Blob(buffers, {type: 'application/binary'});\n",
              "      const a = document.createElement('a');\n",
              "      a.href = window.URL.createObjectURL(blob);\n",
              "      a.download = filename;\n",
              "      div.appendChild(a);\n",
              "      a.click();\n",
              "      div.remove();\n",
              "    }\n",
              "  "
            ],
            "text/plain": [
              "<IPython.core.display.Javascript object>"
            ]
          },
          "metadata": {
            "tags": []
          }
        },
        {
          "output_type": "display_data",
          "data": {
            "application/javascript": [
              "download(\"download_68379d28-6d20-49be-bd8b-74a347aaee4d\", \"model_5.pt\", 44776889)"
            ],
            "text/plain": [
              "<IPython.core.display.Javascript object>"
            ]
          },
          "metadata": {
            "tags": []
          }
        },
        {
          "output_type": "display_data",
          "data": {
            "application/javascript": [
              "\n",
              "    async function download(id, filename, size) {\n",
              "      if (!google.colab.kernel.accessAllowed) {\n",
              "        return;\n",
              "      }\n",
              "      const div = document.createElement('div');\n",
              "      const label = document.createElement('label');\n",
              "      label.textContent = `Downloading \"${filename}\": `;\n",
              "      div.appendChild(label);\n",
              "      const progress = document.createElement('progress');\n",
              "      progress.max = size;\n",
              "      div.appendChild(progress);\n",
              "      document.body.appendChild(div);\n",
              "\n",
              "      const buffers = [];\n",
              "      let downloaded = 0;\n",
              "\n",
              "      const channel = await google.colab.kernel.comms.open(id);\n",
              "      // Send a message to notify the kernel that we're ready.\n",
              "      channel.send({})\n",
              "\n",
              "      for await (const message of channel.messages) {\n",
              "        // Send a message to notify the kernel that we're ready.\n",
              "        channel.send({})\n",
              "        if (message.buffers) {\n",
              "          for (const buffer of message.buffers) {\n",
              "            buffers.push(buffer);\n",
              "            downloaded += buffer.byteLength;\n",
              "            progress.value = downloaded;\n",
              "          }\n",
              "        }\n",
              "      }\n",
              "      const blob = new Blob(buffers, {type: 'application/binary'});\n",
              "      const a = document.createElement('a');\n",
              "      a.href = window.URL.createObjectURL(blob);\n",
              "      a.download = filename;\n",
              "      div.appendChild(a);\n",
              "      a.click();\n",
              "      div.remove();\n",
              "    }\n",
              "  "
            ],
            "text/plain": [
              "<IPython.core.display.Javascript object>"
            ]
          },
          "metadata": {
            "tags": []
          }
        },
        {
          "output_type": "display_data",
          "data": {
            "application/javascript": [
              "download(\"download_a327c7b9-b76b-4da2-b416-787bf9337cf5\", \"model_6.pt\", 44776889)"
            ],
            "text/plain": [
              "<IPython.core.display.Javascript object>"
            ]
          },
          "metadata": {
            "tags": []
          }
        },
        {
          "output_type": "display_data",
          "data": {
            "application/javascript": [
              "\n",
              "    async function download(id, filename, size) {\n",
              "      if (!google.colab.kernel.accessAllowed) {\n",
              "        return;\n",
              "      }\n",
              "      const div = document.createElement('div');\n",
              "      const label = document.createElement('label');\n",
              "      label.textContent = `Downloading \"${filename}\": `;\n",
              "      div.appendChild(label);\n",
              "      const progress = document.createElement('progress');\n",
              "      progress.max = size;\n",
              "      div.appendChild(progress);\n",
              "      document.body.appendChild(div);\n",
              "\n",
              "      const buffers = [];\n",
              "      let downloaded = 0;\n",
              "\n",
              "      const channel = await google.colab.kernel.comms.open(id);\n",
              "      // Send a message to notify the kernel that we're ready.\n",
              "      channel.send({})\n",
              "\n",
              "      for await (const message of channel.messages) {\n",
              "        // Send a message to notify the kernel that we're ready.\n",
              "        channel.send({})\n",
              "        if (message.buffers) {\n",
              "          for (const buffer of message.buffers) {\n",
              "            buffers.push(buffer);\n",
              "            downloaded += buffer.byteLength;\n",
              "            progress.value = downloaded;\n",
              "          }\n",
              "        }\n",
              "      }\n",
              "      const blob = new Blob(buffers, {type: 'application/binary'});\n",
              "      const a = document.createElement('a');\n",
              "      a.href = window.URL.createObjectURL(blob);\n",
              "      a.download = filename;\n",
              "      div.appendChild(a);\n",
              "      a.click();\n",
              "      div.remove();\n",
              "    }\n",
              "  "
            ],
            "text/plain": [
              "<IPython.core.display.Javascript object>"
            ]
          },
          "metadata": {
            "tags": []
          }
        },
        {
          "output_type": "display_data",
          "data": {
            "application/javascript": [
              "download(\"download_dcae2364-65e9-4a22-912f-f398b64b7dd6\", \"model_7.pt\", 44776889)"
            ],
            "text/plain": [
              "<IPython.core.display.Javascript object>"
            ]
          },
          "metadata": {
            "tags": []
          }
        },
        {
          "output_type": "display_data",
          "data": {
            "application/javascript": [
              "\n",
              "    async function download(id, filename, size) {\n",
              "      if (!google.colab.kernel.accessAllowed) {\n",
              "        return;\n",
              "      }\n",
              "      const div = document.createElement('div');\n",
              "      const label = document.createElement('label');\n",
              "      label.textContent = `Downloading \"${filename}\": `;\n",
              "      div.appendChild(label);\n",
              "      const progress = document.createElement('progress');\n",
              "      progress.max = size;\n",
              "      div.appendChild(progress);\n",
              "      document.body.appendChild(div);\n",
              "\n",
              "      const buffers = [];\n",
              "      let downloaded = 0;\n",
              "\n",
              "      const channel = await google.colab.kernel.comms.open(id);\n",
              "      // Send a message to notify the kernel that we're ready.\n",
              "      channel.send({})\n",
              "\n",
              "      for await (const message of channel.messages) {\n",
              "        // Send a message to notify the kernel that we're ready.\n",
              "        channel.send({})\n",
              "        if (message.buffers) {\n",
              "          for (const buffer of message.buffers) {\n",
              "            buffers.push(buffer);\n",
              "            downloaded += buffer.byteLength;\n",
              "            progress.value = downloaded;\n",
              "          }\n",
              "        }\n",
              "      }\n",
              "      const blob = new Blob(buffers, {type: 'application/binary'});\n",
              "      const a = document.createElement('a');\n",
              "      a.href = window.URL.createObjectURL(blob);\n",
              "      a.download = filename;\n",
              "      div.appendChild(a);\n",
              "      a.click();\n",
              "      div.remove();\n",
              "    }\n",
              "  "
            ],
            "text/plain": [
              "<IPython.core.display.Javascript object>"
            ]
          },
          "metadata": {
            "tags": []
          }
        },
        {
          "output_type": "display_data",
          "data": {
            "application/javascript": [
              "download(\"download_d7d541e6-9e2e-47df-b933-bc2aab0c1975\", \"model_8.pt\", 44776889)"
            ],
            "text/plain": [
              "<IPython.core.display.Javascript object>"
            ]
          },
          "metadata": {
            "tags": []
          }
        },
        {
          "output_type": "display_data",
          "data": {
            "application/javascript": [
              "\n",
              "    async function download(id, filename, size) {\n",
              "      if (!google.colab.kernel.accessAllowed) {\n",
              "        return;\n",
              "      }\n",
              "      const div = document.createElement('div');\n",
              "      const label = document.createElement('label');\n",
              "      label.textContent = `Downloading \"${filename}\": `;\n",
              "      div.appendChild(label);\n",
              "      const progress = document.createElement('progress');\n",
              "      progress.max = size;\n",
              "      div.appendChild(progress);\n",
              "      document.body.appendChild(div);\n",
              "\n",
              "      const buffers = [];\n",
              "      let downloaded = 0;\n",
              "\n",
              "      const channel = await google.colab.kernel.comms.open(id);\n",
              "      // Send a message to notify the kernel that we're ready.\n",
              "      channel.send({})\n",
              "\n",
              "      for await (const message of channel.messages) {\n",
              "        // Send a message to notify the kernel that we're ready.\n",
              "        channel.send({})\n",
              "        if (message.buffers) {\n",
              "          for (const buffer of message.buffers) {\n",
              "            buffers.push(buffer);\n",
              "            downloaded += buffer.byteLength;\n",
              "            progress.value = downloaded;\n",
              "          }\n",
              "        }\n",
              "      }\n",
              "      const blob = new Blob(buffers, {type: 'application/binary'});\n",
              "      const a = document.createElement('a');\n",
              "      a.href = window.URL.createObjectURL(blob);\n",
              "      a.download = filename;\n",
              "      div.appendChild(a);\n",
              "      a.click();\n",
              "      div.remove();\n",
              "    }\n",
              "  "
            ],
            "text/plain": [
              "<IPython.core.display.Javascript object>"
            ]
          },
          "metadata": {
            "tags": []
          }
        },
        {
          "output_type": "display_data",
          "data": {
            "application/javascript": [
              "download(\"download_bd07f080-093d-4371-af79-422e91093612\", \"model_9.pt\", 44776889)"
            ],
            "text/plain": [
              "<IPython.core.display.Javascript object>"
            ]
          },
          "metadata": {
            "tags": []
          }
        },
        {
          "output_type": "display_data",
          "data": {
            "application/javascript": [
              "\n",
              "    async function download(id, filename, size) {\n",
              "      if (!google.colab.kernel.accessAllowed) {\n",
              "        return;\n",
              "      }\n",
              "      const div = document.createElement('div');\n",
              "      const label = document.createElement('label');\n",
              "      label.textContent = `Downloading \"${filename}\": `;\n",
              "      div.appendChild(label);\n",
              "      const progress = document.createElement('progress');\n",
              "      progress.max = size;\n",
              "      div.appendChild(progress);\n",
              "      document.body.appendChild(div);\n",
              "\n",
              "      const buffers = [];\n",
              "      let downloaded = 0;\n",
              "\n",
              "      const channel = await google.colab.kernel.comms.open(id);\n",
              "      // Send a message to notify the kernel that we're ready.\n",
              "      channel.send({})\n",
              "\n",
              "      for await (const message of channel.messages) {\n",
              "        // Send a message to notify the kernel that we're ready.\n",
              "        channel.send({})\n",
              "        if (message.buffers) {\n",
              "          for (const buffer of message.buffers) {\n",
              "            buffers.push(buffer);\n",
              "            downloaded += buffer.byteLength;\n",
              "            progress.value = downloaded;\n",
              "          }\n",
              "        }\n",
              "      }\n",
              "      const blob = new Blob(buffers, {type: 'application/binary'});\n",
              "      const a = document.createElement('a');\n",
              "      a.href = window.URL.createObjectURL(blob);\n",
              "      a.download = filename;\n",
              "      div.appendChild(a);\n",
              "      a.click();\n",
              "      div.remove();\n",
              "    }\n",
              "  "
            ],
            "text/plain": [
              "<IPython.core.display.Javascript object>"
            ]
          },
          "metadata": {
            "tags": []
          }
        },
        {
          "output_type": "display_data",
          "data": {
            "application/javascript": [
              "download(\"download_3f4e485c-5621-4c08-9711-bbe97dd52d24\", \"model_10.pt\", 44776889)"
            ],
            "text/plain": [
              "<IPython.core.display.Javascript object>"
            ]
          },
          "metadata": {
            "tags": []
          }
        },
        {
          "output_type": "display_data",
          "data": {
            "application/javascript": [
              "\n",
              "    async function download(id, filename, size) {\n",
              "      if (!google.colab.kernel.accessAllowed) {\n",
              "        return;\n",
              "      }\n",
              "      const div = document.createElement('div');\n",
              "      const label = document.createElement('label');\n",
              "      label.textContent = `Downloading \"${filename}\": `;\n",
              "      div.appendChild(label);\n",
              "      const progress = document.createElement('progress');\n",
              "      progress.max = size;\n",
              "      div.appendChild(progress);\n",
              "      document.body.appendChild(div);\n",
              "\n",
              "      const buffers = [];\n",
              "      let downloaded = 0;\n",
              "\n",
              "      const channel = await google.colab.kernel.comms.open(id);\n",
              "      // Send a message to notify the kernel that we're ready.\n",
              "      channel.send({})\n",
              "\n",
              "      for await (const message of channel.messages) {\n",
              "        // Send a message to notify the kernel that we're ready.\n",
              "        channel.send({})\n",
              "        if (message.buffers) {\n",
              "          for (const buffer of message.buffers) {\n",
              "            buffers.push(buffer);\n",
              "            downloaded += buffer.byteLength;\n",
              "            progress.value = downloaded;\n",
              "          }\n",
              "        }\n",
              "      }\n",
              "      const blob = new Blob(buffers, {type: 'application/binary'});\n",
              "      const a = document.createElement('a');\n",
              "      a.href = window.URL.createObjectURL(blob);\n",
              "      a.download = filename;\n",
              "      div.appendChild(a);\n",
              "      a.click();\n",
              "      div.remove();\n",
              "    }\n",
              "  "
            ],
            "text/plain": [
              "<IPython.core.display.Javascript object>"
            ]
          },
          "metadata": {
            "tags": []
          }
        },
        {
          "output_type": "display_data",
          "data": {
            "application/javascript": [
              "download(\"download_b532fd38-5375-4ab8-9e74-2962cf483d76\", \"model_11.pt\", 44776889)"
            ],
            "text/plain": [
              "<IPython.core.display.Javascript object>"
            ]
          },
          "metadata": {
            "tags": []
          }
        },
        {
          "output_type": "display_data",
          "data": {
            "application/javascript": [
              "\n",
              "    async function download(id, filename, size) {\n",
              "      if (!google.colab.kernel.accessAllowed) {\n",
              "        return;\n",
              "      }\n",
              "      const div = document.createElement('div');\n",
              "      const label = document.createElement('label');\n",
              "      label.textContent = `Downloading \"${filename}\": `;\n",
              "      div.appendChild(label);\n",
              "      const progress = document.createElement('progress');\n",
              "      progress.max = size;\n",
              "      div.appendChild(progress);\n",
              "      document.body.appendChild(div);\n",
              "\n",
              "      const buffers = [];\n",
              "      let downloaded = 0;\n",
              "\n",
              "      const channel = await google.colab.kernel.comms.open(id);\n",
              "      // Send a message to notify the kernel that we're ready.\n",
              "      channel.send({})\n",
              "\n",
              "      for await (const message of channel.messages) {\n",
              "        // Send a message to notify the kernel that we're ready.\n",
              "        channel.send({})\n",
              "        if (message.buffers) {\n",
              "          for (const buffer of message.buffers) {\n",
              "            buffers.push(buffer);\n",
              "            downloaded += buffer.byteLength;\n",
              "            progress.value = downloaded;\n",
              "          }\n",
              "        }\n",
              "      }\n",
              "      const blob = new Blob(buffers, {type: 'application/binary'});\n",
              "      const a = document.createElement('a');\n",
              "      a.href = window.URL.createObjectURL(blob);\n",
              "      a.download = filename;\n",
              "      div.appendChild(a);\n",
              "      a.click();\n",
              "      div.remove();\n",
              "    }\n",
              "  "
            ],
            "text/plain": [
              "<IPython.core.display.Javascript object>"
            ]
          },
          "metadata": {
            "tags": []
          }
        },
        {
          "output_type": "display_data",
          "data": {
            "application/javascript": [
              "download(\"download_e792a136-fe32-45a3-b449-b3595f08444e\", \"model_12.pt\", 44776889)"
            ],
            "text/plain": [
              "<IPython.core.display.Javascript object>"
            ]
          },
          "metadata": {
            "tags": []
          }
        },
        {
          "output_type": "display_data",
          "data": {
            "application/javascript": [
              "\n",
              "    async function download(id, filename, size) {\n",
              "      if (!google.colab.kernel.accessAllowed) {\n",
              "        return;\n",
              "      }\n",
              "      const div = document.createElement('div');\n",
              "      const label = document.createElement('label');\n",
              "      label.textContent = `Downloading \"${filename}\": `;\n",
              "      div.appendChild(label);\n",
              "      const progress = document.createElement('progress');\n",
              "      progress.max = size;\n",
              "      div.appendChild(progress);\n",
              "      document.body.appendChild(div);\n",
              "\n",
              "      const buffers = [];\n",
              "      let downloaded = 0;\n",
              "\n",
              "      const channel = await google.colab.kernel.comms.open(id);\n",
              "      // Send a message to notify the kernel that we're ready.\n",
              "      channel.send({})\n",
              "\n",
              "      for await (const message of channel.messages) {\n",
              "        // Send a message to notify the kernel that we're ready.\n",
              "        channel.send({})\n",
              "        if (message.buffers) {\n",
              "          for (const buffer of message.buffers) {\n",
              "            buffers.push(buffer);\n",
              "            downloaded += buffer.byteLength;\n",
              "            progress.value = downloaded;\n",
              "          }\n",
              "        }\n",
              "      }\n",
              "      const blob = new Blob(buffers, {type: 'application/binary'});\n",
              "      const a = document.createElement('a');\n",
              "      a.href = window.URL.createObjectURL(blob);\n",
              "      a.download = filename;\n",
              "      div.appendChild(a);\n",
              "      a.click();\n",
              "      div.remove();\n",
              "    }\n",
              "  "
            ],
            "text/plain": [
              "<IPython.core.display.Javascript object>"
            ]
          },
          "metadata": {
            "tags": []
          }
        },
        {
          "output_type": "display_data",
          "data": {
            "application/javascript": [
              "download(\"download_47c3aa93-5116-4aef-8c1e-c9861b037908\", \"model_13.pt\", 44776889)"
            ],
            "text/plain": [
              "<IPython.core.display.Javascript object>"
            ]
          },
          "metadata": {
            "tags": []
          }
        },
        {
          "output_type": "display_data",
          "data": {
            "application/javascript": [
              "\n",
              "    async function download(id, filename, size) {\n",
              "      if (!google.colab.kernel.accessAllowed) {\n",
              "        return;\n",
              "      }\n",
              "      const div = document.createElement('div');\n",
              "      const label = document.createElement('label');\n",
              "      label.textContent = `Downloading \"${filename}\": `;\n",
              "      div.appendChild(label);\n",
              "      const progress = document.createElement('progress');\n",
              "      progress.max = size;\n",
              "      div.appendChild(progress);\n",
              "      document.body.appendChild(div);\n",
              "\n",
              "      const buffers = [];\n",
              "      let downloaded = 0;\n",
              "\n",
              "      const channel = await google.colab.kernel.comms.open(id);\n",
              "      // Send a message to notify the kernel that we're ready.\n",
              "      channel.send({})\n",
              "\n",
              "      for await (const message of channel.messages) {\n",
              "        // Send a message to notify the kernel that we're ready.\n",
              "        channel.send({})\n",
              "        if (message.buffers) {\n",
              "          for (const buffer of message.buffers) {\n",
              "            buffers.push(buffer);\n",
              "            downloaded += buffer.byteLength;\n",
              "            progress.value = downloaded;\n",
              "          }\n",
              "        }\n",
              "      }\n",
              "      const blob = new Blob(buffers, {type: 'application/binary'});\n",
              "      const a = document.createElement('a');\n",
              "      a.href = window.URL.createObjectURL(blob);\n",
              "      a.download = filename;\n",
              "      div.appendChild(a);\n",
              "      a.click();\n",
              "      div.remove();\n",
              "    }\n",
              "  "
            ],
            "text/plain": [
              "<IPython.core.display.Javascript object>"
            ]
          },
          "metadata": {
            "tags": []
          }
        },
        {
          "output_type": "display_data",
          "data": {
            "application/javascript": [
              "download(\"download_a55f7b39-8b47-4bfd-822b-991fd13e890e\", \"model_14.pt\", 44776889)"
            ],
            "text/plain": [
              "<IPython.core.display.Javascript object>"
            ]
          },
          "metadata": {
            "tags": []
          }
        },
        {
          "output_type": "display_data",
          "data": {
            "application/javascript": [
              "\n",
              "    async function download(id, filename, size) {\n",
              "      if (!google.colab.kernel.accessAllowed) {\n",
              "        return;\n",
              "      }\n",
              "      const div = document.createElement('div');\n",
              "      const label = document.createElement('label');\n",
              "      label.textContent = `Downloading \"${filename}\": `;\n",
              "      div.appendChild(label);\n",
              "      const progress = document.createElement('progress');\n",
              "      progress.max = size;\n",
              "      div.appendChild(progress);\n",
              "      document.body.appendChild(div);\n",
              "\n",
              "      const buffers = [];\n",
              "      let downloaded = 0;\n",
              "\n",
              "      const channel = await google.colab.kernel.comms.open(id);\n",
              "      // Send a message to notify the kernel that we're ready.\n",
              "      channel.send({})\n",
              "\n",
              "      for await (const message of channel.messages) {\n",
              "        // Send a message to notify the kernel that we're ready.\n",
              "        channel.send({})\n",
              "        if (message.buffers) {\n",
              "          for (const buffer of message.buffers) {\n",
              "            buffers.push(buffer);\n",
              "            downloaded += buffer.byteLength;\n",
              "            progress.value = downloaded;\n",
              "          }\n",
              "        }\n",
              "      }\n",
              "      const blob = new Blob(buffers, {type: 'application/binary'});\n",
              "      const a = document.createElement('a');\n",
              "      a.href = window.URL.createObjectURL(blob);\n",
              "      a.download = filename;\n",
              "      div.appendChild(a);\n",
              "      a.click();\n",
              "      div.remove();\n",
              "    }\n",
              "  "
            ],
            "text/plain": [
              "<IPython.core.display.Javascript object>"
            ]
          },
          "metadata": {
            "tags": []
          }
        },
        {
          "output_type": "display_data",
          "data": {
            "application/javascript": [
              "download(\"download_2ca546f2-31ce-4a5b-b7fb-3509d86b8f66\", \"model_15.pt\", 44776889)"
            ],
            "text/plain": [
              "<IPython.core.display.Javascript object>"
            ]
          },
          "metadata": {
            "tags": []
          }
        },
        {
          "output_type": "display_data",
          "data": {
            "application/javascript": [
              "\n",
              "    async function download(id, filename, size) {\n",
              "      if (!google.colab.kernel.accessAllowed) {\n",
              "        return;\n",
              "      }\n",
              "      const div = document.createElement('div');\n",
              "      const label = document.createElement('label');\n",
              "      label.textContent = `Downloading \"${filename}\": `;\n",
              "      div.appendChild(label);\n",
              "      const progress = document.createElement('progress');\n",
              "      progress.max = size;\n",
              "      div.appendChild(progress);\n",
              "      document.body.appendChild(div);\n",
              "\n",
              "      const buffers = [];\n",
              "      let downloaded = 0;\n",
              "\n",
              "      const channel = await google.colab.kernel.comms.open(id);\n",
              "      // Send a message to notify the kernel that we're ready.\n",
              "      channel.send({})\n",
              "\n",
              "      for await (const message of channel.messages) {\n",
              "        // Send a message to notify the kernel that we're ready.\n",
              "        channel.send({})\n",
              "        if (message.buffers) {\n",
              "          for (const buffer of message.buffers) {\n",
              "            buffers.push(buffer);\n",
              "            downloaded += buffer.byteLength;\n",
              "            progress.value = downloaded;\n",
              "          }\n",
              "        }\n",
              "      }\n",
              "      const blob = new Blob(buffers, {type: 'application/binary'});\n",
              "      const a = document.createElement('a');\n",
              "      a.href = window.URL.createObjectURL(blob);\n",
              "      a.download = filename;\n",
              "      div.appendChild(a);\n",
              "      a.click();\n",
              "      div.remove();\n",
              "    }\n",
              "  "
            ],
            "text/plain": [
              "<IPython.core.display.Javascript object>"
            ]
          },
          "metadata": {
            "tags": []
          }
        },
        {
          "output_type": "display_data",
          "data": {
            "application/javascript": [
              "download(\"download_8ce4d60b-6f2a-4ee9-bc5a-e897a698c846\", \"model_16.pt\", 44776889)"
            ],
            "text/plain": [
              "<IPython.core.display.Javascript object>"
            ]
          },
          "metadata": {
            "tags": []
          }
        },
        {
          "output_type": "display_data",
          "data": {
            "application/javascript": [
              "\n",
              "    async function download(id, filename, size) {\n",
              "      if (!google.colab.kernel.accessAllowed) {\n",
              "        return;\n",
              "      }\n",
              "      const div = document.createElement('div');\n",
              "      const label = document.createElement('label');\n",
              "      label.textContent = `Downloading \"${filename}\": `;\n",
              "      div.appendChild(label);\n",
              "      const progress = document.createElement('progress');\n",
              "      progress.max = size;\n",
              "      div.appendChild(progress);\n",
              "      document.body.appendChild(div);\n",
              "\n",
              "      const buffers = [];\n",
              "      let downloaded = 0;\n",
              "\n",
              "      const channel = await google.colab.kernel.comms.open(id);\n",
              "      // Send a message to notify the kernel that we're ready.\n",
              "      channel.send({})\n",
              "\n",
              "      for await (const message of channel.messages) {\n",
              "        // Send a message to notify the kernel that we're ready.\n",
              "        channel.send({})\n",
              "        if (message.buffers) {\n",
              "          for (const buffer of message.buffers) {\n",
              "            buffers.push(buffer);\n",
              "            downloaded += buffer.byteLength;\n",
              "            progress.value = downloaded;\n",
              "          }\n",
              "        }\n",
              "      }\n",
              "      const blob = new Blob(buffers, {type: 'application/binary'});\n",
              "      const a = document.createElement('a');\n",
              "      a.href = window.URL.createObjectURL(blob);\n",
              "      a.download = filename;\n",
              "      div.appendChild(a);\n",
              "      a.click();\n",
              "      div.remove();\n",
              "    }\n",
              "  "
            ],
            "text/plain": [
              "<IPython.core.display.Javascript object>"
            ]
          },
          "metadata": {
            "tags": []
          }
        },
        {
          "output_type": "display_data",
          "data": {
            "application/javascript": [
              "download(\"download_88214069-f8fa-4f5f-a0cb-4c92b2cd1b51\", \"model_17.pt\", 44776889)"
            ],
            "text/plain": [
              "<IPython.core.display.Javascript object>"
            ]
          },
          "metadata": {
            "tags": []
          }
        },
        {
          "output_type": "display_data",
          "data": {
            "application/javascript": [
              "\n",
              "    async function download(id, filename, size) {\n",
              "      if (!google.colab.kernel.accessAllowed) {\n",
              "        return;\n",
              "      }\n",
              "      const div = document.createElement('div');\n",
              "      const label = document.createElement('label');\n",
              "      label.textContent = `Downloading \"${filename}\": `;\n",
              "      div.appendChild(label);\n",
              "      const progress = document.createElement('progress');\n",
              "      progress.max = size;\n",
              "      div.appendChild(progress);\n",
              "      document.body.appendChild(div);\n",
              "\n",
              "      const buffers = [];\n",
              "      let downloaded = 0;\n",
              "\n",
              "      const channel = await google.colab.kernel.comms.open(id);\n",
              "      // Send a message to notify the kernel that we're ready.\n",
              "      channel.send({})\n",
              "\n",
              "      for await (const message of channel.messages) {\n",
              "        // Send a message to notify the kernel that we're ready.\n",
              "        channel.send({})\n",
              "        if (message.buffers) {\n",
              "          for (const buffer of message.buffers) {\n",
              "            buffers.push(buffer);\n",
              "            downloaded += buffer.byteLength;\n",
              "            progress.value = downloaded;\n",
              "          }\n",
              "        }\n",
              "      }\n",
              "      const blob = new Blob(buffers, {type: 'application/binary'});\n",
              "      const a = document.createElement('a');\n",
              "      a.href = window.URL.createObjectURL(blob);\n",
              "      a.download = filename;\n",
              "      div.appendChild(a);\n",
              "      a.click();\n",
              "      div.remove();\n",
              "    }\n",
              "  "
            ],
            "text/plain": [
              "<IPython.core.display.Javascript object>"
            ]
          },
          "metadata": {
            "tags": []
          }
        },
        {
          "output_type": "display_data",
          "data": {
            "application/javascript": [
              "download(\"download_ecff9da8-48dd-4d55-a9ae-0954aae70739\", \"model_18.pt\", 44776889)"
            ],
            "text/plain": [
              "<IPython.core.display.Javascript object>"
            ]
          },
          "metadata": {
            "tags": []
          }
        },
        {
          "output_type": "display_data",
          "data": {
            "application/javascript": [
              "\n",
              "    async function download(id, filename, size) {\n",
              "      if (!google.colab.kernel.accessAllowed) {\n",
              "        return;\n",
              "      }\n",
              "      const div = document.createElement('div');\n",
              "      const label = document.createElement('label');\n",
              "      label.textContent = `Downloading \"${filename}\": `;\n",
              "      div.appendChild(label);\n",
              "      const progress = document.createElement('progress');\n",
              "      progress.max = size;\n",
              "      div.appendChild(progress);\n",
              "      document.body.appendChild(div);\n",
              "\n",
              "      const buffers = [];\n",
              "      let downloaded = 0;\n",
              "\n",
              "      const channel = await google.colab.kernel.comms.open(id);\n",
              "      // Send a message to notify the kernel that we're ready.\n",
              "      channel.send({})\n",
              "\n",
              "      for await (const message of channel.messages) {\n",
              "        // Send a message to notify the kernel that we're ready.\n",
              "        channel.send({})\n",
              "        if (message.buffers) {\n",
              "          for (const buffer of message.buffers) {\n",
              "            buffers.push(buffer);\n",
              "            downloaded += buffer.byteLength;\n",
              "            progress.value = downloaded;\n",
              "          }\n",
              "        }\n",
              "      }\n",
              "      const blob = new Blob(buffers, {type: 'application/binary'});\n",
              "      const a = document.createElement('a');\n",
              "      a.href = window.URL.createObjectURL(blob);\n",
              "      a.download = filename;\n",
              "      div.appendChild(a);\n",
              "      a.click();\n",
              "      div.remove();\n",
              "    }\n",
              "  "
            ],
            "text/plain": [
              "<IPython.core.display.Javascript object>"
            ]
          },
          "metadata": {
            "tags": []
          }
        },
        {
          "output_type": "display_data",
          "data": {
            "application/javascript": [
              "download(\"download_99eb9d2b-28f6-4415-a2da-60e0dbea5e44\", \"model_19.pt\", 44776889)"
            ],
            "text/plain": [
              "<IPython.core.display.Javascript object>"
            ]
          },
          "metadata": {
            "tags": []
          }
        },
        {
          "output_type": "display_data",
          "data": {
            "application/javascript": [
              "\n",
              "    async function download(id, filename, size) {\n",
              "      if (!google.colab.kernel.accessAllowed) {\n",
              "        return;\n",
              "      }\n",
              "      const div = document.createElement('div');\n",
              "      const label = document.createElement('label');\n",
              "      label.textContent = `Downloading \"${filename}\": `;\n",
              "      div.appendChild(label);\n",
              "      const progress = document.createElement('progress');\n",
              "      progress.max = size;\n",
              "      div.appendChild(progress);\n",
              "      document.body.appendChild(div);\n",
              "\n",
              "      const buffers = [];\n",
              "      let downloaded = 0;\n",
              "\n",
              "      const channel = await google.colab.kernel.comms.open(id);\n",
              "      // Send a message to notify the kernel that we're ready.\n",
              "      channel.send({})\n",
              "\n",
              "      for await (const message of channel.messages) {\n",
              "        // Send a message to notify the kernel that we're ready.\n",
              "        channel.send({})\n",
              "        if (message.buffers) {\n",
              "          for (const buffer of message.buffers) {\n",
              "            buffers.push(buffer);\n",
              "            downloaded += buffer.byteLength;\n",
              "            progress.value = downloaded;\n",
              "          }\n",
              "        }\n",
              "      }\n",
              "      const blob = new Blob(buffers, {type: 'application/binary'});\n",
              "      const a = document.createElement('a');\n",
              "      a.href = window.URL.createObjectURL(blob);\n",
              "      a.download = filename;\n",
              "      div.appendChild(a);\n",
              "      a.click();\n",
              "      div.remove();\n",
              "    }\n",
              "  "
            ],
            "text/plain": [
              "<IPython.core.display.Javascript object>"
            ]
          },
          "metadata": {
            "tags": []
          }
        },
        {
          "output_type": "display_data",
          "data": {
            "application/javascript": [
              "download(\"download_e46906c1-d495-4c3a-bf74-988f8d6e0315\", \"model_20.pt\", 44776889)"
            ],
            "text/plain": [
              "<IPython.core.display.Javascript object>"
            ]
          },
          "metadata": {
            "tags": []
          }
        },
        {
          "output_type": "display_data",
          "data": {
            "application/javascript": [
              "\n",
              "    async function download(id, filename, size) {\n",
              "      if (!google.colab.kernel.accessAllowed) {\n",
              "        return;\n",
              "      }\n",
              "      const div = document.createElement('div');\n",
              "      const label = document.createElement('label');\n",
              "      label.textContent = `Downloading \"${filename}\": `;\n",
              "      div.appendChild(label);\n",
              "      const progress = document.createElement('progress');\n",
              "      progress.max = size;\n",
              "      div.appendChild(progress);\n",
              "      document.body.appendChild(div);\n",
              "\n",
              "      const buffers = [];\n",
              "      let downloaded = 0;\n",
              "\n",
              "      const channel = await google.colab.kernel.comms.open(id);\n",
              "      // Send a message to notify the kernel that we're ready.\n",
              "      channel.send({})\n",
              "\n",
              "      for await (const message of channel.messages) {\n",
              "        // Send a message to notify the kernel that we're ready.\n",
              "        channel.send({})\n",
              "        if (message.buffers) {\n",
              "          for (const buffer of message.buffers) {\n",
              "            buffers.push(buffer);\n",
              "            downloaded += buffer.byteLength;\n",
              "            progress.value = downloaded;\n",
              "          }\n",
              "        }\n",
              "      }\n",
              "      const blob = new Blob(buffers, {type: 'application/binary'});\n",
              "      const a = document.createElement('a');\n",
              "      a.href = window.URL.createObjectURL(blob);\n",
              "      a.download = filename;\n",
              "      div.appendChild(a);\n",
              "      a.click();\n",
              "      div.remove();\n",
              "    }\n",
              "  "
            ],
            "text/plain": [
              "<IPython.core.display.Javascript object>"
            ]
          },
          "metadata": {
            "tags": []
          }
        },
        {
          "output_type": "display_data",
          "data": {
            "application/javascript": [
              "download(\"download_c7e1edb6-99c8-4d54-a3f8-15edd9859314\", \"model_21.pt\", 44776889)"
            ],
            "text/plain": [
              "<IPython.core.display.Javascript object>"
            ]
          },
          "metadata": {
            "tags": []
          }
        },
        {
          "output_type": "display_data",
          "data": {
            "application/javascript": [
              "\n",
              "    async function download(id, filename, size) {\n",
              "      if (!google.colab.kernel.accessAllowed) {\n",
              "        return;\n",
              "      }\n",
              "      const div = document.createElement('div');\n",
              "      const label = document.createElement('label');\n",
              "      label.textContent = `Downloading \"${filename}\": `;\n",
              "      div.appendChild(label);\n",
              "      const progress = document.createElement('progress');\n",
              "      progress.max = size;\n",
              "      div.appendChild(progress);\n",
              "      document.body.appendChild(div);\n",
              "\n",
              "      const buffers = [];\n",
              "      let downloaded = 0;\n",
              "\n",
              "      const channel = await google.colab.kernel.comms.open(id);\n",
              "      // Send a message to notify the kernel that we're ready.\n",
              "      channel.send({})\n",
              "\n",
              "      for await (const message of channel.messages) {\n",
              "        // Send a message to notify the kernel that we're ready.\n",
              "        channel.send({})\n",
              "        if (message.buffers) {\n",
              "          for (const buffer of message.buffers) {\n",
              "            buffers.push(buffer);\n",
              "            downloaded += buffer.byteLength;\n",
              "            progress.value = downloaded;\n",
              "          }\n",
              "        }\n",
              "      }\n",
              "      const blob = new Blob(buffers, {type: 'application/binary'});\n",
              "      const a = document.createElement('a');\n",
              "      a.href = window.URL.createObjectURL(blob);\n",
              "      a.download = filename;\n",
              "      div.appendChild(a);\n",
              "      a.click();\n",
              "      div.remove();\n",
              "    }\n",
              "  "
            ],
            "text/plain": [
              "<IPython.core.display.Javascript object>"
            ]
          },
          "metadata": {
            "tags": []
          }
        },
        {
          "output_type": "display_data",
          "data": {
            "application/javascript": [
              "download(\"download_e84ff031-20ac-485a-a6d9-938b2ab5a2c6\", \"model_22.pt\", 44776889)"
            ],
            "text/plain": [
              "<IPython.core.display.Javascript object>"
            ]
          },
          "metadata": {
            "tags": []
          }
        },
        {
          "output_type": "display_data",
          "data": {
            "application/javascript": [
              "\n",
              "    async function download(id, filename, size) {\n",
              "      if (!google.colab.kernel.accessAllowed) {\n",
              "        return;\n",
              "      }\n",
              "      const div = document.createElement('div');\n",
              "      const label = document.createElement('label');\n",
              "      label.textContent = `Downloading \"${filename}\": `;\n",
              "      div.appendChild(label);\n",
              "      const progress = document.createElement('progress');\n",
              "      progress.max = size;\n",
              "      div.appendChild(progress);\n",
              "      document.body.appendChild(div);\n",
              "\n",
              "      const buffers = [];\n",
              "      let downloaded = 0;\n",
              "\n",
              "      const channel = await google.colab.kernel.comms.open(id);\n",
              "      // Send a message to notify the kernel that we're ready.\n",
              "      channel.send({})\n",
              "\n",
              "      for await (const message of channel.messages) {\n",
              "        // Send a message to notify the kernel that we're ready.\n",
              "        channel.send({})\n",
              "        if (message.buffers) {\n",
              "          for (const buffer of message.buffers) {\n",
              "            buffers.push(buffer);\n",
              "            downloaded += buffer.byteLength;\n",
              "            progress.value = downloaded;\n",
              "          }\n",
              "        }\n",
              "      }\n",
              "      const blob = new Blob(buffers, {type: 'application/binary'});\n",
              "      const a = document.createElement('a');\n",
              "      a.href = window.URL.createObjectURL(blob);\n",
              "      a.download = filename;\n",
              "      div.appendChild(a);\n",
              "      a.click();\n",
              "      div.remove();\n",
              "    }\n",
              "  "
            ],
            "text/plain": [
              "<IPython.core.display.Javascript object>"
            ]
          },
          "metadata": {
            "tags": []
          }
        },
        {
          "output_type": "display_data",
          "data": {
            "application/javascript": [
              "download(\"download_cdb51ab0-5ec5-4228-9db1-f5e653fe3496\", \"model_23.pt\", 44776889)"
            ],
            "text/plain": [
              "<IPython.core.display.Javascript object>"
            ]
          },
          "metadata": {
            "tags": []
          }
        },
        {
          "output_type": "display_data",
          "data": {
            "application/javascript": [
              "\n",
              "    async function download(id, filename, size) {\n",
              "      if (!google.colab.kernel.accessAllowed) {\n",
              "        return;\n",
              "      }\n",
              "      const div = document.createElement('div');\n",
              "      const label = document.createElement('label');\n",
              "      label.textContent = `Downloading \"${filename}\": `;\n",
              "      div.appendChild(label);\n",
              "      const progress = document.createElement('progress');\n",
              "      progress.max = size;\n",
              "      div.appendChild(progress);\n",
              "      document.body.appendChild(div);\n",
              "\n",
              "      const buffers = [];\n",
              "      let downloaded = 0;\n",
              "\n",
              "      const channel = await google.colab.kernel.comms.open(id);\n",
              "      // Send a message to notify the kernel that we're ready.\n",
              "      channel.send({})\n",
              "\n",
              "      for await (const message of channel.messages) {\n",
              "        // Send a message to notify the kernel that we're ready.\n",
              "        channel.send({})\n",
              "        if (message.buffers) {\n",
              "          for (const buffer of message.buffers) {\n",
              "            buffers.push(buffer);\n",
              "            downloaded += buffer.byteLength;\n",
              "            progress.value = downloaded;\n",
              "          }\n",
              "        }\n",
              "      }\n",
              "      const blob = new Blob(buffers, {type: 'application/binary'});\n",
              "      const a = document.createElement('a');\n",
              "      a.href = window.URL.createObjectURL(blob);\n",
              "      a.download = filename;\n",
              "      div.appendChild(a);\n",
              "      a.click();\n",
              "      div.remove();\n",
              "    }\n",
              "  "
            ],
            "text/plain": [
              "<IPython.core.display.Javascript object>"
            ]
          },
          "metadata": {
            "tags": []
          }
        },
        {
          "output_type": "display_data",
          "data": {
            "application/javascript": [
              "download(\"download_ecc4155d-e332-41cf-97c0-f6f3a878fdca\", \"model_24.pt\", 44776889)"
            ],
            "text/plain": [
              "<IPython.core.display.Javascript object>"
            ]
          },
          "metadata": {
            "tags": []
          }
        }
      ]
    },
    {
      "cell_type": "markdown",
      "metadata": {
        "id": "o4cunH3YwGHF"
      },
      "source": [
        "# Новый раздел"
      ]
    },
    {
      "cell_type": "code",
      "metadata": {
        "id": "9oaGb7Zat82F"
      },
      "source": [
        "def weigheted_most_common(predictions, weights):\n",
        "    new_predictions = {}\n",
        "    for i in range(len(predictions)):\n",
        "        if predictions[i] in new_predictions:\n",
        "            new_predictions[predictions[i]] = new_predictions[predictions[i]] + weights[i]\n",
        "        else:\n",
        "            new_predictions[predictions[i]] = weights[i]\n",
        "    top = list(sorted(new_predictions.items(), key=lambda item: item[1], reverse=True))\n",
        "    return top[0][0]\n",
        "\n",
        "    \n",
        "from collections import Counter\n",
        "import numpy as np\n",
        "def ensemble_predictions(members, loader, weights):\n",
        "    accs = []\n",
        "    for (X_batch, y_batch) in loader:\n",
        "        yhats = []\n",
        "        for model in members:\n",
        "            y_batch = y_batch.cuda()\n",
        "            logits = model(Variable(torch.FloatTensor(X_batch)).cuda())\n",
        "            y_pred = logits.max(1)[1].data\n",
        "            yhats.append(y_pred.cpu().numpy())\n",
        "        yhats = np.array(yhats)\n",
        "        maxs = []\n",
        "        for i in range(yhats.shape[1]):\n",
        "            cur_max = weigheted_most_common(yhats[:, i], weights)\n",
        "            maxs.append(cur_max)\n",
        "        # sum across ensemble members\n",
        "        maxs = np.array(maxs)\n",
        "        # argmax across classes\n",
        "        accs.append(np.mean((y_batch.cpu().numpy() == maxs)))\n",
        "    accs = np.array(accs)\n",
        "    return accs, np.mean(accs)"
      ],
      "execution_count": null,
      "outputs": []
    },
    {
      "cell_type": "code",
      "metadata": {
        "id": "64wCl_LbuC6i",
        "colab": {
          "base_uri": "https://localhost:8080/"
        },
        "outputId": "bdae49ff-570a-4a77-ab13-2063ccf19054"
      },
      "source": [
        "temps = [0.01, 0.1, 0.5, 1., 2.5, 5.0]\n",
        "ens_accs = []\n",
        "lik_loss = original_val_likely_loss.copy()\n",
        "print(len(models_list))\n",
        "for t in temps:\n",
        "    temp_constant = t\n",
        "    loss_list = np.array(lik_loss[-len(models_list):])\n",
        "    for i in range(loss_list.shape[0]):\n",
        "        loss_list[i] = np.exp(np.exp(-loss_list[i]) / temp_constant)\n",
        "    weights = loss_list #np.array(1. / loss_list, dtype=np.float64) #weight according likelyhood \n",
        "    #print(weights)\n",
        "    accs, mean_accs = ensemble_predictions(models_list, testloader, weights)\n",
        "    ens_accs.append(mean_accs)\n",
        "    print(t, 'Ensemble accuracy = ', round(mean_accs, 3) * 100, '%')"
      ],
      "execution_count": null,
      "outputs": [
        {
          "output_type": "stream",
          "text": [
            "25\n",
            "0.01 Ensemble accuracy =  88.8 %\n",
            "0.1 Ensemble accuracy =  89.1 %\n",
            "0.5 Ensemble accuracy =  88.9 %\n",
            "1.0 Ensemble accuracy =  88.9 %\n",
            "2.5 Ensemble accuracy =  89.0 %\n",
            "5.0 Ensemble accuracy =  89.1 %\n"
          ],
          "name": "stdout"
        }
      ]
    },
    {
      "cell_type": "code",
      "metadata": {
        "id": "7yjaoVEpuMTx",
        "colab": {
          "base_uri": "https://localhost:8080/",
          "height": 294
        },
        "outputId": "4d880ced-9a47-4e75-d84f-7f3e196faaa0"
      },
      "source": [
        "plt.plot(temps, ens_accs)\n",
        "plt.title('Weights according train loss')\n",
        "plt.xlabel('temperature')\n",
        "plt.ylabel('accuracy')\n",
        "plt.show()"
      ],
      "execution_count": null,
      "outputs": [
        {
          "output_type": "display_data",
          "data": {
            "image/png": "[encoded data removed]",
            "text/plain": [
              "<Figure size 432x288 with 1 Axes>"
            ]
          },
          "metadata": {
            "tags": [],
            "needs_background": "light"
          }
        }
      ]
    },
    {
      "cell_type": "code",
      "metadata": {
        "id": "co0x8cG5ukU1",
        "colab": {
          "base_uri": "https://localhost:8080/"
        },
        "outputId": "0feca42c-462b-45fb-e4c7-bd2a7bdd4b01"
      },
      "source": [
        "#aacuracy of every one\n",
        "for model in models_list:\n",
        "  accuracy = []\n",
        "  for (X_batch, y_batch) in testloader:\n",
        "          y_batch = y_batch.cuda()\n",
        "          logits = model(Variable(torch.FloatTensor(X_batch)).cuda())\n",
        "          y_pred = logits.max(1)[1].data\n",
        "          accuracy.append(np.mean((y_batch.cpu() == y_pred.cpu()).numpy() ))\n",
        "  print(np.array(accuracy).mean() * 100, '%')"
      ],
      "execution_count": null,
      "outputs": [
        {
          "output_type": "stream",
          "text": [
            "89.06666666666668 %\n",
            "88.84444444444443 %\n",
            "88.86666666666669 %\n",
            "88.77777777777779 %\n",
            "89.02222222222223 %\n",
            "88.94444444444446 %\n",
            "88.9 %\n",
            "89.06666666666666 %\n",
            "89.1 %\n",
            "89.2 %\n",
            "88.82222222222224 %\n",
            "89.06666666666668 %\n",
            "89.01111111111113 %\n",
            "89.06666666666666 %\n",
            "88.82222222222224 %\n",
            "89.01111111111113 %\n",
            "89.10000000000001 %\n",
            "88.94444444444446 %\n",
            "89.17777777777778 %\n",
            "89.25555555555556 %\n",
            "88.7888888888889 %\n",
            "88.95555555555558 %\n",
            "88.95555555555558 %\n",
            "89.0777777777778 %\n",
            "89.2888888888889 %\n"
          ],
          "name": "stdout"
        }
      ]
    },
    {
      "cell_type": "code",
      "metadata": {
        "id": "IPwLLbjrukTh"
      },
      "source": [
        ""
      ],
      "execution_count": null,
      "outputs": []
    },
    {
      "cell_type": "code",
      "metadata": {
        "id": "r94lqWlEukSL"
      },
      "source": [
        ""
      ],
      "execution_count": null,
      "outputs": []
    }
  ]
}